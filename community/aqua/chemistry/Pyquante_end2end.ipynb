{
 "cells": [
  {
   "cell_type": "code",
   "execution_count": 1,
   "metadata": {},
   "outputs": [],
   "source": [
    "import numpy as np\n",
    "from qiskit import Aer\n",
    "from qiskit.transpiler import PassManager\n",
    "\n",
    "from qiskit_aqua import Operator, QuantumInstance\n",
    "from qiskit_aqua.algorithms.adaptive import VQE\n",
    "from qiskit_aqua.algorithms.classical import ExactEigensolver\n",
    "from qiskit_aqua.components.optimizers import L_BFGS_B\n",
    "from qiskit_aqua.components.variational_forms import RY\n",
    "\n",
    "from qiskit_chemistry import FermionicOperator\n",
    "from qiskit_chemistry.drivers import PyQuanteDriver, UnitsType, BasisType"
   ]
  },
  {
   "cell_type": "code",
   "execution_count": 2,
   "metadata": {},
   "outputs": [],
   "source": [
    "# using driver to get fermionic Hamiltonian\n",
    "# PyQuante example\n",
    "driver = PyQuanteDriver(atoms='H .0 .0 .0; H .0 .0 0.735', units=UnitsType.ANGSTROM,\n",
    "                        charge=0, multiplicity=1, basis=BasisType.BSTO3G)\n",
    "molecule = driver.run()\n",
    "h1 = molecule.one_body_integrals\n",
    "h2 = molecule.two_body_integrals"
   ]
  },
  {
   "cell_type": "code",
   "execution_count": 3,
   "metadata": {},
   "outputs": [],
   "source": [
    "# convert from fermionic hamiltonian to qubit hamiltonian\n",
    "ferOp = FermionicOperator(h1=h1, h2=h2)\n",
    "qubitOp_jw = ferOp.mapping(map_type='JORDAN_WIGNER', threshold=0.00000001)\n",
    "qubitOp_pa = ferOp.mapping(map_type='PARITY', threshold=0.00000001)\n",
    "qubitOp_bi = ferOp.mapping(map_type='BRAVYI_KITAEV', threshold=0.00000001)"
   ]
  },
  {
   "cell_type": "code",
   "execution_count": 4,
   "metadata": {},
   "outputs": [
    {
     "name": "stdout",
     "output_type": "stream",
     "text": [
      "IIII\t(-0.8105479862760991+0j)\n",
      "IIIZ\t(0.17218394273085635+0j)\n",
      "IIZI\t(-0.22575350251540605+0j)\n",
      "IIZZ\t(0.12091263358559995+0j)\n",
      "IZII\t(0.17218394273085635+0j)\n",
      "IZIZ\t(0.16892754048859007+0j)\n",
      "IZZI\t(0.16614543338049342+0j)\n",
      "IZZZ\t(-8.326672684688674e-17+0j)\n",
      "XXXX\t(0.045232799794893426+0j)\n",
      "XXYY\t(0.045232799794893426+0j)\n",
      "YYXX\t(0.045232799794893426+0j)\n",
      "YYYY\t(0.045232799794893426+0j)\n",
      "ZIII\t(-0.2257535025154061+0j)\n",
      "ZIIZ\t(0.16614543338049342+0j)\n",
      "ZIZI\t(0.17464343142442207+0j)\n",
      "ZZII\t(0.12091263358559991+0j)\n",
      "ZZIZ\t(-2.42861286636753e-17+0j)\n",
      "ZZZI\t(-6.938893903907228e-17+0j)\n",
      "ZZZZ\t(-3.122502256758253e-17+0j)\n",
      "\n",
      "The exact ground state energy is: -1.8572750766378763\n"
     ]
    }
   ],
   "source": [
    "# print out qubit hamiltonian in Pauli terms and exact solution\n",
    "\n",
    "qubitOp_jw.to_matrix()\n",
    "qubitOp_jw.chop(10**-10)\n",
    "\n",
    "print(qubitOp_jw.print_operators())\n",
    "\n",
    "# Using exact eigensolver to get the smallest eigenvalue\n",
    "exact_eigensolver = ExactEigensolver(qubitOp_jw, k=1)\n",
    "ret = exact_eigensolver.run()\n",
    "print('The exact ground state energy is: {}'.format(ret['energy']))    "
   ]
  },
  {
   "cell_type": "code",
   "execution_count": 5,
   "metadata": {},
   "outputs": [
    {
     "name": "stdout",
     "output_type": "stream",
     "text": [
      "Minimum value: -1.857275076588138\n",
      "Parameters: [ 1.72459655  1.92029571 -0.34982926 -1.49153618  2.26170073  0.1302224\n",
      "  0.72586921  0.29764644 -1.401497    1.49290088 -3.09131598  0.1647657\n",
      " -2.69893629 -1.46110898 -1.99677374  1.92441472 -0.94314616  2.69400524\n",
      "  2.75985138  0.16260948 -2.3450682   1.46493868  1.22492389  3.03079433]\n"
     ]
    }
   ],
   "source": [
    "# setup VQE \n",
    "# setup optimizer, use L_BFGS_B optimizer for example\n",
    "lbfgs = L_BFGS_B(maxfun=1000, factr=10, iprint=10)\n",
    "\n",
    "# setup variational form generator (generate trial circuits for VQE)\n",
    "var_form = RY(qubitOp_jw.num_qubits, 5, entangler_map = {0: [1], 1:[2], 2:[3]})\n",
    "\n",
    "# setup VQE with operator, variational form, and optimizer\n",
    "vqe_algorithm = VQE(qubitOp_jw, var_form, lbfgs, 'matrix')\n",
    "\n",
    "backend = Aer.get_backend('statevector_simulator')\n",
    "quantum_instance = QuantumInstance(backend, pass_manager=PassManager())\n",
    "\n",
    "results = vqe_algorithm.run(quantum_instance)\n",
    "\n",
    "print(\"Minimum value: {}\".format(results['eigvals'][0]))\n",
    "print(\"Parameters: {}\".format(results['opt_params']))"
   ]
  }
 ],
 "metadata": {
  "kernelspec": {
   "display_name": "Python 3",
   "language": "python",
   "name": "python3"
  },
  "language_info": {
   "codemirror_mode": {
    "name": "ipython",
    "version": 3
   },
   "file_extension": ".py",
   "mimetype": "text/x-python",
   "name": "python",
   "nbconvert_exporter": "python",
   "pygments_lexer": "ipython3",
   "version": "3.6.1"
  }
 },
 "nbformat": 4,
 "nbformat_minor": 1
}
