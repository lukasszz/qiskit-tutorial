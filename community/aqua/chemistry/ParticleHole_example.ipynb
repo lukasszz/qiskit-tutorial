{
 "cells": [
  {
   "cell_type": "code",
   "execution_count": 1,
   "metadata": {},
   "outputs": [],
   "source": [
    "import numpy as np\n",
    "from qiskit import Aer\n",
    "from qiskit.transpiler import PassManager\n",
    "\n",
    "from qiskit_aqua import Operator, QuantumInstance\n",
    "from qiskit_aqua.algorithms.adaptive import VQE\n",
    "from qiskit_aqua.algorithms.classical import ExactEigensolver\n",
    "from qiskit_aqua.components.optimizers import L_BFGS_B\n",
    "from qiskit_aqua.components.variational_forms import RY\n",
    "\n",
    "from qiskit_chemistry import FermionicOperator\n",
    "from qiskit_chemistry.drivers import PySCFDriver, UnitsType"
   ]
  },
  {
   "cell_type": "code",
   "execution_count": 2,
   "metadata": {},
   "outputs": [],
   "source": [
    "driver = PySCFDriver(atom='H .0 .0 .0; H .0 .0 0.735', unit=UnitsType.ANGSTROM,\n",
    "                     charge=0, spin=0, basis='sto3g')\n",
    "molecule = driver.run()"
   ]
  },
  {
   "cell_type": "code",
   "execution_count": 3,
   "metadata": {},
   "outputs": [
    {
     "name": "stdout",
     "output_type": "stream",
     "text": [
      "The exact ground state energy is: -1.8572750302023795\n",
      "The Hartree Fock Electron Energy is: -1.8369679912029842\n"
     ]
    }
   ],
   "source": [
    "ferOp = FermionicOperator(h1=molecule.one_body_integrals, h2=molecule.two_body_integrals)\n",
    "qubitOp_jw = ferOp.mapping(map_type='JORDAN_WIGNER', threshold=0.00000001)\n",
    "qubitOp_jw.chop(10**-10)\n",
    "\n",
    "# Using exact eigensolver to get the smallest eigenvalue\n",
    "exact_eigensolver = ExactEigensolver(qubitOp_jw, k=1)\n",
    "ret = exact_eigensolver.run()\n",
    "\n",
    "# print(qubitOp_jw.print_operators())\n",
    "\n",
    "print('The exact ground state energy is: {}'.format(ret['energy']))\n",
    "print('The Hartree Fock Electron Energy is: {}'.format(molecule.hf_energy - molecule.nuclear_repulsion_energy))"
   ]
  },
  {
   "cell_type": "code",
   "execution_count": 4,
   "metadata": {},
   "outputs": [
    {
     "name": "stdout",
     "output_type": "stream",
     "text": [
      "Energy shift is: 1.8369679912029846\n",
      "The exact ground state energy in PH basis is -0.020307038999396183\n",
      "The exact ground state energy in PH basis is -1.8572750302023808 (with energy_shift)\n"
     ]
    }
   ],
   "source": [
    "# particle hole transformation\n",
    "newferOp, energy_shift = ferOp.particle_hole_transformation(num_particles=2)\n",
    "print('Energy shift is: {}'.format(energy_shift))\n",
    "newqubitOp_jw = newferOp.mapping(map_type='JORDAN_WIGNER', threshold=0.00000001)\n",
    "newqubitOp_jw.chop(10**-10)\n",
    "\n",
    "exact_eigensolver = ExactEigensolver(newqubitOp_jw, k=1)\n",
    "ret = exact_eigensolver.run()\n",
    "\n",
    "# print(newqubitOp_jw.print_operators())\n",
    "print('The exact ground state energy in PH basis is {}'.format(ret['energy']))\n",
    "print('The exact ground state energy in PH basis is {} (with energy_shift)'.format(ret['energy'] - energy_shift))"
   ]
  },
  {
   "cell_type": "code",
   "execution_count": 5,
   "metadata": {},
   "outputs": [
    {
     "name": "stdout",
     "output_type": "stream",
     "text": [
      "Minimum value: -0.020307038772801052\n",
      "Minimum value: -1.8572750299757856\n",
      "Parameters: [ 0.6968305  -0.75469172 -0.93681376  0.90714539 -0.35663766  1.80503875\n",
      "  0.36268468  0.91067094 -3.01470787  0.13268903  1.07891483  1.80043481\n",
      " -2.97791979 -0.99008645  0.99278289  2.88254594  0.16418367  2.7610048\n",
      " -1.98782455 -2.77533268 -2.72793504  1.146142   -0.83030385 -2.75112004]\n"
     ]
    }
   ],
   "source": [
    "# setup VQE \n",
    "# setup optimizer, use L_BFGS_B optimizer for example\n",
    "lbfgs = L_BFGS_B(maxfun=1000, factr=10, iprint=10)\n",
    "\n",
    "# setup variational form generator (generate trial circuits for VQE)\n",
    "var_form = RY(newqubitOp_jw.num_qubits, 5, entangler_map = {0: [1], 1:[2], 2:[3]})\n",
    "\n",
    "# setup VQE with operator, variational form, and optimizer\n",
    "vqe_algorithm = VQE(newqubitOp_jw, var_form, lbfgs, 'matrix')\n",
    "\n",
    "backend = Aer.get_backend('statevector_simulator')\n",
    "quantum_instance = QuantumInstance(backend, pass_manager=PassManager())\n",
    "\n",
    "results = vqe_algorithm.run(quantum_instance)\n",
    "print(\"Minimum value: {}\".format(results['eigvals'][0].real))\n",
    "print(\"Minimum value: {}\".format(results['eigvals'][0].real - energy_shift))\n",
    "print(\"Parameters: {}\".format(results['opt_params']))"
   ]
  },
  {
   "cell_type": "code",
   "execution_count": null,
   "metadata": {},
   "outputs": [],
   "source": []
  }
 ],
 "metadata": {
  "kernelspec": {
   "display_name": "Python 3",
   "language": "python",
   "name": "python3"
  },
  "language_info": {
   "codemirror_mode": {
    "name": "ipython",
    "version": 3
   },
   "file_extension": ".py",
   "mimetype": "text/x-python",
   "name": "python",
   "nbconvert_exporter": "python",
   "pygments_lexer": "ipython3",
   "version": "3.6.1"
  }
 },
 "nbformat": 4,
 "nbformat_minor": 2
}
