{
 "cells": [
  {
   "cell_type": "code",
   "execution_count": 1,
   "metadata": {},
   "outputs": [],
   "source": [
    "import numpy as np\n",
    "from qiskit import Aer\n",
    "from qiskit.transpiler import PassManager\n",
    "\n",
    "from qiskit_aqua import Operator, QuantumInstance\n",
    "from qiskit_aqua.algorithms.adaptive import VQE\n",
    "from qiskit_aqua.algorithms.classical import ExactEigensolver\n",
    "from qiskit_aqua.components.optimizers import L_BFGS_B\n",
    "from qiskit_aqua.components.variational_forms import RYRZ\n",
    "\n",
    "from qiskit_chemistry import FermionicOperator\n",
    "from qiskit_chemistry.drivers import PySCFDriver, UnitsType"
   ]
  },
  {
   "cell_type": "code",
   "execution_count": 2,
   "metadata": {},
   "outputs": [],
   "source": [
    "# using driver to get fermionic Hamiltonian\n",
    "# PySCF example\n",
    "driver = PySCFDriver(atom='H .0 .0 .0; H .0 .0 0.735', unit=UnitsType.ANGSTROM,\n",
    "                     charge=0, spin=0, basis='sto3g')\n",
    "molecule = driver.run()"
   ]
  },
  {
   "cell_type": "code",
   "execution_count": 3,
   "metadata": {},
   "outputs": [],
   "source": [
    "# get fermionic operator and mapping to qubit operator\n",
    "ferOp = FermionicOperator(h1=molecule.one_body_integrals, h2=molecule.two_body_integrals)\n",
    "qubitOp = ferOp.mapping(map_type='JORDAN_WIGNER', threshold=0.00000001)\n",
    "qubitOp.to_matrix()\n",
    "qubitOp.chop(10**-10)"
   ]
  },
  {
   "cell_type": "code",
   "execution_count": 4,
   "metadata": {},
   "outputs": [],
   "source": [
    "# If you do not install any driver and would like to start with a random Hamiltonian\n",
    "# SIZE=4\n",
    "# matrix = np.random.random((SIZE,SIZE))\n",
    "# qubitOp = Operator(matrix=matrix)"
   ]
  },
  {
   "cell_type": "code",
   "execution_count": 5,
   "metadata": {},
   "outputs": [
    {
     "name": "stdout",
     "output_type": "stream",
     "text": [
      "The exact ground state energy is: -1.8572750302023784\n"
     ]
    }
   ],
   "source": [
    "# Using exact eigensolver to get the smallest eigenvalue\n",
    "exact_eigensolver = ExactEigensolver(qubitOp, k=1)\n",
    "ret = exact_eigensolver.run()\n",
    "print('The exact ground state energy is: {}'.format(ret['eigvals'][0].real))"
   ]
  },
  {
   "cell_type": "code",
   "execution_count": 6,
   "metadata": {},
   "outputs": [
    {
     "name": "stdout",
     "output_type": "stream",
     "text": [
      "Minimum value: -1.8543764647149892\n",
      "Parameters: [-0.11491214  0.32930264 -0.88261763  1.06617404  0.40859901 -1.97440033\n",
      " -1.92168204 -0.84401099  0.86926132  0.19962884  1.88259456  0.58563547\n",
      "  0.2392261  -1.22095488 -1.8106901  -2.18264222  0.33053157  1.44130586\n",
      "  1.16319625  3.08314583  2.86759507  1.39583915  0.89226104 -1.33970127\n",
      " -0.20377285 -1.78328421 -1.13356666  2.15515282  1.72935768 -1.02814735\n",
      "  0.9198738  -0.51798203  2.25275439  2.70574515 -0.7428116   2.69334082\n",
      " -1.96540296 -2.06722665  0.19826459  1.29081156  0.03509571  0.55931109\n",
      "  1.61732516 -0.3508986   1.62533384 -0.64622024  3.14159265 -1.78378164]\n"
     ]
    }
   ],
   "source": [
    "# setup VQE \n",
    "# setup optimizer, use L_BFGS_B optimizer for example\n",
    "lbfgs = L_BFGS_B(maxfun=1000, factr=10, iprint=10)\n",
    "\n",
    "# setup variational form generator (generate trial circuits for VQE)\n",
    "var_form = RYRZ(qubitOp.num_qubits, 5, entangler_map = {0: [1], 1:[2], 2:[3]})\n",
    "\n",
    "# setup VQE with operator, variational form, and optimizer\n",
    "vqe_algorithm = VQE(qubitOp, var_form, lbfgs, 'matrix')\n",
    "\n",
    "backend = Aer.get_backend('statevector_simulator')\n",
    "quantum_instance = QuantumInstance(backend, pass_manager=PassManager())\n",
    "\n",
    "results = vqe_algorithm.run(quantum_instance)\n",
    "print(\"Minimum value: {}\".format(results['eigvals'][0].real))\n",
    "print(\"Parameters: {}\".format(results['opt_params']))"
   ]
  }
 ],
 "metadata": {
  "kernelspec": {
   "display_name": "Python 3",
   "language": "python",
   "name": "python3"
  },
  "language_info": {
   "codemirror_mode": {
    "name": "ipython",
    "version": 3
   },
   "file_extension": ".py",
   "mimetype": "text/x-python",
   "name": "python",
   "nbconvert_exporter": "python",
   "pygments_lexer": "ipython3",
   "version": "3.6.1"
  }
 },
 "nbformat": 4,
 "nbformat_minor": 1
}
