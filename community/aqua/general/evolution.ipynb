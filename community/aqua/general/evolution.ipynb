{
 "cells": [
  {
   "cell_type": "markdown",
   "metadata": {},
   "source": [
    "## _*Using Qiskit Aqua's quantum evolution functionality*_\n",
    "\n",
    "This notebook demonstrates how to realize quantum evolution using the `Qiskit Aqua` library.\n",
    "\n",
    "Further information is available for the algorithms in the github repo aqua/readme.md\n",
    "\n",
    "First, an Operator instance is created for our randomly generated Hamiltonian. We also randomly generate an initial quantum state `state_in`."
   ]
  },
  {
   "cell_type": "code",
   "execution_count": 1,
   "metadata": {},
   "outputs": [],
   "source": [
    "import numpy as np\n",
    "from scipy.linalg import expm\n",
    "from qiskit import LegacySimulators\n",
    "from qiskit import execute as q_execute\n",
    "from qiskit import QuantumCircuit, QuantumRegister\n",
    "from qiskit.quantum_info import state_fidelity\n",
    "from qiskit_aqua.operator import Operator\n",
    "from qiskit_aqua.components.initial_states import Custom\n",
    "\n",
    "num_qubits = 2\n",
    "evo_time = 1\n",
    "temp = np.random.random((2 ** num_qubits, 2 ** num_qubits))\n",
    "h1 = temp + temp.T\n",
    "qubitOp = Operator(matrix=h1)\n",
    "state_in = Custom(num_qubits, state='random')"
   ]
  },
  {
   "cell_type": "markdown",
   "metadata": {},
   "source": [
    "With the operator and the initial state, we can easily compute the groundtruth evolution result as follows."
   ]
  },
  {
   "cell_type": "code",
   "execution_count": 2,
   "metadata": {},
   "outputs": [
    {
     "name": "stdout",
     "output_type": "stream",
     "text": [
      "The directly computed groundtruth evolution result state is\n",
      "[-0.35888043-0.10717084j -0.34485103+0.42765631j  0.05738265+0.48043469j\n",
      " -0.28881915+0.49028597j].\n"
     ]
    }
   ],
   "source": [
    "state_in_vec = state_in.construct_circuit('vector')\n",
    "groundtruth = expm(-1.j * h1 * evo_time) @ state_in_vec\n",
    "print('The directly computed groundtruth evolution result state is\\n{}.'.format(groundtruth))"
   ]
  },
  {
   "cell_type": "markdown",
   "metadata": {},
   "source": [
    "The `evolve` method as provided by the `Operator` class also provides the ability to compute the evolution groundtruth via the same matrix and vector multiplication. Therefore, we can also compute the evolution's groundtruth result state as follows, which we can easily verify to be the same as the `groundtruth` we just computed."
   ]
  },
  {
   "cell_type": "code",
   "execution_count": 3,
   "metadata": {},
   "outputs": [
    {
     "name": "stdout",
     "output_type": "stream",
     "text": [
      "The groundtruth evolution result as computed by the Dynamics algorithm is\n",
      "[-0.35888043-0.10717084j -0.34485103+0.42765631j  0.05738265+0.48043469j\n",
      " -0.28881915+0.49028597j].\n"
     ]
    }
   ],
   "source": [
    "groundtruth_evolution = qubitOp.evolve(state_in_vec, evo_time, 'matrix', 0)\n",
    "print('The groundtruth evolution result as computed by the Dynamics algorithm is\\n{}.'.format(groundtruth_evolution))\n",
    "np.testing.assert_allclose(groundtruth_evolution, groundtruth)"
   ]
  },
  {
   "cell_type": "markdown",
   "metadata": {},
   "source": [
    "Next, let's actually build the quantum circuit, which involves the circuit for putting the system in the specified initial state, and the actual `evolution` circuit corresponding to the operator we generated, for which, let's, for example, use the `3`rd order `suzuki` expansion."
   ]
  },
  {
   "cell_type": "code",
   "execution_count": 4,
   "metadata": {},
   "outputs": [],
   "source": [
    "quantum_registers = QuantumRegister(qubitOp.num_qubits)\n",
    "circuit = state_in.construct_circuit('circuit', quantum_registers)\n",
    "circuit += qubitOp.evolve(\n",
    "    None, evo_time, 'circuit', 1,\n",
    "    quantum_registers=quantum_registers,\n",
    "    expansion_mode='suzuki',\n",
    "    expansion_order=3\n",
    ")"
   ]
  },
  {
   "cell_type": "markdown",
   "metadata": {},
   "source": [
    "With the circuit built, we can now execute the circuit to get the evolution result. We use the `statevector_simulator` backend for the purpose of this demonstration."
   ]
  },
  {
   "cell_type": "code",
   "execution_count": 5,
   "metadata": {},
   "outputs": [
    {
     "name": "stdout",
     "output_type": "stream",
     "text": [
      "The evolution result state from executing the Dynamics circuit is\n",
      "[-0.01000053+0.37433407j  0.5027273 +0.22166398j  0.4488905 -0.18050667j\n",
      "  0.54861817+0.15111948j].\n"
     ]
    }
   ],
   "source": [
    "backend = LegacySimulators.get_backend('statevector_simulator')\n",
    "job = q_execute(circuit, backend)\n",
    "circuit_execution_result = np.asarray(job.result().get_statevector(circuit))\n",
    "print('The evolution result state from executing the Dynamics circuit is\\n{}.'.format(circuit_execution_result))"
   ]
  },
  {
   "cell_type": "markdown",
   "metadata": {},
   "source": [
    "We can then check the fidelity between the `groundtruth` and the `circuit_execution_result`."
   ]
  },
  {
   "cell_type": "code",
   "execution_count": 6,
   "metadata": {},
   "outputs": [
    {
     "name": "stdout",
     "output_type": "stream",
     "text": [
      "Fidelity between the groundtruth and the circuit result states is 0.9999999825657268.\n"
     ]
    }
   ],
   "source": [
    "print('Fidelity between the groundtruth and the circuit result states is {}.'.format(\n",
    "    state_fidelity(groundtruth, circuit_execution_result)\n",
    "))"
   ]
  },
  {
   "cell_type": "markdown",
   "metadata": {},
   "source": [
    "As seen, the fidelity is very close to `1`, indicating that the quantum circuit produced is a good approximation of the intended evolution."
   ]
  }
 ],
 "metadata": {
  "kernelspec": {
   "display_name": "Python 3",
   "language": "python",
   "name": "python3"
  },
  "language_info": {
   "codemirror_mode": {
    "name": "ipython",
    "version": 3
   },
   "file_extension": ".py",
   "mimetype": "text/x-python",
   "name": "python",
   "nbconvert_exporter": "python",
   "pygments_lexer": "ipython3",
   "version": "3.6.5"
  }
 },
 "nbformat": 4,
 "nbformat_minor": 1
}
