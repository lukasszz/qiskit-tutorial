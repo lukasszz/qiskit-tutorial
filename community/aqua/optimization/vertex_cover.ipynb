{
 "cells": [
  {
   "cell_type": "markdown",
   "metadata": {},
   "source": [
    "## _*Using Qiskit Aqua for the vertex cover problems*_\n",
    "\n",
    "A vertex cover of a graph is a set of vertices such that each edge of the graph is incident to at least one vertex of the set. The goal of NPC problem is to minimize the size of the vertex cover. \n",
    "\n",
    "\n",
    "We will go through three examples to show (1) how to run the optimization in the non-programming way, (2) how to run the optimization in the programming way, (3) how to run the optimization with the VQE.\n",
    "We will omit the details for the support of CPLEX, which are explained in other notebooks such as maxcut.\n"
   ]
  },
  {
   "cell_type": "markdown",
   "metadata": {},
   "source": [
    "### The problem and the brute-force method"
   ]
  },
  {
   "cell_type": "markdown",
   "metadata": {},
   "source": [
    "the problem is as follows. the graph is in the adjacent matrix form."
   ]
  },
  {
   "cell_type": "code",
   "execution_count": 1,
   "metadata": {},
   "outputs": [
    {
     "name": "stdout",
     "output_type": "stream",
     "text": [
      "[[0. 4. 5.]\n",
      " [4. 0. 3.]\n",
      " [5. 3. 0.]]\n"
     ]
    }
   ],
   "source": [
    "import numpy as np\n",
    "from qiskit import Aer\n",
    "from qiskit_aqua import run_algorithm\n",
    "from qiskit_aqua.input import EnergyInput\n",
    "from qiskit_aqua.translators.ising import vertexcover\n",
    "from qiskit_aqua.algorithms import ExactEigensolver\n",
    "\n",
    "np.random.seed(100)\n",
    "num_nodes = 3\n",
    "w = vertexcover.random_graph(num_nodes, edge_prob=0.8, weight_range=10)\n",
    "print(w)\n",
    "qubit_op, offset = vertexcover.get_vertexcover_qubitops(w)\n",
    "algo_input = EnergyInput(qubit_op)"
   ]
  },
  {
   "cell_type": "markdown",
   "metadata": {},
   "source": [
    "the brute-force method is as follows. Basically, we exhaustively try all the binary assignments. In each binary assignment, the entry of a vertex is either 0 (meaning the vertex is not in the cover) or 1 (meaning the vertex is in the cover). We print the binary assignment that satisfies the definition of the vertex cover and corresponds to the minimial size. "
   ]
  },
  {
   "cell_type": "code",
   "execution_count": 2,
   "metadata": {},
   "outputs": [
    {
     "name": "stdout",
     "output_type": "stream",
     "text": [
      "size of the vertex cover 2\n"
     ]
    }
   ],
   "source": [
    "def brute_force():\n",
    "    # brute-force way\n",
    "    def bitfield(n, L):\n",
    "        result = np.binary_repr(n, L)\n",
    "        return [int(digit) for digit in result]  # [2:] to chop off the \"0b\" part\n",
    "\n",
    "    L = num_nodes\n",
    "    max = 2**L\n",
    "    minimal_v = np.inf\n",
    "    for i in range(max):\n",
    "        cur = bitfield(i, L)\n",
    "\n",
    "        cur_v = vertexcover.check_full_edge_coverage(np.array(cur), w)\n",
    "        if cur_v:\n",
    "            nonzerocount = np.count_nonzero(cur)\n",
    "            if nonzerocount < minimal_v:\n",
    "                minimal_v = nonzerocount\n",
    "\n",
    "    return minimal_v\n",
    "\n",
    "size = brute_force()\n",
    "print('size of the vertex cover', size)"
   ]
  },
  {
   "cell_type": "markdown",
   "metadata": {},
   "source": [
    "### Part I: run the optimization in the non-programming way"
   ]
  },
  {
   "cell_type": "code",
   "execution_count": 3,
   "metadata": {},
   "outputs": [
    {
     "name": "stdout",
     "output_type": "stream",
     "text": [
      "size of the vertex cover 2\n"
     ]
    }
   ],
   "source": [
    "params = {\n",
    "    'problem': {'name': 'ising'},\n",
    "    'algorithm': {'name': 'ExactEigensolver'}\n",
    "}\n",
    "result = run_algorithm(params, algo_input)\n",
    "\n",
    "x = vertexcover.sample_most_likely(len(w), result['eigvecs'][0])\n",
    "sol = vertexcover.get_graph_solution(x)\n",
    "np.testing.assert_array_equal(sol, [0, 1, 1])\n",
    "print('size of the vertex cover', np.count_nonzero(sol))"
   ]
  },
  {
   "cell_type": "markdown",
   "metadata": {},
   "source": [
    "### Part II: run the optimization in the programming way"
   ]
  },
  {
   "cell_type": "code",
   "execution_count": 4,
   "metadata": {},
   "outputs": [
    {
     "name": "stdout",
     "output_type": "stream",
     "text": [
      "size of the vertex cover 2\n"
     ]
    }
   ],
   "source": [
    "algo = ExactEigensolver(algo_input.qubit_op, k=1, aux_operators=[])\n",
    "result = algo.run()\n",
    "x = vertexcover.sample_most_likely(len(w), result['eigvecs'][0])\n",
    "sol = vertexcover.get_graph_solution(x)\n",
    "np.testing.assert_array_equal(sol, [0, 1, 1])\n",
    "print('size of the vertex cover', np.count_nonzero(sol))"
   ]
  },
  {
   "cell_type": "markdown",
   "metadata": {},
   "source": [
    "### Part III: run the optimization with VQE"
   ]
  },
  {
   "cell_type": "code",
   "execution_count": 5,
   "metadata": {},
   "outputs": [
    {
     "name": "stdout",
     "output_type": "stream",
     "text": [
      "size of the vertex cover 2\n"
     ]
    }
   ],
   "source": [
    "algorithm_cfg = {\n",
    "    'name': 'VQE',\n",
    "    'operator_mode': 'paulis'\n",
    "}\n",
    "\n",
    "optimizer_cfg = {\n",
    "    'name': 'SPSA',\n",
    "    'max_trials': 200\n",
    "}\n",
    "\n",
    "var_form_cfg = {\n",
    "    'name': 'RYRZ',\n",
    "    'depth': 3,\n",
    "}\n",
    "\n",
    "params = {\n",
    "    'problem': {'name': 'ising', 'random_seed': 100},\n",
    "    'algorithm': algorithm_cfg,\n",
    "    'optimizer': optimizer_cfg,\n",
    "    'variational_form': var_form_cfg\n",
    "}\n",
    "backend = Aer.get_backend('qasm_simulator')\n",
    "result = run_algorithm(params, algo_input, backend=backend)\n",
    "x = vertexcover.sample_most_likely(len(w), result['eigvecs'][0])\n",
    "sol = vertexcover.get_graph_solution(x)\n",
    "print('size of the vertex cover', np.count_nonzero(sol))"
   ]
  }
 ],
 "metadata": {
  "kernelspec": {
   "display_name": "mykernel",
   "language": "python",
   "name": "mykernel"
  },
  "language_info": {
   "codemirror_mode": {
    "name": "ipython",
    "version": 3
   },
   "file_extension": ".py",
   "mimetype": "text/x-python",
   "name": "python",
   "nbconvert_exporter": "python",
   "pygments_lexer": "ipython3",
   "version": "3.6.7"
  }
 },
 "nbformat": 4,
 "nbformat_minor": 2
}
