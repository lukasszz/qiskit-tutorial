{
 "cells": [
  {
   "cell_type": "markdown",
   "metadata": {},
   "source": [
    "## _*Using Qiskit Aqua for graph partition problems*_\n",
    "\n",
    "Here we consider a simplified graph partition problem.\n",
    "Consider a graph $G = (V, E)$, where $V$ denotes the set of n vertices and $E$ the set of edges. \n",
    "The objective of graph partition is to partition $G$ into two sets of the same size (let us assume we have even number of vertices), \n",
    "while minimizing the capacity of the edges across the two sets.\n",
    "\n",
    "We will go through three examples to show (1) how to run the optimization in the non-programming way, (2) how to run the optimization in the programming way, (3) how to run the optimization with the VQE.\n",
    "We will omit the details for the support of CPLEX, which are explained in other notebooks such as maxcut.\n",
    "\n",
    "Note the objective_value below is defined as the the number of crossing edges. The goal is to minimize this value.\n"
   ]
  },
  {
   "cell_type": "markdown",
   "metadata": {},
   "source": [
    "### The problem and the brute-force method"
   ]
  },
  {
   "cell_type": "markdown",
   "metadata": {},
   "source": [
    "the graph involved in our example is as follows. The graph is in the adjacent matrix form."
   ]
  },
  {
   "cell_type": "code",
   "execution_count": 1,
   "metadata": {},
   "outputs": [
    {
     "name": "stdout",
     "output_type": "stream",
     "text": [
      "[[ 0.  4.  5.  3.]\n",
      " [ 4.  0. -5.  7.]\n",
      " [ 5. -5.  0.  0.]\n",
      " [ 3.  7.  0.  0.]]\n"
     ]
    }
   ],
   "source": [
    "import numpy as np\n",
    "from qiskit import Aer\n",
    "from qiskit_aqua import run_algorithm\n",
    "from qiskit_aqua.input import EnergyInput\n",
    "from qiskit_aqua.translators.ising import graphpartition\n",
    "from qiskit_aqua.algorithms import ExactEigensolver\n",
    "\n",
    "np.random.seed(100)\n",
    "num_nodes = 4\n",
    "w = graphpartition.random_graph(num_nodes, edge_prob=0.8, weight_range=10)\n",
    "print(w)"
   ]
  },
  {
   "cell_type": "markdown",
   "metadata": {},
   "source": [
    "the brute-force method is as follows. Basically, we exhaustively try all the binary assignments. In each binary assignment, the entry of a vertex is either 0 (meaning the vertex is in the first partition) or 1 (meaning the vertex is in the second partition). We print the binary assignment that satisfies the definition of the graph partition and corresponds to the minimial number of crossing edges."
   ]
  },
  {
   "cell_type": "code",
   "execution_count": 2,
   "metadata": {},
   "outputs": [
    {
     "name": "stdout",
     "output_type": "stream",
     "text": [
      "objective value computed by the brute-force method is 3\n"
     ]
    }
   ],
   "source": [
    "def brute_force():\n",
    "    # use the brute-force way to generate the oracle\n",
    "    def bitfield(n, L):\n",
    "        result = np.binary_repr(n, L)\n",
    "        return [int(digit) for digit in result]  # [2:] to chop off the \"0b\" part\n",
    "\n",
    "    L = num_nodes\n",
    "    max = 2**L\n",
    "    minimal_v = np.inf\n",
    "    for i in range(max):\n",
    "        cur = bitfield(i, L)\n",
    "\n",
    "        how_many_nonzero = np.count_nonzero(cur)\n",
    "        if how_many_nonzero * 2 != L:  # not balanced\n",
    "            continue\n",
    "\n",
    "        cur_v = graphpartition.objective_value(np.array(cur), w)\n",
    "        if cur_v < minimal_v:\n",
    "            minimal_v = cur_v\n",
    "    return minimal_v\n",
    "\n",
    "sol = brute_force()\n",
    "print(\"objective value computed by the brute-force method is\", sol)"
   ]
  },
  {
   "cell_type": "markdown",
   "metadata": {},
   "source": [
    "### Part I: run the optimization in the non-programming way"
   ]
  },
  {
   "cell_type": "code",
   "execution_count": 3,
   "metadata": {},
   "outputs": [
    {
     "name": "stdout",
     "output_type": "stream",
     "text": [
      "objective value computed by ExactEigensolver is 3.0\n"
     ]
    }
   ],
   "source": [
    "qubit_op, offset = graphpartition.get_graphpartition_qubitops(w)\n",
    "algo_input = EnergyInput(qubit_op)\n",
    "\n",
    "params = {\n",
    "    'problem': {'name': 'ising'},\n",
    "    'algorithm': {'name': 'ExactEigensolver'}\n",
    "}\n",
    "result = run_algorithm(params, algo_input)\n",
    "x = graphpartition.sample_most_likely(result['eigvecs'][0])\n",
    "# check against the oracle\n",
    "ising_sol = graphpartition.get_graph_solution(x)\n",
    "np.testing.assert_array_equal(ising_sol, [0, 1, 0, 1])\n",
    "print(\"objective value computed by ExactEigensolver is\", graphpartition.objective_value(x, w))"
   ]
  },
  {
   "cell_type": "markdown",
   "metadata": {},
   "source": [
    "### Part II: run the optimization in the programming way"
   ]
  },
  {
   "cell_type": "code",
   "execution_count": 4,
   "metadata": {},
   "outputs": [
    {
     "name": "stdout",
     "output_type": "stream",
     "text": [
      "objective value computed by the ExactEigensolver is 3.0\n"
     ]
    }
   ],
   "source": [
    "algo = ExactEigensolver(algo_input.qubit_op, k=1, aux_operators=[])\n",
    "result = algo.run()\n",
    "x = graphpartition.sample_most_likely(result['eigvecs'][0])\n",
    "# check against the oracle\n",
    "ising_sol = graphpartition.get_graph_solution(x)\n",
    "np.testing.assert_array_equal(ising_sol, [0, 1, 0, 1])\n",
    "print(\"objective value computed by the ExactEigensolver is\", graphpartition.objective_value(x, w))"
   ]
  },
  {
   "cell_type": "markdown",
   "metadata": {},
   "source": [
    "### Part III: run the optimization with VQE"
   ]
  },
  {
   "cell_type": "code",
   "execution_count": 5,
   "metadata": {},
   "outputs": [
    {
     "name": "stdout",
     "output_type": "stream",
     "text": [
      "objective value computed by VQE is 3.0\n"
     ]
    }
   ],
   "source": [
    "algorithm_cfg = {\n",
    "    'name': 'VQE',\n",
    "    'operator_mode': 'matrix'\n",
    "}\n",
    "\n",
    "optimizer_cfg = {\n",
    "    'name': 'SPSA',\n",
    "    'max_trials': 300\n",
    "}\n",
    "\n",
    "var_form_cfg = {\n",
    "    'name': 'RY',\n",
    "    'depth': 5,\n",
    "    'entanglement': 'linear'\n",
    "}\n",
    "\n",
    "params = {\n",
    "    'problem': {'name': 'ising', 'random_seed': 10598},\n",
    "    'algorithm': algorithm_cfg,\n",
    "    'optimizer': optimizer_cfg,\n",
    "    'variational_form': var_form_cfg\n",
    "}\n",
    "backend = Aer.get_backend('statevector_simulator')\n",
    "result = run_algorithm(params, algo_input, backend=backend)\n",
    "x = graphpartition.sample_most_likely(result['eigvecs'][0])\n",
    "# check against the oracle\n",
    "ising_sol = graphpartition.get_graph_solution(x)\n",
    "np.testing.assert_array_equal(ising_sol, [1, 0, 0, 1])\n",
    "print(\"objective value computed by VQE is\", graphpartition.objective_value(x, w))"
   ]
  }
 ],
 "metadata": {
  "kernelspec": {
   "display_name": "mykernel",
   "language": "python",
   "name": "mykernel"
  },
  "language_info": {
   "codemirror_mode": {
    "name": "ipython",
    "version": 3
   },
   "file_extension": ".py",
   "mimetype": "text/x-python",
   "name": "python",
   "nbconvert_exporter": "python",
   "pygments_lexer": "ipython3",
   "version": "3.6.7"
  }
 },
 "nbformat": 4,
 "nbformat_minor": 2
}
