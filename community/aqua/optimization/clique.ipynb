{
 "cells": [
  {
   "cell_type": "markdown",
   "metadata": {},
   "source": [
    "## _*Using Qiskit Aqua for clique problems*_\n",
    "\n",
    "This Qiskit Aqua Optimization notebook demonstrates how to use the VQE quantum algorithm to compute the clique of a given graph. \n",
    "\n",
    "The problem is defined as follows. A clique in a graph $G$ is a complete subgraph of $G$. That is, it is a subset $K$ of the vertices such that every two vertices in $K$ are the two endpoints of an edge in $G$. A maximal clique is a clique to which no more vertices can be added. A maximum clique is a clique that includes the largest possible number of vertices. \n",
    "\n",
    "We will go through three examples to show (1) how to run the optimization in the non-programming way, (2) how to run the optimization in the programming way, (3) how to run the optimization with the VQE.\n",
    "We will omit the details for the support of CPLEX, which are explained in other notebooks such as maxcut.\n",
    "\n",
    "Note that the solution may not be unique."
   ]
  },
  {
   "cell_type": "markdown",
   "metadata": {},
   "source": [
    "###  The problem and a brute-force method."
   ]
  },
  {
   "cell_type": "code",
   "execution_count": 1,
   "metadata": {},
   "outputs": [],
   "source": [
    "import numpy as np\n",
    "\n",
    "from qiskit import Aer\n",
    "\n",
    "from qiskit_aqua import run_algorithm\n",
    "from qiskit_aqua.input import EnergyInput\n",
    "from qiskit_aqua.translators.ising import clique\n",
    "from qiskit_aqua.algorithms import ExactEigensolver"
   ]
  },
  {
   "cell_type": "markdown",
   "metadata": {},
   "source": [
    "first, let us have a look at the graph, which is in the adjacent matrix form."
   ]
  },
  {
   "cell_type": "code",
   "execution_count": 2,
   "metadata": {},
   "outputs": [
    {
     "name": "stdout",
     "output_type": "stream",
     "text": [
      "[[ 0.  4.  5.  3. -5.]\n",
      " [ 4.  0.  7.  0.  6.]\n",
      " [ 5.  7.  0. -4.  0.]\n",
      " [ 3.  0. -4.  0.  8.]\n",
      " [-5.  6.  0.  8.  0.]]\n"
     ]
    }
   ],
   "source": [
    "K = 3  # K means the size of the clique\n",
    "np.random.seed(100)\n",
    "num_nodes = 5\n",
    "w = clique.random_graph(num_nodes, edge_prob=0.8, weight_range=10)\n",
    "print(w) "
   ]
  },
  {
   "cell_type": "markdown",
   "metadata": {},
   "source": [
    "Let us try a brute-force method. Basically, we exhaustively try all the binary assignments. In each binary assignment, the entry of a vertex is either 0 (meaning the vertex is not in the clique) or 1 (meaning the vertex is in the clique). We print the binary assignment that satisfies the definition of the clique (Note the size is specified as K)."
   ]
  },
  {
   "cell_type": "code",
   "execution_count": 3,
   "metadata": {},
   "outputs": [
    {
     "name": "stdout",
     "output_type": "stream",
     "text": [
      "solution is  [1, 0, 0, 1, 1]\n"
     ]
    }
   ],
   "source": [
    "def brute_force():\n",
    "    # brute-force way: try every possible assignment!\n",
    "    def bitfield(n, L):\n",
    "        result = np.binary_repr(n, L)\n",
    "        return [int(digit) for digit in result]\n",
    "\n",
    "    L = num_nodes  # length of the bitstring that represents the assignment\n",
    "    max = 2**L\n",
    "    has_sol = False\n",
    "    for i in range(max):\n",
    "        cur = bitfield(i, L)\n",
    "        cur_v = clique.satisfy_or_not(np.array(cur), w, K)\n",
    "        if cur_v:\n",
    "            has_sol = True\n",
    "            break\n",
    "    return has_sol, cur\n",
    "\n",
    "has_sol, sol = brute_force()\n",
    "if has_sol:\n",
    "    print(\"solution is \", sol)\n",
    "else:\n",
    "    print(\"no solution found for K=\", K)"
   ]
  },
  {
   "cell_type": "markdown",
   "metadata": {},
   "source": [
    "### Part I: run the optimization in the non-programming way"
   ]
  },
  {
   "cell_type": "code",
   "execution_count": 4,
   "metadata": {},
   "outputs": [
    {
     "name": "stdout",
     "output_type": "stream",
     "text": [
      "solution is [1. 0. 1. 1. 0.]\n"
     ]
    }
   ],
   "source": [
    "qubit_op, offset = clique.get_clique_qubitops(w, K)\n",
    "algo_input = EnergyInput(qubit_op)\n",
    "params = {\n",
    "    'problem': {'name': 'ising'},\n",
    "    'algorithm': {'name': 'ExactEigensolver'}\n",
    "}\n",
    "result = run_algorithm(params, algo_input)\n",
    "x = clique.sample_most_likely(len(w), result['eigvecs'][0])\n",
    "ising_sol = clique.get_graph_solution(x)\n",
    "if clique.satisfy_or_not(ising_sol, w, K):\n",
    "    print(\"solution is\", ising_sol)\n",
    "else:\n",
    "    print(\"no solution found for K=\", K)"
   ]
  },
  {
   "cell_type": "markdown",
   "metadata": {},
   "source": [
    "### Part II: run the optimization in the programming way"
   ]
  },
  {
   "cell_type": "code",
   "execution_count": 5,
   "metadata": {},
   "outputs": [
    {
     "name": "stdout",
     "output_type": "stream",
     "text": [
      "solution is [1. 0. 1. 1. 0.]\n"
     ]
    }
   ],
   "source": [
    "\n",
    "algo = ExactEigensolver(algo_input.qubit_op, k=1, aux_operators=[])\n",
    "result = algo.run()\n",
    "x = clique.sample_most_likely(len(w), result['eigvecs'][0])\n",
    "ising_sol = clique.get_graph_solution(x)\n",
    "if clique.satisfy_or_not(ising_sol, w, K):\n",
    "    print(\"solution is\", ising_sol)\n",
    "else:\n",
    "    print(\"no solution found for K=\", K)     "
   ]
  },
  {
   "cell_type": "markdown",
   "metadata": {},
   "source": [
    "### Part III: run the optimization with the VQE"
   ]
  },
  {
   "cell_type": "code",
   "execution_count": 6,
   "metadata": {},
   "outputs": [
    {
     "name": "stdout",
     "output_type": "stream",
     "text": [
      "solution is [1. 0. 1. 1. 0.]\n"
     ]
    }
   ],
   "source": [
    "algorithm_cfg = {\n",
    "    'name': 'VQE',\n",
    "    'operator_mode': 'matrix'\n",
    "}\n",
    "\n",
    "optimizer_cfg = {\n",
    "    'name': 'COBYLA'\n",
    "}\n",
    "\n",
    "var_form_cfg = {\n",
    "    'name': 'RY',\n",
    "    'depth': 5,\n",
    "    'entanglement': 'linear'\n",
    "}\n",
    "\n",
    "params = {\n",
    "    'problem': {'name': 'ising', 'random_seed': 10598},\n",
    "    'algorithm': algorithm_cfg,\n",
    "    'optimizer': optimizer_cfg,\n",
    "    'variational_form': var_form_cfg\n",
    "}\n",
    "backend = Aer.get_backend('statevector_simulator')\n",
    "result = run_algorithm(params, algo_input, backend=backend)\n",
    "x = clique.sample_most_likely(len(w), result['eigvecs'][0])\n",
    "ising_sol = clique.get_graph_solution(x)\n",
    "\n",
    "if clique.satisfy_or_not(ising_sol, w, K):\n",
    "    print(\"solution is\", ising_sol)\n",
    "else:\n",
    "    print(\"no solution found for K=\", K)"
   ]
  }
 ],
 "metadata": {
  "kernelspec": {
   "display_name": "mykernel",
   "language": "python",
   "name": "mykernel"
  },
  "language_info": {
   "codemirror_mode": {
    "name": "ipython",
    "version": 3
   },
   "file_extension": ".py",
   "mimetype": "text/x-python",
   "name": "python",
   "nbconvert_exporter": "python",
   "pygments_lexer": "ipython3",
   "version": "3.7.1"
  }
 },
 "nbformat": 4,
 "nbformat_minor": 2
}
