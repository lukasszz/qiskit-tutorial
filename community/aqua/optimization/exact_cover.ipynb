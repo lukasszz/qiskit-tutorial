{
 "cells": [
  {
   "cell_type": "markdown",
   "metadata": {},
   "source": [
    "## _*Using Qiskit Aqua for exact cover problems*_\n",
    "\n",
    "In mathematics, given a collection $S$ of subsets of a set $X$.\n",
    "An exact cover is a subcollection $S_{ec} \\subseteq S$ such that each element in $X$ is contained in exactly one subset $\\in S_{ec}$. \n",
    "\n",
    "We will go through three examples to show (1) how to run the optimization in the non-programming way, (2) how to run the optimization in the programming way, (3) how to run the optimization with the VQE.\n",
    "We will omit the details for the support of CPLEX, which are explained in other notebooks such as maxcut."
   ]
  },
  {
   "cell_type": "markdown",
   "metadata": {},
   "source": [
    "### The problem and the brute-force method."
   ]
  },
  {
   "cell_type": "markdown",
   "metadata": {},
   "source": [
    "first, let us take a look at the list of subsets."
   ]
  },
  {
   "cell_type": "code",
   "execution_count": 1,
   "metadata": {},
   "outputs": [
    {
     "name": "stdout",
     "output_type": "stream",
     "text": [
      "[[2, 3, 4], [1, 2], [3, 4], [1, 2, 3]]\n"
     ]
    }
   ],
   "source": [
    "import numpy as np\n",
    "import json\n",
    "from qiskit import Aer\n",
    "from qiskit_aqua import run_algorithm\n",
    "from qiskit_aqua.input import EnergyInput\n",
    "from qiskit_aqua.translators.ising import exactcover\n",
    "from qiskit_aqua.algorithms import ExactEigensolver\n",
    "\n",
    "input_file = 'sample.exactcover'\n",
    "with open(input_file) as f:\n",
    "    list_of_subsets = json.load(f)\n",
    "    print(list_of_subsets)\n",
    "    qubitOp, offset = exactcover.get_exactcover_qubitops(list_of_subsets)\n",
    "    algo_input = EnergyInput(qubitOp)"
   ]
  },
  {
   "cell_type": "markdown",
   "metadata": {},
   "source": [
    "Then we apply the brute-force method. Basically, we exhaustively try all the binary assignments. In each binary assignment, the entry of a subset is either 0 (meaning the subset is not in the cover) or 1 (meaning the subset is in the cover). We print the binary assignment that satisfies the definition of the exact cover."
   ]
  },
  {
   "cell_type": "code",
   "execution_count": 2,
   "metadata": {},
   "outputs": [
    {
     "name": "stdout",
     "output_type": "stream",
     "text": [
      "solution is [0, 1, 1, 0]\n"
     ]
    }
   ],
   "source": [
    "def brute_force():\n",
    "    # brute-force way: try every possible assignment!\n",
    "    has_sol = False\n",
    "\n",
    "    def bitfield(n, L):\n",
    "        result = np.binary_repr(n, L)\n",
    "        return [int(digit) for digit in result]  # [2:] to chop off the \"0b\" part\n",
    "\n",
    "    L = len(list_of_subsets)\n",
    "    max = 2**L\n",
    "    for i in range(max):\n",
    "        cur = bitfield(i, L)\n",
    "        cur_v = exactcover.check_solution_satisfiability(cur, list_of_subsets)\n",
    "        if cur_v:\n",
    "            has_sol = True\n",
    "            break\n",
    "    return has_sol, cur\n",
    "\n",
    "has_sol, cur = brute_force()\n",
    "if has_sol:\n",
    "    print(\"solution is\", cur)\n",
    "else:\n",
    "    print(\"no solution is found\")"
   ]
  },
  {
   "cell_type": "markdown",
   "metadata": {},
   "source": [
    "### Part I: run the optimization in the non-programming way"
   ]
  },
  {
   "cell_type": "code",
   "execution_count": 3,
   "metadata": {},
   "outputs": [
    {
     "name": "stdout",
     "output_type": "stream",
     "text": [
      "solution is [0. 1. 1. 0.]\n"
     ]
    }
   ],
   "source": [
    "params = {\n",
    "    'problem': {'name': 'ising'},\n",
    "    'algorithm': {'name': 'ExactEigensolver'}\n",
    "}\n",
    "result = run_algorithm(params, algo_input)\n",
    "x = exactcover.sample_most_likely(len(list_of_subsets), result['eigvecs'][0])\n",
    "ising_sol = exactcover.get_solution(x)\n",
    "np.testing.assert_array_equal(ising_sol, [0, 1, 1, 0])\n",
    "if exactcover.check_solution_satisfiability(ising_sol, list_of_subsets):\n",
    "    print(\"solution is\", ising_sol)\n",
    "else:\n",
    "    print(\"no solution is found\")"
   ]
  },
  {
   "cell_type": "markdown",
   "metadata": {},
   "source": [
    "### Part II: run the optimization in the programming way"
   ]
  },
  {
   "cell_type": "code",
   "execution_count": 4,
   "metadata": {},
   "outputs": [
    {
     "name": "stdout",
     "output_type": "stream",
     "text": [
      "solution is [0. 1. 1. 0.]\n"
     ]
    }
   ],
   "source": [
    "algo = ExactEigensolver(algo_input.qubit_op, k=1, aux_operators=[])\n",
    "result = algo.run()\n",
    "x = exactcover.sample_most_likely(len(list_of_subsets), result['eigvecs'][0])\n",
    "ising_sol = exactcover.get_solution(x)\n",
    "np.testing.assert_array_equal(ising_sol, [0, 1, 1, 0])\n",
    "\n",
    "if exactcover.check_solution_satisfiability(ising_sol, list_of_subsets):\n",
    "    print(\"solution is\", ising_sol)\n",
    "else:\n",
    "    print(\"no solution is found\")"
   ]
  },
  {
   "cell_type": "markdown",
   "metadata": {},
   "source": [
    "### Part III: run the optimization with VQE"
   ]
  },
  {
   "cell_type": "code",
   "execution_count": 5,
   "metadata": {},
   "outputs": [
    {
     "name": "stdout",
     "output_type": "stream",
     "text": [
      "solution is [0. 1. 1. 0.]\n"
     ]
    }
   ],
   "source": [
    "algorithm_cfg = {\n",
    "    'name': 'VQE',\n",
    "    'operator_mode': 'matrix'\n",
    "}\n",
    "\n",
    "optimizer_cfg = {\n",
    "    'name': 'COBYLA'\n",
    "}\n",
    "\n",
    "var_form_cfg = {\n",
    "    'name': 'RYRZ',\n",
    "    'depth': 5\n",
    "}\n",
    "\n",
    "params = {\n",
    "    'problem': {'name': 'ising', 'random_seed': 10598},\n",
    "    'algorithm': algorithm_cfg,\n",
    "    'optimizer': optimizer_cfg,\n",
    "    'variational_form': var_form_cfg\n",
    "}\n",
    "backend = Aer.get_backend('statevector_simulator')\n",
    "result = run_algorithm(params, algo_input, backend=backend)\n",
    "x = exactcover.sample_most_likely(len(list_of_subsets), result['eigvecs'][0])\n",
    "ising_sol = exactcover.get_solution(x)\n",
    "if exactcover.check_solution_satisfiability(ising_sol, list_of_subsets):\n",
    "    print(\"solution is\", ising_sol)\n",
    "else:\n",
    "    print(\"no solution is found\")"
   ]
  }
 ],
 "metadata": {
  "kernelspec": {
   "display_name": "mykernel",
   "language": "python",
   "name": "mykernel"
  },
  "language_info": {
   "codemirror_mode": {
    "name": "ipython",
    "version": 3
   },
   "file_extension": ".py",
   "mimetype": "text/x-python",
   "name": "python",
   "nbconvert_exporter": "python",
   "pygments_lexer": "ipython3",
   "version": "3.7.1"
  }
 },
 "nbformat": 4,
 "nbformat_minor": 2
}
