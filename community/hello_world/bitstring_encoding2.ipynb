{
 "cells": [
  {
   "cell_type": "markdown",
   "metadata": {},
   "source": [
    "# Compressing bit strings in qubits using superposition effect"
   ]
  },
  {
   "cell_type": "markdown",
   "metadata": {},
   "source": [
    "### Contributors\n",
    "Łukasz Herok\n",
    "\n"
   ]
  },
  {
   "cell_type": "markdown",
   "metadata": {},
   "source": [
    "## Motivation\n",
    "\n",
    "Tha aim of this tutorial is to show you how quantum computers can store information encoded in a bit string using  significantly fewer qubits than classical bits. It is possible thanks to **superposition effect**. so I will try explain it by examples.\n",
    "\n",
    "This tutorial is designed to be an independet teaching material, so in the firsts sections  it repeats the basics that can be found in the other resuorces to make it easier to understand the final concept. If you are familiar with basics quantum computing concepts you can just skip to the \"Compressing bit strings in qubits using superposition effect\" section.\n"
   ]
  },
  {
   "cell_type": "code",
   "execution_count": 1,
   "metadata": {},
   "outputs": [],
   "source": [
    "# Import of the modules and initialization of variables used in this tutorial\n",
    "import numpy as np\n",
    "import qiskit\n",
    "from qiskit import BasicAer as Aer\n",
    "from qiskit import QuantumRegister, ClassicalRegister, QuantumCircuit\n",
    "from qiskit import execute\n",
    "import math\n",
    "from qiskit.tools.visualization import plot_histogram\n",
    "\n",
    "# qiskit.IBMQ.load_accounts()\n",
    "backend = Aer.get_backend('qasm_simulator')\n",
    "backend_vec= Aer.get_backend('statevector_simulator')"
   ]
  },
  {
   "cell_type": "markdown",
   "metadata": {},
   "source": [
    "## Bit vs Qubit\n",
    "\n",
    "The computer bit can store and manipulate the two states `0` and `1`. This two states maps to the two qubit  basis (orthonormal) states:\n",
    "\n",
    "\n",
    "$ |0> = {\\begin{bmatrix}1 \\\\ 0\\end{bmatrix}} $,\n",
    "\n",
    "$ |1> = {\\begin{bmatrix}0 \\\\ 1\\end{bmatrix}} $.\n",
    "\n",
    "In fact the qubit state is represented by the linear *superposition* of these two basics states\n",
    "\n",
    "$ |q> = \\alpha |0> + \\beta |1> $\n",
    "so we can write\n",
    "$ |q> = {\\begin{bmatrix}\\alpha \\\\ 0\\end{bmatrix}} +  {\\begin{bmatrix}0 \\\\ \\beta \\end{bmatrix}} =  {\\begin{bmatrix} \\alpha \\\\ \\beta \\end{bmatrix}} $. \n",
    "\n",
    "The $ \\alpha $ and $ \\beta $ are the probability amplitudes, and are the complex numbers. Using the formula $|\\alpha|^2$ tells us about the probabilty that the qubit is in state `|0>`. So these coefficients have to meet the normalization requirement $|\\alpha|^2 + |\\beta|^2  = 1$ to have the overall probability equals to one.\n",
    "\n",
    "So, as we can see the a qubit can exists in a *superposition* of states. By the measurement we can only check the probability of the each state the qubit can take. For the quantum computing, beside the basis states `|0>`, `|1>`, we often encounter the superposition states marked by `|+>`, `|->`. In these states there is is equal probability ($|\\alpha|^2$ = 0.5 and $|\\beta|^2 = 0.5 $) that the qubit is in one of the basis states `|0>` or `|1>`. The other possible states, with different value of amplitude coefficients, are generally called the *Mixed states*.\n",
    "We can introduce a qubit into the superposition state from `|0>` to `|+>` and back to `|0>` using the *Hadamard gate*. There is no similar operation available for bits as they operates only over two states `0,1`."
   ]
  },
  {
   "cell_type": "markdown",
   "metadata": {},
   "source": [
    "### Math\n",
    "The Hadamard gate is reprezented by the matrix: \n",
    "\n",
    "$H =  \\frac{1}{\\sqrt{2}} {\\begin{bmatrix}1 & 1\\\\1 & -1\\end{bmatrix}} $.\n",
    "\n",
    "To create a superposition state from the `|0>`, we need to multiply the matrices:\n",
    "\n",
    "$ H|0> \n",
    "= \\frac{1}{\\sqrt{2}} {\\begin{bmatrix}1 & 1\\\\1 & -1\\end{bmatrix}} {\\begin{bmatrix}1 \\\\0\\end{bmatrix}} \n",
    "= \\frac{1}{\\sqrt{2}} {\\begin{bmatrix}1\\cdot1 + 1\\cdot0 \\\\ 1\\cdot1 -1\\cdot0\\end{bmatrix}}\n",
    "=  {\\begin{bmatrix}0,7071 \\\\ 0,7071\\end{bmatrix}}\n",
    "= |+>\n",
    "$,\n",
    "\n",
    "so $\\alpha = 0.7071$, and $\\beta = 0.7071$. Making square of these we can get $0.5$ probability that the qubit is in state `|0>`, $0.5$ it is in state `|1>`.\n",
    "\n",
    "We can of course go back to the `|0>` state using the Hadamard gate again:\n",
    "\n",
    "$ H|+> \n",
    "= \\frac{1}{\\sqrt{2}} {\\begin{bmatrix}1 & 1\\\\1 & -1\\end{bmatrix}} {\\begin{bmatrix}\\frac{1}{\\sqrt{2}}  \\\\\\frac{1}{\\sqrt{2}} \\end{bmatrix}} \n",
    "= {\\begin{bmatrix}1 \\\\ 0\\end{bmatrix}}\n",
    "= |0>\n",
    "$\n"
   ]
  },
  {
   "cell_type": "markdown",
   "metadata": {},
   "source": [
    "### Numeric"
   ]
  },
  {
   "cell_type": "code",
   "execution_count": 38,
   "metadata": {},
   "outputs": [
    {
     "name": "stdout",
     "output_type": "stream",
     "text": [
      "Initial state |0> \n",
      " [[1.]\n",
      " [0.]] \n",
      "\n",
      " H|0> = |+> \n",
      " [[0.70710678]\n",
      " [0.70710678]]\n",
      "\n",
      " H|+> = |0> \n",
      " [[1.]\n",
      " [0.]]\n"
     ]
    }
   ],
   "source": [
    "# |0>\n",
    "Zero = np.array([[1.],\n",
    "                 [0.]]) \n",
    "\n",
    "H = 1./np.sqrt(2) * np.array([[1, 1],\n",
    "                              [1, -1]])\n",
    "\n",
    "print(\"Initial state |0> \\n %s \" % Zero)\n",
    "\n",
    "Sup = np.dot(H, Zero)\n",
    "print(\"\\n H|0> = |+> \\n %s\" % Sup)\n",
    "\n",
    "Back = np.dot(H, Sup)\n",
    "print(\"\\n H|+> = |0> \\n %s\" % Back)\n"
   ]
  },
  {
   "cell_type": "markdown",
   "metadata": {},
   "source": [
    "### Quantum"
   ]
  },
  {
   "cell_type": "code",
   "execution_count": 39,
   "metadata": {
    "scrolled": true
   },
   "outputs": [
    {
     "name": "stdout",
     "output_type": "stream",
     "text": [
      "         ┌───┐\n",
      "q3_0: |0>┤ H ├\n",
      "         └───┘\n"
     ]
    }
   ],
   "source": [
    "q1 = QuantumRegister(1) # Qubit in the |0> state.\n",
    "circ = QuantumCircuit(q1) # Circuit represents a quantum program.\n",
    "\n",
    "circ.h(q1) # H|0>\n",
    "\n",
    "print(circ)"
   ]
  },
  {
   "cell_type": "code",
   "execution_count": 40,
   "metadata": {},
   "outputs": [
    {
     "name": "stdout",
     "output_type": "stream",
     "text": [
      "{'1': 519, '0': 505}\n"
     ]
    }
   ],
   "source": [
    "# To get final results from the qubit we need a classical register to store measurements\n",
    "c1 = ClassicalRegister(1) \n",
    "circ.add_register(c1)\n",
    "circ.measure(q1, c1)\n",
    "\n",
    "result = execute(circ, backend=backend, shots=1024).result()\n",
    "print(result.get_counts())"
   ]
  },
  {
   "cell_type": "markdown",
   "metadata": {},
   "source": [
    "Analyzing the result of quantum program, we can see how many times the state `|1>` and `|0>` was measured. We can see that both states were measured almost the same number of times.\n",
    "\n",
    "Let's check if using two H gated will bring us to the initial state:"
   ]
  },
  {
   "cell_type": "code",
   "execution_count": 43,
   "metadata": {},
   "outputs": [
    {
     "name": "stdout",
     "output_type": "stream",
     "text": [
      "         ┌───┐┌───┐\n",
      "q3_0: |0>┤ H ├┤ H ├\n",
      "         └───┘└───┘\n"
     ]
    }
   ],
   "source": [
    "circ = QuantumCircuit(q1)\n",
    "\n",
    "circ.h(q1) # H|0>\n",
    "circ.h(q1) # H|+>\n",
    "\n",
    "print(circ)"
   ]
  },
  {
   "cell_type": "code",
   "execution_count": 44,
   "metadata": {},
   "outputs": [
    {
     "name": "stdout",
     "output_type": "stream",
     "text": [
      "{'0': 1024}\n"
     ]
    }
   ],
   "source": [
    "circ.add_register(c1)\n",
    "circ.measure(q1, c1)\n",
    "\n",
    "result = execute(circ, backend=backend, shots=1024).result()\n",
    "print(result.get_counts())"
   ]
  },
  {
   "cell_type": "markdown",
   "metadata": {},
   "source": [
    "this time only the `|0>` state was measured. So the qubit is back in the `|0>` state."
   ]
  },
  {
   "cell_type": "markdown",
   "metadata": {},
   "source": [
    "For the classcial bit there is no possiblity to switch it into a *mixed state* and go back to the orginal state. That give us a clue that in the quantum computer we gain a possibity to use more states using less resources to perform algoritms."
   ]
  },
  {
   "cell_type": "markdown",
   "metadata": {},
   "source": [
    "## Bit flip"
   ]
  },
  {
   "cell_type": "markdown",
   "metadata": {},
   "source": [
    "Before going further we will get to know one more gate to catch better the idea of qubits manipulation. The *Pauli-X gate* changes the state from `|0>` to `|1>`. Its counterpart in the classical computers is the NOT logic gate.\n",
    "\n",
    "$ X = {\\begin{bmatrix}0 & 1\\\\1 & 0\\end{bmatrix}} $,\n",
    "\n",
    "\n",
    "### Math\n",
    "\n",
    "$ X|0> = {\\begin{bmatrix}0 & 1\\\\1 & 0\\end{bmatrix}} {\\begin{bmatrix}1 \\\\ 0\\end{bmatrix}} = {\\begin{bmatrix}0 \\\\ 1 \\end{bmatrix}} = |1>$,\n"
   ]
  },
  {
   "cell_type": "markdown",
   "metadata": {},
   "source": [
    "### Numeric"
   ]
  },
  {
   "cell_type": "code",
   "execution_count": 45,
   "metadata": {},
   "outputs": [
    {
     "data": {
      "text/plain": [
       "array([[0.],\n",
       "       [1.]])"
      ]
     },
     "execution_count": 45,
     "metadata": {},
     "output_type": "execute_result"
    }
   ],
   "source": [
    "X = np.array([[0, 1],\n",
    "              [1, 0]])\n",
    "\n",
    "np.dot(X, Zero)"
   ]
  },
  {
   "cell_type": "markdown",
   "metadata": {},
   "source": [
    "### Quantum"
   ]
  },
  {
   "cell_type": "code",
   "execution_count": 46,
   "metadata": {},
   "outputs": [
    {
     "name": "stdout",
     "output_type": "stream",
     "text": [
      "         ┌───┐\n",
      "q3_0: |0>┤ X ├\n",
      "         └───┘\n"
     ]
    }
   ],
   "source": [
    "circ = QuantumCircuit(q1)\n",
    "circ.x(q1)\n",
    "print(circ)"
   ]
  },
  {
   "cell_type": "code",
   "execution_count": 47,
   "metadata": {},
   "outputs": [
    {
     "name": "stdout",
     "output_type": "stream",
     "text": [
      "{'1': 1}\n",
      "[0.+0.j 1.+0.j]\n"
     ]
    }
   ],
   "source": [
    "circ.add_register(c1)\n",
    "circ.measure(q1, c1)\n",
    "\n",
    "result = execute(circ, backend=backend_vec).result()\n",
    "print(result.get_counts())\n",
    "print(result.get_statevector())"
   ]
  },
  {
   "cell_type": "markdown",
   "metadata": {},
   "source": [
    "## Making the qubytes\n",
    "\n",
    "To store more information we can combine multiple qubits creating qubytes. It's the same what we do with bits. But, as you we will, the same size of qubyte can store lots of more information than a byte.\n",
    "\n",
    "Using two qubits we can build states like: `|00>`, `|10>`, `|0+>` etc. To do that we make a tensor product of two qubits.\n",
    "\n",
    "### Math\n",
    "\n",
    "$ |01> = |0> \\otimes |1> \n",
    "= {\\begin{bmatrix}1 \\\\ 0\\end{bmatrix}} \\otimes {\\begin{bmatrix}0 \\\\ 1\\end{bmatrix}} \n",
    "= {\\begin{bmatrix}1 \\\\ 0\\end{bmatrix}}  {\\begin{bmatrix}0 \\\\ 1\\end{bmatrix}}^{T}\n",
    "= {\\begin{bmatrix}1 \\\\ 0\\end{bmatrix}} {\\begin{bmatrix}0 & 1\\end{bmatrix}}\n",
    "= {\\begin{bmatrix}0\\\\ 1 \\\\ 0 \\\\ 0\\end{bmatrix}} \n",
    "$\n"
   ]
  },
  {
   "cell_type": "markdown",
   "metadata": {},
   "source": [
    "### Numeric"
   ]
  },
  {
   "cell_type": "code",
   "execution_count": 10,
   "metadata": {},
   "outputs": [
    {
     "data": {
      "text/plain": [
       "array([[0.],\n",
       "       [1.],\n",
       "       [0.],\n",
       "       [0.]])"
      ]
     },
     "execution_count": 10,
     "metadata": {},
     "output_type": "execute_result"
    }
   ],
   "source": [
    "One = np.array([[0.],\n",
    "                [1.]]) \n",
    "\n",
    "# Tensor product (Kronecker prodcut in numpy)\n",
    "np.kron(Zero, One)"
   ]
  },
  {
   "cell_type": "markdown",
   "metadata": {},
   "source": [
    "### Quantum"
   ]
  },
  {
   "cell_type": "code",
   "execution_count": 48,
   "metadata": {},
   "outputs": [
    {
     "name": "stdout",
     "output_type": "stream",
     "text": [
      "         ┌───┐\n",
      "q4_0: |0>┤ X ├\n",
      "         └───┘\n",
      "q4_1: |0>─────\n",
      "              \n"
     ]
    }
   ],
   "source": [
    "q2 = QuantumRegister(2) # |00>\n",
    "circ = QuantumCircuit(q2)\n",
    "circ.x(q2[0]) # bit filp on a first qubit (right to left - little endian)\n",
    "\n",
    "print(circ)"
   ]
  },
  {
   "cell_type": "code",
   "execution_count": 49,
   "metadata": {},
   "outputs": [
    {
     "name": "stdout",
     "output_type": "stream",
     "text": [
      "{'01': 1}\n",
      "[0.+0.j 1.+0.j 0.+0.j 0.+0.j]\n"
     ]
    }
   ],
   "source": [
    "# Add measurement & Run\n",
    "c2 = ClassicalRegister(2)\n",
    "circ.add_register(c2)\n",
    "circ.measure(q2, c2)\n",
    "result = execute(circ, backend=backend_vec).result()\n",
    "\n",
    "print(result.get_counts())\n",
    "print(result.get_statevector())"
   ]
  },
  {
   "cell_type": "markdown",
   "metadata": {},
   "source": [
    "For that purpose we can use a `initialize()`  function which will prepare the appropriate gates set. For example:"
   ]
  },
  {
   "cell_type": "code",
   "execution_count": 51,
   "metadata": {},
   "outputs": [
    {
     "name": "stdout",
     "output_type": "stream",
     "text": [
      "         ┌───┐┌────────────┐┌───┐┌────────────┐\n",
      "q4_0: |0>┤ X ├┤ Ry(1.5708) ├┤ X ├┤ Ry(1.5708) ├\n",
      "         └─┬─┘└────────────┘└─┬─┘└────────────┘\n",
      "q4_1: |0>──■──────────────────■────────────────\n",
      "                                               \n"
     ]
    }
   ],
   "source": [
    "circ = QuantumCircuit(q2)\n",
    "circ.initialize([0., 1, 0, 0.], [(q2, 0), (q2, 1)])\n",
    "\n",
    "print(circ)\n"
   ]
  },
  {
   "cell_type": "markdown",
   "metadata": {},
   "source": [
    "We can see that it used CNOT and Ry gates, but the effect is the same:"
   ]
  },
  {
   "cell_type": "code",
   "execution_count": 52,
   "metadata": {},
   "outputs": [
    {
     "name": "stdout",
     "output_type": "stream",
     "text": [
      "{'01': 1024}\n"
     ]
    }
   ],
   "source": [
    "c2 = ClassicalRegister(2)\n",
    "circ.add_register(c2)\n",
    "circ.measure(q2, c2)\n",
    "result = execute(circ, backend=backend).result()\n",
    "\n",
    "print(result.get_counts())"
   ]
  },
  {
   "cell_type": "markdown",
   "metadata": {},
   "source": [
    "The `initialize()` function implements a recursive initialization algorithm according to \"Synthesis of Quantum Logic Circuits\" Shende, Bullock, Markov https://arxiv.org/abs/quant-ph/0406176v5."
   ]
  },
  {
   "cell_type": "markdown",
   "metadata": {},
   "source": [
    "## Compressing bit strings in qubits using superposition effect\n",
    "\n",
    "In this section we will try to save bit string `1001` in the quantum chip, and read it back. In this case the advantage of using qubits instead of bits is not surprising, but it will be much easier to catch the concept.\n"
   ]
  },
  {
   "cell_type": "markdown",
   "metadata": {},
   "source": [
    "To store a bit string: `1001` in a classical computer we will need to use 4 bits.\n",
    "For the same purpose in a quantum computer it is enough to use only 3 qubits. To take advantage of the quantum computer advantage we need to use notation which will allow us to store multiple states in the qubyte. That's the thing that is impossible on classical computers. The way for that is to write down the bit string in the notation where firsts qubits describes the position (address) in a bit string, and the last one the value on this position. For our `1001` it will be:\n",
    "\n",
    "```\n",
    "   bs | aa v \n",
    "  ----|------- \n",
    "    1 | 00 1  # the first position  (00) holds 1\n",
    "    0 | 01 0  # the second position (01) holds 0\n",
    "    0 | 10 0\n",
    "    1 | 11 1   \n",
    "```\n",
    "\n",
    "First two qubits by `a` will be storing the address, and the third qubit `v` the value under this address. We will hold the information in quantum chip for every of the **four  address-value information in the same time**. That would be impossible using this notation and the bits because then in the same time we can address only one position of the bit string in the computer memory.\n",
    "Looking at the table above we see that we need three qubits (aav) to store information about four states (`|001>, |010>, |100>, |111>`) that describe the bit string. The listed states will be encoded in the quantum chip to with the same probability:\n",
    "\n",
    "$|bs> = \\alpha |001> + \\alpha |010> + \\alpha|100> + \\alpha|111>$\n",
    "\n",
    "The other states that does not occur (eg. `|000>`) gets the amplitude equals to 0 ($\\beta = 0$). We can write the full quantum state:\n",
    "\n",
    "$|bs> = \\beta |000> + \\alpha |001> + \\alpha |010> + \\beta |011> + \\alpha|100> + \\beta |101> + \\beta |110> + \\alpha|111>$\n",
    "\n",
    "as the $\\alpha$ needs to meet the normalization constraint in our case should be equal to $\\frac{1}{2}$.\n",
    "\n",
    "Summarizing, using the quantum gates we need to setup our system in that a way, that after the measurement it will return only the states `|001>, |010>, |100>, |111>`  with similar probability."
   ]
  },
  {
   "cell_type": "code",
   "execution_count": 53,
   "metadata": {},
   "outputs": [
    {
     "name": "stdout",
     "output_type": "stream",
     "text": [
      "                                     ┌───┐┌───┐┌────────────┐┌───┐┌───┐»\n",
      "q5_0: |0>────────────────────────────┤ X ├┤ X ├┤ Ry(1.5708) ├┤ X ├┤ X ├»\n",
      "                       ┌────────────┐└─┬─┘└─┬─┘└────────────┘└─┬─┘└─┬─┘»\n",
      "q5_1: |0>──────────────┤ Ry(1.5708) ├──┼────■──────────────────┼────■──»\n",
      "         ┌────────────┐└────────────┘  │                       │       »\n",
      "q5_2: |0>┤ Ry(1.5708) ├────────────────■───────────────────────■───────»\n",
      "         └────────────┘                                                »\n",
      " c8_0: 0 ══════════════════════════════════════════════════════════════»\n",
      "                                                                       »\n",
      " c8_1: 0 ══════════════════════════════════════════════════════════════»\n",
      "                                                                       »\n",
      " c8_2: 0 ══════════════════════════════════════════════════════════════»\n",
      "                                                                       »\n",
      "«      ┌────────────┐┌───┐┌───┐┌───┐┌───┐\n",
      "«q5_0: ┤ Ry(1.5708) ├┤ X ├┤ X ├┤ X ├┤ X ├\n",
      "«      └────────────┘└─┬─┘└─┬─┘└─┬─┘└─┬─┘\n",
      "«q5_1: ────────────────┼────■────┼────■──\n",
      "«                      │         │       \n",
      "«q5_2: ────────────────■─────────■───────\n",
      "«                                        \n",
      "«c8_0: ══════════════════════════════════\n",
      "«                                        \n",
      "«c8_1: ══════════════════════════════════\n",
      "«                                        \n",
      "«c8_2: ══════════════════════════════════\n",
      "«                                        \n"
     ]
    }
   ],
   "source": [
    "q3 = QuantumRegister(3)\n",
    "c3 = ClassicalRegister(3)\n",
    "circ = QuantumCircuit(q3, c3)\n",
    "\n",
    "alpha = .5\n",
    "beta = .0\n",
    "circ.initialize([beta, alpha, alpha, beta, alpha, beta, beta, alpha], q3)\n",
    "\n",
    "print(circ)"
   ]
  },
  {
   "cell_type": "markdown",
   "metadata": {},
   "source": [
    "Above we can see a composition of quantum gates that are required to setup up qubits to represent our bit string. To check if the sequence is really making our bit string we have to add measurement at the and of the circuit and run the quantum program (the quantum circuit):"
   ]
  },
  {
   "cell_type": "code",
   "execution_count": 54,
   "metadata": {},
   "outputs": [
    {
     "data": {
      "image/png": "[encoded data removed]",
      "text/plain": [
       "<Figure size 504x360 with 1 Axes>"
      ]
     },
     "execution_count": 54,
     "metadata": {},
     "output_type": "execute_result"
    }
   ],
   "source": [
    "# Run & plot\n",
    "circ.measure(q3, c3)\n",
    "job = execute(circ , backend=backend)\n",
    "st = job.result().get_counts()\n",
    "plot_histogram(st)\n"
   ]
  },
  {
   "cell_type": "markdown",
   "metadata": {},
   "source": [
    "Running the quantum circuit, that encodes a bit string, gives us as feedback information how many times the specific state was counted. Basing on this we can recalculate the probability, that is shown on the chart.\n",
    "\n",
    "Looking at the chart we see that it was measured that state `|001>` exists with probability around $0.2$. The lack of the `|000>` state means that it didn't occur. It makes us sure that on the position `00` in a bit string there should be `1`.\n",
    "\n",
    "In real life, imperfections happen. So you could use the probability to resolve ambiguities: if you find both `000` and `001` in your results, accept the most probable and reject the other as noise."
   ]
  },
  {
   "cell_type": "markdown",
   "metadata": {},
   "source": [
    "## Inverting the circut\n",
    "\n",
    "We cen use `inverse()` function to revert the order of the gates in quantum circuit:"
   ]
  },
  {
   "cell_type": "code",
   "execution_count": 17,
   "metadata": {},
   "outputs": [
    {
     "name": "stdout",
     "output_type": "stream",
     "text": [
      "         ┌───┐┌───┐┌───┐┌───┐┌─────────────┐┌───┐┌───┐┌─────────────┐┌───┐»\n",
      "q2_0: |0>┤ X ├┤ X ├┤ X ├┤ X ├┤ Ry(-1.5708) ├┤ X ├┤ X ├┤ Ry(-1.5708) ├┤ X ├»\n",
      "         └─┬─┘└─┬─┘└─┬─┘└─┬─┘└─────────────┘└─┬─┘└─┬─┘└─────────────┘└─┬─┘»\n",
      "q2_1: |0>──■────┼────■────┼───────────────────■────┼───────────────────■──»\n",
      "                │         │                        │                      »\n",
      "q2_2: |0>───────■─────────■────────────────────────■──────────────────────»\n",
      "                                                                          »\n",
      " c3_0: 0 ═════════════════════════════════════════════════════════════════»\n",
      "                                                                          »\n",
      " c3_1: 0 ═════════════════════════════════════════════════════════════════»\n",
      "                                                                          »\n",
      " c3_2: 0 ═════════════════════════════════════════════════════════════════»\n",
      "                                                                          »\n",
      "«                     ┌───┐               \n",
      "«q2_0: ───────────────┤ X ├───────────────\n",
      "«      ┌─────────────┐└─┬─┘               \n",
      "«q2_1: ┤ Ry(-1.5708) ├──┼─────────────────\n",
      "«      └─────────────┘  │  ┌─────────────┐\n",
      "«q2_2: ─────────────────■──┤ Ry(-1.5708) ├\n",
      "«                          └─────────────┘\n",
      "«c3_0: ═══════════════════════════════════\n",
      "«                                         \n",
      "«c3_1: ═══════════════════════════════════\n",
      "«                                         \n",
      "«c3_2: ═══════════════════════════════════\n",
      "«                                         \n"
     ]
    }
   ],
   "source": [
    "circ_inv = QuantumCircuit(q3, c3)\n",
    "circ_inv.initialize([0, .5, .5, .0, .5, .0, .0, .5], q3).inverse()\n",
    "print(circ_inv)\n"
   ]
  },
  {
   "cell_type": "code",
   "execution_count": 18,
   "metadata": {},
   "outputs": [
    {
     "data": {
      "image/png": "[encoded data removed]",
      "text/plain": [
       "<Figure size 504x360 with 1 Axes>"
      ]
     },
     "execution_count": 18,
     "metadata": {},
     "output_type": "execute_result"
    }
   ],
   "source": [
    "circ_inv.measure(q3, c3)\n",
    "job = execute(circ_inv , backend=backend)\n",
    "st = job.result().get_counts()\n",
    "plot_histogram(st)"
   ]
  },
  {
   "cell_type": "markdown",
   "metadata": {},
   "source": [
    "If we run the inverted circut, we can find that we will not end up with inverted bitstring! Analizing the result states we can see that we have get the bitstring `1111`.\n",
    "\n",
    "Let's see what will happen if we will connect our circuts:"
   ]
  },
  {
   "cell_type": "code",
   "execution_count": 19,
   "metadata": {},
   "outputs": [
    {
     "data": {
      "image/png": "[encoded data removed]",
      "text/plain": [
       "<Figure size 504x360 with 1 Axes>"
      ]
     },
     "execution_count": 19,
     "metadata": {},
     "output_type": "execute_result"
    }
   ],
   "source": [
    "circ = QuantumCircuit(q3, c3)\n",
    "circ.initialize([0, .5, .5, .0, .5, .0, .0, .5], q3)\n",
    "circ.barrier()\n",
    "\n",
    "circ_inv = QuantumCircuit(q3, c3)\n",
    "circ_inv.initialize([0, .5, .5, .0, .5, .0, .0, .5], q3).inverse()\n",
    "\n",
    "circ_sum = circ + circ_inv\n",
    "\n",
    "# Run and plot\n",
    "circ_sum.measure(q3, c3)\n",
    "job = execute(circ_sum , backend=backend)\n",
    "st = job.result().get_counts()\n",
    "plot_histogram(st)"
   ]
  },
  {
   "cell_type": "markdown",
   "metadata": {},
   "source": [
    "As we can see we get back to the initial state of our qubits! That confirms that our quanutum gates works perefectly. If we use a quantum circut to change the state form the initial state to the desiered superposition state, and then go with backward order of the operation w will finish with the initial state.\n",
    "\n",
    "Running inverted circut on the initial state didn't give us an inverted bitstring, because it just a different program, that we run on a initial state (`0000`). If we realy would like to invert the bitstirng, flip all it's bits, then we should use a Pauli X gate on all of its qubits:"
   ]
  },
  {
   "cell_type": "code",
   "execution_count": 20,
   "metadata": {},
   "outputs": [
    {
     "data": {
      "image/png": "[encoded data removed]",
      "text/plain": [
       "<Figure size 504x360 with 1 Axes>"
      ]
     },
     "execution_count": 20,
     "metadata": {},
     "output_type": "execute_result"
    }
   ],
   "source": [
    "circ = QuantumCircuit(q3, c3)\n",
    "circ.initialize([0, .5, .5, .0, .5, .0, .0, .5], q3)\n",
    "circ.x(q3)\n",
    "\n",
    "# Run and plot\n",
    "circ.measure(q3, c3)\n",
    "job = execute(circ , backend=backend)\n",
    "st = job.result().get_counts()\n",
    "plot_histogram(st)"
   ]
  },
  {
   "cell_type": "markdown",
   "metadata": {},
   "source": [
    "Decoding the bits from the probabilites:\n",
    "\n",
    "```\n",
    "   bs | aa v \n",
    "  ----|------- \n",
    "    0 | 00 0 \n",
    "    1 | 01 1\n",
    "    1 | 10 1\n",
    "    0 | 11 0   \n",
    "```\n",
    "we end up, as exptected, with `0110`."
   ]
  },
  {
   "cell_type": "markdown",
   "metadata": {},
   "source": [
    "### Compression effectivity"
   ]
  },
  {
   "cell_type": "markdown",
   "metadata": {},
   "source": [
    "The example for 4 length bitstring is good for the step by step explantion, but doesn't show the real power of quantum computing. Making the bitstring longer shows clearer the advantange of superposition effect:"
   ]
  },
  {
   "cell_type": "code",
   "execution_count": 21,
   "metadata": {},
   "outputs": [
    {
     "name": "stdout",
     "output_type": "stream",
     "text": [
      "qubits 3, \t bits: 4\n",
      "qubits 4, \t bits: 8\n",
      "qubits 5, \t bits: 16\n",
      "qubits 6, \t bits: 32\n",
      "qubits 9, \t bits: 256\n",
      "qubits 11, \t bits: 1024\n",
      "qubits 21, \t bits: 1048576\n",
      "qubits 31, \t bits: 1073741824\n"
     ]
    }
   ],
   "source": [
    "for i in [4, 8, 16, 32, 256, 1024, 1024*1024, 1024*1024*1024]:\n",
    "    n = math.ceil(math.log2(i)) + 1\n",
    "    print(\"qubits %s, \\t bits: %s\" % (n, i))\n"
   ]
  },
  {
   "cell_type": "markdown",
   "metadata": {},
   "source": [
    "## Comparing bitstrings"
   ]
  },
  {
   "cell_type": "markdown",
   "metadata": {},
   "source": [
    "As it was said above if we invert the circuit then we will go back to the initial state. But if we will use another bit string inverted then we will recieve the initial state only with some probability. We can use this fact to compare similarities of bitstrings. The higest probalbity to get to the initial state the more similar bitstring are."
   ]
  },
  {
   "cell_type": "code",
   "execution_count": 37,
   "metadata": {},
   "outputs": [
    {
     "name": "stdout",
     "output_type": "stream",
     "text": [
      "Similarity (probability) with 1001:\n",
      "1000: 0.5478515625\n",
      "0110: 0\n",
      "1101: 0.5478515625\n",
      "0011: 0.24609375\n"
     ]
    }
   ],
   "source": [
    "circ = QuantumCircuit(q3, c3)\n",
    "circ.initialize([0, .5, .5, .0, .5, .0, .0, .5], q3)\n",
    "circ.barrier()\n",
    "\n",
    "bs = {'1000': [.0, .5, .5, .0, .5, .0, .5, .0],\n",
    "      '0110': [.5, .0, .0, .5, .0, .5, .5, .0],\n",
    "      '1101': [.0, .5, .0, .5, .5, .0, .0, .5],\n",
    "      '0011': [.5, .0, .5, .0, .0, .5, .0, .5]}\n",
    "\n",
    "print(\"Similarity (probability) with 1001:\")\n",
    "for bitstr, ampl in bs.items():\n",
    "    \n",
    "    circ_inv = QuantumCircuit(q3, c3)\n",
    "    circ_inv.initialize(ampl, q3).inverse()\n",
    "    circ_sum = circ + circ_inv\n",
    "    circ_sum.measure(q3, c3)\n",
    "    job = execute(circ_sum , backend=backend, shots=1024)\n",
    "    st = job.result().get_counts()\n",
    "    p = st['000'] / 1024 if '000' in st.keys() else 0\n",
    "    print(\"%s: %s\" % (bitstr, p))"
   ]
  },
  {
   "cell_type": "markdown",
   "metadata": {},
   "source": [
    "As we can see if all bits are different then the similairty is 0, it there are three bits in common then the probability is 0.5, if only two bits are right then we've got 0.2."
   ]
  },
  {
   "cell_type": "markdown",
   "metadata": {},
   "source": [
    "For better basics explanation you should go through: https://qiskit.org/documentation/terra/overview.html.\n"
   ]
  },
  {
   "cell_type": "markdown",
   "metadata": {},
   "source": [
    "## Aknowlegments\n",
    "\n",
    "Rudy Raymond, James Wootton\n",
    "\n",
    "This tutorial bases heavily upon \"Comparing Strings with Quantum Superpositon\" tutorial by Rudy Raymond. It also repeats the basics that can be found in the other resuorce and in the quiskit documentation (see the Reffernces section) to make it standalone and comperhensive introduction to the tutorial topic."
   ]
  },
  {
   "cell_type": "markdown",
   "metadata": {},
   "source": [
    "## Refferences\n",
    "\n",
    "Now you can go further to interesting tutorial .... for cmop..\n",
    "\n"
   ]
  }
 ],
 "metadata": {
  "kernelspec": {
   "display_name": "Python 3",
   "language": "python",
   "name": "python3"
  },
  "language_info": {
   "codemirror_mode": {
    "name": "ipython",
    "version": 3
   },
   "file_extension": ".py",
   "mimetype": "text/x-python",
   "name": "python",
   "nbconvert_exporter": "python",
   "pygments_lexer": "ipython3",
   "version": "3.6.1"
  }
 },
 "nbformat": 4,
 "nbformat_minor": 2
}
