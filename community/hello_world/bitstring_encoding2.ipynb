{
 "cells": [
  {
   "cell_type": "markdown",
   "metadata": {},
   "source": [
    "# Compressing bit strings in qubits using superposition effect"
   ]
  },
  {
   "cell_type": "markdown",
   "metadata": {},
   "source": [
    "### Contributors\n",
    "Łukasz Herok\n",
    "\n"
   ]
  },
  {
   "cell_type": "markdown",
   "metadata": {},
   "source": [
    "## Motivation\n",
    "\n",
    "Tha aim of this tutorial is to show you how quantum computers can store information encoded in a bit string using  significantly fewer qubits than classical bits. It is possible thanks to **superposition effect**. I will try explain it through the example.\n",
    "\n",
    "This tutorial is designed to be an independet teaching material, so in the firsts sections  it repeats the basics that can be found in the other resuorces to make it easier to understand the final concept. If you are familiar with basics quantum computing rules you can just skip to the [Compressing bit strings in qubits using superposition effect](#compressing) section.\n"
   ]
  },
  {
   "cell_type": "code",
   "execution_count": 1,
   "metadata": {},
   "outputs": [],
   "source": [
    "# Import of the modules and initialization of variables used in this tutorial\n",
    "import numpy as np\n",
    "import qiskit\n",
    "from qiskit import BasicAer as Aer\n",
    "from qiskit import QuantumRegister, ClassicalRegister, QuantumCircuit\n",
    "from qiskit import execute\n",
    "import math\n",
    "from qiskit.tools.visualization import plot_histogram\n",
    "\n",
    "# qiskit.IBMQ.load_accounts()\n",
    "backend = Aer.get_backend('qasm_simulator')\n",
    "backend_vec= Aer.get_backend('statevector_simulator')"
   ]
  },
  {
   "cell_type": "markdown",
   "metadata": {},
   "source": [
    "## Bit vs Qubit\n",
    "\n",
    "The computer bit can store and manipulate the two states `0` and `1`. This two states maps to the two qubit  basis (orthonormal) states:\n",
    "\n",
    "\n",
    "$ |0> = {\\begin{bmatrix}1 \\\\ 0\\end{bmatrix}} $,\n",
    "\n",
    "$ |1> = {\\begin{bmatrix}0 \\\\ 1\\end{bmatrix}} $.\n",
    "\n",
    "In fact the qubit state is represented by the linear *superposition* of these two basics states\n",
    "\n",
    "$ |q> = \\alpha |0> + \\beta |1> $\n",
    "so we can write\n",
    "$ |q> = {\\begin{bmatrix}\\alpha \\\\ 0\\end{bmatrix}} +  {\\begin{bmatrix}0 \\\\ \\beta \\end{bmatrix}} =  {\\begin{bmatrix} \\alpha \\\\ \\beta \\end{bmatrix}} $. \n",
    "\n",
    "The $ \\alpha $ and $ \\beta $ are the probability amplitudes, and are the complex numbers. The formula $|\\alpha|^2$ tells us about the probabilty that the qubit is in state `|0>`. So these coefficients have to meet the normalization requirement $|\\alpha|^2 + |\\beta|^2  = 1$ to have the overall probability equals to one.\n",
    "\n",
    "So, as we can see the a qubit can exists in a *superposition* of states. By the measurement we can only check the probability of the each state the qubit can take. For the quantum computing, beside the basis states `|0>`, `|1>`, we often encounter the superposition states marked by `|+>`, `|->`. In these states there is is equal probability ($|\\alpha|^2$ = 0.5 and $|\\beta|^2 = 0.5 $) that the qubit is in one of the basis states `|0>` or `|1>`. The other possible states, with different value of amplitude coefficients, are generally called the *Mixed states*.\n",
    "We can switch a qubit into the superposition state from `|0>` to `|+>` and back to `|0>` using the *Hadamard gate*. There is no similar operation available for bits as they operates only over two states `0,1`."
   ]
  },
  {
   "cell_type": "markdown",
   "metadata": {},
   "source": [
    "### Math\n",
    "The Hadamard gate is reprezented by the matrix: \n",
    "\n",
    "$H =  \\frac{1}{\\sqrt{2}} {\\begin{bmatrix}1 & 1\\\\1 & -1\\end{bmatrix}} $.\n",
    "\n",
    "To create a superposition state from the `|0>`, we need to multiply the matrices:\n",
    "\n",
    "$ H|0> \n",
    "= \\frac{1}{\\sqrt{2}} {\\begin{bmatrix}1 & 1\\\\1 & -1\\end{bmatrix}} {\\begin{bmatrix}1 \\\\0\\end{bmatrix}} \n",
    "= \\frac{1}{\\sqrt{2}} {\\begin{bmatrix}1\\cdot1 + 1\\cdot0 \\\\ 1\\cdot1 -1\\cdot0\\end{bmatrix}}\n",
    "=  {\\begin{bmatrix}0,7071 \\\\ 0,7071\\end{bmatrix}}\n",
    "= |+>\n",
    "$,\n",
    "\n",
    "so $\\alpha = 0.7071$, and $\\beta = 0.7071$. Making square of these we can get $0.5$ probability that the qubit is in state `|0>` and $0.5$ it is in state `|1>`.\n",
    "\n",
    "We can of course go back to the `|0>` state using the Hadamard gate again:\n",
    "\n",
    "$ H|+> \n",
    "= \\frac{1}{\\sqrt{2}} {\\begin{bmatrix}1 & 1\\\\1 & -1\\end{bmatrix}} {\\begin{bmatrix}\\frac{1}{\\sqrt{2}}  \\\\\\frac{1}{\\sqrt{2}} \\end{bmatrix}} \n",
    "= {\\begin{bmatrix}1 \\\\ 0\\end{bmatrix}}\n",
    "= |0>\n",
    "$\n"
   ]
  },
  {
   "cell_type": "markdown",
   "metadata": {},
   "source": [
    "### Numeric"
   ]
  },
  {
   "cell_type": "code",
   "execution_count": 2,
   "metadata": {},
   "outputs": [
    {
     "name": "stdout",
     "output_type": "stream",
     "text": [
      "Initial state |0> \n",
      " [[1.]\n",
      " [0.]] \n",
      "\n",
      " H|0> = |+> \n",
      " [[0.70710678]\n",
      " [0.70710678]]\n",
      "\n",
      " H|+> = |0> \n",
      " [[1.]\n",
      " [0.]]\n"
     ]
    }
   ],
   "source": [
    "# |0>\n",
    "Zero = np.array([[1.],\n",
    "                 [0.]]) \n",
    "\n",
    "H = 1./np.sqrt(2) * np.array([[1, 1],\n",
    "                              [1, -1]])\n",
    "\n",
    "print(\"Initial state |0> \\n %s \" % Zero)\n",
    "\n",
    "Sup = np.dot(H, Zero)\n",
    "print(\"\\n H|0> = |+> \\n %s\" % Sup)\n",
    "\n",
    "Back = np.dot(H, Sup)\n",
    "print(\"\\n H|+> = |0> \\n %s\" % Back)\n"
   ]
  },
  {
   "cell_type": "markdown",
   "metadata": {},
   "source": [
    "### Quantum"
   ]
  },
  {
   "cell_type": "code",
   "execution_count": 3,
   "metadata": {
    "scrolled": true
   },
   "outputs": [
    {
     "name": "stdout",
     "output_type": "stream",
     "text": [
      "         ┌───┐\n",
      "q0_0: |0>┤ H ├\n",
      "         └───┘\n"
     ]
    }
   ],
   "source": [
    "q1 = QuantumRegister(1) # Qubit in the |0> state.\n",
    "circ = QuantumCircuit(q1) # Circuit represents a quantum program.\n",
    "\n",
    "circ.h(q1) # H|0>\n",
    "\n",
    "print(circ)"
   ]
  },
  {
   "cell_type": "code",
   "execution_count": 4,
   "metadata": {},
   "outputs": [
    {
     "name": "stdout",
     "output_type": "stream",
     "text": [
      "{'1': 517, '0': 507}\n"
     ]
    }
   ],
   "source": [
    "# To get final results from the qubit we need a classical register to store measurements\n",
    "c1 = ClassicalRegister(1) \n",
    "circ.add_register(c1)\n",
    "circ.measure(q1, c1)\n",
    "\n",
    "result = execute(circ, backend=backend, shots=1024).result()\n",
    "print(result.get_counts())"
   ]
  },
  {
   "cell_type": "markdown",
   "metadata": {},
   "source": [
    "Analyzing the result of quantum program, we can see how many times the state `|1>` and `|0>` was measured. We can see that both states were measured almost the same number of times.\n",
    "\n",
    "Let's check if using two H gated will bring us to the initial state:"
   ]
  },
  {
   "cell_type": "code",
   "execution_count": 5,
   "metadata": {},
   "outputs": [
    {
     "name": "stdout",
     "output_type": "stream",
     "text": [
      "         ┌───┐┌───┐\n",
      "q0_0: |0>┤ H ├┤ H ├\n",
      "         └───┘└───┘\n"
     ]
    }
   ],
   "source": [
    "circ = QuantumCircuit(q1)\n",
    "\n",
    "circ.h(q1) # H|0>\n",
    "circ.h(q1) # H|+>\n",
    "\n",
    "print(circ)"
   ]
  },
  {
   "cell_type": "code",
   "execution_count": 6,
   "metadata": {},
   "outputs": [
    {
     "name": "stdout",
     "output_type": "stream",
     "text": [
      "{'0': 1024}\n"
     ]
    }
   ],
   "source": [
    "circ.add_register(c1)\n",
    "circ.measure(q1, c1)\n",
    "\n",
    "result = execute(circ, backend=backend, shots=1024).result()\n",
    "print(result.get_counts())"
   ]
  },
  {
   "cell_type": "markdown",
   "metadata": {},
   "source": [
    "this time only the `|0>` state was measured. So the qubit is back in the `|0>` state."
   ]
  },
  {
   "cell_type": "markdown",
   "metadata": {},
   "source": [
    "For the classcial bit there is no possiblity to switch it into a *mixed state* and go back to the orginal state. That give us a clue that in the quantum computer we gain a possibity to use more states using less resources to perform algoritms."
   ]
  },
  {
   "cell_type": "markdown",
   "metadata": {},
   "source": [
    "## Bit flip"
   ]
  },
  {
   "cell_type": "markdown",
   "metadata": {},
   "source": [
    "Before going further we will get to know one more gate to catch better the idea of qubits manipulation. The *Pauli-X gate* changes the state from `|0>` to `|1>`. Its counterpart in the classical computers is the NOT logic gate.\n",
    "\n",
    "$ X = {\\begin{bmatrix}0 & 1\\\\1 & 0\\end{bmatrix}} $,\n",
    "\n",
    "\n",
    "### Math\n",
    "\n",
    "$ X|0> = {\\begin{bmatrix}0 & 1\\\\1 & 0\\end{bmatrix}} {\\begin{bmatrix}1 \\\\ 0\\end{bmatrix}} = {\\begin{bmatrix}0 \\\\ 1 \\end{bmatrix}} = |1>$,\n"
   ]
  },
  {
   "cell_type": "markdown",
   "metadata": {},
   "source": [
    "### Numeric"
   ]
  },
  {
   "cell_type": "code",
   "execution_count": 7,
   "metadata": {},
   "outputs": [
    {
     "data": {
      "text/plain": [
       "array([[0.],\n",
       "       [1.]])"
      ]
     },
     "execution_count": 7,
     "metadata": {},
     "output_type": "execute_result"
    }
   ],
   "source": [
    "X = np.array([[0, 1],\n",
    "              [1, 0]])\n",
    "\n",
    "np.dot(X, Zero)"
   ]
  },
  {
   "cell_type": "markdown",
   "metadata": {},
   "source": [
    "### Quantum"
   ]
  },
  {
   "cell_type": "code",
   "execution_count": 8,
   "metadata": {},
   "outputs": [
    {
     "name": "stdout",
     "output_type": "stream",
     "text": [
      "         ┌───┐\n",
      "q0_0: |0>┤ X ├\n",
      "         └───┘\n"
     ]
    }
   ],
   "source": [
    "circ = QuantumCircuit(q1)\n",
    "circ.x(q1)\n",
    "print(circ)"
   ]
  },
  {
   "cell_type": "code",
   "execution_count": 9,
   "metadata": {},
   "outputs": [
    {
     "name": "stdout",
     "output_type": "stream",
     "text": [
      "{'1': 1}\n",
      "[0.+0.j 1.+0.j]\n"
     ]
    }
   ],
   "source": [
    "circ.add_register(c1)\n",
    "circ.measure(q1, c1)\n",
    "\n",
    "result = execute(circ, backend=backend_vec).result()\n",
    "print(result.get_counts())\n",
    "print(result.get_statevector())"
   ]
  },
  {
   "cell_type": "markdown",
   "metadata": {},
   "source": [
    "## Making the qubytes\n",
    "\n",
    "To store more information we can combine multiple qubits creating qubytes. It's the same what we do with bits. But, as you we will, the same size of qubyte can store lots of more information than a byte.\n",
    "\n",
    "Using two qubits we can build states like: `|00>`, `|10>`, `|0+>` etc. To do that we make a tensor product of two qubits.\n",
    "\n",
    "### Math\n",
    "\n",
    "$ |01> = |0> \\otimes |1> \n",
    "= {\\begin{bmatrix}1 \\\\ 0\\end{bmatrix}} \\otimes {\\begin{bmatrix}0 \\\\ 1\\end{bmatrix}} \n",
    "= {\\begin{bmatrix}1 \\\\ 0\\end{bmatrix}}  {\\begin{bmatrix}0 \\\\ 1\\end{bmatrix}}^{T}\n",
    "= {\\begin{bmatrix}1 \\\\ 0\\end{bmatrix}} {\\begin{bmatrix}0 & 1\\end{bmatrix}}\n",
    "= {\\begin{bmatrix}0\\\\ 1 \\\\ 0 \\\\ 0\\end{bmatrix}} \n",
    "$\n"
   ]
  },
  {
   "cell_type": "markdown",
   "metadata": {},
   "source": [
    "### Numeric"
   ]
  },
  {
   "cell_type": "code",
   "execution_count": 10,
   "metadata": {},
   "outputs": [
    {
     "data": {
      "text/plain": [
       "array([[0.],\n",
       "       [1.],\n",
       "       [0.],\n",
       "       [0.]])"
      ]
     },
     "execution_count": 10,
     "metadata": {},
     "output_type": "execute_result"
    }
   ],
   "source": [
    "One = np.array([[0.],\n",
    "                [1.]]) \n",
    "\n",
    "# Tensor product (Kronecker prodcut in numpy)\n",
    "np.kron(Zero, One)"
   ]
  },
  {
   "cell_type": "markdown",
   "metadata": {},
   "source": [
    "### Quantum"
   ]
  },
  {
   "cell_type": "code",
   "execution_count": 11,
   "metadata": {},
   "outputs": [
    {
     "name": "stdout",
     "output_type": "stream",
     "text": [
      "         ┌───┐\n",
      "q1_0: |0>┤ X ├\n",
      "         └───┘\n",
      "q1_1: |0>─────\n",
      "              \n"
     ]
    }
   ],
   "source": [
    "q2 = QuantumRegister(2) # |00>\n",
    "circ = QuantumCircuit(q2)\n",
    "circ.x(q2[0]) # bit filp on a first qubit (right to left - little endian)\n",
    "\n",
    "print(circ)"
   ]
  },
  {
   "cell_type": "code",
   "execution_count": 12,
   "metadata": {},
   "outputs": [
    {
     "name": "stdout",
     "output_type": "stream",
     "text": [
      "{'01': 1}\n",
      "[0.+0.j 1.+0.j 0.+0.j 0.+0.j]\n"
     ]
    }
   ],
   "source": [
    "# Add measurement & Run\n",
    "c2 = ClassicalRegister(2)\n",
    "circ.add_register(c2)\n",
    "circ.measure(q2, c2)\n",
    "result = execute(circ, backend=backend_vec).result()\n",
    "\n",
    "print(result.get_counts())\n",
    "print(result.get_statevector())"
   ]
  },
  {
   "cell_type": "markdown",
   "metadata": {},
   "source": [
    "Initializing more complex states could be tedious task, so for that purpose we can also use a `initialize()`  function which will prepare the appropriate gates set for us:"
   ]
  },
  {
   "cell_type": "code",
   "execution_count": 13,
   "metadata": {},
   "outputs": [
    {
     "name": "stdout",
     "output_type": "stream",
     "text": [
      "         ┌───┐┌────────────┐┌───┐┌────────────┐\n",
      "q1_0: |0>┤ X ├┤ Ry(1.5708) ├┤ X ├┤ Ry(1.5708) ├\n",
      "         └─┬─┘└────────────┘└─┬─┘└────────────┘\n",
      "q1_1: |0>──■──────────────────■────────────────\n",
      "                                               \n"
     ]
    }
   ],
   "source": [
    "circ = QuantumCircuit(q2)\n",
    "circ.initialize([0., 1, 0, 0.], [(q2, 0), (q2, 1)])\n",
    "\n",
    "print(circ)\n"
   ]
  },
  {
   "cell_type": "markdown",
   "metadata": {},
   "source": [
    "We can see that it used CNOT and Ry gates, but the effect is the same:"
   ]
  },
  {
   "cell_type": "code",
   "execution_count": 14,
   "metadata": {},
   "outputs": [
    {
     "name": "stdout",
     "output_type": "stream",
     "text": [
      "{'01': 1024}\n"
     ]
    }
   ],
   "source": [
    "c2 = ClassicalRegister(2)\n",
    "circ.add_register(c2)\n",
    "circ.measure(q2, c2)\n",
    "result = execute(circ, backend=backend).result()\n",
    "\n",
    "print(result.get_counts())"
   ]
  },
  {
   "cell_type": "markdown",
   "metadata": {},
   "source": [
    "The `initialize()` function implements a recursive initialization algorithm according to [\"Synthesis of Quantum Logic Circuits\" Shende, Bullock, Markov](https://arxiv.org/abs/quant-ph/0406176v5)."
   ]
  },
  {
   "cell_type": "markdown",
   "metadata": {},
   "source": [
    "<a id='compressing'></a>\n",
    "## Compressing bit strings in qubits using superposition effect\n",
    "\n",
    "In this section we will try to save bit string `1001` in the quantum chip, and read it back. In this case the advantage of using qubits instead of bits is not surprising, but working on the short string will be much easier to catch the concept.\n"
   ]
  },
  {
   "cell_type": "markdown",
   "metadata": {},
   "source": [
    "To store a bit string: `1001` in a classical computer we will need to use 4 bits.\n",
    "For the same purpose in a quantum computer it is enough to use only 3 qubits. To take advantage of the quantum computer advantage we need to use notation which will allow us to store multiple states in the qubyte. That's the thing that is impossible on classical computers. The way for that is to write down the bit string in the notation where firsts qubits describes the position (address) in a bit string, and the last one the value on this position. For our `1001` it will be:\n",
    "\n",
    "```\n",
    "   bs | aa v \n",
    "  ----|------- \n",
    "    1 | 00 1  # the first position  (00) holds 1\n",
    "    0 | 01 0  # the second position (01) holds 0\n",
    "    0 | 10 0\n",
    "    1 | 11 1   \n",
    "```\n",
    "\n",
    "First two qubits `aa` will be storing the address, and the third qubit `v` the value under this address. We will hold the information in quantum chip for every of the **four  address-value information in the same time**. That would be impossible using this notation and the bits because then in the same time we can address only one position of the bit string in the computer's memory.\n",
    "Looking at the table above we see that we need three qubits (`aav`) to store information about four states (`|001>, |010>, |100>, |111>`) that describe the bit string. The listed states will be encoded in the quantum chip with the same probability:\n",
    "\n",
    "$|bs> = \\alpha |001> + \\alpha |010> + \\alpha|100> + \\alpha|111>$\n",
    "\n",
    "The other states that does not occur (eg. `|000>`) gets the amplitude equals to 0 ($\\beta = 0$). We can write the full quantum state:\n",
    "\n",
    "$|bs> = \\beta |000> + \\alpha |001> + \\alpha |010> + \\beta |011> + \\alpha|100> + \\beta |101> + \\beta |110> + \\alpha|111>$\n",
    "\n",
    "as the $\\alpha$ needs to meet the normalization constraint in our case should be equal to $\\frac{1}{2}$.\n",
    "\n",
    "Summarizing, using the quantum gates we need to setup our system in that a way, that after the measurement it will return only the states `|001>, |010>, |100>, |111>`  with similar probability."
   ]
  },
  {
   "cell_type": "code",
   "execution_count": 15,
   "metadata": {},
   "outputs": [
    {
     "name": "stdout",
     "output_type": "stream",
     "text": [
      "                                     ┌───┐┌───┐┌────────────┐┌───┐┌───┐»\n",
      "q2_0: |0>────────────────────────────┤ X ├┤ X ├┤ Ry(1.5708) ├┤ X ├┤ X ├»\n",
      "                       ┌────────────┐└─┬─┘└─┬─┘└────────────┘└─┬─┘└─┬─┘»\n",
      "q2_1: |0>──────────────┤ Ry(1.5708) ├──┼────■──────────────────┼────■──»\n",
      "         ┌────────────┐└────────────┘  │                       │       »\n",
      "q2_2: |0>┤ Ry(1.5708) ├────────────────■───────────────────────■───────»\n",
      "         └────────────┘                                                »\n",
      " c3_0: 0 ══════════════════════════════════════════════════════════════»\n",
      "                                                                       »\n",
      " c3_1: 0 ══════════════════════════════════════════════════════════════»\n",
      "                                                                       »\n",
      " c3_2: 0 ══════════════════════════════════════════════════════════════»\n",
      "                                                                       »\n",
      "«      ┌────────────┐┌───┐┌───┐┌───┐┌───┐\n",
      "«q2_0: ┤ Ry(1.5708) ├┤ X ├┤ X ├┤ X ├┤ X ├\n",
      "«      └────────────┘└─┬─┘└─┬─┘└─┬─┘└─┬─┘\n",
      "«q2_1: ────────────────┼────■────┼────■──\n",
      "«                      │         │       \n",
      "«q2_2: ────────────────■─────────■───────\n",
      "«                                        \n",
      "«c3_0: ══════════════════════════════════\n",
      "«                                        \n",
      "«c3_1: ══════════════════════════════════\n",
      "«                                        \n",
      "«c3_2: ══════════════════════════════════\n",
      "«                                        \n"
     ]
    }
   ],
   "source": [
    "q3 = QuantumRegister(3)\n",
    "c3 = ClassicalRegister(3)\n",
    "circ = QuantumCircuit(q3, c3)\n",
    "\n",
    "alpha = .5\n",
    "beta = .0\n",
    "circ.initialize([beta, alpha, alpha, beta, alpha, beta, beta, alpha], q3)\n",
    "\n",
    "print(circ)"
   ]
  },
  {
   "cell_type": "markdown",
   "metadata": {},
   "source": [
    "Above we can see a composition of quantum gates that are required to setup up qubits to represent our bit string. To check if the sequence is really making our bit string we have to add measurement at the and of the circuit and run the quantum program (the quantum circuit):"
   ]
  },
  {
   "cell_type": "code",
   "execution_count": 16,
   "metadata": {},
   "outputs": [
    {
     "data": {
      "image/png": "[encoded data removed]",
      "text/plain": [
       "<Figure size 504x360 with 1 Axes>"
      ]
     },
     "execution_count": 16,
     "metadata": {},
     "output_type": "execute_result"
    }
   ],
   "source": [
    "# Run & plot\n",
    "circ.measure(q3, c3)\n",
    "job = execute(circ , backend=backend)\n",
    "st = job.result().get_counts()\n",
    "plot_histogram(st)\n"
   ]
  },
  {
   "cell_type": "markdown",
   "metadata": {},
   "source": [
    "Running the quantum circuit, that encodes a bit string, gives us as feedback information how many times the specific state was counted. Basing on this we can recalculate the probability, that is shown on the chart.\n",
    "\n",
    "Looking at the chart we see that it was measured that state `|001>` exists with probability around $0.2$. The lack of the `|000>` state means that it didn't occur. It makes us sure that on the position `00` in a bit string there should be `1`.\n",
    "\n",
    "In real life, imperfections happen. So you could use the probability to resolve ambiguities: if you find both `000` and `001` in your results, accept the most probable and reject the other as noise."
   ]
  },
  {
   "cell_type": "markdown",
   "metadata": {},
   "source": [
    "### Compression effectivity"
   ]
  },
  {
   "cell_type": "markdown",
   "metadata": {},
   "source": [
    "The example for four-length bit string is good for the step by step explanation but doesn't show the real power of quantum computing. Making the bit string longer shows clearer the advantange of superposition effect:"
   ]
  },
  {
   "cell_type": "code",
   "execution_count": 17,
   "metadata": {},
   "outputs": [
    {
     "name": "stdout",
     "output_type": "stream",
     "text": [
      "qubits 3, \t bits: 4\n",
      "qubits 4, \t bits: 8\n",
      "qubits 5, \t bits: 16\n",
      "qubits 6, \t bits: 32\n",
      "qubits 9, \t bits: 256\n",
      "qubits 11, \t bits: 1024\n",
      "qubits 21, \t bits: 1048576\n",
      "qubits 31, \t bits: 1073741824\n"
     ]
    }
   ],
   "source": [
    "for i in [4, 8, 16, 32, 256, 1024, 1024*1024, 1024*1024*1024]:\n",
    "    n = math.ceil(math.log2(i)) + 1\n",
    "    print(\"qubits %s, \\t bits: %s\" % (n, i))\n"
   ]
  },
  {
   "cell_type": "markdown",
   "metadata": {},
   "source": [
    "## Inverting the circuit\n",
    "\n",
    "We can use `inverse()` function to reverse the order of the gates in quantum circuit. It is like running the program in backward direction."
   ]
  },
  {
   "cell_type": "code",
   "execution_count": 18,
   "metadata": {},
   "outputs": [
    {
     "name": "stdout",
     "output_type": "stream",
     "text": [
      "         ┌───┐┌───┐┌───┐┌───┐┌─────────────┐┌───┐┌───┐┌─────────────┐┌───┐»\n",
      "q2_0: |0>┤ X ├┤ X ├┤ X ├┤ X ├┤ Ry(-1.5708) ├┤ X ├┤ X ├┤ Ry(-1.5708) ├┤ X ├»\n",
      "         └─┬─┘└─┬─┘└─┬─┘└─┬─┘└─────────────┘└─┬─┘└─┬─┘└─────────────┘└─┬─┘»\n",
      "q2_1: |0>──■────┼────■────┼───────────────────■────┼───────────────────■──»\n",
      "                │         │                        │                      »\n",
      "q2_2: |0>───────■─────────■────────────────────────■──────────────────────»\n",
      "                                                                          »\n",
      " c3_0: 0 ═════════════════════════════════════════════════════════════════»\n",
      "                                                                          »\n",
      " c3_1: 0 ═════════════════════════════════════════════════════════════════»\n",
      "                                                                          »\n",
      " c3_2: 0 ═════════════════════════════════════════════════════════════════»\n",
      "                                                                          »\n",
      "«                     ┌───┐               \n",
      "«q2_0: ───────────────┤ X ├───────────────\n",
      "«      ┌─────────────┐└─┬─┘               \n",
      "«q2_1: ┤ Ry(-1.5708) ├──┼─────────────────\n",
      "«      └─────────────┘  │  ┌─────────────┐\n",
      "«q2_2: ─────────────────■──┤ Ry(-1.5708) ├\n",
      "«                          └─────────────┘\n",
      "«c3_0: ═══════════════════════════════════\n",
      "«                                         \n",
      "«c3_1: ═══════════════════════════════════\n",
      "«                                         \n",
      "«c3_2: ═══════════════════════════════════\n",
      "«                                         \n"
     ]
    }
   ],
   "source": [
    "circ_inv = QuantumCircuit(q3, c3)\n",
    "circ_inv.initialize([0, .5, .5, .0, .5, .0, .0, .5], q3).inverse()\n",
    "print(circ_inv)\n"
   ]
  },
  {
   "cell_type": "code",
   "execution_count": 19,
   "metadata": {},
   "outputs": [
    {
     "data": {
      "image/png": "[encoded data removed]",
      "text/plain": [
       "<Figure size 504x360 with 1 Axes>"
      ]
     },
     "execution_count": 19,
     "metadata": {},
     "output_type": "execute_result"
    }
   ],
   "source": [
    "circ_inv.measure(q3, c3)\n",
    "job = execute(circ_inv , backend=backend)\n",
    "st = job.result().get_counts()\n",
    "plot_histogram(st)"
   ]
  },
  {
   "cell_type": "markdown",
   "metadata": {},
   "source": [
    "If we run the inverted circuit, we can find that we will not end up with inverted bit string nor with negated one. Analyzing the result states we can see that we have got the bitstring `1111`.\n",
    "\n",
    "Let's see what will happen if we will attach the inverted circuit to the circuit that we were using to initialize the quantum chip."
   ]
  },
  {
   "cell_type": "code",
   "execution_count": 20,
   "metadata": {},
   "outputs": [
    {
     "data": {
      "image/png": "[encoded data removed]",
      "text/plain": [
       "<Figure size 504x360 with 1 Axes>"
      ]
     },
     "execution_count": 20,
     "metadata": {},
     "output_type": "execute_result"
    }
   ],
   "source": [
    "circ = QuantumCircuit(q3, c3)\n",
    "circ.initialize([0, .5, .5, .0, .5, .0, .0, .5], q3)\n",
    "\n",
    "circ.barrier()\n",
    "\n",
    "circ_inv = QuantumCircuit(q3, c3)\n",
    "circ_inv.initialize([0, .5, .5, .0, .5, .0, .0, .5], q3).inverse()\n",
    "\n",
    "circ_sum = circ + circ_inv # Concatenation\n",
    "\n",
    "# Run and plot\n",
    "circ_sum.measure(q3, c3)\n",
    "job = execute(circ_sum , backend=backend)\n",
    "st = job.result().get_counts()\n",
    "plot_histogram(st)"
   ]
  },
  {
   "cell_type": "markdown",
   "metadata": {},
   "source": [
    "We get back to the initial state of our qubits. That confirms that the quantum gates works perfectly. If we use a quantum circuit to change the state from the initial state to the desired state, and then we will run a circuit backward we will finish with the initial state.\n",
    "\n",
    "If we would like to negate the bit string (flip all its bits) we should use a *Pauli X gate* on all of the qubits:"
   ]
  },
  {
   "cell_type": "code",
   "execution_count": 21,
   "metadata": {},
   "outputs": [
    {
     "data": {
      "image/png": "[encoded data removed]",
      "text/plain": [
       "<Figure size 504x360 with 1 Axes>"
      ]
     },
     "execution_count": 21,
     "metadata": {},
     "output_type": "execute_result"
    }
   ],
   "source": [
    "circ = QuantumCircuit(q3, c3)\n",
    "circ.initialize([0, .5, .5, .0, .5, .0, .0, .5], q3)\n",
    "circ.x(q3)\n",
    "\n",
    "# Run and plot\n",
    "circ.measure(q3, c3)\n",
    "job = execute(circ , backend=backend)\n",
    "st = job.result().get_counts()\n",
    "plot_histogram(st)"
   ]
  },
  {
   "cell_type": "markdown",
   "metadata": {},
   "source": [
    "Decoding all the bits from the probabilities:\n",
    "\n",
    "```\n",
    "   bs | aa v \n",
    "  ----|------- \n",
    "    0 | 00 0 \n",
    "    1 | 01 1\n",
    "    1 | 10 1\n",
    "    0 | 11 0   \n",
    "```\n",
    "we end up, as expected, with `0110`."
   ]
  },
  {
   "cell_type": "markdown",
   "metadata": {},
   "source": [
    "## Comparing bit strings"
   ]
  },
  {
   "cell_type": "markdown",
   "metadata": {},
   "source": [
    "As it was said above if we invert the circuit and act on the desired state then we will go back to the initial state. But what will happen if we use the other inverted circuit? We should receive the initial state only with some probability. We can use this fact to compare similarities of bit strings. The highest probability to get to the initial state is, the more similar bit string should be."
   ]
  },
  {
   "cell_type": "code",
   "execution_count": 22,
   "metadata": {},
   "outputs": [
    {
     "name": "stdout",
     "output_type": "stream",
     "text": [
      "Similarity (probability) with 1001:\n",
      "1000: 0.5556640625\n",
      "0110: 0\n",
      "1101: 0.5556640625\n",
      "0011: 0.2421875\n"
     ]
    }
   ],
   "source": [
    "circ = QuantumCircuit(q3, c3)\n",
    "circ.initialize([0, .5, .5, .0, .5, .0, .0, .5], q3)\n",
    "circ.barrier()\n",
    "\n",
    "bs = {'1000': [.0, .5, .5, .0, .5, .0, .5, .0],\n",
    "      '0110': [.5, .0, .0, .5, .0, .5, .5, .0],\n",
    "      '1101': [.0, .5, .0, .5, .5, .0, .0, .5],\n",
    "      '0011': [.5, .0, .5, .0, .0, .5, .0, .5]}\n",
    "\n",
    "print(\"Similarity (probability) with 1001:\")\n",
    "for bitstr, ampl in bs.items():\n",
    "    \n",
    "    circ_inv = QuantumCircuit(q3, c3)\n",
    "    circ_inv.initialize(ampl, q3).inverse()\n",
    "    circ_sum = circ + circ_inv\n",
    "    circ_sum.measure(q3, c3)\n",
    "    job = execute(circ_sum , backend=backend, shots=1024)\n",
    "    st = job.result().get_counts()\n",
    "    p = st['000'] / 1024 if '000' in st.keys() else 0\n",
    "    print(\"%s: %s\" % (bitstr, p))"
   ]
  },
  {
   "cell_type": "markdown",
   "metadata": {},
   "source": [
    "If all bits are different (`1001` vs `0110`) then the similarity is 0. If there are three bits in common then the probability is $0.556$. If only two bits are the same then we've got $0.242$."
   ]
  },
  {
   "cell_type": "markdown",
   "metadata": {},
   "source": [
    "## Acknowledgments\n",
    "\n",
    "This tutorial is based upon the \"Comparing Strings with Quantum Superposition\" tutorial by Rudy Raymond.\n",
    "\n",
    "I would like to thank James Wootton and Rudy Raymond for their help, extensive explanations, and intersting discussion over the content of this tutorial during [Qiskit Camp ‘19](https://qiskit.camp/)."
   ]
  },
  {
   "cell_type": "markdown",
   "metadata": {},
   "source": [
    "## Refferences\n",
    "\n",
    "1. [Comparing Strings with Quantum Superpositon, Rudy Raymond](string_comparison.ipynb)\n",
    "2. [Qiskit’s documentation - Circuits and Registers](https://qiskit.org/documentation/terra/quantum_circuits.html)\n",
    "3. [Basic quantum circuit simulation in Python, Jarrod McClean](https://jarrodmcclean.com/basic-quantum-circuit-simulation-in-python/)\n",
    "4. [Wikipedia - Qubit](https://en.wikipedia.org/wiki/Qubit)\n",
    "5. [Wikipedia - Quantum logic gate](https://en.wikipedia.org/wiki/Quantum_logic_gate)"
   ]
  }
 ],
 "metadata": {
  "kernelspec": {
   "display_name": "Python 3",
   "language": "python",
   "name": "python3"
  },
  "language_info": {
   "codemirror_mode": {
    "name": "ipython",
    "version": 3
   },
   "file_extension": ".py",
   "mimetype": "text/x-python",
   "name": "python",
   "nbconvert_exporter": "python",
   "pygments_lexer": "ipython3",
   "version": "3.6.1"
  }
 },
 "nbformat": 4,
 "nbformat_minor": 2
}
