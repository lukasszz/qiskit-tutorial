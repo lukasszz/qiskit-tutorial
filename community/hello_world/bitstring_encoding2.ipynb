{
 "cells": [
  {
   "cell_type": "markdown",
   "metadata": {},
   "source": [
    "# Storing and operating on bitstrings on the quantum computer (2)"
   ]
  },
  {
   "cell_type": "markdown",
   "metadata": {},
   "source": [
    "### Contributors\n",
    "Łukasz Herok, Rudy Raymond, James Wootton\n",
    "\n",
    "This tutorial bases heavily upon \"Comparing Strings with Quantum Superpositon\" tutorial by Rudy Raymond. It also repeats the basics that can be found in the other resuorce and in the quiskit documentation (see the Reffernces section) to make it standalone and comperhensive introduction to the tutorial topic."
   ]
  },
  {
   "cell_type": "markdown",
   "metadata": {},
   "source": [
    "## Motivation\n",
    "\n",
    "Tha aim of this tutorial is to show you how quantum computers, usuing the superposition effect, can store information encoded in a bitstring in more comperhensive way.\n",
    "\n",
    "On the very beging we will go through all the basics step by step, so if you are familliar with basics you can just skip this sections.\n",
    "\n",
    "The aim of this tutorial is to show in details how to store bitstring in the quantum computer and how we can manipulate it."
   ]
  },
  {
   "cell_type": "code",
   "execution_count": 1,
   "metadata": {},
   "outputs": [],
   "source": [
    "# Import of the modules and initialization of varibles used in this tutorial\n",
    "import numpy as np\n",
    "import qiskit\n",
    "from qiskit import BasicAer as Aer\n",
    "from qiskit import QuantumRegister, ClassicalRegister, QuantumCircuit\n",
    "from qiskit import execute\n",
    "import math\n",
    "from qiskit.tools.visualization import plot_histogram\n",
    "\n",
    "# qiskit.IBMQ.load_accounts()\n",
    "backend = Aer.get_backend('qasm_simulator')\n",
    "backend_vec= Aer.get_backend('statevector_simulator')"
   ]
  },
  {
   "cell_type": "markdown",
   "metadata": {},
   "source": [
    "## Bit vs Qbit\n",
    "\n",
    "The computer bit can store and manipulte on the two states `0` and `1`. This two states maps to the two qubit (orhtonormal) basis states:\n",
    "\n",
    "\n",
    "$ |0> = {\\begin{bmatrix}1 \\\\ 0\\end{bmatrix}} $,\n",
    "\n",
    "$ |1> = {\\begin{bmatrix}0 \\\\ 1\\end{bmatrix}} $.\n",
    "\n",
    "In fact he qubit state is represented by the linear superposition of these two basics states\n",
    "\n",
    "$ |q> = \\alpha |0> + \\beta |1> $\n",
    "so we can write\n",
    "$ |q> = {\\begin{bmatrix}\\alpha \\\\ 0\\end{bmatrix}} +  {\\begin{bmatrix}0 \\\\ \\beta \\end{bmatrix}} =  {\\begin{bmatrix} \\alpha \\\\ \\beta \\end{bmatrix}} $. \n",
    "\n",
    "The $ \\alpha $ and $ \\beta $ are so called the probability amplitudes, and are just the complex numbers that using the formula $|\\alpha|^2$ tells us about the probabilty that the qubit is in state `|0>`. So these coefficients have to meet the requirement $|\\alpha|^2 + |\\beta|^2  = 1$ to have the overall probabilty equals to one. \n",
    "\n",
    "So as we can see, the qubit can exists in a *superposition* of states, and by the final measurement we can only check the probability of each state. For the quantum computing beside the basis states `|0>`, `|1>` we often encounter the superpostion states that are marked by `|+>`, `|->`. In these states there is is qual probabilty ($|\\alpha|^2$ = 0.5 and $|\\beta|^2 = 0.5 $) that the qubit is in one of the basis states `|0>` or `|1>` state. The other possible states are generally called the *Mixed states*.\n",
    "\n",
    "For example we can change the state of the qubit from `|0>` to `|+>` and back to `|0>` using the *Hadamard gate*. There is no similar opertion avaible for bits, as they only operates on two states `0,1`. "
   ]
  },
  {
   "cell_type": "markdown",
   "metadata": {},
   "source": [
    "### Math\n",
    "The Hadamard gate is a matrix: \n",
    "\n",
    "$H =  \\frac{1}{\\sqrt{2}} {\\begin{bmatrix}1 & 1\\\\1 & -1\\end{bmatrix}} $,\n",
    "\n",
    "to create a superpostion for the `|0>` state:\n",
    "\n",
    "$ H|0> \n",
    "= \\frac{1}{\\sqrt{2}} {\\begin{bmatrix}1 & 1\\\\1 & -1\\end{bmatrix}} {\\begin{bmatrix}1 \\\\0\\end{bmatrix}} \n",
    "= \\frac{1}{\\sqrt{2}} {\\begin{bmatrix}1\\cdot1 + 1\\cdot0 \\\\ 1\\cdot1 -1\\cdot0\\end{bmatrix}}\n",
    "=  {\\begin{bmatrix}0,7071 \\\\ 0,7071\\end{bmatrix}}\n",
    "= |+>\n",
    "$\n",
    "\n",
    "so $\\alpha = 0.7071$ and $\\beta = 0.7071$, making square of these we can get 0.5 propbility that the qubit is in state `|0>` and `|1>`.\n",
    "\n",
    "We can of course go back to the `|0>` using the Hadamard gate again:\n",
    "\n",
    "$ H|+> \n",
    "= \\frac{1}{\\sqrt{2}} {\\begin{bmatrix}1 & 1\\\\1 & -1\\end{bmatrix}} {\\begin{bmatrix}\\frac{1}{\\sqrt{2}}  \\\\\\frac{1}{\\sqrt{2}} \\end{bmatrix}} \n",
    "= {\\begin{bmatrix}1 \\\\ 0\\end{bmatrix}}\n",
    "= |0>\n",
    "$\n"
   ]
  },
  {
   "cell_type": "markdown",
   "metadata": {},
   "source": [
    "### Numeric"
   ]
  },
  {
   "cell_type": "code",
   "execution_count": 2,
   "metadata": {},
   "outputs": [
    {
     "name": "stdout",
     "output_type": "stream",
     "text": [
      "Initial state |0> \n",
      " [[1.]\n",
      " [0.]] \n",
      "\n",
      " H|0> = |+> \n",
      " [[0.70710678]\n",
      " [0.70710678]]\n",
      "\n",
      " H|+> = |0> \n",
      " [[1.]\n",
      " [0.]]\n"
     ]
    }
   ],
   "source": [
    "# |0>\n",
    "Zero = np.array([[1.],\n",
    "                 [0.]]) \n",
    "\n",
    "H = 1./np.sqrt(2) * np.array([[1, 1],\n",
    "                              [1, -1]])\n",
    "\n",
    "print(\"Initial state |0> \\n %s \" % Zero)\n",
    "\n",
    "Sup = np.dot(H, Zero)\n",
    "print(\"\\n H|0> = |+> \\n %s\" % Sup)\n",
    "\n",
    "Back = np.dot(H, Sup)\n",
    "print(\"\\n H|+> = |0> \\n %s\" % Back)\n"
   ]
  },
  {
   "cell_type": "markdown",
   "metadata": {},
   "source": [
    "### Quantum"
   ]
  },
  {
   "cell_type": "code",
   "execution_count": 3,
   "metadata": {
    "scrolled": true
   },
   "outputs": [
    {
     "name": "stdout",
     "output_type": "stream",
     "text": [
      "         ┌───┐\n",
      "q0_0: |0>┤ H ├\n",
      "         └───┘\n"
     ]
    }
   ],
   "source": [
    "q1 = QuantumRegister(1) # a qubit in the |0> state\n",
    "circ = QuantumCircuit(q1) # Circuit represents a quantum program\n",
    "\n",
    "circ.h(q1) # switch to |+>\n",
    "\n",
    "print(circ)"
   ]
  },
  {
   "cell_type": "code",
   "execution_count": 4,
   "metadata": {},
   "outputs": [
    {
     "name": "stdout",
     "output_type": "stream",
     "text": [
      "{'1': 514, '0': 510}\n"
     ]
    }
   ],
   "source": [
    "# To get final results from the qubit we need a classical register to store measurements\n",
    "c1 = ClassicalRegister(1) \n",
    "circ.add_register(c1)\n",
    "circ.measure(q1, c1)\n",
    "\n",
    "result = execute(circ, backend=backend, shots=1024).result()\n",
    "print(result.get_counts())"
   ]
  },
  {
   "cell_type": "markdown",
   "metadata": {},
   "source": [
    "analizing the result of quantum program, we can see how many times the state `|1>` and `|0>` was measured. We can see that they should be measured almost the same number of times."
   ]
  },
  {
   "cell_type": "code",
   "execution_count": 5,
   "metadata": {},
   "outputs": [
    {
     "name": "stdout",
     "output_type": "stream",
     "text": [
      "         ┌───┐┌───┐\n",
      "q0_0: |0>┤ H ├┤ H ├\n",
      "         └───┘└───┘\n"
     ]
    }
   ],
   "source": [
    "circ = QuantumCircuit(q1)\n",
    "\n",
    "circ.h(q1) # switch to |+>\n",
    "circ.h(q1) # switch back to |0>\n",
    "\n",
    "print(circ)"
   ]
  },
  {
   "cell_type": "code",
   "execution_count": 6,
   "metadata": {},
   "outputs": [
    {
     "name": "stdout",
     "output_type": "stream",
     "text": [
      "{'0': 1024}\n"
     ]
    }
   ],
   "source": [
    "circ.add_register(c1)\n",
    "circ.measure(q1, c1)\n",
    "\n",
    "result = execute(circ, backend=backend, shots=1024).result()\n",
    "print(result.get_counts())"
   ]
  },
  {
   "cell_type": "markdown",
   "metadata": {},
   "source": [
    "this time only the `|0>` state was measured for 1024 times."
   ]
  },
  {
   "cell_type": "markdown",
   "metadata": {},
   "source": [
    "For the classcial bit there is no possiblity to switch it to a *mixed state* and go back to orginal state. That give us a clue that in the quantum computer, using only one bit we have more states that could be used for quantum algoritms."
   ]
  },
  {
   "cell_type": "markdown",
   "metadata": {},
   "source": [
    "## Bit flip"
   ]
  },
  {
   "cell_type": "markdown",
   "metadata": {},
   "source": [
    "Before going further we need to know at least one more get the *Pauli-X gate*. It changes the state from `|0>` to `|1>`.\n",
    "\n",
    "$ X = {\\begin{bmatrix}0 & 1\\\\1 & 0\\end{bmatrix}} $,\n",
    "\n",
    "\n",
    "### Math\n",
    "\n",
    "$ X|0> = {\\begin{bmatrix}0 & 1\\\\1 & 0\\end{bmatrix}} {\\begin{bmatrix}1 \\\\ 0\\end{bmatrix}} = {\\begin{bmatrix}0 \\\\ 1 \\end{bmatrix}} = |1>$,\n"
   ]
  },
  {
   "cell_type": "markdown",
   "metadata": {},
   "source": [
    "### Numeric"
   ]
  },
  {
   "cell_type": "code",
   "execution_count": 7,
   "metadata": {},
   "outputs": [
    {
     "data": {
      "text/plain": [
       "array([[0.],\n",
       "       [1.]])"
      ]
     },
     "execution_count": 7,
     "metadata": {},
     "output_type": "execute_result"
    }
   ],
   "source": [
    "X = np.array([[0, 1],\n",
    "              [1, 0]])\n",
    "\n",
    "np.dot(X, Zero)"
   ]
  },
  {
   "cell_type": "markdown",
   "metadata": {},
   "source": [
    "### Quantum"
   ]
  },
  {
   "cell_type": "code",
   "execution_count": 8,
   "metadata": {},
   "outputs": [
    {
     "name": "stdout",
     "output_type": "stream",
     "text": [
      "         ┌───┐\n",
      "q0_0: |0>┤ X ├\n",
      "         └───┘\n"
     ]
    }
   ],
   "source": [
    "circ = QuantumCircuit(q1)\n",
    "circ.x(q1)\n",
    "print(circ)"
   ]
  },
  {
   "cell_type": "code",
   "execution_count": 9,
   "metadata": {},
   "outputs": [
    {
     "name": "stdout",
     "output_type": "stream",
     "text": [
      "{'1': 1}\n",
      "[0.+0.j 1.+0.j]\n"
     ]
    }
   ],
   "source": [
    "circ.add_register(c1)\n",
    "circ.measure(q1, c1)\n",
    "\n",
    "result = execute(circ, backend=backend_vec).result()\n",
    "print(result.get_counts())\n",
    "print(result.get_statevector())"
   ]
  },
  {
   "cell_type": "markdown",
   "metadata": {},
   "source": [
    "## Making bytes\n",
    "\n",
    "We can combine multiple qubits to store complex state, simmilary as we concatenate bit to create bytes etc.\n",
    "\n",
    "Using two qubits we can build states like: `|00>`, `|10>`, `|0+>` etc.\n",
    "\n",
    "To do that we make a tensor product of two qubits.\n",
    "\n",
    "### Math\n",
    "\n",
    "$ |01> = |0> \\otimes |1> \n",
    "= {\\begin{bmatrix}1 \\\\ 0\\end{bmatrix}} \\otimes {\\begin{bmatrix}0 \\\\ 1\\end{bmatrix}} \n",
    "= {\\begin{bmatrix}1 \\\\ 0\\end{bmatrix}}  {\\begin{bmatrix}0 \\\\ 1\\end{bmatrix}}^{T}\n",
    "= {\\begin{bmatrix}1 \\\\ 0\\end{bmatrix}} {\\begin{bmatrix}0 & 1\\end{bmatrix}}\n",
    "= {\\begin{bmatrix}0\\\\ 1 \\\\ 0 \\\\ 0\\end{bmatrix}} \n",
    "$\n"
   ]
  },
  {
   "cell_type": "markdown",
   "metadata": {},
   "source": [
    "### Numeric"
   ]
  },
  {
   "cell_type": "code",
   "execution_count": 10,
   "metadata": {},
   "outputs": [
    {
     "data": {
      "text/plain": [
       "array([[0.],\n",
       "       [1.],\n",
       "       [0.],\n",
       "       [0.]])"
      ]
     },
     "execution_count": 10,
     "metadata": {},
     "output_type": "execute_result"
    }
   ],
   "source": [
    "One = np.array([[0.],\n",
    "                [1.]]) \n",
    "\n",
    "# Tensor product (Kronecker prodcut in numpy)\n",
    "np.kron(Zero, One)"
   ]
  },
  {
   "cell_type": "markdown",
   "metadata": {},
   "source": [
    "### Quantum"
   ]
  },
  {
   "cell_type": "code",
   "execution_count": 11,
   "metadata": {},
   "outputs": [
    {
     "name": "stdout",
     "output_type": "stream",
     "text": [
      "         ┌───┐\n",
      "q1_0: |0>┤ X ├\n",
      "         └───┘\n",
      "q1_1: |0>─────\n",
      "              \n"
     ]
    }
   ],
   "source": [
    "q2 = QuantumRegister(2) # |00>\n",
    "circ = QuantumCircuit(q2)\n",
    "circ.x(q2[0]) # bit filp on a first qubit counting from right to left (little endian)\n",
    "\n",
    "print(circ)"
   ]
  },
  {
   "cell_type": "code",
   "execution_count": 12,
   "metadata": {},
   "outputs": [
    {
     "name": "stdout",
     "output_type": "stream",
     "text": [
      "{'01': 1}\n",
      "[0.+0.j 1.+0.j 0.+0.j 0.+0.j]\n"
     ]
    }
   ],
   "source": [
    "c2 = ClassicalRegister(2)\n",
    "circ.add_register(c2)\n",
    "circ.measure(q2, c2)\n",
    "result = execute(circ, backend=backend_vec).result()\n",
    "\n",
    "print(result.get_counts())\n",
    "print(result.get_statevector())"
   ]
  },
  {
   "cell_type": "markdown",
   "metadata": {},
   "source": [
    "For more complicated vector states, consisting of superposition, it is not so easy to prepare te circut. For that purpose we can use a `initialize()` function which will prepare the quantum program for us. For example:"
   ]
  },
  {
   "cell_type": "code",
   "execution_count": 13,
   "metadata": {},
   "outputs": [
    {
     "name": "stdout",
     "output_type": "stream",
     "text": [
      "         ┌───┐┌────────────┐┌───┐┌────────────┐\n",
      "q1_0: |0>┤ X ├┤ Ry(1.5708) ├┤ X ├┤ Ry(1.5708) ├\n",
      "         └─┬─┘└────────────┘└─┬─┘└────────────┘\n",
      "q1_1: |0>──■──────────────────■────────────────\n",
      "                                               \n"
     ]
    }
   ],
   "source": [
    "circ = QuantumCircuit(q2)\n",
    "circ.initialize([0., 1, 0, 0.], [(q2, 0), (q2, 1)])\n",
    "\n",
    "print(circ)\n"
   ]
  },
  {
   "cell_type": "markdown",
   "metadata": {},
   "source": [
    "We can see that the other gates were used: CNOT and Ry, but the effect is the same as above:"
   ]
  },
  {
   "cell_type": "code",
   "execution_count": 14,
   "metadata": {},
   "outputs": [
    {
     "name": "stdout",
     "output_type": "stream",
     "text": [
      "{'01': 1024}\n"
     ]
    }
   ],
   "source": [
    "c2 = ClassicalRegister(2)\n",
    "circ.add_register(c2)\n",
    "circ.measure(q2, c2)\n",
    "result = execute(circ, backend=backend).result()\n",
    "\n",
    "print(result.get_counts())"
   ]
  },
  {
   "cell_type": "markdown",
   "metadata": {},
   "source": [
    "The `initialize()` function implements a recursive initialization algorithm including optimizations according to \"Synthesis of Quantum Logic Circuits\" Shende, Bullock, Markov https://arxiv.org/abs/quant-ph/0406176v5"
   ]
  },
  {
   "cell_type": "markdown",
   "metadata": {},
   "source": [
    "## Compressing 4 bits into 3 qubits\n",
    "\n",
    "Using bits we will need 4 bits using qubits it takes 3 bits. Further better.\n",
    "\n",
    "using this addressing + data system with 3 bits would allow us to store information only about one adress+value at the time, while using the 3 qubits we can store information about every (2 pos) adress value at once.\n",
    "\n",
    "In this section we will try to store bitstring `1001` into the quantum chip, and read it back.\n"
   ]
  },
  {
   "cell_type": "markdown",
   "metadata": {},
   "source": [
    "To store bitstring: `1001` we will need 4 bits.\n",
    "For the same purpose we can usy only 3 qbits. The way is to write down the bistring in notation where first qbits describes the position in a bitstring and the last one the value on this postion. For our `1001` it will be:\n",
    "\n",
    "```\n",
    "   bs | aa v \n",
    "  ----|------- \n",
    "    1 | 00 1 \n",
    "    0 | 01 0\n",
    "    0 | 10 0\n",
    "    1 | 11 1   \n",
    "```\n",
    "The qubits marked by `a` will be storing the adress in the bit string, and the v the value under this adress. We will hold the information **for every adress in the same time**, what would be impossible using the bits becuse then in the same time we can adress only one position in the bitstring.\n",
    "\n",
    "We need to store in our 3 qubits that in the system exists 4 states `|001>, |010>, |100>, |111>` with the same probabilty. Four states because we can address only 4 positions in the bit string, the extra qubit is for storing the value, in fact it system build of 3 qubits there are 8 possible states. We need only four during one pass of the quantum program.\n",
    "\n",
    "\n",
    "$|bs> = \\alpha |001> + \\alpha |010> + \\alpha|100> + \\alpha|111>$\n",
    "\n",
    "The other states does not occur (eg. `|000>`) so thier amplitude is 0 ($\\beta = 0$). $\\alpha$ needs to meet the normalization constraint it is equal to $\\frac{1}{2}$. We can write the full quantum state:\n",
    "\n",
    "$|bs> = \\beta |000> + \\alpha |001> + \\alpha |010> + \\beta |011> + \\alpha|100> + \\beta |101> + \\beta |110> + \\alpha|111>$\n",
    "\n",
    "Using quantum gates we need to setup our system in that way, that after measurement of qubits states it will return states: `|001>, |010>, |100>, |111>` with equal probability."
   ]
  },
  {
   "cell_type": "code",
   "execution_count": 15,
   "metadata": {},
   "outputs": [
    {
     "name": "stdout",
     "output_type": "stream",
     "text": [
      "                                     ┌───┐┌───┐┌────────────┐┌───┐┌───┐»\n",
      "q2_0: |0>────────────────────────────┤ X ├┤ X ├┤ Ry(1.5708) ├┤ X ├┤ X ├»\n",
      "                       ┌────────────┐└─┬─┘└─┬─┘└────────────┘└─┬─┘└─┬─┘»\n",
      "q2_1: |0>──────────────┤ Ry(1.5708) ├──┼────■──────────────────┼────■──»\n",
      "         ┌────────────┐└────────────┘  │                       │       »\n",
      "q2_2: |0>┤ Ry(1.5708) ├────────────────■───────────────────────■───────»\n",
      "         └────────────┘                                                »\n",
      " c3_0: 0 ══════════════════════════════════════════════════════════════»\n",
      "                                                                       »\n",
      " c3_1: 0 ══════════════════════════════════════════════════════════════»\n",
      "                                                                       »\n",
      " c3_2: 0 ══════════════════════════════════════════════════════════════»\n",
      "                                                                       »\n",
      "«      ┌────────────┐┌───┐┌───┐┌───┐┌───┐\n",
      "«q2_0: ┤ Ry(1.5708) ├┤ X ├┤ X ├┤ X ├┤ X ├\n",
      "«      └────────────┘└─┬─┘└─┬─┘└─┬─┘└─┬─┘\n",
      "«q2_1: ────────────────┼────■────┼────■──\n",
      "«                      │         │       \n",
      "«q2_2: ────────────────■─────────■───────\n",
      "«                                        \n",
      "«c3_0: ══════════════════════════════════\n",
      "«                                        \n",
      "«c3_1: ══════════════════════════════════\n",
      "«                                        \n",
      "«c3_2: ══════════════════════════════════\n",
      "«                                        \n"
     ]
    }
   ],
   "source": [
    "q3 = QuantumRegister(3)\n",
    "c3 = ClassicalRegister(3)\n",
    "circ = QuantumCircuit(q3, c3)\n",
    "\n",
    "alpha = .5\n",
    "beta = .0\n",
    "circ.initialize([beta, alpha, alpha, beta, alpha, beta, beta, alpha], q3)\n",
    "\n",
    "print(circ)\n"
   ]
  },
  {
   "cell_type": "markdown",
   "metadata": {},
   "source": [
    "Above we can see a compostion of quantum gates that are reqiured to setup up qubits to represent our bitstring. To check if the sequence is realy making our bitstring we have to add mesurement at the and of the cricut and run the quantum program (the quantum circut) on a quantum chip:"
   ]
  },
  {
   "cell_type": "code",
   "execution_count": 16,
   "metadata": {},
   "outputs": [
    {
     "data": {
      "image/png": "[encoded data removed]",
      "text/plain": [
       "<Figure size 504x360 with 1 Axes>"
      ]
     },
     "execution_count": 16,
     "metadata": {},
     "output_type": "execute_result"
    }
   ],
   "source": [
    "# Run & plot\n",
    "circ.measure(q3, c3)\n",
    "job = execute(circ , backend=backend)\n",
    "st = job.result().get_counts()\n",
    "plot_histogram(st)\n"
   ]
  },
  {
   "cell_type": "markdown",
   "metadata": {},
   "source": [
    "Sending the curcit, that encodes a bit string, to the quantum chip gives us as results infromation how many times the specific state (encoded as address,value) so we can recalucate it to the probability that it exists.\n",
    "\n",
    "Eg. it was measured that state `001` exists with probability around $0.2$. There is no `000` state that means that this state didn't occure. That make us sure that on the position `00` in a bit string there should be `1`.\n",
    "\n",
    "In real life, imperfections happen. So you could use the probability to resolve ambiguities: if you find both `000` and `001` in your results, accept the most probable and reject the other as noise."
   ]
  },
  {
   "cell_type": "markdown",
   "metadata": {},
   "source": [
    "## Inverting the circut\n",
    "\n",
    "We cen use `inverse()` function to revert the order of the gates in quantum circuit:"
   ]
  },
  {
   "cell_type": "code",
   "execution_count": 17,
   "metadata": {},
   "outputs": [
    {
     "name": "stdout",
     "output_type": "stream",
     "text": [
      "         ┌───┐┌───┐┌───┐┌───┐┌─────────────┐┌───┐┌───┐┌─────────────┐┌───┐»\n",
      "q2_0: |0>┤ X ├┤ X ├┤ X ├┤ X ├┤ Ry(-1.5708) ├┤ X ├┤ X ├┤ Ry(-1.5708) ├┤ X ├»\n",
      "         └─┬─┘└─┬─┘└─┬─┘└─┬─┘└─────────────┘└─┬─┘└─┬─┘└─────────────┘└─┬─┘»\n",
      "q2_1: |0>──■────┼────■────┼───────────────────■────┼───────────────────■──»\n",
      "                │         │                        │                      »\n",
      "q2_2: |0>───────■─────────■────────────────────────■──────────────────────»\n",
      "                                                                          »\n",
      " c3_0: 0 ═════════════════════════════════════════════════════════════════»\n",
      "                                                                          »\n",
      " c3_1: 0 ═════════════════════════════════════════════════════════════════»\n",
      "                                                                          »\n",
      " c3_2: 0 ═════════════════════════════════════════════════════════════════»\n",
      "                                                                          »\n",
      "«                     ┌───┐               \n",
      "«q2_0: ───────────────┤ X ├───────────────\n",
      "«      ┌─────────────┐└─┬─┘               \n",
      "«q2_1: ┤ Ry(-1.5708) ├──┼─────────────────\n",
      "«      └─────────────┘  │  ┌─────────────┐\n",
      "«q2_2: ─────────────────■──┤ Ry(-1.5708) ├\n",
      "«                          └─────────────┘\n",
      "«c3_0: ═══════════════════════════════════\n",
      "«                                         \n",
      "«c3_1: ═══════════════════════════════════\n",
      "«                                         \n",
      "«c3_2: ═══════════════════════════════════\n",
      "«                                         \n"
     ]
    }
   ],
   "source": [
    "circ_inv = QuantumCircuit(q3, c3)\n",
    "circ_inv.initialize([0, .5, .5, .0, .5, .0, .0, .5], q3).inverse()\n",
    "print(circ_inv)\n"
   ]
  },
  {
   "cell_type": "code",
   "execution_count": 18,
   "metadata": {},
   "outputs": [
    {
     "data": {
      "image/png": "[encoded data removed]",
      "text/plain": [
       "<Figure size 504x360 with 1 Axes>"
      ]
     },
     "execution_count": 18,
     "metadata": {},
     "output_type": "execute_result"
    }
   ],
   "source": [
    "circ_inv.measure(q3, c3)\n",
    "job = execute(circ_inv , backend=backend)\n",
    "st = job.result().get_counts()\n",
    "plot_histogram(st)"
   ]
  },
  {
   "cell_type": "markdown",
   "metadata": {},
   "source": [
    "If we run the inverted circut, we can find that we will not end up with inverted bitstring! Analizing the result states we can see that we have get the bitstring `1111`.\n",
    "\n",
    "Let's see what will happen if we will connect our circuts:"
   ]
  },
  {
   "cell_type": "code",
   "execution_count": 19,
   "metadata": {},
   "outputs": [
    {
     "data": {
      "image/png": "[encoded data removed]",
      "text/plain": [
       "<Figure size 504x360 with 1 Axes>"
      ]
     },
     "execution_count": 19,
     "metadata": {},
     "output_type": "execute_result"
    }
   ],
   "source": [
    "circ = QuantumCircuit(q3, c3)\n",
    "circ.initialize([0, .5, .5, .0, .5, .0, .0, .5], q3)\n",
    "circ.barrier()\n",
    "\n",
    "circ_inv = QuantumCircuit(q3, c3)\n",
    "circ_inv.initialize([0, .5, .5, .0, .5, .0, .0, .5], q3).inverse()\n",
    "\n",
    "circ_sum = circ + circ_inv\n",
    "\n",
    "# Run and plot\n",
    "circ_sum.measure(q3, c3)\n",
    "job = execute(circ_sum , backend=backend)\n",
    "st = job.result().get_counts()\n",
    "plot_histogram(st)"
   ]
  },
  {
   "cell_type": "markdown",
   "metadata": {},
   "source": [
    "As we can see we get back to the initial state of our qubits! That confirms that our quanutum gates works perefectly. If we use a quantum circut to change the state form the initial state to the desiered superposition state, and then go with backward order of the operation w will finish with the initial state.\n",
    "\n",
    "Running inverted circut on the initial state didn't give us an inverted bitstring, because it just a different program, that we run on a initial state (`0000`). If we realy would like to invert the bitstirng, flip all it's bits, then we should use a Pauli X gate on all of its qubits:"
   ]
  },
  {
   "cell_type": "code",
   "execution_count": 20,
   "metadata": {},
   "outputs": [
    {
     "data": {
      "image/png": "[encoded data removed]",
      "text/plain": [
       "<Figure size 504x360 with 1 Axes>"
      ]
     },
     "execution_count": 20,
     "metadata": {},
     "output_type": "execute_result"
    }
   ],
   "source": [
    "circ = QuantumCircuit(q3, c3)\n",
    "circ.initialize([0, .5, .5, .0, .5, .0, .0, .5], q3)\n",
    "circ.x(q3)\n",
    "\n",
    "# Run and plot\n",
    "circ.measure(q3, c3)\n",
    "job = execute(circ , backend=backend)\n",
    "st = job.result().get_counts()\n",
    "plot_histogram(st)"
   ]
  },
  {
   "cell_type": "markdown",
   "metadata": {},
   "source": [
    "Decoding the bits from the probabilites:\n",
    "\n",
    "```\n",
    "   bs | aa v \n",
    "  ----|------- \n",
    "    0 | 00 0 \n",
    "    1 | 01 1\n",
    "    1 | 10 1\n",
    "    0 | 11 0   \n",
    "```\n",
    "we end up, as exptected, with `0110`."
   ]
  },
  {
   "cell_type": "markdown",
   "metadata": {},
   "source": [
    "### Compression effectivity"
   ]
  },
  {
   "cell_type": "markdown",
   "metadata": {},
   "source": [
    "The example for 4 length bitstring is good for the step by step explantion, but doesn't show the real power of quantum computing. Making the bitstring longer shows clearer the advantange of superposition effect:"
   ]
  },
  {
   "cell_type": "code",
   "execution_count": 39,
   "metadata": {},
   "outputs": [
    {
     "name": "stdout",
     "output_type": "stream",
     "text": [
      "qubits 3, \t bits: 4\n",
      "qubits 4, \t bits: 8\n",
      "qubits 5, \t bits: 16\n",
      "qubits 6, \t bits: 32\n",
      "qubits 9, \t bits: 256\n",
      "qubits 11, \t bits: 1024\n",
      "qubits 21, \t bits: 1048576\n",
      "qubits 31, \t bits: 1073741824\n"
     ]
    }
   ],
   "source": [
    "for i in [4, 8, 16, 32, 256, 1024, 1024*1024, 1024*1024*1024]:\n",
    "    n = math.ceil(math.log2(i)) + 1\n",
    "    print(\"qubits %s, \\t bits: %s\" % (n, i))\n"
   ]
  },
  {
   "cell_type": "markdown",
   "metadata": {},
   "source": [
    "## Comparing bitstrings"
   ]
  },
  {
   "cell_type": "markdown",
   "metadata": {},
   "source": [
    "Let's denote $|BS1>$ as the superpostion state created by the `encode_bitstring(BS1, ...)` and $ |BS1_i> $ as the superpostion state created by the `encode_bitstring(BS1, ..., inverse=True)`. This states are orthogonal if:\n",
    "$$ <BS1|BS1_i> = 0 $$"
   ]
  },
  {
   "cell_type": "code",
   "execution_count": null,
   "metadata": {},
   "outputs": [],
   "source": [
    "qc_1 = encode_bitstring(BS1, qr, cr)\n",
    "qc_1.barrier(qr)\n",
    "qc_1i = encode_bitstring(BS1, qr, cr, True)\n",
    "qc_1i.measure(qr, cr)\n",
    "qc_comb = qc_1 + qc_1i\n",
    "job = execute(qc_comb , backend=backend, shots=shots)\n",
    "st = job.result().get_counts()\n",
    "plot_histogram(st)"
   ]
  },
  {
   "cell_type": "markdown",
   "metadata": {},
   "source": [
    "The initial state of any circuit is represented by `0` for all it's qubits. So in our case `0000` is the initial state of the circut - all the qubits are `0`, so far no position is set (for the first three qubits, and no data is set for the last qubit). In the initial state of the circut we dont interpreted the `0000` as the `0` bit on the first postion of the bit string.\n",
    "\n",
    "Analising the quantum algorithm step by step:\n",
    "\n",
    "1. We start with the initial state of the circut `0000`.\n",
    "2. We initialize the circut with the BS1 string. Now the state of the circut represents the bit string.\n",
    "3. We input the inverted bitstring and in the effect we get the circut back to the initial state which is `0000`. No other states where counted.\n",
    "\n",
    "\n",
    "**TODO**\n",
    "\n",
    "Explain the barrier gate."
   ]
  },
  {
   "cell_type": "code",
   "execution_count": null,
   "metadata": {},
   "outputs": [],
   "source": [
    "from qiskit.tools.visualization import plot_state_city\n",
    "plot_state_city(vector)"
   ]
  },
  {
   "cell_type": "markdown",
   "metadata": {},
   "source": [
    "## Comparing the BS1 with BS2_inverted"
   ]
  },
  {
   "cell_type": "markdown",
   "metadata": {},
   "source": [
    "**TODO** We can write:\n",
    "$$ |BS2> = a|BS1> + b|other\\_state> $$\n",
    "$$ |BS2> = a|BS1> + b|BS2_i> $$\n",
    "$$ |BS1> = a|BS1> + b|BS1_i> $$\n",
    "$$ |oth> = a|BS1> + b|BS2_i> $$\n",
    "$$ |oth> = <BS1|BS2_i> $$\n",
    "\n",
    "\n",
    "Check it..."
   ]
  },
  {
   "cell_type": "code",
   "execution_count": null,
   "metadata": {},
   "outputs": [],
   "source": [
    "qc_1 = encode_bitstring(BS1, qr, cr)\n",
    "qc_1.barrier(qr)\n",
    "qc_2i = encode_bitstring(BS2, qr, cr, True)\n",
    "qc_2i.measure(qr, cr)\n",
    "qc_comb = qc_1 + qc_2i\n",
    "job = execute(qc_comb , backend=backend, shots=shots)\n",
    "st = job.result().get_counts()\n",
    "plot_histogram(st)"
   ]
  },
  {
   "cell_type": "markdown",
   "metadata": {},
   "source": [
    "Let's denote $ |BS1> $ as the superpostion state created by the `encode_bitstring(BS1, ...)` and $ |BS2> $ as the \n",
    "**(??? 3)**\n",
    "\n",
    "By looking only on state 0000 we get information how simmilar are the two bitstrings. (but why only 0000 state?) \n",
    "BECAUSE THATS THE PROBABILITY THAT GO BACK TO INITIAL STATE - HOW CLOSE WE ARE."
   ]
  },
  {
   "cell_type": "markdown",
   "metadata": {},
   "source": [
    "For better basics explanation you should go through: https://qiskit.org/documentation/terra/overview.html.\n"
   ]
  }
 ],
 "metadata": {
  "kernelspec": {
   "display_name": "Python 3",
   "language": "python",
   "name": "python3"
  },
  "language_info": {
   "codemirror_mode": {
    "name": "ipython",
    "version": 3
   },
   "file_extension": ".py",
   "mimetype": "text/x-python",
   "name": "python",
   "nbconvert_exporter": "python",
   "pygments_lexer": "ipython3",
   "version": "3.7.1"
  }
 },
 "nbformat": 4,
 "nbformat_minor": 2
}
