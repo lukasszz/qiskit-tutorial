{
 "cells": [
  {
   "cell_type": "markdown",
   "metadata": {},
   "source": [
    "# Storing and operating on bitstrings on the quantum computer (2)"
   ]
  },
  {
   "cell_type": "markdown",
   "metadata": {},
   "source": [
    "### Contributors\n",
    "Łukasz Herok, Rudy Raymond, James Wootton\n",
    "\n",
    "This tutorial bases heavily upon \"Comparing Strings with Quantum Superpositon\" tutorial by Rudy Raymond. It also repeats the basics that can be found in the other resuorce and in the quiskit documentation (see the Reffernces section) to make it standalone and comperhensive introduction to the tutorial topic."
   ]
  },
  {
   "cell_type": "markdown",
   "metadata": {},
   "source": [
    "## Motivation\n",
    "\n",
    "Tha aim of this tutorial is to show you how quantum computers, usuing the superposition effect, can store information encoded in a bitstring in more comperhensive way.\n",
    "\n",
    "On the very beging we will go through all the basics step by step, so if you are familliar with basics you can just skip this sections.\n",
    "\n",
    "The aim of this tutorial is to show in details how to store bitstring in the quantum computer and how we can manipulate it."
   ]
  },
  {
   "cell_type": "code",
   "execution_count": 108,
   "metadata": {},
   "outputs": [],
   "source": [
    "# Import of the modules and initialization of varibles used in this tutorial\n",
    "import numpy as np\n",
    "import qiskit\n",
    "from qiskit import Aer\n",
    "from qiskit import QuantumRegister, ClassicalRegister, QuantumCircuit\n",
    "from qiskit import execute\n",
    "import math\n",
    "from qiskit.tools.visualization import plot_histogram\n",
    "\n",
    "# qiskit.IBMQ.load_accounts()\n",
    "backend = Aer.get_backend('qasm_simulator')\n",
    "backend_vec= Aer.get_backend('statevector_simulator')"
   ]
  },
  {
   "cell_type": "markdown",
   "metadata": {},
   "source": [
    "## Bit vs Qbit\n",
    "\n",
    "The computer bit can store and manipulte on the two states `0` and `1`. This two states maps to the two qubit (orhtonormal) basis states:\n",
    "\n",
    "\n",
    "$ |0> = {\\begin{bmatrix}1 \\\\ 0\\end{bmatrix}} $,\n",
    "\n",
    "$ |1> = {\\begin{bmatrix}0 \\\\ 1\\end{bmatrix}} $.\n",
    "\n",
    "In fact he qubit state is represented by the linear superposition of these two basics states\n",
    "\n",
    "$ |q> = \\alpha |0> + \\beta |1> $\n",
    "so we can write\n",
    "$ |q> = {\\begin{bmatrix}\\alpha \\\\ 0\\end{bmatrix}} +  {\\begin{bmatrix}0 \\\\ \\beta \\end{bmatrix}} =  {\\begin{bmatrix} \\alpha \\\\ \\beta \\end{bmatrix}} $. \n",
    "\n",
    "The $ \\alpha $ and $ \\beta $ are so called the probability amplitudes, and are just the complex numbers that using the formula $|\\alpha|^2$ tells us about the probabilty that the qubit is in state `|0>`. So these coefficients have to meet the requirement $|\\alpha|^2 + |\\beta|^2  = 1$ to have the overall probabilty equals to one. \n",
    "\n",
    "So as we can see, the qubit can exists in a *superposition* of states, and by the final measurement we can only check the probability of each state. For the quantum computing beside the basis states `|0>`, `|1>` we often encounter the superpostion states that are marked by `|+>`, `|->`. In these states there is is qual probabilty ($|\\alpha|^2$ = 0.5 and $|\\beta|^2 = 0.5 $) that the qubit is in one of the basis states `|0>` or `|1>` state. The other possible states are generally called the *Mixed states*.\n",
    "\n",
    "For example we can change the state of the qubit from `|0>` to `|+>` and back to `|0>` using the *Hadamard gate*. There is no similar opertion avaible for bits, as they only operates on two states `0,1`. "
   ]
  },
  {
   "cell_type": "markdown",
   "metadata": {},
   "source": [
    "### Math\n",
    "The Hadamard gate is a matrix: \n",
    "\n",
    "$H =  \\frac{1}{\\sqrt{2}} {\\begin{bmatrix}1 & 1\\\\1 & -1\\end{bmatrix}} $,\n",
    "\n",
    "to create a superpostion for the `|0>` state:\n",
    "\n",
    "$ H|0> \n",
    "= \\frac{1}{\\sqrt{2}} {\\begin{bmatrix}1 & 1\\\\1 & -1\\end{bmatrix}} {\\begin{bmatrix}1 \\\\0\\end{bmatrix}} \n",
    "= \\frac{1}{\\sqrt{2}} {\\begin{bmatrix}1\\cdot1 + 1\\cdot0 \\\\ 1\\cdot1 -1\\cdot0\\end{bmatrix}}\n",
    "=  {\\begin{bmatrix}0,7071 \\\\ 0,7071\\end{bmatrix}}\n",
    "= |+>\n",
    "$\n",
    "\n",
    "so $\\alpha = 0.7071$ and $\\beta = 0.7071$, making square of these we can get 0.5 propbility that the qubit is in state `|0>` and `|1>`.\n",
    "\n",
    "We can of course go back to the `|0>` using the Hadamard gate again:\n",
    "\n",
    "$ H|+> \n",
    "= \\frac{1}{\\sqrt{2}} {\\begin{bmatrix}1 & 1\\\\1 & -1\\end{bmatrix}} {\\begin{bmatrix}\\frac{1}{\\sqrt{2}}  \\\\\\frac{1}{\\sqrt{2}} \\end{bmatrix}} \n",
    "= {\\begin{bmatrix}1 \\\\ 0\\end{bmatrix}}\n",
    "= |0>\n",
    "$\n"
   ]
  },
  {
   "cell_type": "markdown",
   "metadata": {},
   "source": [
    "### Numeric"
   ]
  },
  {
   "cell_type": "code",
   "execution_count": 2,
   "metadata": {},
   "outputs": [
    {
     "name": "stdout",
     "output_type": "stream",
     "text": [
      "Initial state |0> \n",
      " [[1.]\n",
      " [0.]] \n",
      "\n",
      " H|0> = |+> \n",
      " [[0.70710678]\n",
      " [0.70710678]]\n",
      "\n",
      " H|+> = |0> \n",
      " [[1.]\n",
      " [0.]]\n"
     ]
    }
   ],
   "source": [
    "# |0>\n",
    "Zero = np.array([[1.],\n",
    "                 [0.]]) \n",
    "\n",
    "H = 1./np.sqrt(2) * np.array([[1, 1],\n",
    "                              [1, -1]])\n",
    "\n",
    "print(\"Initial state |0> \\n %s \" % Zero)\n",
    "\n",
    "Sup = np.dot(H, Zero)\n",
    "print(\"\\n H|0> = |+> \\n %s\" % Sup)\n",
    "\n",
    "Back = np.dot(H, Sup)\n",
    "print(\"\\n H|+> = |0> \\n %s\" % Back)\n"
   ]
  },
  {
   "cell_type": "markdown",
   "metadata": {},
   "source": [
    "### Quantum"
   ]
  },
  {
   "cell_type": "code",
   "execution_count": 3,
   "metadata": {
    "scrolled": true
   },
   "outputs": [
    {
     "name": "stdout",
     "output_type": "stream",
     "text": [
      "         ┌───┐\n",
      "q0_0: |0>┤ H ├\n",
      "         └───┘\n"
     ]
    }
   ],
   "source": [
    "q1 = QuantumRegister(1) # a qubit in the |0> state\n",
    "circ = QuantumCircuit(q1) # Circuit represents a quantum program\n",
    "\n",
    "circ.h(q1) # switch to |+>\n",
    "\n",
    "print(circ)"
   ]
  },
  {
   "cell_type": "code",
   "execution_count": 4,
   "metadata": {},
   "outputs": [
    {
     "name": "stdout",
     "output_type": "stream",
     "text": [
      "{'1': 517, '0': 507}\n"
     ]
    }
   ],
   "source": [
    "# To get final results from the qubit we need a classical register to store measurements\n",
    "c1 = ClassicalRegister(1) \n",
    "circ.add_register(c1)\n",
    "circ.measure(q1, c1)\n",
    "\n",
    "result = execute(circ, backend=backend, shots=1024).result()\n",
    "print(result.get_counts())"
   ]
  },
  {
   "cell_type": "markdown",
   "metadata": {},
   "source": [
    "analizing the result of quantum program, we can see how many times the state `|1>` and `|0>` was measured. We can see that they should be measured almost the same number of times."
   ]
  },
  {
   "cell_type": "code",
   "execution_count": 5,
   "metadata": {},
   "outputs": [
    {
     "name": "stdout",
     "output_type": "stream",
     "text": [
      "         ┌───┐┌───┐\n",
      "q0_0: |0>┤ H ├┤ H ├\n",
      "         └───┘└───┘\n"
     ]
    }
   ],
   "source": [
    "circ = QuantumCircuit(q1)\n",
    "\n",
    "circ.h(q1) # switch to |+>\n",
    "circ.h(q1) # switch back to |0>\n",
    "\n",
    "print(circ)"
   ]
  },
  {
   "cell_type": "code",
   "execution_count": 6,
   "metadata": {},
   "outputs": [
    {
     "name": "stdout",
     "output_type": "stream",
     "text": [
      "{'0': 1024}\n"
     ]
    }
   ],
   "source": [
    "circ.add_register(c1)\n",
    "circ.measure(q1, c1)\n",
    "\n",
    "result = execute(circ, backend=backend, shots=1024).result()\n",
    "print(result.get_counts())"
   ]
  },
  {
   "cell_type": "markdown",
   "metadata": {},
   "source": [
    "this time only the `|0>` state was measured for 1024 times."
   ]
  },
  {
   "cell_type": "markdown",
   "metadata": {},
   "source": [
    "For the classcial bit there is no possiblity to switch it to a *mixed state* and go back to orginal state. That give us a clue that in the quantum computer, using only one bit we have more states that could be used for quantum algoritms."
   ]
  },
  {
   "cell_type": "markdown",
   "metadata": {},
   "source": [
    "## Bit flip"
   ]
  },
  {
   "cell_type": "markdown",
   "metadata": {},
   "source": [
    "Before going further we need to know at least one more get the *Pauli-X gate*. It changes the state from `|0>` to `|1>`.\n",
    "\n",
    "$ X = {\\begin{bmatrix}0 & 1\\\\1 & 0\\end{bmatrix}} $,\n",
    "\n",
    "\n",
    "### Math\n",
    "\n",
    "$ X|0> = {\\begin{bmatrix}0 & 1\\\\1 & 0\\end{bmatrix}} {\\begin{bmatrix}1 \\\\ 0\\end{bmatrix}} = {\\begin{bmatrix}0 \\\\ 1 \\end{bmatrix}} = |1>$,\n"
   ]
  },
  {
   "cell_type": "markdown",
   "metadata": {},
   "source": [
    "### Numeric"
   ]
  },
  {
   "cell_type": "code",
   "execution_count": 7,
   "metadata": {},
   "outputs": [
    {
     "data": {
      "text/plain": [
       "array([[0.],\n",
       "       [1.]])"
      ]
     },
     "execution_count": 7,
     "metadata": {},
     "output_type": "execute_result"
    }
   ],
   "source": [
    "X = np.array([[0, 1],\n",
    "              [1, 0]])\n",
    "\n",
    "np.dot(X, Zero)"
   ]
  },
  {
   "cell_type": "markdown",
   "metadata": {},
   "source": [
    "### Quantum"
   ]
  },
  {
   "cell_type": "code",
   "execution_count": 8,
   "metadata": {},
   "outputs": [
    {
     "name": "stdout",
     "output_type": "stream",
     "text": [
      "         ┌───┐\n",
      "q0_0: |0>┤ X ├\n",
      "         └───┘\n"
     ]
    }
   ],
   "source": [
    "circ = QuantumCircuit(q1)\n",
    "circ.x(q1)\n",
    "print(circ)"
   ]
  },
  {
   "cell_type": "code",
   "execution_count": 9,
   "metadata": {},
   "outputs": [
    {
     "name": "stdout",
     "output_type": "stream",
     "text": [
      "{'1': 1}\n",
      "[0.+0.j 1.+0.j]\n"
     ]
    }
   ],
   "source": [
    "circ.add_register(c1)\n",
    "circ.measure(q1, c1)\n",
    "\n",
    "result = execute(circ, backend=backend_vec).result()\n",
    "print(result.get_counts())\n",
    "print(result.get_statevector())"
   ]
  },
  {
   "cell_type": "markdown",
   "metadata": {},
   "source": [
    "## Making bytes\n",
    "\n",
    "We can combine multiple qubits to store complex state, simmilary as we concatenate bit to create bytes etc.\n",
    "\n",
    "Using two qubits we can build states like: `|00>`, `|10>`, `|0+>` etc.\n",
    "\n",
    "To do that we make a tensor product of two qubits.\n",
    "\n",
    "### Math\n",
    "\n",
    "$ |01> = |0> \\otimes |1> \n",
    "= {\\begin{bmatrix}1 \\\\ 0\\end{bmatrix}} \\otimes {\\begin{bmatrix}0 \\\\ 1\\end{bmatrix}} \n",
    "= {\\begin{bmatrix}1 \\\\ 0\\end{bmatrix}}  {\\begin{bmatrix}0 \\\\ 1\\end{bmatrix}}^{T}\n",
    "= {\\begin{bmatrix}1 \\\\ 0\\end{bmatrix}} {\\begin{bmatrix}0 & 1\\end{bmatrix}}\n",
    "= {\\begin{bmatrix}0\\\\ 1 \\\\ 0 \\\\ 0\\end{bmatrix}} \n",
    "$\n"
   ]
  },
  {
   "cell_type": "markdown",
   "metadata": {},
   "source": [
    "### Numeric"
   ]
  },
  {
   "cell_type": "code",
   "execution_count": 10,
   "metadata": {},
   "outputs": [
    {
     "data": {
      "text/plain": [
       "array([[0.],\n",
       "       [1.],\n",
       "       [0.],\n",
       "       [0.]])"
      ]
     },
     "execution_count": 10,
     "metadata": {},
     "output_type": "execute_result"
    }
   ],
   "source": [
    "One = np.array([[0.],\n",
    "                [1.]]) \n",
    "\n",
    "# Tensor product (Kronecker prodcut in numpy)\n",
    "np.kron(Zero, One)"
   ]
  },
  {
   "cell_type": "markdown",
   "metadata": {},
   "source": [
    "### Quantum"
   ]
  },
  {
   "cell_type": "code",
   "execution_count": 55,
   "metadata": {},
   "outputs": [
    {
     "name": "stdout",
     "output_type": "stream",
     "text": [
      "         ┌───┐\n",
      "q2_0: |0>┤ X ├\n",
      "         └───┘\n",
      "q2_1: |0>─────\n",
      "              \n"
     ]
    }
   ],
   "source": [
    "q2 = QuantumRegister(2) # |00>\n",
    "circ = QuantumCircuit(q2)\n",
    "circ.x(q2[0]) # bit filp on a first qubit counting from right to left (little endian)\n",
    "\n",
    "print(circ)"
   ]
  },
  {
   "cell_type": "code",
   "execution_count": 56,
   "metadata": {},
   "outputs": [
    {
     "name": "stdout",
     "output_type": "stream",
     "text": [
      "{'01': 1}\n",
      "[0.+0.j 1.+0.j 0.+0.j 0.+0.j]\n"
     ]
    }
   ],
   "source": [
    "c2 = ClassicalRegister(2)\n",
    "circ.add_register(c2)\n",
    "circ.measure(q2, c2)\n",
    "result = execute(circ, backend=backend_vec).result()\n",
    "\n",
    "print(result.get_counts())\n",
    "print(result.get_statevector())"
   ]
  },
  {
   "cell_type": "code",
   "execution_count": 96,
   "metadata": {},
   "outputs": [
    {
     "name": "stdout",
     "output_type": "stream",
     "text": [
      "         ┌───┐┌────────────┐┌───┐┌────────────┐\n",
      "q2_0: |0>┤ X ├┤ Ry(1.5708) ├┤ X ├┤ Ry(1.5708) ├\n",
      "         └─┬─┘└────────────┘└─┬─┘└────────────┘\n",
      "q2_1: |0>──■──────────────────■────────────────\n",
      "                                               \n"
     ]
    }
   ],
   "source": [
    "circ = QuantumCircuit(q2)\n",
    "#circ.initialize([0., 1/np.sqrt(2), 1/np.sqrt(2), 0.], [(q2, 0), (q2, 1)])\n",
    "circ.initialize([0., 1, 0, 0.], [(q2, 0), (q2, 1)])\n",
    "\n",
    "print(circ)\n"
   ]
  },
  {
   "cell_type": "code",
   "execution_count": 97,
   "metadata": {},
   "outputs": [
    {
     "name": "stdout",
     "output_type": "stream",
     "text": [
      "{'01': 1024}\n"
     ]
    }
   ],
   "source": [
    "c2 = ClassicalRegister(2)\n",
    "circ.add_register(c2)\n",
    "circ.measure(q2, c2)\n",
    "result = execute(circ, backend=backend).result()\n",
    "\n",
    "print(result.get_counts())\n",
    "#print(result.get_statevector())"
   ]
  },
  {
   "cell_type": "markdown",
   "metadata": {},
   "source": [
    "## Storing 8 states on 3 qubits\n",
    "\n",
    "Using bits we will need 4 bits using qubits it takes 3 bits. Further better.\n",
    "\n",
    "using this addressing + data system with 3 bits would allow us to store information only about one adress+value at the time, while using the 3 qubits we can store information about every (2 pos) adress value at once.\n",
    "\n"
   ]
  },
  {
   "cell_type": "markdown",
   "metadata": {},
   "source": [
    "To store bitstring: `1001` we will need 4 bits.\n",
    "For the same purpose we can usy only 3 qbits. The way is to write down the bistring in notation where first qbits describes the position in a bitstring and the last one the value on this postion. For our `1001` it will be:\n",
    "\n",
    "```\n",
    "   bs | aa v \n",
    "  ----|------- \n",
    "    1 | 00 1 \n",
    "    0 | 01 0\n",
    "    0 | 10 0\n",
    "    1 | 11 1   \n",
    "```\n",
    "The qubits marked by `a` will be storing the adress in the bit string, and the v the value under this adress. We will hold the information **for every adress in the same time**, what would be impossible using the bits becuse then in the same time we can adress only one position in the bitstring.\n",
    "\n",
    "We need to store in our 3 qubits that in the system exists 4 states `|001>, |010>, |100>, |111>` with the same probabilty. Four states because we can address only 4 positions in the bit string, the extra qubit is for storing the value, in fact it system build of 3 qubits there are 8 possible states. We need only four during one pass of the quantum program.\n",
    "\n",
    "\n",
    "$|bs> = \\alpha |001> + \\alpha |010> + \\alpha|100> + \\alpha|111>$\n",
    "\n",
    "The other states does not occur (eg. `|000>`) so thier amplitude is 0.\n",
    "\n",
    "As the $\\alpha$ needs to meet the normalization constraint it is equal to $\\frac{1}{2}$ in our case.\n",
    "\n",
    "Using quantum gates we need to setup our system in that way, that after measurement of qubits states it will return states: `|001>, |010>, |100>, |111>` with equal probability."
   ]
  },
  {
   "cell_type": "code",
   "execution_count": 101,
   "metadata": {},
   "outputs": [
    {
     "data": {
      "text/plain": [
       "3"
      ]
     },
     "execution_count": 101,
     "metadata": {},
     "output_type": "execute_result"
    }
   ],
   "source": [
    "BS1 = '1001'\n",
    "n = math.ceil(math.log2(len(BS1))) + 1  # number of qubits\n",
    "n"
   ]
  },
  {
   "cell_type": "markdown",
   "metadata": {},
   "source": [
    "## Encoding 7 bits on 4 qubits\n",
    "The bitstring is a string of zero and ones, that represents some kind of information. This colud be interpreted as number, eg. interpreting as binary numer `1000001` is `65`, or interpreting as ASCII it is letter `A`.\n",
    "For the classcial computer to store this information we need to use 7 bits.\n",
    "\n",
    "For quantum computer, using the *Quantum Superpostion* a bitstring could be encoded and store in more comperhensive fasion. We only need to get the set of unique states that can describe the bitstring of given length. The ways is to write down the bistring in notation where first bits describes the position in a bitstring and the last one the data: zero or one. For our `1000001` it will be: \n",
    "\n",
    "```\n",
    "   bs | pppd \n",
    "  ----|------ \n",
    "    1 | 0001 \n",
    "    0 | 0010\n",
    "    0 | 0100\n",
    "    0 | 0110\n",
    "    0 | 1000\n",
    "    0 | 1010\n",
    "    0 | 1100\n",
    "    1 | 1111\n",
    "```\n",
    "So as can we see we need only 4 qubits to store the 7 length bitstring. In a quantum notation it will be:\n",
    "\n",
    "$$ |bs> = \\alpha|0001> + \\alpha|0001> + ... + \\alpha|1100> + \\alpha|1111>$$\n",
    "\n",
    "where $\\alpha$ is the probability amplitude that needs to meet the requirement $|\\alpha_1|^2 + ... + |\\alpha_n|^2  = 1$. \n",
    "\n",
    "For example:\n",
    "$ \\alpha|0001>$ tells us that there is probability of $|\\alpha|^2$ that the system is in state $|0001>$, and there is $0$ probability that it is in the state $|0000>$, as it doesn't occure in the equation. So we can be sure that on the first postion (`000`) of the bitstring there should be `1`. In the real quantum system, making the multiple measurements of its state will give us as a count for the every of the shown states and no measurements for the state that was not listed, that's the way that we decode the bitstring from the quantum chip. Of course in the real system there are noises, so there is a possbility that we also get the counts for the state that was not set up in the system eg. for $|0000>$, but we exlude it as in a muliple measurements it will have much lower probablity then the $|0001>$ state.\n",
    "\n",
    "Finish it with state intialization.\n",
    "Show inversion of the string and explain that the unitary matrix makes it come back to initial state. But starting with inverted circuit on the initial state will not end up in inverted bitstring in the computer science way."
   ]
  },
  {
   "cell_type": "markdown",
   "metadata": {},
   "source": [
    "## Initialzing the quantum chip\n",
    "\n",
    "To initialize the quantum chip we will use the `qiskit.QuantumCircuit.initialize()` function. In our case we will need to prepare a init vector describing our bitstring with amplitude probabilites. As we know we can map classcial bit `0` and `1` to the following quantum base states $|0> = \\begin{pmatrix} 1 \\\\ 0 \\end{pmatrix}$ and $|1> = \\begin{pmatrix} 0 \\\\ 1 \\end{pmatrix}$.\n",
    "\n",
    "We also need to calculte the $\\alpha$. As the every state in this quantum system could exists in a equal probability we can use the expression: $\\alpha = \\sqrt{\\frac{1}{2^{n-1}}}$\n",
    "\n",
    "For the `1000001`  $\\alpha = \\sqrt{\\frac{1}{2^{3}}} = 0.35355$ and the matrix looking like:\n",
    "$|1000001> = 0.35355 * \\begin{bmatrix} \\begin{pmatrix} 0 \\\\ 1 \\end{pmatrix} + \\begin{pmatrix} 1 \\\\ 0 \\end{pmatrix} + ... + \\begin{pmatrix} 1 \\\\ 0 \\end{pmatrix} + \\begin{pmatrix} 0 \\\\ 1 \\end{pmatrix} \\end{bmatrix}$\n",
    "\n",
    "The implementation of the following method is covered by the below `encode_bistring()` function."
   ]
  },
  {
   "cell_type": "code",
   "execution_count": null,
   "metadata": {},
   "outputs": [],
   "source": [
    "import math\n",
    "import numpy as np\n",
    "import qiskit\n",
    "from qiskit import Aer\n",
    "from qiskit import QuantumCircuit, QuantumRegister, ClassicalRegister\n",
    "from qiskit import execute\n",
    "from qiskit.tools.visualization import plot_histogram\n",
    "\n",
    "qiskit.IBMQ.load_accounts()\n",
    "backend = Aer.get_backend('qasm_simulator')\n",
    "shots = 100\n"
   ]
  },
  {
   "cell_type": "code",
   "execution_count": 117,
   "metadata": {},
   "outputs": [],
   "source": [
    "def encode_bitstring(bitstring, qr, cr, inverse=False):\n",
    "    \"\"\"\n",
    "    create a circuit for constructing the quantum superposition of the bitstring\n",
    "    \"\"\"\n",
    "    n = math.ceil(math.log2(len(bitstring))) + 1  # number of qubits\n",
    "    assert n > 2, \"the length of bitstring must be at least 2\"\n",
    "\n",
    "    qc = QuantumCircuit(qr, cr)\n",
    "\n",
    "    # the probability amplitude of the desired state\n",
    "    desired_vector = np.array([0.0 for i in range(2 ** n)])  # initialize to zero\n",
    "    amplitude = np.sqrt(1.0 / 2 ** (n - 1))\n",
    "    print(\"amplitude: %s\" % amplitude)\n",
    "\n",
    "    for i, b in enumerate(bitstring):\n",
    "        pos = i * 2\n",
    "        if b == \"1\" or b == \"M\":\n",
    "            pos += 1\n",
    "        desired_vector[pos] = amplitude\n",
    "    print(\"Desired vector: %s\" % desired_vector)\n",
    "    if not inverse:\n",
    "        qc.initialize(desired_vector, [qr[i] for i in range(n)])\n",
    "    else:\n",
    "        qc.initialize(desired_vector, [qr[i] for i in range(n)]).inverse()  # invert the circuit\n",
    "    \n",
    "\n",
    "    return qc"
   ]
  },
  {
   "cell_type": "markdown",
   "metadata": {},
   "source": [
    "Let's prepeare exmple data for our tututorial:"
   ]
  },
  {
   "cell_type": "code",
   "execution_count": 113,
   "metadata": {},
   "outputs": [],
   "source": [
    "BS1 = '1001'\n"
   ]
  },
  {
   "cell_type": "code",
   "execution_count": 118,
   "metadata": {},
   "outputs": [],
   "source": [
    "n = math.ceil(math.log2(len(BS1))) + 1  # number of qubits\n",
    "qr = QuantumRegister(n)\n",
    "cr = ClassicalRegister(n)"
   ]
  },
  {
   "cell_type": "markdown",
   "metadata": {},
   "source": [
    "## BS1 write and read back"
   ]
  },
  {
   "cell_type": "markdown",
   "metadata": {},
   "source": [
    "In the first step let's try to encode the bitstring BS1 to the described notation, then store it in the quantum chip, and try to read it back from the quantum machine and decode to see if we will get the orginal bitstring."
   ]
  },
  {
   "cell_type": "code",
   "execution_count": 119,
   "metadata": {},
   "outputs": [
    {
     "name": "stdout",
     "output_type": "stream",
     "text": [
      "amplitude: 0.5\n",
      "Desired vector: [0.  0.5 0.5 0.  0.5 0.  0.  0.5]\n",
      "                                     ┌───┐┌───┐┌────────────┐┌───┐┌───┐»\n",
      "q5_0: |0>────────────────────────────┤ X ├┤ X ├┤ Ry(1.5708) ├┤ X ├┤ X ├»\n",
      "                       ┌────────────┐└─┬─┘└─┬─┘└────────────┘└─┬─┘└─┬─┘»\n",
      "q5_1: |0>──────────────┤ Ry(1.5708) ├──┼────■──────────────────┼────■──»\n",
      "         ┌────────────┐└────────────┘  │                       │       »\n",
      "q5_2: |0>┤ Ry(1.5708) ├────────────────■───────────────────────■───────»\n",
      "         └────────────┘                                                »\n",
      "c35_0: 0 ══════════════════════════════════════════════════════════════»\n",
      "                                                                       »\n",
      "c35_1: 0 ══════════════════════════════════════════════════════════════»\n",
      "                                                                       »\n",
      "c35_2: 0 ══════════════════════════════════════════════════════════════»\n",
      "                                                                       »\n",
      "«       ┌────────────┐┌───┐┌───┐┌───┐┌───┐\n",
      "« q5_0: ┤ Ry(1.5708) ├┤ X ├┤ X ├┤ X ├┤ X ├\n",
      "«       └────────────┘└─┬─┘└─┬─┘└─┬─┘└─┬─┘\n",
      "« q5_1: ────────────────┼────■────┼────■──\n",
      "«                       │         │       \n",
      "« q5_2: ────────────────■─────────■───────\n",
      "«                                         \n",
      "«c35_0: ══════════════════════════════════\n",
      "«                                         \n",
      "«c35_1: ══════════════════════════════════\n",
      "«                                         \n",
      "«c35_2: ══════════════════════════════════\n",
      "«                                         \n"
     ]
    }
   ],
   "source": [
    "qc_1 = encode_bitstring(BS1, qr, cr)\n",
    "print(qc_1)"
   ]
  },
  {
   "cell_type": "markdown",
   "metadata": {},
   "source": [
    "Above we can see a compostion of quantum gates that are reqiured to setup up qubits to represent our bitstring. To check if the sequence is realy setup on the device we have to add mesurement at the and of the cricut and run the quantum program (the quantum circut) on the quantum device:"
   ]
  },
  {
   "cell_type": "code",
   "execution_count": 116,
   "metadata": {},
   "outputs": [
    {
     "data": {
      "image/png": "[encoded data removed]",
      "text/plain": [
       "<Figure size 504x360 with 1 Axes>"
      ]
     },
     "execution_count": 116,
     "metadata": {},
     "output_type": "execute_result"
    }
   ],
   "source": [
    "qc_1.measure(qr, cr)\n",
    "job = execute(qc_1 , backend=backend)\n",
    "st = job.result().get_counts()\n",
    "plot_histogram(st)"
   ]
  },
  {
   "cell_type": "markdown",
   "metadata": {},
   "source": [
    "Sending this curcit, that encodes a bit string, to the quantum chip gives us results how many times the specific state (encode as postion,value) was messured and finally the probability that it exists.\n",
    "\n",
    "Eg. it was measured that state `0001` exists with probability $0.13$. There is no `0000` state that means that this state did occure. That make us sure that on the position `000` in a bit string there should be `1`. Anlogulsly on the posstion `001` there is `0`. \n",
    "\n",
    "In real life, imperfections happen. So you could use the probability to resolve ambiguities: if you find both 0000 and 0001 in your results, accept the most probable and reject the other as noise."
   ]
  },
  {
   "cell_type": "markdown",
   "metadata": {},
   "source": [
    "We can decode the string from the states above, to check if we get it back from the quantum chip.\n"
   ]
  },
  {
   "cell_type": "code",
   "execution_count": null,
   "metadata": {},
   "outputs": [],
   "source": [
    "def decode_bitstring(counts):\n",
    "    decoded_string = [ '' for _ in range(len(BS1)) ] # list with blank spaces for 8 bit values\n",
    "    for string in counts: # loop over all 4 bit strings in result  \n",
    "        pos = int(string[0:3], 2) # get integer that corresponds to first three bits\n",
    "        decoded_string[pos] = string[3] # set the value of the decoded string at this position to the fouth bit\n",
    "    decoded_string = ''.join(decoded_string) # turn list of 8 bit values into 8 bit string\n",
    "    return decoded_string\n",
    "\n",
    "bs1_decoded = decode_bitstring(st)\n",
    "bs1_decoded"
   ]
  },
  {
   "cell_type": "code",
   "execution_count": null,
   "metadata": {},
   "outputs": [],
   "source": [
    "bs1_decoded == BS1"
   ]
  },
  {
   "cell_type": "markdown",
   "metadata": {},
   "source": [
    "## BS1_inverted measure"
   ]
  },
  {
   "cell_type": "code",
   "execution_count": null,
   "metadata": {},
   "outputs": [],
   "source": [
    "qc_1i = encode_bitstring(BS1, qr, cr, True)\n",
    "qc_1i.x(qr)\n",
    "qc_1i.measure(qr, cr)\n",
    "job = execute(qc_1i , backend=backend, shots=shots)\n",
    "st = job.result().get_counts()\n",
    "plot_histogram(st)"
   ]
  },
  {
   "cell_type": "code",
   "execution_count": null,
   "metadata": {},
   "outputs": [],
   "source": [
    "decode_bitstring(st)"
   ]
  },
  {
   "cell_type": "code",
   "execution_count": null,
   "metadata": {},
   "outputs": [],
   "source": [
    "print(qc_1i)"
   ]
  },
  {
   "cell_type": "code",
   "execution_count": null,
   "metadata": {
    "scrolled": true
   },
   "outputs": [],
   "source": [
    "qc_1i = encode_bitstring(BS1, qr, cr, True)\n",
    "qc_1i.measure(qr, cr)\n",
    "job = execute(qc_1i , backend=backend, shots=shots)\n",
    "st = job.result().get_counts()\n",
    "plot_histogram(st)"
   ]
  },
  {
   "cell_type": "code",
   "execution_count": null,
   "metadata": {},
   "outputs": [],
   "source": [
    "decode_bitstring(st)"
   ]
  },
  {
   "cell_type": "markdown",
   "metadata": {},
   "source": [
    "**(??? 4)**\n",
    "\n",
    "Why the inverted string consist only with 1? I've exptected it to be: 10000001 > 01111110"
   ]
  },
  {
   "cell_type": "markdown",
   "metadata": {},
   "source": [
    "## Comparing the BS1 with BS1_inverted"
   ]
  },
  {
   "cell_type": "markdown",
   "metadata": {},
   "source": [
    "Let's denote $|BS1>$ as the superpostion state created by the `encode_bitstring(BS1, ...)` and $ |BS1_i> $ as the superpostion state created by the `encode_bitstring(BS1, ..., inverse=True)`. This states are orthogonal if:\n",
    "$$ <BS1|BS1_i> = 0 $$"
   ]
  },
  {
   "cell_type": "code",
   "execution_count": null,
   "metadata": {},
   "outputs": [],
   "source": [
    "qc_1 = encode_bitstring(BS1, qr, cr)\n",
    "qc_1.barrier(qr)\n",
    "qc_1i = encode_bitstring(BS1, qr, cr, True)\n",
    "qc_1i.measure(qr, cr)\n",
    "qc_comb = qc_1 + qc_1i\n",
    "job = execute(qc_comb , backend=backend, shots=shots)\n",
    "st = job.result().get_counts()\n",
    "plot_histogram(st)"
   ]
  },
  {
   "cell_type": "markdown",
   "metadata": {},
   "source": [
    "The initial state of any circuit is represented by `0` for all it's qubits. So in our case `0000` is the initial state of the circut - all the qubits are `0`, so far no position is set (for the first three qubits, and no data is set for the last qubit). In the initial state of the circut we dont interpreted the `0000` as the `0` bit on the first postion of the bit string.\n",
    "\n",
    "Analising the quantum algorithm step by step:\n",
    "\n",
    "1. We start with the initial state of the circut `0000`.\n",
    "2. We initialize the circut with the BS1 string. Now the state of the circut represents the bit string.\n",
    "3. We input the inverted bitstring and in the effect we get the circut back to the initial state which is `0000`. No other states where counted.\n",
    "\n",
    "\n",
    "**TODO**\n",
    "\n",
    "Explain the barrier gate."
   ]
  },
  {
   "cell_type": "code",
   "execution_count": null,
   "metadata": {},
   "outputs": [],
   "source": [
    "from qiskit.tools.visualization import plot_state_city\n",
    "plot_state_city(vector)"
   ]
  },
  {
   "cell_type": "markdown",
   "metadata": {},
   "source": [
    "## Comparing the BS1 with BS2_inverted"
   ]
  },
  {
   "cell_type": "markdown",
   "metadata": {},
   "source": [
    "**TODO** We can write:\n",
    "$$ |BS2> = a|BS1> + b|other\\_state> $$\n",
    "$$ |BS2> = a|BS1> + b|BS2_i> $$\n",
    "$$ |BS1> = a|BS1> + b|BS1_i> $$\n",
    "$$ |oth> = a|BS1> + b|BS2_i> $$\n",
    "$$ |oth> = <BS1|BS2_i> $$\n",
    "\n",
    "\n",
    "Check it..."
   ]
  },
  {
   "cell_type": "code",
   "execution_count": null,
   "metadata": {},
   "outputs": [],
   "source": [
    "qc_1 = encode_bitstring(BS1, qr, cr)\n",
    "qc_1.barrier(qr)\n",
    "qc_2i = encode_bitstring(BS2, qr, cr, True)\n",
    "qc_2i.measure(qr, cr)\n",
    "qc_comb = qc_1 + qc_2i\n",
    "job = execute(qc_comb , backend=backend, shots=shots)\n",
    "st = job.result().get_counts()\n",
    "plot_histogram(st)"
   ]
  },
  {
   "cell_type": "markdown",
   "metadata": {},
   "source": [
    "Let's denote $ |BS1> $ as the superpostion state created by the `encode_bitstring(BS1, ...)` and $ |BS2> $ as the \n",
    "**(??? 3)**\n",
    "\n",
    "By looking only on state 0000 we get information how simmilar are the two bitstrings. (but why only 0000 state?)"
   ]
  },
  {
   "cell_type": "markdown",
   "metadata": {},
   "source": [
    "For better basics explanation you should go through: https://qiskit.org/documentation/terra/overview.html.\n"
   ]
  }
 ],
 "metadata": {
  "kernelspec": {
   "display_name": "Python 3",
   "language": "python",
   "name": "python3"
  },
  "language_info": {
   "codemirror_mode": {
    "name": "ipython",
    "version": 3
   },
   "file_extension": ".py",
   "mimetype": "text/x-python",
   "name": "python",
   "nbconvert_exporter": "python",
   "pygments_lexer": "ipython3",
   "version": "3.6.1"
  }
 },
 "nbformat": 4,
 "nbformat_minor": 2
}
