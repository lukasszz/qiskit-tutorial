{
 "cells": [
  {
   "cell_type": "markdown",
   "metadata": {},
   "source": [
    "The qubit is represented by a linear superposition:\n",
    "\n",
    "$ |q> = \\alpha |0> + \\beta |1> $\n",
    "\n",
    "of two orhtornormal basis states: \n",
    "\n",
    "$ |0> = {\\begin{bmatrix}1 \\\\ 0\\end{bmatrix}} $,\n",
    "\n",
    "$ |1> = {\\begin{bmatrix}0 \\\\ 1\\end{bmatrix}} $.\n",
    "\n",
    "so we can write it:\n",
    "$ |q> = {\\begin{bmatrix}\\alpha \\\\ 0\\end{bmatrix}} +  {\\begin{bmatrix}0 \\\\ \\beta \\end{bmatrix}} =  {\\begin{bmatrix} \\alpha \\\\ \\beta \\end{bmatrix}} $. \n",
    "\n",
    "$ \\alpha $ and $ \\beta $ are the probability amplitudes, and are just a complex numbers, that meets the requirement $|\\alpha|^2 + |\\beta|^2  = 1$. \n",
    "\n",
    "A classical bit can have only two states 0 or 1. But a cubit can exist in any of the states varing the $\\alpha$ and $\\beta$ parameters constrained. For the quantum computing the beside basis states: `|0>`, `|1>` the superpostion states, `|+>`, `|->`. In these states there is is qual probabilty that makeing the measurement we will get `|0>` or `|1>` state. The other possible states are called *Mixed states*. The qubit states can be visualised on the *Bloch Sphere*.\n"
   ]
  },
  {
   "cell_type": "code",
   "execution_count": 52,
   "metadata": {},
   "outputs": [],
   "source": [
    "# Qubit basis states\n",
    "import numpy as np\n",
    "\n",
    "q0 = np.array([[1.],\n",
    "              [0.]])\n",
    "q1 = np.array([[0.],\n",
    "              [1.]])"
   ]
  },
  {
   "cell_type": "markdown",
   "metadata": {},
   "source": [
    "To create a superpostion state we need to use a Hadamard gate, which is a matrix: \n",
    "\n",
    "H = $ \\frac{1}{\\sqrt{2}} {\\begin{bmatrix}1 & 1\\\\1 & -1\\end{bmatrix}} $,"
   ]
  },
  {
   "cell_type": "code",
   "execution_count": 53,
   "metadata": {},
   "outputs": [
    {
     "data": {
      "text/plain": [
       "array([[ 0.70710678,  0.70710678],\n",
       "       [ 0.70710678, -0.70710678]])"
      ]
     },
     "execution_count": 53,
     "metadata": {},
     "output_type": "execute_result"
    }
   ],
   "source": [
    "hGate = 1./np.sqrt(2) * np.array([[1, 1],\n",
    "                                     [1, -1]])\n",
    "hGate"
   ]
  },
  {
   "cell_type": "code",
   "execution_count": 54,
   "metadata": {},
   "outputs": [
    {
     "data": {
      "text/plain": [
       "array([[0.70710678],\n",
       "       [0.70710678]])"
      ]
     },
     "execution_count": 54,
     "metadata": {},
     "output_type": "execute_result"
    }
   ],
   "source": [
    "q_plus = np.dot(hGate, q0)\n",
    "q_plus"
   ]
  },
  {
   "cell_type": "code",
   "execution_count": 4,
   "metadata": {},
   "outputs": [],
   "source": [
    "q_minus = np.dot(hGate, q1)"
   ]
  },
  {
   "cell_type": "markdown",
   "metadata": {},
   "source": [
    "and going back:"
   ]
  },
  {
   "cell_type": "code",
   "execution_count": 5,
   "metadata": {
    "scrolled": true
   },
   "outputs": [
    {
     "data": {
      "text/plain": [
       "array([[1.],\n",
       "       [0.]])"
      ]
     },
     "execution_count": 5,
     "metadata": {},
     "output_type": "execute_result"
    }
   ],
   "source": [
    "np.dot(hGate, q_plus)"
   ]
  },
  {
   "cell_type": "code",
   "execution_count": 6,
   "metadata": {},
   "outputs": [
    {
     "data": {
      "text/plain": [
       "array([[0.],\n",
       "       [1.]])"
      ]
     },
     "execution_count": 6,
     "metadata": {},
     "output_type": "execute_result"
    }
   ],
   "source": [
    "np.dot(hGate, q_minus)"
   ]
  },
  {
   "cell_type": "markdown",
   "metadata": {},
   "source": [
    "## Flipping the bit"
   ]
  },
  {
   "cell_type": "markdown",
   "metadata": {},
   "source": [
    "To change a qubit state we need to use the quantum gates. \n",
    "\n",
    "To make a *bit flip* and change the state from `|0>` to `|1>` we use the *Pauli-X gate*:\n",
    "\n",
    "$ X = {\\begin{bmatrix}0 & 1\\\\1 & 0\\end{bmatrix}} $,\n",
    "\n",
    "#### Math\n",
    "\n",
    "$ {\\begin{bmatrix}0 & 1\\\\1 & 0\\end{bmatrix}} {\\begin{bmatrix}1 \\\\ 0\\end{bmatrix}} = {\\begin{bmatrix}0 \\\\ 1 \\end{bmatrix}}$,\n"
   ]
  },
  {
   "cell_type": "markdown",
   "metadata": {},
   "source": [
    "#### Numpy"
   ]
  },
  {
   "cell_type": "code",
   "execution_count": 7,
   "metadata": {},
   "outputs": [
    {
     "data": {
      "text/plain": [
       "array([[0.],\n",
       "       [1.]])"
      ]
     },
     "execution_count": 7,
     "metadata": {},
     "output_type": "execute_result"
    }
   ],
   "source": [
    "x_gate = np.array([[0, 1],\n",
    "                   [1, 0]])\n",
    "\n",
    "np.dot(x_gate, q0)"
   ]
  },
  {
   "cell_type": "code",
   "execution_count": 8,
   "metadata": {},
   "outputs": [
    {
     "data": {
      "text/plain": [
       "array([[1.],\n",
       "       [0.]])"
      ]
     },
     "execution_count": 8,
     "metadata": {},
     "output_type": "execute_result"
    }
   ],
   "source": [
    "np.dot(x_gate, q1)"
   ]
  },
  {
   "cell_type": "markdown",
   "metadata": {},
   "source": [
    "#### Quantum \n",
    "\n",
    "To perform the bit flip on a qubit we need to build a quantum circut what we can understand as a linear quantum program. We would also need a classcical register for storing the result retrivied from the qubit."
   ]
  },
  {
   "cell_type": "code",
   "execution_count": 31,
   "metadata": {},
   "outputs": [],
   "source": [
    "import qiskit\n",
    "from qiskit import Aer\n",
    "from qiskit import QuantumRegister, ClassicalRegister, QuantumCircuit\n",
    "from qiskit import execute\n",
    "# qiskit.IBMQ.load_accounts()\n",
    "backend = Aer.get_backend('qasm_simulator')\n",
    "backend_vec= Aer.get_backend('statevector_simulator')"
   ]
  },
  {
   "cell_type": "code",
   "execution_count": 10,
   "metadata": {},
   "outputs": [
    {
     "data": {
      "text/plain": [
       "<qiskit.circuit.instructionset.InstructionSet at 0x7f9b5010a0f0>"
      ]
     },
     "execution_count": 10,
     "metadata": {},
     "output_type": "execute_result"
    }
   ],
   "source": [
    "qr1 = QuantumRegister(1) # The initial state for every qubit is |0> by default\n",
    "cr1 = ClassicalRegister(1)\n",
    "qc = QuantumCircuit(qr1, cr1)\n",
    "\n",
    "qc.x(qr1) # a bit flip\n",
    "\n",
    "qc.measure(qr1, cr1)\n",
    "\n",
    "\n"
   ]
  },
  {
   "cell_type": "markdown",
   "metadata": {},
   "source": [
    "Now we can see how the quantum program is designed:"
   ]
  },
  {
   "cell_type": "code",
   "execution_count": 11,
   "metadata": {},
   "outputs": [
    {
     "name": "stdout",
     "output_type": "stream",
     "text": [
      "         ┌───┐┌─┐\n",
      "q0_0: |0>┤ X ├┤M├\n",
      "         └───┘└╥┘\n",
      " c0_0: 0 ══════╩═\n",
      "                 \n"
     ]
    }
   ],
   "source": [
    "print(qc)"
   ]
  },
  {
   "cell_type": "markdown",
   "metadata": {},
   "source": [
    "and finally run it on a quantum device or simualtor:"
   ]
  },
  {
   "cell_type": "code",
   "execution_count": 12,
   "metadata": {},
   "outputs": [
    {
     "name": "stdout",
     "output_type": "stream",
     "text": [
      "{'1': 100}\n"
     ]
    }
   ],
   "source": [
    "job = execute(qc , backend=backend, shots=100)\n",
    "st = job.result().get_counts()\n",
    "print(st)"
   ]
  },
  {
   "cell_type": "markdown",
   "metadata": {},
   "source": [
    "as the result we can see that the state `|1>` was measured 100 hunderd times, and it is the only state that was measured."
   ]
  },
  {
   "cell_type": "markdown",
   "metadata": {},
   "source": [
    "## Making bytes\n",
    "\n",
    "We can combine multiple qubits to store complex state, simmilary as we concatenate bit to create bytes etc.\n",
    "\n",
    "Using two qubits we can build states like: `|00>`, `|10>`, `|0+>` etc.\n",
    "\n",
    "To do that we make a tensor product of two qubits:\n",
    "\n",
    "$ |01> = |0> \\otimes |1> \n",
    "= {\\begin{bmatrix}1 \\\\ 0\\end{bmatrix}} \\otimes {\\begin{bmatrix}0 \\\\ 1\\end{bmatrix}} \n",
    "= {\\begin{bmatrix}1 \\\\ 0\\end{bmatrix}}  {\\begin{bmatrix}0 \\\\ 1\\end{bmatrix}}^{T}\n",
    "= {\\begin{bmatrix}1 \\\\ 0\\end{bmatrix}} {\\begin{bmatrix}0 & 1\\end{bmatrix}}\n",
    "= {\\begin{bmatrix}0\\\\ 1 \\\\ 0 \\\\ 0\\end{bmatrix}} \n",
    "$\n"
   ]
  },
  {
   "cell_type": "markdown",
   "metadata": {},
   "source": [
    "#### Numeric"
   ]
  },
  {
   "cell_type": "code",
   "execution_count": 13,
   "metadata": {},
   "outputs": [
    {
     "data": {
      "text/plain": [
       "array([[0.],\n",
       "       [1.],\n",
       "       [0.],\n",
       "       [0.]])"
      ]
     },
     "execution_count": 13,
     "metadata": {},
     "output_type": "execute_result"
    }
   ],
   "source": [
    "# Tensor product (Kronecker prodcut in numpy)\n",
    "np.kron(q0, q1)"
   ]
  },
  {
   "cell_type": "markdown",
   "metadata": {},
   "source": [
    "#### Quantum"
   ]
  },
  {
   "cell_type": "code",
   "execution_count": 45,
   "metadata": {},
   "outputs": [
    {
     "name": "stdout",
     "output_type": "stream",
     "text": [
      "                  ┌───┐┌─┐\n",
      "q16_0: |0>────────┤ X ├┤M├\n",
      "          ┌───┐┌─┐└───┘└╥┘\n",
      "q16_1: |0>┤ X ├┤M├──────╫─\n",
      "          └───┘└╥┘      ║ \n",
      " c13_0: 0 ══════╬═══════╩═\n",
      "                ║         \n",
      " c13_1: 0 ══════╩═════════\n",
      "                          \n"
     ]
    }
   ],
   "source": [
    "qr1 = QuantumRegister(2) # |00>\n",
    "cr1 = ClassicalRegister(2) # for retreiving measurements from qubits\n",
    "qc2 = QuantumCircuit(qr1, cr1)\n",
    "qc2.x(qr1[0]) # bit filp on a first qubit counting from right to left (little endian)\n",
    "qc2.measure(qr1, cr1)\n",
    "print(qc)\n"
   ]
  },
  {
   "cell_type": "code",
   "execution_count": 46,
   "metadata": {},
   "outputs": [
    {
     "name": "stdout",
     "output_type": "stream",
     "text": [
      "{'01': 1}\n",
      "[0.+0.j 1.+0.j 0.+0.j 0.+0.j]\n"
     ]
    }
   ],
   "source": [
    "result = execute(qc2, backend_vec, shots=100).result()\n",
    "state = result.get_counts()\n",
    "vector = result.get_statevector(qc2)\n",
    "\n",
    "print(state)\n",
    "print(vector)\n"
   ]
  },
  {
   "cell_type": "code",
   "execution_count": 42,
   "metadata": {},
   "outputs": [
    {
     "data": {
      "image/png": "[encoded data removed]",
      "text/plain": [
       "<Figure size 1080x360 with 2 Axes>"
      ]
     },
     "execution_count": 42,
     "metadata": {},
     "output_type": "execute_result"
    }
   ],
   "source": [
    "from qiskit.tools.visualization import plot_state_city\n",
    "plot_state_city(vector)\n"
   ]
  },
  {
   "cell_type": "markdown",
   "metadata": {},
   "source": [
    "We can see it more cleary if we create two separate registers."
   ]
  },
  {
   "cell_type": "code",
   "execution_count": 16,
   "metadata": {},
   "outputs": [
    {
     "name": "stdout",
     "output_type": "stream",
     "text": [
      "            ┌───┐┌─┐\n",
      "q2_0: |0>───┤ X ├┤M├\n",
      "         ┌─┐└───┘└╥┘\n",
      "q3_0: |0>┤M├──────╫─\n",
      "         └╥┘      ║ \n",
      " c2_0: 0 ═╬═══════╩═\n",
      "          ║         \n",
      " c2_1: 0 ═╩═════════\n",
      "                    \n"
     ]
    }
   ],
   "source": [
    "qr3 = QuantumRegister(1) # |0>\n",
    "qr4 = QuantumRegister(1) # |0>\n",
    "cr3 = ClassicalRegister(2) # for retreiving measurements from qubits\n",
    "qc2 = QuantumCircuit(qr3, qr4, cr3)\n",
    "qc2.x(qr3) # bit filp on a first qubit counting from right to left (little endian)\n",
    "qc2.measure(qr3[0], cr3[0])\n",
    "qc2.measure(qr4[0], cr3[1])\n",
    "print(qc2)\n"
   ]
  },
  {
   "cell_type": "code",
   "execution_count": 17,
   "metadata": {},
   "outputs": [
    {
     "name": "stdout",
     "output_type": "stream",
     "text": [
      "{'01': 100}\n"
     ]
    }
   ],
   "source": [
    "job = execute(qc2 , backend=backend, shots=100)\n",
    "st = job.result().get_counts()\n",
    "print(st)"
   ]
  },
  {
   "cell_type": "markdown",
   "metadata": {},
   "source": [
    "Bit flip on the all qubits in the circuit"
   ]
  },
  {
   "cell_type": "code",
   "execution_count": 23,
   "metadata": {},
   "outputs": [
    {
     "name": "stdout",
     "output_type": "stream",
     "text": [
      "                  ┌─┐\n",
      "q14_0: |0>────────┤M├\n",
      "          ┌───┐┌─┐└╥┘\n",
      "q15_0: |0>┤ X ├┤M├─╫─\n",
      "          └───┘└╥┘ ║ \n",
      " c11_0: 0 ══════╬══╩═\n",
      "                ║    \n",
      " c12_0: 0 ══════╩════\n",
      "                     \n"
     ]
    }
   ],
   "source": [
    "q0 = QuantumRegister(1)\n",
    "q1 = QuantumRegister(1)\n",
    "c0 = ClassicalRegister(1)\n",
    "c1 = ClassicalRegister(1)\n",
    "\n",
    "qc = QuantumCircuit(q0, q1, c0, c1)\n",
    "qc.x(q1)\n",
    "qc.measure(q0, c0)\n",
    "qc.measure(q1, c1)\n",
    "print(qc)"
   ]
  },
  {
   "cell_type": "code",
   "execution_count": 24,
   "metadata": {},
   "outputs": [
    {
     "name": "stdout",
     "output_type": "stream",
     "text": [
      "                  ┌───┐┌─┐\n",
      "q16_0: |0>────────┤ X ├┤M├\n",
      "          ┌───┐┌─┐└───┘└╥┘\n",
      "q16_1: |0>┤ X ├┤M├──────╫─\n",
      "          └───┘└╥┘      ║ \n",
      " c13_0: 0 ══════╬═══════╩═\n",
      "                ║         \n",
      " c13_1: 0 ══════╩═════════\n",
      "                          \n"
     ]
    }
   ],
   "source": [
    "q0 = QuantumRegister(2)\n",
    "c0 = ClassicalRegister(2)\n",
    "\n",
    "qc = QuantumCircuit(q0, c0)\n",
    "qc.x(q0)\n",
    "qc.measure(q0, c0)\n",
    "print(qc)"
   ]
  },
  {
   "cell_type": "code",
   "execution_count": 25,
   "metadata": {},
   "outputs": [
    {
     "name": "stdout",
     "output_type": "stream",
     "text": [
      "{'11': 100}\n"
     ]
    }
   ],
   "source": [
    "job = execute(qc , backend=backend, shots=100)\n",
    "st = job.result().get_counts()\n",
    "print(st)"
   ]
  },
  {
   "cell_type": "code",
   "execution_count": 28,
   "metadata": {},
   "outputs": [
    {
     "name": "stdout",
     "output_type": "stream",
     "text": [
      "[0.+0.j 0.+0.j 0.+0.j 1.+0.j]\n"
     ]
    }
   ],
   "source": [
    "backend_sim = Aer.get_backend('statevector_simulator')\n",
    "result = execute(qc, backend_sim).result()\n",
    "state = result.get_statevector(qc)\n",
    "print(state)"
   ]
  },
  {
   "cell_type": "markdown",
   "metadata": {},
   "source": [
    "As we can see, when we create register containg more qubits, then we can act with a gate on all the qubits in the register at once. Of course we can still precisely point the desidred qubit using index operator `[]` eg. `q0[1]`."
   ]
  },
  {
   "cell_type": "markdown",
   "metadata": {},
   "source": [
    "{\\displaystyle {\\begin{aligned}\\mathbf {u} \\otimes \\mathbf {v} =\\mathbf {u} \\mathbf {v} ^{\\top }={\\begin{bmatrix}u_{1}\\\\u_{2}\\\\u_{3}\\\\u_{4}\\end{bmatrix}}{\\begin{bmatrix}v_{1}&v_{2}&v_{3}\\end{bmatrix}}={\\begin{bmatrix}u_{1}v_{1}&u_{1}v_{2}&u_{1}v_{3}\\\\u_{2}v_{1}&u_{2}v_{2}&u_{2}v_{3}\\\\u_{3}v_{1}&u_{3}v_{2}&u_{3}v_{3}\\\\u_{4}v_{1}&u_{4}v_{2}&u_{4}v_{3}\\end{bmatrix}}.\\end{aligned}}}["
   ]
  },
  {
   "cell_type": "code",
   "execution_count": null,
   "metadata": {},
   "outputs": [],
   "source": []
  },
  {
   "cell_type": "code",
   "execution_count": null,
   "metadata": {
    "scrolled": true
   },
   "outputs": [],
   "source": [
    "np.outer(q0, q1)"
   ]
  },
  {
   "cell_type": "markdown",
   "metadata": {},
   "source": [
    "now we have the representation of |01>.\n",
    "As we can se we need only two qubits to represent four states:\n",
    "|00>\n",
    "|01>\n",
    "|10>\n",
    "|11>\n",
    "|+0>\n",
    "....\n",
    "\n",
    "As we have seen before to reprerepresent every of these state using normal bits we need four of them:"
   ]
  },
  {
   "cell_type": "markdown",
   "metadata": {},
   "source": [
    "## TODO\n",
    "\n",
    "  - [ ] rename qubits to q0 and bits to c, circuit to circ."
   ]
  },
  {
   "cell_type": "markdown",
   "metadata": {},
   "source": [
    "### Refs\n",
    "0. https://qiskit.org/documentation/\n",
    "1. https://en.wikipedia.org/wiki/Quantum_logic_gate\n",
    "2. https://jarrodmcclean.com/basic-quantum-circuit-simulation-in-python/\n",
    "3. https://en.wikipedia.org/wiki/Hadamard_transform#Quantum_computing_applications\n",
    "4. https://en.wikipedia.org/wiki/Qubit"
   ]
  }
 ],
 "metadata": {
  "kernelspec": {
   "display_name": "Python 3",
   "language": "python",
   "name": "python3"
  },
  "language_info": {
   "codemirror_mode": {
    "name": "ipython",
    "version": 3
   },
   "file_extension": ".py",
   "mimetype": "text/x-python",
   "name": "python",
   "nbconvert_exporter": "python",
   "pygments_lexer": "ipython3",
   "version": "3.6.1"
  }
 },
 "nbformat": 4,
 "nbformat_minor": 2
}
