{
 "cells": [
  {
   "cell_type": "markdown",
   "metadata": {},
   "source": [
    "# Storing and operating on bitstrings on the quantum computer"
   ]
  },
  {
   "cell_type": "markdown",
   "metadata": {},
   "source": [
    "### Contributors\n",
    "Łukasz Herok, James Wootton\n",
    "\n",
    "This tutorial bases heavily upon \"Comparing Strings with Quantum Superpositon\" tutorial by Rudy Raymond."
   ]
  },
  {
   "cell_type": "markdown",
   "metadata": {},
   "source": [
    "## Motivation\n",
    "The aim of this tutorial is to show in details how to store bitstring in the quantum computer and how we can manipulate it."
   ]
  },
  {
   "cell_type": "markdown",
   "metadata": {},
   "source": [
    "## Encoding 7 bits on 4 qubits\n",
    "The bitstring is a string of zero and ones, that represents some kind of information. This colud be interpreted as number, eg. interpreting as binary numer `1000001` is `65`, or interpreting as ASCII it is letter `A`.\n",
    "For the classcial computer to store this information we need to use 7 bits.\n",
    "\n",
    "For quantum computer, using the *Quantum Superpostion* a bitstring could be encoded and store in more comperhensive fasion. We only need to get the set of unique states that can describe the bitstring of given length. The ways is to write down the bistring in notation where first bits describes the position in a bitstring and the last one the data: zero or one. For our `1000001` it will be: \n",
    "\n",
    "```\n",
    "   bs | pppd \n",
    "  ----|------ \n",
    "    1 | 0001 \n",
    "    0 | 0010\n",
    "    0 | 0100\n",
    "    0 | 0110\n",
    "    0 | 1000\n",
    "    0 | 1010\n",
    "    0 | 1100\n",
    "    1 | 1111\n",
    "```\n",
    "So as can we see we need only 4 qubits to store the 7 length bitstring. In a quantum notation it will be:\n",
    "\n",
    "$$ |bs> = \\alpha|0001> + \\alpha|0001> + ... + \\alpha|1100> + \\alpha|1111>$$\n",
    "\n",
    "where $\\alpha$ is the probability amplitude that needs to meet the requirement $\\alpha_1^2 + ... + \\alpha_n^2  = 1$. \n",
    "\n",
    "For example:\n",
    "$ \\alpha|0001>$ tells us that there is probability of $|\\alpha|^2$ that the system is in state $|0001>$, and there is $0$ probability that it is in the state $|0000>$, as it doesn't occure in the equation. So we can be sure that on the first postion (`000`) of the bitstring there should be `1`. In the real quantum system, making the multiple measurements of its state will give us as a count for the every of the shown states and no measurements for the state that was not listed, that's the way that we decode the bitstring from the quantum chip. Of course in the real system there are noises, so there is a possbility that we also get the counts for the state that was not set up in the system eg. for $|0000>$, but we exlude it as in a muliple measurements it will have much lower probablity then the $|0001>$ state."
   ]
  },
  {
   "cell_type": "markdown",
   "metadata": {},
   "source": [
    "## Initialzing the quantum chip\n",
    "\n",
    "To initialize the quantum chip we will use the `qiskit.QuantumCircuit.initialize()` function. In our case we will need to prepare a init vector describing our bitstring with amplitude probabilites. As we know we can map classcial bit `0` and `1` to the following quantum base states $|0> = \\begin{pmatrix} 1 \\\\ 0 \\end{pmatrix}$ and $|1> = \\begin{pmatrix} 0 \\\\ 1 \\end{pmatrix}$.\n",
    "\n",
    "We also need to calculte the $\\alpha$. As the every state in this quantum system could exists in a equal probability we can use the expression: $\\alpha = \\sqrt{\\frac{1}{2^{n-1}}}$\n",
    "\n",
    "For the `1000001`  $\\alpha = \\sqrt{\\frac{1}{2^{3}}} = 0.35355$ and the matrix looking like:\n",
    "$|1000001> = 0.35355 * \\begin{bmatrix} \\begin{pmatrix} 0 \\\\ 1 \\end{pmatrix} + \\begin{pmatrix} 1 \\\\ 0 \\end{pmatrix} + ... + \\begin{pmatrix} 1 \\\\ 0 \\end{pmatrix} + \\begin{pmatrix} 0 \\\\ 1 \\end{pmatrix} \\end{bmatrix}$\n",
    "\n",
    "The implementation of the following method is covered by the below `encode_bistring()` function."
   ]
  },
  {
   "cell_type": "code",
   "execution_count": 1,
   "metadata": {},
   "outputs": [],
   "source": [
    "import math\n",
    "import numpy as np\n",
    "import qiskit\n",
    "from qiskit import QuantumCircuit, QuantumRegister, ClassicalRegister\n",
    "from qiskit import execute\n",
    "from qiskit.tools.visualization import plot_histogram\n",
    "\n",
    "qiskit.IBMQ.load_accounts()\n",
    "backend = qiskit.providers.ibmq.least_busy(qiskit.IBMQ.backends(simulator=True))\n",
    "shots = 100"
   ]
  },
  {
   "cell_type": "code",
   "execution_count": 2,
   "metadata": {},
   "outputs": [],
   "source": [
    "def encode_bitstring(bitstring, qr, cr, inverse=False):\n",
    "    \"\"\"\n",
    "    create a circuit for constructing the quantum superposition of the bitstring\n",
    "    \"\"\"\n",
    "    n = math.ceil(math.log2(len(bitstring))) + 1  # number of qubits\n",
    "    assert n > 2, \"the length of bitstring must be at least 2\"\n",
    "\n",
    "    qc = QuantumCircuit(qr, cr)\n",
    "\n",
    "    # the probability amplitude of the desired state\n",
    "    desired_vector = np.array([0.0 for i in range(2 ** n)])  # initialize to zero\n",
    "    amplitude = np.sqrt(1.0 / 2 ** (n - 1))\n",
    "\n",
    "    for i, b in enumerate(bitstring):\n",
    "        pos = i * 2\n",
    "        if b == \"1\" or b == \"M\":\n",
    "            pos += 1\n",
    "        desired_vector[pos] = amplitude\n",
    "\n",
    "    if not inverse:\n",
    "        qc.initialize(desired_vector, [qr[i] for i in range(n)])\n",
    "    else:\n",
    "        qc.initialize(desired_vector, [qr[i] for i in range(n)]).inverse()  # invert the circuit\n",
    "\n",
    "    return qc\n"
   ]
  },
  {
   "cell_type": "markdown",
   "metadata": {},
   "source": [
    "Let's prepeare exmple data for our tututorial:"
   ]
  },
  {
   "cell_type": "code",
   "execution_count": 3,
   "metadata": {},
   "outputs": [],
   "source": [
    "BS1 = '10000001'\n",
    "BS2 = '11010011'"
   ]
  },
  {
   "cell_type": "code",
   "execution_count": 4,
   "metadata": {},
   "outputs": [],
   "source": [
    "n = math.ceil(math.log2(len(BS1))) + 1  # number of qubits\n",
    "qr = QuantumRegister(n)\n",
    "cr = ClassicalRegister(n)"
   ]
  },
  {
   "cell_type": "markdown",
   "metadata": {},
   "source": [
    "## BS1 write and read back"
   ]
  },
  {
   "cell_type": "markdown",
   "metadata": {},
   "source": [
    "In the first step let's try to encode the bitstring BS1 to the described notation, then store it in the quantum chip, and try to read it back from the quantum machine and decode to see if we will get the orginal bitstring."
   ]
  },
  {
   "cell_type": "code",
   "execution_count": 5,
   "metadata": {},
   "outputs": [
    {
     "data": {
      "image/png": "[encoded data removed]",
      "text/plain": [
       "<Figure size 504x360 with 1 Axes>"
      ]
     },
     "execution_count": 5,
     "metadata": {},
     "output_type": "execute_result"
    }
   ],
   "source": [
    "qc_1 = encode_bitstring(BS1, qr, cr)\n",
    "qc_1.measure(qr, cr)\n",
    "job = execute(qc_1 , backend=backend, shots=shots)\n",
    "st = job.result().get_counts()\n",
    "plot_histogram(st)"
   ]
  },
  {
   "cell_type": "markdown",
   "metadata": {},
   "source": [
    "Sending this curcit, that encodes a bit string, to the quantum chip gives us results how many times the specific state (encode as postion,value) was messured and finally the probability that it exists.\n",
    "\n",
    "Eg. it was measured that state `0001` exists with probability $0.13$. There is no `0000` state that means that this state did occure. That make us sure that on the position `000` in a bit string there should be `1`. Anlogulsly on the posstion `001` there is `0`. \n",
    "\n",
    "In real life, imperfections happen. So you could use the probability to resolve ambiguities: if you find both 0000 and 0001 in your results, accept the most probable and reject the other as noise."
   ]
  },
  {
   "cell_type": "markdown",
   "metadata": {},
   "source": [
    "We can decode the string from the states above, to check if we get it back from the quantum chip.\n"
   ]
  },
  {
   "cell_type": "code",
   "execution_count": 6,
   "metadata": {},
   "outputs": [
    {
     "data": {
      "text/plain": [
       "'10000001'"
      ]
     },
     "execution_count": 6,
     "metadata": {},
     "output_type": "execute_result"
    }
   ],
   "source": [
    "def decode_bitstring(counts):\n",
    "    decoded_string = [ '' for _ in range(len(BS1)) ] # list with blank spaces for 8 bit values\n",
    "    for string in counts: # loop over all 4 bit strings in result  \n",
    "        pos = int(string[0:3], 2) # get integer that corresponds to first three bits\n",
    "        decoded_string[pos] = string[3] # set the value of the decoded string at this position to the fouth bit\n",
    "    decoded_string = ''.join(decoded_string) # turn list of 8 bit values into 8 bit string\n",
    "    return decoded_string\n",
    "\n",
    "bs1_decoded = decode_bitstring(st)\n",
    "bs1_decoded"
   ]
  },
  {
   "cell_type": "code",
   "execution_count": 7,
   "metadata": {},
   "outputs": [
    {
     "data": {
      "text/plain": [
       "True"
      ]
     },
     "execution_count": 7,
     "metadata": {},
     "output_type": "execute_result"
    }
   ],
   "source": [
    "bs1_decoded == BS1"
   ]
  },
  {
   "cell_type": "markdown",
   "metadata": {},
   "source": [
    "## BS1_inverted measure"
   ]
  },
  {
   "cell_type": "code",
   "execution_count": 8,
   "metadata": {
    "scrolled": true
   },
   "outputs": [
    {
     "data": {
      "image/png": "[encoded data removed]",
      "text/plain": [
       "<Figure size 504x360 with 1 Axes>"
      ]
     },
     "execution_count": 8,
     "metadata": {},
     "output_type": "execute_result"
    }
   ],
   "source": [
    "qc_1i = encode_bitstring(BS1, qr, cr, True)\n",
    "qc_1i.measure(qr, cr)\n",
    "job = execute(qc_1i , backend=backend, shots=shots)\n",
    "st = job.result().get_counts()\n",
    "plot_histogram(st)"
   ]
  },
  {
   "cell_type": "code",
   "execution_count": 9,
   "metadata": {},
   "outputs": [
    {
     "data": {
      "text/plain": [
       "'11111111'"
      ]
     },
     "execution_count": 9,
     "metadata": {},
     "output_type": "execute_result"
    }
   ],
   "source": [
    "decode_bitstring(st)"
   ]
  },
  {
   "cell_type": "markdown",
   "metadata": {},
   "source": [
    "> **(??? 4)**\n",
    "> \n",
    "> Why the inverted string consist only with 1? I've exptected it to be: 10000001 > 01111110"
   ]
  },
  {
   "cell_type": "markdown",
   "metadata": {},
   "source": [
    "## Comparing the BS1 with BS1_inverted"
   ]
  },
  {
   "cell_type": "markdown",
   "metadata": {},
   "source": [
    "Let's denote $|BS1>$ as the superpostion state created by the `encode_bitstring(BS1, ...)` and $ |BS1_i> $ as the superpostion state created by the `encode_bitstring(BS1, ..., inverse=True)`. This states are orthogonal if:\n",
    "$$ <BS1|BS1_i> = 0 $$"
   ]
  },
  {
   "cell_type": "code",
   "execution_count": 10,
   "metadata": {},
   "outputs": [
    {
     "data": {
      "image/png": "[encoded data removed]",
      "text/plain": [
       "<Figure size 504x360 with 1 Axes>"
      ]
     },
     "execution_count": 10,
     "metadata": {},
     "output_type": "execute_result"
    }
   ],
   "source": [
    "qc_1 = encode_bitstring(BS1, qr, cr)\n",
    "qc_1.barrier(qr)\n",
    "qc_1i = encode_bitstring(BS1, qr, cr, True)\n",
    "qc_1i.measure(qr, cr)\n",
    "qc_comb = qc_1 + qc_1i\n",
    "job = execute(qc_comb , backend=backend, shots=shots)\n",
    "st = job.result().get_counts()\n",
    "plot_histogram(st)"
   ]
  },
  {
   "cell_type": "markdown",
   "metadata": {},
   "source": [
    "The initial state of any circuit is represented by `0` for all it's qubits. So in our case `0000` is the initial state of the circut - all the qubits are `0`, so far no position is set (for the first three qubits, and no data is set for the last qubit). In the initial state of the circut we don't interpreted the `0000` as the `0` bit on the first postion of the bit string.\n",
    "\n",
    "Analising the quantum algorithm step by step:\n",
    "\n",
    "1. We start with the initial state of the circut `0000`.\n",
    "2. We initialize the circut with the BS1 string. Now the state of the circut represents the bit string.\n",
    "3. We input the inverted bitstring and in the effect we get the circut back to the initial state which is `0000`. \n",
    "\n",
    "In the quantum program above there is new instruction `barrier`. This command ensures that all instructions\n",
    "listed after occur (in time) after all instructions listed before\n",
    "the `barrier` [1](#bib_1)."
   ]
  },
  {
   "cell_type": "markdown",
   "metadata": {},
   "source": [
    "## Comparing the BS1 with BS2_inverted"
   ]
  },
  {
   "cell_type": "markdown",
   "metadata": {},
   "source": [
    "**TODO** We can write:\n",
    "$$ |BS2> = a|BS1> + b|other\\_state> $$\n",
    "$$ |BS2> = a|BS1> + b|BS2_i> $$\n",
    "$$ |BS1> = a|BS1> + b|BS1_i> $$\n",
    "$$ |oth> = a|BS1> + b|BS2_i> $$\n",
    "$$ |oth> = <BS1|BS2_i> $$\n",
    "\n",
    "\n",
    "Check it..."
   ]
  },
  {
   "cell_type": "code",
   "execution_count": 11,
   "metadata": {},
   "outputs": [
    {
     "data": {
      "image/png": "[encoded data removed]",
      "text/plain": [
       "<Figure size 504x360 with 1 Axes>"
      ]
     },
     "execution_count": 11,
     "metadata": {},
     "output_type": "execute_result"
    }
   ],
   "source": [
    "qc_1 = encode_bitstring(BS1, qr, cr)\n",
    "qc_1.barrier(qr)\n",
    "qc_2i = encode_bitstring(BS2, qr, cr, True)\n",
    "qc_2i.measure(qr, cr)\n",
    "qc_comb = qc_1 + qc_2i\n",
    "job = execute(qc_comb , backend=backend, shots=shots)\n",
    "st = job.result().get_counts()\n",
    "plot_histogram(st)"
   ]
  },
  {
   "cell_type": "markdown",
   "metadata": {},
   "source": [
    "Let's denote $ |BS1> $ as the superpostion state created by the `encode_bitstring(BS1, ...)` and $ |BS2> $ as the \n",
    "By looking only on state 0000 (the initial state) we get information how simmilar are the two bitstrings.\n",
    "\n",
    "> (**??? 5**)\n",
    "> Does the other states has any meaning?"
   ]
  },
  {
   "cell_type": "markdown",
   "metadata": {},
   "source": [
    "## Bibliografy\n",
    "\n",
    "<a name='bib_1'>[1]</a> https://arxiv.org/pdf/1809.03452.pdf"
   ]
  }
 ],
 "metadata": {
  "kernelspec": {
   "display_name": "Python 3",
   "language": "python",
   "name": "python3"
  },
  "language_info": {
   "codemirror_mode": {
    "name": "ipython",
    "version": 3
   },
   "file_extension": ".py",
   "mimetype": "text/x-python",
   "name": "python",
   "nbconvert_exporter": "python",
   "pygments_lexer": "ipython3",
   "version": "3.6.1"
  }
 },
 "nbformat": 4,
 "nbformat_minor": 2
}
