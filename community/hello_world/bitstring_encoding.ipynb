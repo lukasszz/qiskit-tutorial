{
 "cells": [
  {
   "cell_type": "code",
   "execution_count": null,
   "metadata": {},
   "outputs": [],
   "source": []
  },
  {
   "cell_type": "code",
   "execution_count": null,
   "metadata": {},
   "outputs": [],
   "source": []
  },
  {
   "cell_type": "code",
   "execution_count": 1,
   "metadata": {},
   "outputs": [],
   "source": [
    "import math\n",
    "import numpy as np\n",
    "import qiskit\n",
    "from qiskit import QuantumCircuit, QuantumRegister, ClassicalRegister\n",
    "from qiskit import execute\n",
    "from qiskit.tools.visualization import plot_histogram\n",
    "\n",
    "qiskit.IBMQ.load_accounts()\n",
    "backend = qiskit.backends.ibmq.least_busy(qiskit.IBMQ.backends(simulator=True))\n",
    "shots = 100\n"
   ]
  },
  {
   "cell_type": "code",
   "execution_count": null,
   "metadata": {},
   "outputs": [],
   "source": []
  },
  {
   "cell_type": "code",
   "execution_count": 2,
   "metadata": {},
   "outputs": [],
   "source": [
    "def encode_bitstring(bitstring, qr, cr, inverse=False):\n",
    "    \"\"\"\n",
    "    create a circuit for constructing the quantum superposition of the bitstring\n",
    "    \"\"\"\n",
    "    n = math.ceil(math.log2(len(bitstring))) + 1  # number of qubits\n",
    "    assert n > 2, \"the length of bitstring must be at least 2\"\n",
    "\n",
    "    qc = QuantumCircuit(qr, cr)\n",
    "\n",
    "    # the probability amplitude of the desired state\n",
    "    desired_vector = np.array([0.0 for i in range(2 ** n)])  # initialize to zero\n",
    "    amplitude = np.sqrt(1.0 / 2 ** (n - 1))\n",
    "\n",
    "    for i, b in enumerate(bitstring):\n",
    "        pos = i * 2\n",
    "        if b == \"1\" or b == \"M\":\n",
    "            pos += 1\n",
    "        desired_vector[pos] = amplitude\n",
    "    \n",
    "    if not inverse:\n",
    "        qc.initialize(desired_vector, [qr[i] for i in range(n)])\n",
    "    else:\n",
    "        qc.initialize(desired_vector, [qr[i] for i in range(n)]).inverse()  # invert the circuit\n",
    "    \n",
    "\n",
    "    return qc"
   ]
  },
  {
   "cell_type": "code",
   "execution_count": null,
   "metadata": {},
   "outputs": [],
   "source": []
  },
  {
   "cell_type": "code",
   "execution_count": null,
   "metadata": {},
   "outputs": [],
   "source": []
  },
  {
   "cell_type": "code",
   "execution_count": 4,
   "metadata": {},
   "outputs": [],
   "source": [
    "BS1 = '10010010'\n",
    "BS2 = '11010011'"
   ]
  },
  {
   "cell_type": "code",
   "execution_count": null,
   "metadata": {},
   "outputs": [],
   "source": []
  },
  {
   "cell_type": "code",
   "execution_count": 5,
   "metadata": {},
   "outputs": [],
   "source": [
    "n = math.ceil(math.log2(len(BS1))) + 1  # number of qubits\n",
    "qr = QuantumRegister(n)\n",
    "cr = ClassicalRegister(n)"
   ]
  },
  {
   "cell_type": "markdown",
   "metadata": {},
   "source": [
    "For bitstring conisting of 8 bits we only need 4 qubits to encode it. $ 2^n = 3 $ to encode position and 1 to hold the info if its 0 or 1. For better explananiotion look into the next notebook \"string_comparison\". This \"commpresion\" is done by the `initialize()` function. It takes the `desired_vector` describing each postion of the bitstring by the pair of:\n",
    "\n",
    "$ \\begin{bmatrix} 0 \\\\ \\alpha \\end{bmatrix},$ for 0 and\n",
    "$\\begin{bmatrix} \\alpha \\\\ 0 \\end{bmatrix}  $ 1,\n",
    "\n",
    "where $\\alpha$ is the probability amplitude and sets up provided qubits array."
   ]
  },
  {
   "cell_type": "markdown",
   "metadata": {},
   "source": [
    "In this encoding a four bit output of abcd means that the value at position abc of the original bit string is d. So, for example, 0001 means that the value at position 000 (i.e. 0, and so the first bit in the original string) is 1."
   ]
  },
  {
   "cell_type": "markdown",
   "metadata": {},
   "source": [
    "## BS1 measure"
   ]
  },
  {
   "cell_type": "code",
   "execution_count": 6,
   "metadata": {},
   "outputs": [
    {
     "data": {
      "image/png": "[encoded data removed]",
      "text/plain": [
       "<Figure size 432x288 with 1 Axes>"
      ]
     },
     "metadata": {
      "needs_background": "light"
     },
     "output_type": "display_data"
    }
   ],
   "source": [
    "qc_1 = encode_bitstring(BS1, qr, cr)\n",
    "qc_1.measure(qr, cr)\n",
    "job = execute(qc_1 , backend=backend, shots=shots)\n",
    "st = job.result().get_counts()\n",
    "plot_histogram(st)"
   ]
  },
  {
   "cell_type": "markdown",
   "metadata": {},
   "source": [
    "Sending this curcit, that encodes a bit string, to the quantum chip gives us results how many times the specific state (encode as postion,value) was messured and finally the probability that it exists.\n",
    "\n",
    "Eg. it was measured that state 0001 exists with probability 0.13. There is no 0000 state that means that this state did occure. That make us sure that on the position 000 in a bit string there should be 1. Anlogulsly on the posstion 001 there is 0. \n",
    "\n",
    "In real life, imperfections happen. So you could use the probability to resolve ambiguities: if you find both 0000 and 0001 in your results, accept the most probable and reject the other as noise."
   ]
  },
  {
   "cell_type": "markdown",
   "metadata": {},
   "source": [
    "We can decode the string from the states above, to check if we get it back from the quantum chip.\n"
   ]
  },
  {
   "cell_type": "code",
   "execution_count": 10,
   "metadata": {},
   "outputs": [
    {
     "data": {
      "text/plain": [
       "'10010010'"
      ]
     },
     "execution_count": 10,
     "metadata": {},
     "output_type": "execute_result"
    }
   ],
   "source": [
    "def decode_bitstring(counts):\n",
    "    decoded_string = [ '' for _ in range(len(BS1)) ] # list with blank spaces for 8 bit values\n",
    "    for string in counts: # loop over all 4 bit strings in result  \n",
    "        pos = int(string[0:3], 2) # get integer that corresponds to first three bits\n",
    "        decoded_string[pos] = string[3] # set the value of the decoded string at this position to the fouth bit\n",
    "    decoded_string = ''.join(decoded_string) # turn list of 8 bit values into 8 bit string\n",
    "    return decoded_string\n",
    "\n",
    "bs1_decoded = decode_bitstring(st)\n",
    "bs1_decoded"
   ]
  },
  {
   "cell_type": "code",
   "execution_count": 11,
   "metadata": {},
   "outputs": [
    {
     "data": {
      "text/plain": [
       "True"
      ]
     },
     "execution_count": 11,
     "metadata": {},
     "output_type": "execute_result"
    }
   ],
   "source": [
    "bs1_decoded == BS1"
   ]
  },
  {
   "cell_type": "markdown",
   "metadata": {},
   "source": [
    "## BS1_inverted measure"
   ]
  },
  {
   "cell_type": "code",
   "execution_count": 12,
   "metadata": {
    "scrolled": true
   },
   "outputs": [
    {
     "data": {
      "image/png": "[encoded data removed]",
      "text/plain": [
       "<Figure size 432x288 with 1 Axes>"
      ]
     },
     "metadata": {
      "needs_background": "light"
     },
     "output_type": "display_data"
    }
   ],
   "source": [
    "qc_1i = encode_bitstring(BS1, qr, cr, True)\n",
    "qc_1i.measure(qr, cr)\n",
    "job = execute(qc_1i , backend=backend, shots=shots)\n",
    "st = job.result().get_counts()\n",
    "plot_histogram(st)"
   ]
  },
  {
   "cell_type": "code",
   "execution_count": 13,
   "metadata": {},
   "outputs": [
    {
     "data": {
      "text/plain": [
       "'11111111'"
      ]
     },
     "execution_count": 13,
     "metadata": {},
     "output_type": "execute_result"
    }
   ],
   "source": [
    "decode_bitstring(st)"
   ]
  },
  {
   "cell_type": "markdown",
   "metadata": {},
   "source": [
    "**(??? 4)**\n",
    "\n",
    "Why the inverted string consist only with 1? I've exptected it to be: 10010010 > 01101101"
   ]
  },
  {
   "cell_type": "markdown",
   "metadata": {},
   "source": [
    "## Comparing the BS1 with BS1_inverted"
   ]
  },
  {
   "cell_type": "markdown",
   "metadata": {},
   "source": [
    "Let's denote $|BS1>$ as the superpostion state created by the `encode_bitstring(BS1, ...)` and $ |BS1_i> $ as the superpostion state created by the `encode_bitstring(BS1, ..., inverse=True)`. This states are orthogonal if:\n",
    "$$ <BS1|>BS1_i> = 0 $$"
   ]
  },
  {
   "cell_type": "code",
   "execution_count": 7,
   "metadata": {},
   "outputs": [
    {
     "data": {
      "image/png": "[encoded data removed]",
      "text/plain": [
       "<Figure size 432x288 with 1 Axes>"
      ]
     },
     "metadata": {
      "needs_background": "light"
     },
     "output_type": "display_data"
    }
   ],
   "source": [
    "qc_1 = encode_bitstring(BS1, qr, cr)\n",
    "qc_1.barrier(qr)\n",
    "qc_1i = encode_bitstring(BS1, qr, cr, True)\n",
    "qc_1i.measure(qr, cr)\n",
    "qc_comb = qc_1 + qc_1i\n",
    "job = execute(qc_comb , backend=backend, shots=shots)\n",
    "st = job.result().get_counts()\n",
    "plot_histogram(st)"
   ]
  },
  {
   "cell_type": "markdown",
   "metadata": {},
   "source": [
    "The initial state of any circuit is represented by `0` for all it's qubits. So in our case `0000` is the initial state of the circut - all the qubits are `0`, so far no position is set (for the first three qubits, and no data is set for the last qubit). In the initial state of the circut we dont interpreted the `0000` as the `0` bit on the first postion of the bit string.\n",
    "\n",
    "Analising the quantum algorithm step by step:\n",
    "\n",
    "1. We start with the initial state of the circut `0000`.\n",
    "2. We initialize the circut with the BS1 string. Now the state of the circut represents the bit string.\n",
    "3. We input the inverted bitstring and in the effect we get the circut back to the initial state which is `0000`. No other states where counted.\n",
    "\n",
    "\n",
    "**TODO**\n",
    "\n",
    "Explain the barrier gate."
   ]
  },
  {
   "cell_type": "markdown",
   "metadata": {},
   "source": [
    "## Comparing the BS1 with BS2_inverted"
   ]
  },
  {
   "cell_type": "code",
   "execution_count": 9,
   "metadata": {},
   "outputs": [
    {
     "data": {
      "image/png": "[encoded data removed]",
      "text/plain": [
       "<Figure size 432x288 with 1 Axes>"
      ]
     },
     "metadata": {
      "needs_background": "light"
     },
     "output_type": "display_data"
    }
   ],
   "source": [
    "qc_1 = encode_bitstring(BS1, qr, cr)\n",
    "qc_1.barrier(qr)\n",
    "qc_2i = encode_bitstring(BS2, qr, cr, True)\n",
    "qc_2i.measure(qr, cr)\n",
    "qc_comb = qc_1 + qc_2i\n",
    "job = execute(qc_comb , backend=backend, shots=shots)\n",
    "st = job.result().get_counts()\n",
    "plot_histogram(st)"
   ]
  },
  {
   "cell_type": "markdown",
   "metadata": {},
   "source": [
    "Let's denote $ |BS1> $ as the superpostion state created by the `encode_bitstring(BS1, ...)` and $ |BS2> $ as the \n",
    "**(??? 3)**\n",
    "\n",
    "By looking only on state 0000 we get information how simmilar are the two bitstrings. (but why only 0000 state?)"
   ]
  }
 ],
 "metadata": {
  "kernelspec": {
   "display_name": "Python 3",
   "language": "python",
   "name": "python3"
  },
  "language_info": {
   "codemirror_mode": {
    "name": "ipython",
    "version": 3
   },
   "file_extension": ".py",
   "mimetype": "text/x-python",
   "name": "python",
   "nbconvert_exporter": "python",
   "pygments_lexer": "ipython3",
   "version": "3.6.1"
  }
 },
 "nbformat": 4,
 "nbformat_minor": 2
}
