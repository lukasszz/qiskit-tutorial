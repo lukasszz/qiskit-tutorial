{
 "cells": [
  {
   "cell_type": "markdown",
   "metadata": {
    "collapsed": true
   },
   "source": [
    "In the previous notebook, we showed how QAOA can approximate the ground state $|\\psi_0\\rangle$ of a many-body system characterized by a Hamiltonian $H$. We connected this problem to binary optimization in computer science in notebook 4, and used this connection to understand adiabatic quantum computing and variational algorithms.\n",
    "\n",
    "However, we also talked about the engineering constraints we face in real devices: the evolution in these devices is actually that of an open quantum system, where the quantum processing unit interacts with the environment. In that case, the ground state of $H$ won't be a pure state $|\\psi_0\\rangle$ but a density matrix $\\rho_0$\n",
    "\n",
    "<img src=\"figures/open_system.svg\" alt=\"A quantum processor as an open quantum system\" style=\"width: 400px;\"/>\n",
    "\n",
    "The environment is defined by a temperature $T$, and if we let the system equilibrate, the QPU will become thermalized at temperature $T$. As we saw in the notebook on evolution in open and closed systems, the energy of the states will follow a Boltzmann distribution: $\\rho_0=\\frac{1}{Z} e^{-H/T}$ where $Z=tr (e^{-\\beta H})$ is a normalization factor (called *partition function*), ensuring that $tr(\\rho_0)=1$. If $H$ has a discrete basis of orthonormal eigenstates $\\{|n\\rangle\\}$ with eigenvalues $\\{E_n\\}$, we can write $H=\\sum_n E_n |n\\rangle \\langle n|$ and $\\rho_0=\\frac{1}{Z} \\sum_n e^{-E_n/T} |n\\rangle \\langle n|$ (since exponentiating a diagonal operator consists in exponentiating the elements of the diagonal). Hence, the thermal density matrix is a mixed state where each eigenstate of $H$ with energy $E$ has a classical probability $P(E)=\\frac{1}{Z} e^{-E/T}$, a Boltzmann distribution. We can see that the minimum energy eigenstate will have the highest probability. When $T \\rightarrow 0$, the minimum energy eigenstate will have a probability close to $1$. When $T \\rightarrow \\infty$, all the eigenstates tend to have equal probability.\n",
    "\n",
    "The question that arises now is: how to approximate this thermalized state $\\rho_0$ of the Hamiltonian $H$ using a quantum circuit? For pure ground states, there were two methods: quantum annealing and QAOA. We will see here that those two methods can be adjusted to also prepare thermalized density matrices.\n",
    "\n",
    "We will see later that we can use this preparation to train certain machine learning models.\n",
    "\n",
    "# Quantum annealing\n",
    "\n",
    "Let us start by importing a handful of packages:"
   ]
  },
  {
   "cell_type": "code",
   "execution_count": 1,
   "metadata": {
    "ExecuteTime": {
     "end_time": "2018-11-19T20:10:00.429323Z",
     "start_time": "2018-11-19T20:10:00.423825Z"
    }
   },
   "outputs": [],
   "source": [
    "import itertools\n",
    "import matplotlib.pyplot as plt\n",
    "import numpy as np\n",
    "import dimod\n",
    "%matplotlib inline\n",
    "np.set_printoptions(precision=3, suppress=True)"
   ]
  },
  {
   "cell_type": "markdown",
   "metadata": {},
   "source": [
    "We are interested in the thermal state of the classical Ising model. We create a random model over ten spins and we will sample a hundred states."
   ]
  },
  {
   "cell_type": "code",
   "execution_count": 2,
   "metadata": {
    "ExecuteTime": {
     "end_time": "2018-11-19T20:10:00.449815Z",
     "start_time": "2018-11-19T20:10:00.437909Z"
    }
   },
   "outputs": [],
   "source": [
    "n_spins = 10\n",
    "n_samples = 1000\n",
    "h = {v: np.random.uniform(-2, 2) for v in range(n_spins)}\n",
    "J = {}\n",
    "for u, v in itertools.combinations(h, 2):\n",
    "    if np.random.random() < .05:\n",
    "        J[(u, v)] = np.random.uniform(-1, 1)\n",
    "model = dimod.BinaryQuadraticModel(h, J, 0.0, dimod.SPIN)\n",
    "sampler = dimod.SimulatedAnnealingSampler()        "
   ]
  },
  {
   "cell_type": "markdown",
   "metadata": {},
   "source": [
    "Let's sample the energies at different temperatures. The `dimod` implementation of simulated annealing allows us to set an initial and final temperature for the annealing. If we set it to the same value, we mimic the effect of a finite temperature and we will have a wider range of configurations and energy levels in the samples. The next cell can take a while to execute."
   ]
  },
  {
   "cell_type": "code",
   "execution_count": 3,
   "metadata": {
    "ExecuteTime": {
     "end_time": "2018-11-19T20:11:12.304140Z",
     "start_time": "2018-11-19T20:10:00.452460Z"
    }
   },
   "outputs": [],
   "source": [
    "temperature_0 = 1\n",
    "response = sampler.sample(model, beta_range=[1/temperature_0, 1/temperature_0], num_reads=n_samples)\n",
    "energies_0 = [solution.energy for solution in response.data()]\n",
    "temperature_1 = 10\n",
    "response = sampler.sample(model, beta_range=[1/temperature_1, 1/temperature_1], num_reads=n_samples)\n",
    "energies_1 = [solution.energy for solution in response.data()]\n",
    "temperature_2 = 100\n",
    "response = sampler.sample(model, beta_range=[1/temperature_2, 1/temperature_2], num_reads=n_samples)\n",
    "energies_2 = [solution.energy for solution in response.data()]"
   ]
  },
  {
   "cell_type": "markdown",
   "metadata": {},
   "source": [
    "We define a function to plot the resulting probability distribution."
   ]
  },
  {
   "cell_type": "code",
   "execution_count": 4,
   "metadata": {
    "ExecuteTime": {
     "end_time": "2018-11-19T20:11:12.764017Z",
     "start_time": "2018-11-19T20:11:12.307684Z"
    }
   },
   "outputs": [
    {
     "data": {
      "image/png": "[encoded data removed]",
      "text/plain": [
       "<Figure size 432x288 with 1 Axes>"
      ]
     },
     "metadata": {},
     "output_type": "display_data"
    }
   ],
   "source": [
    "def plot_probabilities(energy_samples, temperatures):\n",
    "    fig, ax = plt.subplots()\n",
    "    for i, (energies, T) in enumerate(zip(energy_samples, temperatures)):\n",
    "        probabilities = np.exp(-np.array(sorted(energies))/T)\n",
    "        Z = probabilities.sum()\n",
    "        probabilities /= Z\n",
    "        ax.plot(energies, probabilities, linewidth=3, label = \"$T_\" + str(i+1)+\"$\")\n",
    "    minimum_energy = min([min(energies) for energies in energy_samples])\n",
    "    maximum_energy = max([max(energies) for energies in energy_samples])\n",
    "    ax.set_xlim(minimum_energy, maximum_energy)\n",
    "    ax.set_xticks([])\n",
    "    ax.set_yticks([])\n",
    "    ax.set_xlabel('Energy')\n",
    "    ax.set_ylabel('Probability')\n",
    "    ax.legend()\n",
    "    plt.show()\n",
    "\n",
    "plot_probabilities([energies_0, energies_1, energies_2], \n",
    "                   [temperature_0, temperature_1, temperature_2])"
   ]
  },
  {
   "cell_type": "markdown",
   "metadata": {},
   "source": [
    "Just as we saw in the introduction, the distribution flattens out at a high temperature ($T_3$). On the other hand, the energy is peaked for a low temperature, and we do not even have samples for high-energy states."
   ]
  },
  {
   "cell_type": "markdown",
   "metadata": {},
   "source": [
    "# Quantum Approximate Thermalization\n",
    "\n",
    "There are many results for preparing a thermal state on a gate-model quantum computer, but most of them need a large-scale device. More recently, a protocol for approximating thermalization was developed using shallow circuits [[1](#1)]. The idea is that if we knew that the thermal state was a pure state $\\psi$ (which means $\\rho=|\\psi \\rangle \\langle \\psi |$), we could apply QAOA to get to the thermal state of a target Hamiltonian. Since QAOA approximates the adiabatic pathway, it should be a conservative change, so at the end of it, we would be close to the thermal state of the target Hamiltonian.\n",
    "\n",
    "To find the thermal state of the simple system, the trick is to purify $\\rho$ on a larger Hilbert space. If we call $\\mathcal{H_1}$ our current Hilbert space, purifying a density matrix $\\rho$ consists of finding a second Hilbert space $\\mathcal{H_2}$ such that there exists $| \\psi \\rangle \\in \\mathcal{H_1} \\otimes \\mathcal{H_2}$ such that $\\rho = \\textrm{Tr}_{\\mathcal{H_2}} \\left( |\\psi \\rangle \\langle \\psi | \\right)$, where $\\textrm{Tr}_{\\mathcal{H_2}}$ is the partial trace taken over the second Hilbert space -- in essence, we are marginalizing the probability distribution. This resembles the idea of what we shown in the notebook on measurements and mixed states: if we trace out a subsystem of the maximally entangled state $|\\phi^+\\rangle$, we get the maximally mixed state. The maximally mixed state is essentially a thermal state at infinite temperature.\n",
    "\n",
    "It can be shown that $| \\psi \\rangle =\\sqrt{2 \\cosh 1/T} \\sum_{z \\in {-1,1}} e^{- z/T} |z \\rangle_{\\mathcal{H_1}} \\otimes | z \\rangle_{\\mathcal{H_2}}$ purifies $\\rho=\\frac{1}{Z}e^{- H_m/T}$ [[1](#1)], where $H_m$ is the mixing Hamiltonian in QAOA. This state can be built with a circuit composed uniquely of RX gates and CNOT gates"
   ]
  },
  {
   "cell_type": "code",
   "execution_count": 5,
   "metadata": {
    "ExecuteTime": {
     "end_time": "2018-11-19T20:11:13.926133Z",
     "start_time": "2018-11-19T20:11:12.766644Z"
    }
   },
   "outputs": [
    {
     "name": "stderr",
     "output_type": "stream",
     "text": [
      "/home/pwittek/.anaconda3/envs/qiskit/lib/python3.7/site-packages/marshmallow/schema.py:364: ChangedInMarshmallow3Warning: strict=False is not recommended. In marshmallow 3.0, schemas will always be strict. See https://marshmallow.readthedocs.io/en/latest/upgrading.html#schemas-are-always-strict\n",
      "  ChangedInMarshmallow3Warning\n"
     ]
    }
   ],
   "source": [
    "import itertools\n",
    "import numpy as np\n",
    "from functools import reduce\n",
    "from qiskit import BasicAer, QuantumRegister, QuantumCircuit, ClassicalRegister\n",
    "from qiskit import execute\n",
    "from qiskit.quantum_info import Pauli\n",
    "from qiskit_aqua import get_aer_backend, QuantumInstance\n",
    "from qiskit_aqua.operator import Operator\n",
    "from qiskit_aqua.components.optimizers import COBYLA\n",
    "from qiskit_aqua.algorithms import VQE\n",
    "from qiskit_aqua.algorithms.adaptive.qaoa.varform import QAOAVarForm"
   ]
  },
  {
   "cell_type": "markdown",
   "metadata": {},
   "source": [
    "## High temperature"
   ]
  },
  {
   "cell_type": "markdown",
   "metadata": {},
   "source": [
    "We create an example system of two qubits that needs two extra qubits for purification. In this first example, we set $T=\\infty$, which corresponds to an inverse temperature $\\beta=0$."
   ]
  },
  {
   "cell_type": "code",
   "execution_count": 6,
   "metadata": {
    "ExecuteTime": {
     "end_time": "2018-11-19T20:11:13.932601Z",
     "start_time": "2018-11-19T20:11:13.928400Z"
    }
   },
   "outputs": [],
   "source": [
    "n_qubits = 2\n",
    "n_system = n_qubits * 2\n",
    "β = 0"
   ]
  },
  {
   "cell_type": "markdown",
   "metadata": {},
   "source": [
    "We define a simple Ising model with a weight matrix and set $p=1$ in QAOA."
   ]
  },
  {
   "cell_type": "code",
   "execution_count": 7,
   "metadata": {
    "ExecuteTime": {
     "end_time": "2018-11-19T20:11:13.948745Z",
     "start_time": "2018-11-19T20:11:13.937892Z"
    }
   },
   "outputs": [],
   "source": [
    "weights = np.array([[0,1],[0,0]])\n",
    "p = 1"
   ]
  },
  {
   "cell_type": "markdown",
   "metadata": {},
   "source": [
    "Based on these parameters, we define the Ising Hamiltonian $H=\\sum W_{ij} \\sigma_i\\sigma_j$ (for the weight matrix defined above, $H=\\sigma_1 \\sigma_2$, whose minimum is reached when $\\sigma_1 \\neq \\sigma_2$)"
   ]
  },
  {
   "cell_type": "code",
   "execution_count": 8,
   "metadata": {
    "ExecuteTime": {
     "end_time": "2018-11-19T20:11:13.984797Z",
     "start_time": "2018-11-19T20:11:13.950693Z"
    }
   },
   "outputs": [],
   "source": [
    "def pauli_z(qubit, coeff):\n",
    "    eye = np.eye((n_system))\n",
    "    return Operator([[coeff, Pauli(eye[qubit], np.zeros(n_system))]])\n",
    "\n",
    "def product_pauli_z(q1, q2, coeff):\n",
    "    eye = np.eye((n_system))\n",
    "    return Operator([[coeff, Pauli(eye[q1], np.zeros(n_system)) * Pauli(eye[q2], np.zeros(n_system))]])\n",
    "\n",
    "def ising_hamiltonian(weights):\n",
    "    H = reduce(lambda x,y:x+y,\n",
    "            [product_pauli_z(i,j, -weights[i,j])\n",
    "             for (i,j) in itertools.product(range(n_qubits), range(n_qubits))])\n",
    "    H.to_matrix()\n",
    "    return H\n",
    "\n",
    "Hc = ising_hamiltonian(weights)"
   ]
  },
  {
   "cell_type": "markdown",
   "metadata": {},
   "source": [
    "We prepare the intial state $|\\psi_0 \\rangle = \\sqrt{2 cosh(1/T)} \\sum_{z \\in {1, -1}} e^{- z/T} | z \\rangle_S \\otimes | z \\rangle_E$, with $E$ a temporary space used for purification purpose. It can be shown that tracing out this state over $E$ reproduces the state $\\rho \\propto e^{-H_m/T} $. We initialize the circuit first:"
   ]
  },
  {
   "cell_type": "code",
   "execution_count": 9,
   "metadata": {
    "ExecuteTime": {
     "end_time": "2018-11-19T20:11:13.996055Z",
     "start_time": "2018-11-19T20:11:13.988499Z"
    }
   },
   "outputs": [],
   "source": [
    "qr = QuantumRegister(n_qubits * 2)\n",
    "cr = ClassicalRegister(n_qubits)\n",
    "backend = BasicAer.get_backend('qasm_simulator')\n",
    "circuit_init = QuantumCircuit(qr)"
   ]
  },
  {
   "cell_type": "markdown",
   "metadata": {},
   "source": [
    "And we prepare the state:"
   ]
  },
  {
   "cell_type": "code",
   "execution_count": 10,
   "metadata": {
    "ExecuteTime": {
     "end_time": "2018-11-19T20:11:14.017731Z",
     "start_time": "2018-11-19T20:11:14.010949Z"
    }
   },
   "outputs": [],
   "source": [
    "α = 2 * np.arctan(np.exp(- β/2))\n",
    "for i in range(n_qubits):\n",
    "    circuit_init.rx(α, qr[n_qubits+i])\n",
    "    circuit_init.cx(qr[n_qubits+i], qr[i])"
   ]
  },
  {
   "cell_type": "markdown",
   "metadata": {},
   "source": [
    "The class `QAOAVarForm` takes an initial state as argument, which should be an object containing a method `construct_circuit` that builds and returns the initial state"
   ]
  },
  {
   "cell_type": "code",
   "execution_count": 11,
   "metadata": {
    "ExecuteTime": {
     "end_time": "2018-11-19T20:11:14.032266Z",
     "start_time": "2018-11-19T20:11:14.019967Z"
    }
   },
   "outputs": [],
   "source": [
    "class InitialState:\n",
    "    def __init__(self, β, n_qubits):\n",
    "        self.β = β\n",
    "        self.n_qubits = n_qubits\n",
    "    \n",
    "    def construct_circuit(self, mode, qr):\n",
    "        circuit_init = QuantumCircuit(qr)\n",
    "\n",
    "        alpha = 2 * np.arctan(np.exp(- self.β / 2))\n",
    "        for i in range(n_qubits):\n",
    "            circuit_init.rx(alpha, qr[n_qubits+i])\n",
    "            circuit_init.cx(qr[n_qubits+i], qr[i])\n",
    "            \n",
    "        return circuit_init"
   ]
  },
  {
   "cell_type": "markdown",
   "metadata": {},
   "source": [
    "We need to overload the original QAOA class to be able pass it an initial state as a parameter"
   ]
  },
  {
   "cell_type": "code",
   "execution_count": 12,
   "metadata": {
    "ExecuteTime": {
     "end_time": "2018-11-19T20:11:14.046628Z",
     "start_time": "2018-11-19T20:11:14.034301Z"
    }
   },
   "outputs": [],
   "source": [
    "class MyQAOA(VQE):\n",
    "    def __init__(self, operator, optimizer, init_state, p=1, operator_mode='matrix', initial_point=None,\n",
    "                 batch_mode=False, aux_operators=None):\n",
    "            self.validate(locals())\n",
    "            var_form = QAOAVarForm(operator, p, init_state)\n",
    "            super().__init__(operator, var_form, optimizer,\n",
    "                             operator_mode=operator_mode, initial_point=initial_point)\n",
    "        \n",
    "class MyQAOAVarForm(QAOAVarForm):\n",
    "    def construct_circuit(self, angles, quantum_register, classical_register):\n",
    "        if not len(angles) == self.num_parameters:\n",
    "            raise ValueError('Incorrect number of angles: expecting {}, but {} given.'.format(\n",
    "                self.num_parameters, len(angles)\n",
    "            ))\n",
    "        q = quantum_register\n",
    "        circuit = QuantumCircuit(quantum_register, classical_register)\n",
    "        if self._initial_state:\n",
    "            circuit += self._initial_state.construct_circuit('circuit', q)\n",
    "        else:\n",
    "            circuit.u2(0, np.pi, q)\n",
    "        for idx in range(self._p):\n",
    "            β, γ = angles[idx], angles[idx + self._p]\n",
    "            circuit += self._cost_operator.evolve(None, γ, 'circuit', 1, quantum_registers=q)\n",
    "            circuit += self._mixer_operator.evolve(None, β, 'circuit', 1, quantum_registers=q)\n",
    "        return circuit"
   ]
  },
  {
   "cell_type": "markdown",
   "metadata": {},
   "source": [
    "We prepare the initial state:"
   ]
  },
  {
   "cell_type": "code",
   "execution_count": 13,
   "metadata": {
    "ExecuteTime": {
     "end_time": "2018-11-19T20:11:14.069066Z",
     "start_time": "2018-11-19T20:11:14.049530Z"
    }
   },
   "outputs": [],
   "source": [
    "initial_state = InitialState(β, n_qubits)"
   ]
  },
  {
   "cell_type": "markdown",
   "metadata": {},
   "source": [
    "We run the protocol to get the thermal state:"
   ]
  },
  {
   "cell_type": "code",
   "execution_count": 14,
   "metadata": {
    "ExecuteTime": {
     "end_time": "2018-11-19T20:11:14.083442Z",
     "start_time": "2018-11-19T20:11:14.071127Z"
    }
   },
   "outputs": [
    {
     "name": "stdout",
     "output_type": "stream",
     "text": [
      "Begin QAOA...\n"
     ]
    },
    {
     "name": "stderr",
     "output_type": "stream",
     "text": [
      "/home/pwittek/.anaconda3/envs/qiskit/lib/python3.7/site-packages/marshmallow/schema.py:364: ChangedInMarshmallow3Warning: strict=False is not recommended. In marshmallow 3.0, schemas will always be strict. See https://marshmallow.readthedocs.io/en/latest/upgrading.html#schemas-are-always-strict\n",
      "  ChangedInMarshmallow3Warning\n",
      "/home/pwittek/.anaconda3/envs/qiskit/lib/python3.7/site-packages/marshmallow/schema.py:364: ChangedInMarshmallow3Warning: strict=False is not recommended. In marshmallow 3.0, schemas will always be strict. See https://marshmallow.readthedocs.io/en/latest/upgrading.html#schemas-are-always-strict\n",
      "  ChangedInMarshmallow3Warning\n",
      "/home/pwittek/.anaconda3/envs/qiskit/lib/python3.7/site-packages/marshmallow/schema.py:364: ChangedInMarshmallow3Warning: strict=False is not recommended. In marshmallow 3.0, schemas will always be strict. See https://marshmallow.readthedocs.io/en/latest/upgrading.html#schemas-are-always-strict\n",
      "  ChangedInMarshmallow3Warning\n",
      "/home/pwittek/.anaconda3/envs/qiskit/lib/python3.7/site-packages/marshmallow/schema.py:364: ChangedInMarshmallow3Warning: strict=False is not recommended. In marshmallow 3.0, schemas will always be strict. See https://marshmallow.readthedocs.io/en/latest/upgrading.html#schemas-are-always-strict\n",
      "  ChangedInMarshmallow3Warning\n",
      "/home/pwittek/.anaconda3/envs/qiskit/lib/python3.7/site-packages/marshmallow/schema.py:364: ChangedInMarshmallow3Warning: strict=False is not recommended. In marshmallow 3.0, schemas will always be strict. See https://marshmallow.readthedocs.io/en/latest/upgrading.html#schemas-are-always-strict\n",
      "  ChangedInMarshmallow3Warning\n"
     ]
    },
    {
     "name": "stdout",
     "output_type": "stream",
     "text": [
      "Results of QAOA {'eigvals': array([0.]), 'opt_params': array([ 1.898, -0.447]), 'eigvecs': array([[-0.177-0.438j, -0.076-0.058j, -0.076-0.058j, -0.075-0.055j,\n",
      "        -0.076-0.058j,  0.328+0.241j, -0.075-0.055j,  0.219-0.137j,\n",
      "        -0.076-0.058j, -0.075-0.055j,  0.328+0.241j,  0.219-0.137j,\n",
      "        -0.075-0.055j,  0.219-0.137j,  0.219-0.137j,  0.028+0.328j]]), 'energy': 0.0, 'eval_count': 28, 'eval_time': 11.246169090270996}\n"
     ]
    }
   ],
   "source": [
    "def get_thermal_state(weights, p):\n",
    "    Hc = ising_hamiltonian(weights)\n",
    "    print(\"Begin QAOA...\")\n",
    "    \n",
    "    optimizer = COBYLA()\n",
    "    qaoa = MyQAOA(Hc, optimizer, initial_state, p, \"matrix\")\n",
    "    backend = get_aer_backend('statevector_simulator')\n",
    "    quantum_instance = QuantumInstance(backend, shots=100)\n",
    "    result = qaoa.run(quantum_instance)\n",
    "    print(\"Results of QAOA\", result)\n",
    "    \n",
    "    return result\n",
    "result = get_thermal_state(weights, 1)"
   ]
  },
  {
   "cell_type": "markdown",
   "metadata": {},
   "source": [
    "Finally, we reformat the final results, measure out the result, and plot the energy distribution:"
   ]
  },
  {
   "cell_type": "code",
   "execution_count": 15,
   "metadata": {
    "ExecuteTime": {
     "end_time": "2018-11-19T20:11:44.601197Z",
     "start_time": "2018-11-19T20:11:14.085143Z"
    }
   },
   "outputs": [
    {
     "data": {
      "image/png": "[encoded data removed]",
      "text/plain": [
       "<Figure size 432x288 with 1 Axes>"
      ]
     },
     "metadata": {
      "needs_background": "light"
     },
     "output_type": "display_data"
    }
   ],
   "source": [
    "var_form = MyQAOAVarForm(Hc, p, initial_state)\n",
    "thermal_state = var_form.construct_circuit(result['opt_params'], qr, cr)\n",
    "for i in range(n_qubits):\n",
    "    thermal_state.measure(qr[i], cr[i])\n",
    "    job = execute(thermal_state, backend, shots=2000)\n",
    "results = job.result().get_counts(thermal_state)\n",
    "\n",
    "def get_energy(spin_configuration):\n",
    "    x = spin_configuration.reshape(-1, 1)\n",
    "    return np.sum([[-weights[i,j] * x[i] * x[j] for j in range(n_qubits)] for i in range(n_qubits)])\n",
    "\n",
    "list_spin_configs = np.array(np.concatenate([[list(spin_config)] * results[spin_config] for spin_config in results]), dtype=\"int\")\n",
    "list_spin_configs[list_spin_configs == 0] = -1\n",
    "list_energy = np.array([get_energy(spin_config) for spin_config in list_spin_configs])\n",
    "hist = plt.hist(list_energy, density=True)"
   ]
  },
  {
   "cell_type": "markdown",
   "metadata": {},
   "source": [
    "The two eigenvalues, i.e. possible energies, of our Hamiltonian $H=\\sigma_1 \\sigma_2$ are $E=-1$ and $E=1$. At infinite temperature ($\\beta=0$), they should be assigned an equal probability, which is the case in the histogram above. Let's repeat the experiment at a lower temperature."
   ]
  },
  {
   "cell_type": "markdown",
   "metadata": {},
   "source": [
    "## Low temperature\n",
    "\n",
    "We set the inverse temperature to a high value. With this, we should get the lowest energy with a high probability."
   ]
  },
  {
   "cell_type": "code",
   "execution_count": 16,
   "metadata": {},
   "outputs": [
    {
     "name": "stdout",
     "output_type": "stream",
     "text": [
      "Begin QAOA...\n",
      "Results of QAOA {'eigvals': array([-0.973]), 'opt_params': array([0., 0.]), 'eigvecs': array([[ 0.993+0.j   , -0.   -0.j   , -0.   -0.j   , -0.   +0.j   ,\n",
      "        -0.   -0.j   ,  0.   -0.082j, -0.   +0.j   , -0.   +0.j   ,\n",
      "        -0.   -0.j   , -0.   +0.j   ,  0.   -0.082j, -0.   +0.j   ,\n",
      "        -0.   +0.j   , -0.   +0.j   , -0.   +0.j   , -0.007-0.j   ]]), 'energy': -0.973407734380529, 'eval_count': 27, 'eval_time': 12.175426006317139}\n"
     ]
    }
   ],
   "source": [
    "β = 5\n",
    "initial_state = InitialState(β, n_qubits)\n",
    "result = get_thermal_state(weights, 1)"
   ]
  },
  {
   "cell_type": "code",
   "execution_count": 17,
   "metadata": {},
   "outputs": [
    {
     "data": {
      "text/plain": [
       "(array([4.923, 0.   , 0.   , 0.   , 0.   , 0.   , 0.   , 0.   , 0.   ,\n",
       "        0.078]),\n",
       " array([-1. , -0.8, -0.6, -0.4, -0.2,  0. ,  0.2,  0.4,  0.6,  0.8,  1. ]),\n",
       " <a list of 10 Patch objects>)"
      ]
     },
     "execution_count": 17,
     "metadata": {},
     "output_type": "execute_result"
    },
    {
     "data": {
      "image/png": "[encoded data removed]",
      "text/plain": [
       "<Figure size 432x288 with 1 Axes>"
      ]
     },
     "metadata": {
      "needs_background": "light"
     },
     "output_type": "display_data"
    }
   ],
   "source": [
    "var_form = MyQAOAVarForm(Hc, p, initial_state)\n",
    "thermal_state = var_form.construct_circuit(result['opt_params'], qr, cr)\n",
    "for i in range(n_qubits):\n",
    "    thermal_state.measure(qr[i], cr[i])\n",
    "    job = execute(thermal_state, backend, shots=2000)\n",
    "results = job.result().get_counts(thermal_state)\n",
    "\n",
    "list_spin_configs = np.array(np.concatenate([[list(spin_config)] * results[spin_config] for spin_config in results]), dtype=\"int\")\n",
    "list_spin_configs[list_spin_configs == 0] = -1\n",
    "list_energy = np.array([get_energy(spin_config) for spin_config in list_spin_configs])\n",
    "plt.hist(list_energy, density=True)"
   ]
  },
  {
   "cell_type": "markdown",
   "metadata": {},
   "source": [
    "The minimum energy eigenstate should now have a much higher probability. Try to repeat the experiment with different $\\beta$ to see the effect of the temperature on the prepared thermal state."
   ]
  },
  {
   "cell_type": "markdown",
   "metadata": {
    "collapsed": true
   },
   "source": [
    "# References\n",
    "\n",
    "[1] Verdon, G., Broughton, M., Biamonte, J. (2017) [A quantum algorithm to train neural networks using low-depth circuits](https://arxiv.org/abs/1712.05304). *arXiv:1712.05304*. <a id='1'></a>"
   ]
  }
 ],
 "metadata": {
  "kernelspec": {
   "display_name": "Python 3",
   "language": "python",
   "name": "python3"
  },
  "language_info": {
   "codemirror_mode": {
    "name": "ipython",
    "version": 3
   },
   "file_extension": ".py",
   "mimetype": "text/x-python",
   "name": "python",
   "nbconvert_exporter": "python",
   "pygments_lexer": "ipython3",
   "version": "3.7.1"
  }
 },
 "nbformat": 4,
 "nbformat_minor": 2
}
