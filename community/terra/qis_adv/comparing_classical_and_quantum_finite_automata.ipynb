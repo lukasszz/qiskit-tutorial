{
 "cells": [
  {
   "cell_type": "markdown",
   "metadata": {},
   "source": [
    "<img src=\"../../../images/qiskit-heading.png\" alt=\"Note: In order for images to show up in this jupyter notebook you need to select File => Trusted Notebook\" width=\"500 px\" align=\"left\">"
   ]
  },
  {
   "cell_type": "markdown",
   "metadata": {},
   "source": [
    "## _*Comparing Classical and Quantum Finite Automata (QFA)*_\n",
    "\n",
    "Finite Automaton has been a mathematical model for computation since its invention in the 1940s. The purpose of a Finite State Machine is to recognize patterns within an input taken from some character set and accept or reject the input based on whether the pattern defined by the machine occurs in the input. The machine requires a list of states, the initial state, and the conditions for each transition from state to state. Such classical examples are vending machines, coin-operated turnstiles, elevators, traffic lights, etc. \n",
    "\n",
    "In the classical algorithm, the sequence begins in the start state, and will only make a transition if the next character in the input string matches the label on the transition from the current to the next state. The machine will continue making transitions on each input character until no move is possible. The string will be accepted if its final state is in the accept state and will be rejected if its final state is anywhere else. \n",
    "\n",
    "As for Quantum Finite Automata (QFA), the machine works by accepting a finite-length string of letters from a finite alphabet and utilizing quantum properties such as superposition to assign the string a probability of being in either the accept or reject state. "
   ]
  },
  {
   "cell_type": "markdown",
   "metadata": {},
   "source": [
    "***\n",
    "### Contributors\n",
    "Kaitlin Gili, Rudy Raymond"
   ]
  },
  {
   "cell_type": "markdown",
   "metadata": {},
   "source": [
    "## Prime Divisibility Algorithm \n",
    "\n",
    "Let's say that we have a string with $ a^i $ letters and we want to know whether the string is in the language $ L $ where $ L $ = {$ a^i $ | $ i $ is divisble by $ p $} and $ p $ is a prime number. If $ i $ is divisible by $ p $, we want to accept the string into the language, and if not, we want to reject it. \n",
    "$|0\\rangle $ and $ |1\\rangle $ serve as our accept and reject states. \n",
    "\n",
    "Classically, this algorithm requires a minimum of $ log(p) $ bits to store the information, whereas the quantum algorithm only requires $ log(log(p)) $ qubits. For example, using the highest known prime integer, the classical algorithm requires **a minimum of 77,232,917 bits**, whereas the quantum algorithm **only requires 27 qubits**. "
   ]
  },
  {
   "cell_type": "markdown",
   "metadata": {},
   "source": [
    "## Introduction <a id='introduction'></a>\n",
    "\n",
    "The algorithm in this notebook follows that in [Ambainis et al. 1998](https://arxiv.org/pdf/quant-ph/9802062.pdf). We assume that we are given a string and a prime integer. If the user does not input a prime number, the output will be a ValueError. First, we demonstrate a simpler version of the quantum algorithm that uses $ log(p) $ qubits to store the information. Then, we can use this to more easily understand the quantum algorithm that requires only $ log(log(p)) $ qubits."
   ]
  },
  {
   "cell_type": "markdown",
   "metadata": {},
   "source": [
    "## The Algorithm for Log(p) Qubits\n",
    "\n",
    "The algorithm is quite simple as follows.\n",
    "1. Prepare quantum and classical registers for $ log(p) $ qubits initialized to zero. \n",
    "$$ |0\\ldots 0\\rangle $$ \n",
    "2. Prepare $ log(p) $ random numbers k in the range {$ 1 $... $ p-1 $}. These numbers will be used to decrease the probability of a string getting accepted when $ i $ does not divide $ p $. \n",
    "3. Perform a number of $ i $ Y-Rotations on each qubit, where $ \\theta $ is initially zero and $ \\Phi $ is the angle of rotation for each unitary. $$ \\Phi = \\frac{2 \\pi k}{p} $$\n",
    "4. In the final state: \n",
    "$$ \\cos \\theta |0\\rangle + \\sin \\theta |1\\rangle $$\n",
    "$$ \\theta = \\frac{2 \\pi k} p {i} $$\n",
    "5. Measure each of the qubits in the classical register. If $ i $ divides $ p $, $ \\cos \\theta $ will be one for every qubit and the state will collapse to $ |0\\rangle $ to demonstrate an accept state with a probability of one. Otherwise, the output will consist of a small probability of accepting the string into the language and a higher probability of rejecting the string."
   ]
  },
  {
   "cell_type": "markdown",
   "metadata": {},
   "source": [
    "## The Circuit <a id=\"circuit\"></a>\n",
    "\n",
    "We now implement the QFA Prime Divisibility algorithm with QISKit by first preparing the environment."
   ]
  },
  {
   "cell_type": "code",
   "execution_count": 1,
   "metadata": {},
   "outputs": [],
   "source": [
    "# useful additional packages \n",
    "import random\n",
    "import math\n",
    "from sympy.ntheory import isprime\n",
    "\n",
    "# importing QISKit\n",
    "from qiskit import QuantumCircuit, ClassicalRegister, QuantumRegister\n",
    "from qiskit import Aer, IBMQ, execute\n",
    "\n",
    "from qiskit.tools.monitor import job_monitor\n",
    "from qiskit.providers.ibmq import least_busy\n",
    "from qiskit.tools.visualization import plot_histogram"
   ]
  },
  {
   "cell_type": "code",
   "execution_count": 2,
   "metadata": {},
   "outputs": [],
   "source": [
    "IBMQ.load_accounts()\n",
    "sim_backend = Aer.get_backend('qasm_simulator')\n",
    "device_backend = least_busy(IBMQ.backends(operational=True, simulator=False))"
   ]
  },
  {
   "cell_type": "markdown",
   "metadata": {},
   "source": [
    "We then use QISKit to program the algorithm."
   ]
  },
  {
   "cell_type": "code",
   "execution_count": 3,
   "metadata": {},
   "outputs": [],
   "source": [
    "#Function that takes in a prime number and a string of letters and returns a quantum circuit\n",
    "def qfa_algorithm(string, prime):\n",
    "    if isprime(prime) == False:\n",
    "        raise ValueError(\"This number is not a prime\") #Raises a ValueError if the input prime number is not prime\n",
    "    else:\n",
    "        n = math.ceil((math.log(prime))) #Rounds up to the next integer of the log(prime)\n",
    "        qr = QuantumRegister(n) #Creates a quantum register of length log(prime) for log(prime) qubits\n",
    "        cr = ClassicalRegister(n) #Creates a classical register for measurement \n",
    "        qfaCircuit = QuantumCircuit(qr, cr) #Defining the circuit to take in the values of qr and cr\n",
    "        for x in range(n): #For each qubit, we want to apply a series of unitary operations with a random int\n",
    "            random_value = random.randint(1,prime - 1) #Generates the random int for each qubit from {1, prime -1}\n",
    "            for letter in string: #For each letter in the string, we want to apply the same unitary operation to each qubit\n",
    "                qfaCircuit.ry((2*math.pi*random_value) / prime, qr[x]) #Applies the Y-Rotation to each qubit \n",
    "            qfaCircuit.measure(qr[x], cr[x]) #Measures each qubit \n",
    "        return qfaCircuit #Returns the created quantum circuit"
   ]
  },
  {
   "cell_type": "markdown",
   "metadata": {},
   "source": [
    "The qfa_algorithm function returns the Quantum Circuit qfaCircuit."
   ]
  },
  {
   "cell_type": "markdown",
   "metadata": {},
   "source": [
    "## Experiment with Simulators\n",
    "\n",
    "We can run the above circuit on the simulator. "
   ]
  },
  {
   "cell_type": "code",
   "execution_count": 4,
   "metadata": {},
   "outputs": [],
   "source": [
    "#A function that returns a string saying if the string is accepted into the language or rejected\n",
    "def accept(parameter):\n",
    "    states = list(result.get_counts(parameter))\n",
    "    for s in states:\n",
    "        for integer in s:\n",
    "            if integer == \"1\":\n",
    "                return \"Reject: the string is not accepted into the language\"\n",
    "    return \"Accept: the string is accepted into the language\""
   ]
  },
  {
   "cell_type": "markdown",
   "metadata": {},
   "source": [
    "Insert your own parameters and try even larger prime numbers."
   ]
  },
  {
   "cell_type": "code",
   "execution_count": 5,
   "metadata": {},
   "outputs": [],
   "source": [
    "range_lower = 0\n",
    "range_higher = 36\n",
    "prime_number = 11"
   ]
  },
  {
   "cell_type": "code",
   "execution_count": 6,
   "metadata": {},
   "outputs": [
    {
     "name": "stdout",
     "output_type": "stream",
     "text": [
      "Accept: the string is accepted into the language \n",
      " Length: 0   {'000': 1000}\n",
      "Reject: the string is not accepted into the language \n",
      " Length: 1   {'011': 233, '000': 109, '111': 12, '001': 542, '010': 45, '101': 50, '110': 3, '100': 6}\n",
      "Reject: the string is not accepted into the language \n",
      " Length: 2   {'011': 9, '000': 72, '111': 42, '001': 2, '010': 115, '101': 25, '110': 398, '100': 337}\n",
      "Reject: the string is not accepted into the language \n",
      " Length: 3   {'011': 21, '000': 156, '111': 25, '001': 227, '010': 15, '101': 320, '110': 11, '100': 225}\n",
      "Reject: the string is not accepted into the language \n",
      " Length: 4   {'101': 885, '110': 4, '011': 5, '100': 12, '111': 79, '001': 15}\n",
      "Reject: the string is not accepted into the language \n",
      " Length: 5   {'011': 7, '000': 1, '111': 452, '001': 6, '010': 9, '101': 94, '110': 359, '100': 72}\n",
      "Reject: the string is not accepted into the language \n",
      " Length: 6   {'011': 12, '000': 34, '111': 61, '001': 119, '010': 1, '101': 638, '110': 11, '100': 124}\n",
      "Reject: the string is not accepted into the language \n",
      " Length: 7   {'010': 295, '101': 5, '110': 416, '011': 112, '000': 5, '100': 6, '111': 161}\n",
      "Reject: the string is not accepted into the language \n",
      " Length: 8   {'011': 127, '000': 80, '111': 202, '001': 112, '010': 108, '101': 129, '110': 146, '100': 96}\n",
      "Reject: the string is not accepted into the language \n",
      " Length: 9   {'011': 123, '000': 7, '111': 549, '001': 23, '010': 22, '101': 121, '110': 118, '100': 37}\n",
      "Reject: the string is not accepted into the language \n",
      " Length: 10   {'011': 24, '000': 168, '111': 23, '001': 14, '010': 206, '101': 17, '110': 298, '100': 250}\n",
      "Accept: the string is accepted into the language \n",
      " Length: 11   {'000': 1000}\n",
      "Reject: the string is not accepted into the language \n",
      " Length: 12   {'010': 137, '110': 761, '011': 10, '000': 4, '100': 15, '111': 73}\n",
      "Reject: the string is not accepted into the language \n",
      " Length: 13   {'011': 64, '000': 112, '111': 20, '001': 537, '010': 9, '101': 203, '110': 4, '100': 51}\n",
      "Reject: the string is not accepted into the language \n",
      " Length: 14   {'011': 520, '000': 7, '111': 53, '001': 364, '010': 4, '101': 49, '110': 2, '100': 1}\n",
      "Reject: the string is not accepted into the language \n",
      " Length: 15   {'011': 56, '000': 144, '111': 94, '001': 46, '010': 189, '101': 74, '110': 237, '100': 160}\n",
      "Reject: the string is not accepted into the language \n",
      " Length: 16   {'010': 375, '110': 34, '011': 523, '000': 10, '100': 1, '111': 40, '001': 17}\n",
      "Reject: the string is not accepted into the language \n",
      " Length: 17   {'011': 5, '000': 122, '111': 14, '001': 42, '010': 10, '101': 230, '110': 46, '100': 531}\n",
      "Reject: the string is not accepted into the language \n",
      " Length: 18   {'010': 22, '101': 1, '110': 3, '011': 887, '000': 2, '111': 68, '001': 17}\n",
      "Reject: the string is not accepted into the language \n",
      " Length: 19   {'011': 40, '000': 3, '111': 252, '001': 2, '010': 101, '101': 3, '110': 585, '100': 14}\n",
      "Reject: the string is not accepted into the language \n",
      " Length: 20   {'011': 37, '000': 112, '111': 19, '001': 9, '010': 552, '101': 7, '110': 225, '100': 39}\n",
      "Reject: the string is not accepted into the language \n",
      " Length: 21   {'011': 103, '000': 3, '111': 468, '001': 68, '010': 1, '101': 337, '110': 12, '100': 8}\n",
      "Accept: the string is accepted into the language \n",
      " Length: 22   {'000': 1000}\n",
      "Reject: the string is not accepted into the language \n",
      " Length: 23   {'010': 1, '101': 417, '110': 11, '011': 10, '100': 8, '111': 542, '001': 11}\n",
      "Reject: the string is not accepted into the language \n",
      " Length: 24   {'011': 4, '000': 5, '111': 151, '001': 4, '010': 14, '101': 127, '110': 408, '100': 287}\n",
      "Reject: the string is not accepted into the language \n",
      " Length: 25   {'101': 162, '110': 21, '011': 20, '100': 2, '111': 792, '001': 3}\n",
      "Reject: the string is not accepted into the language \n",
      " Length: 26   {'011': 207, '000': 110, '111': 21, '001': 555, '010': 51, '101': 41, '110': 4, '100': 11}\n",
      "Reject: the string is not accepted into the language \n",
      " Length: 27   {'011': 2, '000': 115, '111': 29, '001': 46, '010': 9, '101': 202, '110': 44, '100': 553}\n",
      "Reject: the string is not accepted into the language \n",
      " Length: 28   {'011': 11, '000': 67, '111': 36, '001': 82, '010': 6, '101': 451, '110': 38, '100': 309}\n",
      "Reject: the string is not accepted into the language \n",
      " Length: 29   {'011': 87, '000': 13, '111': 415, '001': 55, '010': 23, '101': 270, '110': 89, '100': 48}\n",
      "Reject: the string is not accepted into the language \n",
      " Length: 30   {'011': 194, '000': 9, '111': 74, '001': 3, '010': 502, '101': 2, '110': 213, '100': 3}\n",
      "Reject: the string is not accepted into the language \n",
      " Length: 31   {'010': 659, '110': 244, '011': 60, '000': 11, '100': 7, '111': 18, '001': 1}\n",
      "Reject: the string is not accepted into the language \n",
      " Length: 32   {'010': 13, '101': 2, '110': 8, '011': 686, '000': 1, '111': 274, '001': 16}\n",
      "Accept: the string is accepted into the language \n",
      " Length: 33   {'000': 1000}\n",
      "Reject: the string is not accepted into the language \n",
      " Length: 34   {'011': 113, '000': 189, '111': 49, '001': 285, '010': 103, '101': 126, '110': 36, '100': 99}\n",
      "Reject: the string is not accepted into the language \n",
      " Length: 35   {'010': 2, '101': 73, '011': 64, '000': 10, '100': 2, '111': 10, '001': 839}\n"
     ]
    }
   ],
   "source": [
    "for length in range(range_lower,range_higher):\n",
    "    params = qfa_algorithm(\"a\"* length, prime_number)\n",
    "    job = execute(params, sim_backend, shots=1000)\n",
    "    result = job.result()\n",
    "    print(accept(params), \"\\n\", \"Length:\",length,\" \" ,result.get_counts(params))"
   ]
  },
  {
   "cell_type": "markdown",
   "metadata": {},
   "source": [
    "### Drawing the circuit of the QFA\n",
    "\n",
    "Below is the snapshop of the QFA for reading the bitstring of length $3$. It can be seen that there are independent QFAs each of which performs $Y$ rotation for $3$ times.  "
   ]
  },
  {
   "cell_type": "code",
   "execution_count": 7,
   "metadata": {
    "scrolled": true
   },
   "outputs": [
    {
     "data": {
      "image/png": "[encoded data removed]",
      "text/plain": [
       "<Figure size 903x379.26 with 1 Axes>"
      ]
     },
     "execution_count": 7,
     "metadata": {},
     "output_type": "execute_result"
    }
   ],
   "source": [
    "qfa_algorithm(\"a\"* 3, prime_number).draw(output='mpl')"
   ]
  },
  {
   "cell_type": "markdown",
   "metadata": {},
   "source": [
    "## The Algorithm for Log(Log(p)) Qubits\n",
    "\n",
    "The algorithm is quite simple as follows.\n",
    "1. Prepare a quantum register for $ log(log(p)) + 1 $ qubits initialized to zero. The $ log(log(p))$ qubits will act as your control bits and the 1 extra will act as your target bit. Also prepare a classical register for 1 bit to measure the target. \n",
    "$$ |0\\ldots 0\\rangle |0\\rangle  $$ \n",
    "2. Hadamard the control bits to put them in a superposition so that we can perform multiple QFA's at the same time.\n",
    "3. For each of $s $ states in the superposition, we can perform an individual QFA with the control qubits acting as the random integer $ k $ from the previous algorithm. Thus, we need $ n $ values from $ 1... log(p)$ for $ k $. For each letter $ i $ in the string, we perform a controlled y-rotation on the target qubit, where $ \\theta $ is initially zero and $ \\Phi $ is the angle of rotation for each unitary. $$ \\Phi = \\frac{2 \\pi k_{s}}{p} $$\n",
    "4. The target qubit in the final state: \n",
    "$$ \\cos \\theta |0\\rangle + \\sin \\theta |1\\rangle $$\n",
    "$$ \\theta = \\sum_{s=0}^n \\frac{2 \\pi k_{s}} p {i} $$\n",
    "5. Measure the target qubit in the classical register. If $ i $ divides $ p $, $ \\cos \\theta $ will be one for every QFA and the state of the target will collapse to $ |0\\rangle $ to demonstrate an accept state with a probability of one. Otherwise, the output will consist of a small probability of accepting the string into the language and a higher probability of rejecting the string."
   ]
  },
  {
   "cell_type": "markdown",
   "metadata": {},
   "source": [
    "## The Circuit <a id=\"circuit\"></a>"
   ]
  },
  {
   "cell_type": "markdown",
   "metadata": {},
   "source": [
    "We then use QISKit to program the algorithm."
   ]
  },
  {
   "cell_type": "code",
   "execution_count": 8,
   "metadata": {},
   "outputs": [],
   "source": [
    "#Function that takes in a prime number and a string of letters and returns a quantum circuit\n",
    "def qfa_controlled_algorithm(string, prime):\n",
    "    if isprime(prime) == False:\n",
    "        raise ValueError(\"This number is not a prime\") #Raises a ValueError if the input prime number is not prime\n",
    "    else:\n",
    "        n = math.ceil((math.log(math.log(prime,2),2))) #Represents log(log(p)) control qubits \n",
    "        states = 2 ** (n) #Number of states that the qubits can represent/Number of QFA's to be performed \n",
    "        qr = QuantumRegister(n+1) #Creates a quantum register of log(log(prime)) control qubits + 1 target qubit\n",
    "        cr = ClassicalRegister(1) #Creates a classical register of log(log(prime)) control qubits + 1 target qubit\n",
    "        control_qfaCircuit = QuantumCircuit(qr, cr) #Defining the circuit to take in the values of qr and cr\n",
    "        for q in range(n): #We want to take each control qubit and put them in a superposition by applying a Hadamard Gate\n",
    "            control_qfaCircuit.h(qr[q])\n",
    "        for letter in string: #For each letter in the string, we want to apply a series of Controlled Y-rotations\n",
    "            for q in range(n):  \n",
    "                control_qfaCircuit.cu3(2*math.pi*(2**q)/prime, 0, 0, qr[q], qr[n]) #Controlled Y on Target qubit \n",
    "        control_qfaCircuit.measure(qr[n], cr[0]) #Measure the target qubit  \n",
    "        return control_qfaCircuit #Returns the created quantum circuit  "
   ]
  },
  {
   "cell_type": "markdown",
   "metadata": {},
   "source": [
    "The qfa_algorithm function returns the Quantum Circuit control_qfaCircuit."
   ]
  },
  {
   "cell_type": "markdown",
   "metadata": {},
   "source": [
    "## Experiment with Simulators\n",
    "\n",
    "We can run the above circuit on the simulator. "
   ]
  },
  {
   "cell_type": "code",
   "execution_count": 9,
   "metadata": {},
   "outputs": [
    {
     "name": "stdout",
     "output_type": "stream",
     "text": [
      "Accept: the string is accepted into the language \n",
      " Length: 0   {'0': 1000}\n",
      "Reject: the string is not accepted into the language \n",
      " Length: 1   {'1': 248, '0': 752}\n",
      "Reject: the string is not accepted into the language \n",
      " Length: 2   {'1': 506, '0': 494}\n",
      "Reject: the string is not accepted into the language \n",
      " Length: 3   {'1': 461, '0': 539}\n",
      "Reject: the string is not accepted into the language \n",
      " Length: 4   {'1': 364, '0': 636}\n",
      "Reject: the string is not accepted into the language \n",
      " Length: 5   {'1': 474, '0': 526}\n",
      "Reject: the string is not accepted into the language \n",
      " Length: 6   {'1': 479, '0': 521}\n",
      "Reject: the string is not accepted into the language \n",
      " Length: 7   {'1': 383, '0': 617}\n",
      "Reject: the string is not accepted into the language \n",
      " Length: 8   {'1': 452, '0': 548}\n",
      "Reject: the string is not accepted into the language \n",
      " Length: 9   {'1': 522, '0': 478}\n",
      "Reject: the string is not accepted into the language \n",
      " Length: 10   {'1': 249, '0': 751}\n",
      "Accept: the string is accepted into the language \n",
      " Length: 11   {'0': 1000}\n",
      "Reject: the string is not accepted into the language \n",
      " Length: 12   {'1': 212, '0': 788}\n",
      "Reject: the string is not accepted into the language \n",
      " Length: 13   {'1': 526, '0': 474}\n",
      "Reject: the string is not accepted into the language \n",
      " Length: 14   {'1': 451, '0': 549}\n",
      "Reject: the string is not accepted into the language \n",
      " Length: 15   {'1': 371, '0': 629}\n",
      "Reject: the string is not accepted into the language \n",
      " Length: 16   {'1': 475, '0': 525}\n",
      "Reject: the string is not accepted into the language \n",
      " Length: 17   {'1': 478, '0': 522}\n",
      "Reject: the string is not accepted into the language \n",
      " Length: 18   {'1': 364, '0': 636}\n",
      "Reject: the string is not accepted into the language \n",
      " Length: 19   {'1': 480, '0': 520}\n",
      "Reject: the string is not accepted into the language \n",
      " Length: 20   {'1': 525, '0': 475}\n",
      "Reject: the string is not accepted into the language \n",
      " Length: 21   {'1': 231, '0': 769}\n",
      "Accept: the string is accepted into the language \n",
      " Length: 22   {'0': 1000}\n",
      "Reject: the string is not accepted into the language \n",
      " Length: 23   {'1': 233, '0': 767}\n",
      "Reject: the string is not accepted into the language \n",
      " Length: 24   {'1': 513, '0': 487}\n",
      "Reject: the string is not accepted into the language \n",
      " Length: 25   {'1': 475, '0': 525}\n",
      "Reject: the string is not accepted into the language \n",
      " Length: 26   {'1': 377, '0': 623}\n",
      "Reject: the string is not accepted into the language \n",
      " Length: 27   {'1': 460, '0': 540}\n",
      "Reject: the string is not accepted into the language \n",
      " Length: 28   {'1': 456, '0': 544}\n",
      "Reject: the string is not accepted into the language \n",
      " Length: 29   {'1': 365, '0': 635}\n",
      "Reject: the string is not accepted into the language \n",
      " Length: 30   {'1': 443, '0': 557}\n",
      "Reject: the string is not accepted into the language \n",
      " Length: 31   {'1': 512, '0': 488}\n",
      "Reject: the string is not accepted into the language \n",
      " Length: 32   {'1': 231, '0': 769}\n",
      "Accept: the string is accepted into the language \n",
      " Length: 33   {'0': 1000}\n",
      "Reject: the string is not accepted into the language \n",
      " Length: 34   {'1': 223, '0': 777}\n",
      "Reject: the string is not accepted into the language \n",
      " Length: 35   {'1': 528, '0': 472}\n"
     ]
    }
   ],
   "source": [
    "for length in range(range_lower,range_higher):\n",
    "    params = qfa_controlled_algorithm(\"a\"* length, prime_number)\n",
    "    job = execute(params, sim_backend, shots=1000)\n",
    "    result = job.result()\n",
    "    print(accept(params), \"\\n\", \"Length:\",length,\" \" ,result.get_counts(params))"
   ]
  },
  {
   "cell_type": "markdown",
   "metadata": {},
   "source": [
    "### Drawing the circuit of the QFA\n",
    "\n",
    "Below is the snapshot of the QFA for reading the bitstring of length $3$. It can be seen that there is a superposition of QFAs instead of independent QFAs. "
   ]
  },
  {
   "cell_type": "code",
   "execution_count": 10,
   "metadata": {},
   "outputs": [
    {
     "data": {
      "image/png": "[encoded data removed]",
      "text/plain": [
       "<Figure size 1023.4x258.86 with 1 Axes>"
      ]
     },
     "execution_count": 10,
     "metadata": {},
     "output_type": "execute_result"
    }
   ],
   "source": [
    "qfa_controlled_algorithm(\"a\"* 3, prime_number).draw(output='mpl')"
   ]
  },
  {
   "cell_type": "markdown",
   "metadata": {
    "collapsed": true
   },
   "source": [
    "## Experimenting with Real Devices\n",
    "\n",
    "Real-device backends have errors and if the above QFAs are executed on the noisy backends, errors in rejecting strings that should have been accepted can happen. Let us see how well the real-device backends can realize the QFAs. "
   ]
  },
  {
   "cell_type": "markdown",
   "metadata": {},
   "source": [
    "Let us look an example when the QFA should reject the bitstring because the length of the bitstring is not divisible by the prime number."
   ]
  },
  {
   "cell_type": "code",
   "execution_count": 11,
   "metadata": {
    "scrolled": true
   },
   "outputs": [
    {
     "name": "stdout",
     "output_type": "stream",
     "text": [
      "The length of a is 2  while the prime number is 3\n"
     ]
    }
   ],
   "source": [
    "prime_number = 3\n",
    "length = 2          # set the length so that it is not divisible by the prime_number\n",
    "print(\"The length of a is\", length, \" while the prime number is\", prime_number)\n",
    "qfa1 = qfa_controlled_algorithm(\"a\"* length, prime_number)"
   ]
  },
  {
   "cell_type": "code",
   "execution_count": 12,
   "metadata": {},
   "outputs": [
    {
     "data": {
      "application/vnd.jupyter.widget-view+json": {
       "model_id": "d43ee773b29c4260980144a1c26a8268",
       "version_major": 2,
       "version_minor": 0
      },
      "text/plain": [
       "HTML(value=\"<p style='font-size:16px;'>Job Status: job is being initialized </p>\")"
      ]
     },
     "metadata": {},
     "output_type": "display_data"
    }
   ],
   "source": [
    "job = execute(qfa1, backend=device_backend, shots=100)\n",
    "job_monitor(job)"
   ]
  },
  {
   "cell_type": "code",
   "execution_count": 13,
   "metadata": {},
   "outputs": [
    {
     "data": {
      "image/png": "[encoded data removed]",
      "text/plain": [
       "<Figure size 504x360 with 1 Axes>"
      ]
     },
     "execution_count": 13,
     "metadata": {},
     "output_type": "execute_result"
    }
   ],
   "source": [
    "result = job.result()\n",
    "plot_histogram(result.get_counts())"
   ]
  },
  {
   "cell_type": "markdown",
   "metadata": {},
   "source": [
    "In the above, we can see that the probability of observing \"1\" is quite significant. Let us see how the circuit looks like. "
   ]
  },
  {
   "cell_type": "code",
   "execution_count": 14,
   "metadata": {},
   "outputs": [
    {
     "data": {
      "image/png": "[encoded data removed]",
      "text/plain": [
       "<Figure size 541.8x198.66 with 1 Axes>"
      ]
     },
     "execution_count": 14,
     "metadata": {},
     "output_type": "execute_result"
    }
   ],
   "source": [
    "qfa1.draw(output='mpl')"
   ]
  },
  {
   "cell_type": "markdown",
   "metadata": {},
   "source": [
    "Now, let us see what happens when the QFAs should accept the input string."
   ]
  },
  {
   "cell_type": "code",
   "execution_count": 15,
   "metadata": {
    "scrolled": false
   },
   "outputs": [
    {
     "name": "stdout",
     "output_type": "stream",
     "text": [
      "The length of a is 3  while the prime number is 3\n"
     ]
    }
   ],
   "source": [
    "print_number = length = 3 # set the length so that it is divisible by the prime_number\n",
    "print(\"The length of a is\", length, \" while the prime number is\", prime_number)\n",
    "qfa2 = qfa_controlled_algorithm(\"a\"* length, prime_number)"
   ]
  },
  {
   "cell_type": "code",
   "execution_count": 16,
   "metadata": {},
   "outputs": [
    {
     "data": {
      "application/vnd.jupyter.widget-view+json": {
       "model_id": "72a655b604a74c679e6feb614b07f865",
       "version_major": 2,
       "version_minor": 0
      },
      "text/plain": [
       "HTML(value=\"<p style='font-size:16px;'>Job Status: job is being initialized </p>\")"
      ]
     },
     "metadata": {},
     "output_type": "display_data"
    }
   ],
   "source": [
    "job = execute(qfa2, backend=device_backend, shots=100)\n",
    "job_monitor(job)"
   ]
  },
  {
   "cell_type": "code",
   "execution_count": 17,
   "metadata": {},
   "outputs": [
    {
     "data": {
      "image/png": "[encoded data removed]",
      "text/plain": [
       "<Figure size 504x360 with 1 Axes>"
      ]
     },
     "execution_count": 17,
     "metadata": {},
     "output_type": "execute_result"
    }
   ],
   "source": [
    "result = job.result()\n",
    "plot_histogram(result.get_counts())"
   ]
  },
  {
   "cell_type": "markdown",
   "metadata": {},
   "source": [
    "The error of rejecting the bitstring is equal to the probability of observing \"1\" which can be checked from the above histogram. We can see that the noise of real-device backends prevents us to have a correct answer. It is left as future work on how to mitigate errors of the backends in the QFA models. "
   ]
  },
  {
   "cell_type": "code",
   "execution_count": 18,
   "metadata": {},
   "outputs": [
    {
     "data": {
      "image/png": "[encoded data removed]",
      "text/plain": [
       "<Figure size 662.2x198.66 with 1 Axes>"
      ]
     },
     "execution_count": 18,
     "metadata": {},
     "output_type": "execute_result"
    }
   ],
   "source": [
    "qfa2.draw(output='mpl')"
   ]
  }
 ],
 "metadata": {
  "kernelspec": {
   "display_name": "Python [default]",
   "language": "python",
   "name": "python3"
  },
  "language_info": {
   "codemirror_mode": {
    "name": "ipython",
    "version": 3
   },
   "file_extension": ".py",
   "mimetype": "text/x-python",
   "name": "python",
   "nbconvert_exporter": "python",
   "pygments_lexer": "ipython3",
   "version": "3.6.7"
  }
 },
 "nbformat": 4,
 "nbformat_minor": 2
}
