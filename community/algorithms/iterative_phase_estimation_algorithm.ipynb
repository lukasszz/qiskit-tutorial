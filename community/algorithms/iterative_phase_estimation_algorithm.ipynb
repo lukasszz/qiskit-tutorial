{
 "cells": [
  {
   "cell_type": "markdown",
   "metadata": {},
   "source": [
    "<img src=\"../../images/qiskit-heading.gif\" alt=\"Note: In order for images to show up in this jupyter notebook you need to select File => Trusted Notebook\" width=\"500 px\" align=\"left\">"
   ]
  },
  {
   "cell_type": "markdown",
   "metadata": {},
   "source": [
    "## Iterative Phase Estimation Algorithm\n",
    "\n",
    "\n",
    "The latest version of this notebook is available on https://github.com/qiskit/qiskit-tutorial.\n",
    "\n",
    "For more information about how to use the IBM Q Experience (QX), consult the [tutorials](https://quantumexperience.ng.bluemix.net/qstage/#/tutorial?sectionId=c59b3710b928891a1420190148a72cce&pageIndex=0), or check out the [community](https://quantumexperience.ng.bluemix.net/qstage/#/community).\n",
    "\n",
    "***\n",
    "### Contributors\n",
    "Antonio Córcoles, Jay Gambetta, Rudy Raymond"
   ]
  },
  {
   "cell_type": "markdown",
   "metadata": {},
   "source": [
    "## Quantum Phase Estimation (QPE)\n",
    "\n",
    "The Quantum Phase Estimation (QPE) algorithm solves the problem of finding unknown eigenvalues of a unitary operator. The attractiveness of the QPE algorithm is due to the fact that it is a key ingredient of some other very powerful algorithms, like order-finding and Shor's. \n",
    "\n",
    "In a standard textbook, such as Nielsen & Chuang <i>Quantum Computation and Quantum Information</i>, in the QPE, each bit of the phase is encoded in a different qubit on a register using the phase kickback property of controlled-unitary operations. This is followed by an inverse Quantum Fourier Transform operation, which yields an n-bit approximation to the phase by reading the n-qubit register."
   ]
  },
  {
   "cell_type": "markdown",
   "metadata": {},
   "source": [
    "## Iterative Phase Estimation Algorithm (IPEA)\n",
    "The QPE algorithm can, however, be realized in a much smaller qubit system, by iterating the steps on a system of just two qubits. This is called the Iterative Phase Estimation Algorithm (IPEA).\n",
    "\n",
    "Consider the problem of finding $\\varphi$ given $|\\Psi\\rangle$ and $U$ in $U |\\Psi\\rangle = e^{i \\phi} | \\Psi \\rangle$, with $\\phi = 2 \\pi \\varphi$. Let's assume for now that $\\varphi$ can be written as $\\varphi = \\varphi_1/2 + \\varphi_2/4 + ... + \\varphi_m/2^m = 0.\\varphi_1 \\varphi_2 ... \\varphi_m$, where we have defined the notation $0.\\varphi_1 \\varphi_2 ... \\varphi_m$. Now, if we have two qubits, $q_0$ and $q_1$, and we initialize them as $q_0 \\rightarrow |+\\rangle$ and $q_1 \\rightarrow |\\Psi \\rangle$, then, after applying a control-U between $q_0$ and $q_1$ $2^t$ times, the state of $q_0$ can be written as $|0\\rangle + e^{i 2 \\pi 2^{t} \\varphi} | 1 \\rangle$. That is, the phase of $U$ has been kicked back into $q_0$ as many times as the control operation has been performed.\n",
    "\n",
    "For $t=0$, we have a total phase in $q_0$ of $e^{i 2 \\pi 2^{0} \\varphi} = e^{i 2 \\pi \\varphi} = e^{i 2 \\pi 0.\\varphi_1 \\varphi_2 ... \\varphi_m}$\n",
    "\n",
    "For $t=1$, the phase would be $e^{i 2 \\pi 2^{1} \\varphi} = e^{i 2 \\pi \\varphi_1} e^{i 2 \\pi 0.\\varphi_2 \\varphi_3 ... \\varphi_m}$\n",
    "\n",
    "For $t=2$, $e^{i 2 \\pi 2^{2} \\varphi} = e^{i 2 \\pi 2 \\varphi_1} e^{i 2 \\pi \\varphi_2} e^{i 2 \\pi 0.\\varphi_3 \\varphi_4 ... \\varphi_m}$\n",
    "\n",
    "And for $t=m-1$, $e^{i 2 \\pi 2^{m-1} \\varphi} = e^{i 2 \\pi 2^{m-2} \\varphi_1} e^{i 2 \\pi 2^{m-3} \\varphi_2} ... e^{i 2 \\pi 2^{-1} \\varphi_m} = e^{i 2 \\pi 0.\\varphi_m}$. Note that if we perform a Hadamard operation on the state $|0\\rangle + e^{i 2 \\pi 0.\\varphi_m}|1\\rangle$ and perform a measurement in the standard basis, we obtain $|0\\rangle$ if $\\varphi_m = 0$ and $|1\\rangle$ if $\\varphi_m = 1$. \n",
    "\n",
    "In the first step of the IPEA, we directly measure the least significant bit of the phase $\\varphi$, $\\varphi_m$, by initializing the 2-qubit register as described above, performing $2^{m-1}$ control-$U$ operations between the qubits, and measuring $q_0$ in the diagonal basis.\n",
    "\n",
    "For the second step, we initialize the register in the same way and apply $2^{m-2}$ control-$U$ operations. The phase in $q_0$ after these operations is now $e^{i 2 \\pi 0.\\varphi_{m-1}\\varphi_{m}}= e^{i 2 \\pi 0.\\varphi_{m-1}} e^{i 2 \\pi \\varphi_m/4}$. We see that prior to extracting the phase bit $\\varphi_{m-1}$, we must perform a phase correction of $\\varphi_m /2$. This is equivalent to a rotation around the $Z-$axis of angle $-\\varphi_m /4$.\n",
    "\n",
    "Therefore, the $k$th step of the IPEA, giving $\\varphi_{m-k+1}$, consists of the register initialization ($q_0$ in $|+\\rangle$, $q_1$ in $|\\Psi\\rangle$), the application of control-$U$ $2^{m-k}$ times, a rotation around $Z$ of angle $\\omega_k = -2 \\pi 0.0\\varphi_{k+1} ... \\varphi_m$, a Hadamard transform to $q_0$, and a measurement of $q_0$ in the standard basis. Note that $q_1$ remains in the state $|\\Psi\\rangle$ throughout the algorithm."
   ]
  },
  {
   "cell_type": "markdown",
   "metadata": {},
   "source": [
    "## IPEA circuit\n",
    "\n",
    "Let's first initialize the API and import the necessary packages"
   ]
  },
  {
   "cell_type": "code",
   "execution_count": 1,
   "metadata": {
    "ExecuteTime": {
     "end_time": "2018-09-26T14:28:50.747843Z",
     "start_time": "2018-09-26T14:28:48.229088Z"
    }
   },
   "outputs": [],
   "source": [
    "from math import pi\n",
    "import numpy as np\n",
    "import scipy as sp\n",
    "import matplotlib.pyplot as plt\n",
    "%matplotlib inline\n",
    "\n",
    "# importing Qiskit\n",
    "from qiskit import BasicAer, IBMQ\n",
    "from qiskit import QuantumCircuit, ClassicalRegister, QuantumRegister\n",
    "from qiskit import execute\n",
    "from qiskit.tools.visualization import plot_histogram\n",
    "from qiskit.tools.monitor import job_monitor"
   ]
  },
  {
   "cell_type": "code",
   "execution_count": 2,
   "metadata": {
    "ExecuteTime": {
     "end_time": "2018-09-26T14:28:51.950686Z",
     "start_time": "2018-09-26T14:28:50.750412Z"
    }
   },
   "outputs": [],
   "source": [
    "# Load saved IBMQ accounts\n",
    "IBMQ.load_accounts()"
   ]
  },
  {
   "cell_type": "markdown",
   "metadata": {},
   "source": [
    "Now you can try the following circuit in the quantum simulator for a phase of $-5\\pi/8 = 2 \\pi \\varphi$ and $m=4$. Note that the IPEA cannot be run in the real device in this form, due to the current lack of feedback capability."
   ]
  },
  {
   "cell_type": "code",
   "execution_count": 3,
   "metadata": {
    "ExecuteTime": {
     "end_time": "2018-09-26T14:28:53.401913Z",
     "start_time": "2018-09-26T14:28:51.952881Z"
    }
   },
   "outputs": [
    {
     "data": {
      "image/png": "[encoded data removed]",
      "text/plain": [
       "<matplotlib.figure.Figure at 0xa1eab6588>"
      ]
     },
     "execution_count": 3,
     "metadata": {},
     "output_type": "execute_result"
    }
   ],
   "source": [
    "# We first define controlled gates used in the IPEA\n",
    "def cu1fixed(qProg, c, t, a):\n",
    "    qProg.u1(-a, t)\n",
    "    qProg.cx(c, t)\n",
    "    qProg.u1(a, t)\n",
    "    qProg.cx(c, t)\n",
    "\n",
    "def cu5pi8(qProg, c, t):\n",
    "    cu1fixed(qProg, c, t, -5.0*pi/8.0)\n",
    "\n",
    "# We then prepare quantum and classical registers and the circuit\n",
    "qr = QuantumRegister(2)\n",
    "cr = ClassicalRegister(4)\n",
    "circuitName=\"IPEAonSimulator\"\n",
    "ipeaCircuit = QuantumCircuit(qr, cr)\n",
    "\n",
    "# Apply IPEA\n",
    "ipeaCircuit.h(qr[0])\n",
    "for i in range(8):\n",
    "    cu5pi8(ipeaCircuit, qr[0], qr[1])\n",
    "ipeaCircuit.h(qr[0])\n",
    "ipeaCircuit.measure(qr[0], cr[0])\n",
    "\n",
    "ipeaCircuit.reset(qr[0])\n",
    "\n",
    "ipeaCircuit.h(qr[0])\n",
    "for i in range(4):\n",
    "    cu5pi8(ipeaCircuit, qr[0], qr[1])\n",
    "ipeaCircuit.u1(-pi/2, qr[0]).c_if(cr, 1)\n",
    "ipeaCircuit.h(qr[0])\n",
    "ipeaCircuit.measure(qr[0], cr[1])\n",
    "\n",
    "ipeaCircuit.reset(qr[0])\n",
    "\n",
    "ipeaCircuit.h(qr[0])\n",
    "for i in range(2):\n",
    "    cu5pi8(ipeaCircuit, qr[0], qr[1])\n",
    "ipeaCircuit.u1(-pi/4, qr[0]).c_if(cr, 1)\n",
    "ipeaCircuit.u1(-pi/2, qr[0]).c_if(cr, 2)\n",
    "ipeaCircuit.u1(-3*pi/4, qr[0]).c_if(cr, 3)\n",
    "ipeaCircuit.h(qr[0])\n",
    "ipeaCircuit.measure(qr[0], cr[2])\n",
    "\n",
    "ipeaCircuit.reset(qr[0])\n",
    "\n",
    "ipeaCircuit.h(qr[0])\n",
    "cu5pi8(ipeaCircuit, qr[0], qr[1])\n",
    "ipeaCircuit.u1(-pi/8, qr[0]).c_if(cr, 1)\n",
    "ipeaCircuit.u1(-2*pi/8, qr[0]).c_if(cr, 2)\n",
    "ipeaCircuit.u1(-3*pi/8, qr[0]).c_if(cr, 3)\n",
    "ipeaCircuit.u1(-4*pi/8, qr[0]).c_if(cr, 4)\n",
    "ipeaCircuit.u1(-5*pi/8, qr[0]).c_if(cr, 5)\n",
    "ipeaCircuit.u1(-6*pi/8, qr[0]).c_if(cr, 6)\n",
    "ipeaCircuit.u1(-7*pi/8, qr[0]).c_if(cr, 7)\n",
    "ipeaCircuit.h(qr[0])\n",
    "ipeaCircuit.measure(qr[0], cr[3])\n",
    "\n",
    "backend = BasicAer.get_backend('qasm_simulator')\n",
    "shots = 1000\n",
    "\n",
    "results = execute(ipeaCircuit, backend=backend, shots=shots).result()\n",
    "plot_histogram(results.get_counts())"
   ]
  },
  {
   "cell_type": "markdown",
   "metadata": {},
   "source": [
    "The results are given in terms of $\\varphi = 0.\\varphi_1 \\varphi_2 \\varphi_3 \\varphi_4$, with the least significant digit ($\\varphi_4$) as the leftmost bit in the classical register. The result is $\\varphi = 11/16$, from which $\\phi = 2\\pi \\varphi = 11 \\pi/8 = 2 \\pi - 5\\pi/8$, as encoded in the circuit. "
   ]
  },
  {
   "cell_type": "markdown",
   "metadata": {},
   "source": [
    "## IPEA in the real device\n",
    "\n",
    "As we have mentioned before, we currently lack the ability to use measurement feedback or feedforward, along with qubit resetting, on the real device in the Quantum Experience. However, we still can implement a segmentized version of the IPEA by extracting the information about the phase one bit at a time.\n",
    "\n",
    "Try the following four circuits in the real device. They estimate the same phase as in the previous example (-5$\\pi/8$), one bit at a time, from least ($\\varphi_4$) to most ($\\varphi_1$) significant bit."
   ]
  },
  {
   "cell_type": "code",
   "execution_count": 4,
   "metadata": {
    "ExecuteTime": {
     "end_time": "2018-09-26T14:28:55.118404Z",
     "start_time": "2018-09-26T14:28:53.403783Z"
    },
    "scrolled": true
   },
   "outputs": [
    {
     "name": "stdout",
     "output_type": "stream",
     "text": [
      "Available backends: [[<QasmSimulatorPy('qasm_simulator') from BasicAer()>, <StatevectorSimulatorPy('statevector_simulator') from BasicAer()>, <UnitarySimulatorPy('unitary_simulator') from BasicAer()>], [<IBMQBackend('ibmqx4') from IBMQ()>, <IBMQBackend('ibmq_16_melbourne') from IBMQ()>, <IBMQBackend('ibmq_qasm_simulator') from IBMQ()>]]\n"
     ]
    },
    {
     "data": {
      "application/vnd.jupyter.widget-view+json": {
       "model_id": "c2973ffcc61041fca8e7db9625227e5e",
       "version_major": 2,
       "version_minor": 0
      },
      "text/plain": [
       "HTML(value=\"<p style='font-size:16px;'>Job Status: job is being initialized </p>\")"
      ]
     },
     "metadata": {},
     "output_type": "display_data"
    }
   ],
   "source": [
    "# We then prepare quantum and classical registers and the circuit\n",
    "qr = QuantumRegister(5)\n",
    "cr = ClassicalRegister(5)\n",
    "realStep1Circuit = QuantumCircuit(qr, cr)\n",
    "\n",
    "# Apply IPEA\n",
    "realStep1Circuit.h(qr[0])\n",
    "for i in range(8):\n",
    "    cu5pi8(realStep1Circuit, qr[0], qr[1])\n",
    "realStep1Circuit.h(qr[0])\n",
    "realStep1Circuit.measure(qr[0], cr[0])\n",
    "\n",
    "#connect to remote API to be able to use remote simulators and real devices\n",
    "print(\"Available backends:\", [BasicAer.backends(), IBMQ.backends()])\n",
    "\n",
    "backend = IBMQ.get_backend(\"ibmq_5_tenerife\")\n",
    "shots = 1000\n",
    "   \n",
    "job_exp1 = execute(realStep1Circuit, backend=backend, shots=shots)\n",
    "job_monitor(job_exp1)"
   ]
  },
  {
   "cell_type": "code",
   "execution_count": 5,
   "metadata": {
    "ExecuteTime": {
     "end_time": "2018-09-26T14:46:51.283780Z",
     "start_time": "2018-09-26T14:28:55.120518Z"
    }
   },
   "outputs": [
    {
     "data": {
      "image/png": "[encoded data removed]",
      "text/plain": [
       "<matplotlib.figure.Figure at 0xa1eae22b0>"
      ]
     },
     "execution_count": 5,
     "metadata": {},
     "output_type": "execute_result"
    }
   ],
   "source": [
    "results1 = job_exp1.result()\n",
    "plot_histogram(results1.get_counts())"
   ]
  },
  {
   "cell_type": "markdown",
   "metadata": {},
   "source": [
    "In the first step of IPEA as above, we obtain the bit \"1\" with probability close to one. We then proceed to the second step of IPEA, assuming that we have identified the result of the first step correctly, as below. "
   ]
  },
  {
   "cell_type": "code",
   "execution_count": 6,
   "metadata": {
    "ExecuteTime": {
     "end_time": "2018-09-26T14:46:51.501883Z",
     "start_time": "2018-09-26T14:46:51.285861Z"
    },
    "scrolled": true
   },
   "outputs": [
    {
     "data": {
      "application/vnd.jupyter.widget-view+json": {
       "model_id": "247d603af9d84a7dbfd5486f90a797cb",
       "version_major": 2,
       "version_minor": 0
      },
      "text/plain": [
       "HTML(value=\"<p style='font-size:16px;'>Job Status: job has successfully run </p>\")"
      ]
     },
     "metadata": {},
     "output_type": "display_data"
    }
   ],
   "source": [
    "realStep2Circuit = QuantumCircuit(qr, cr)\n",
    "\n",
    "# Apply IPEA\n",
    "realStep2Circuit.h(qr[0])\n",
    "for i in range(4):\n",
    "    cu5pi8(realStep2Circuit, qr[0], qr[1])\n",
    "realStep2Circuit.u1(-pi/2, qr[0]) # Assuming the value of the measurement on Step 1\n",
    "realStep2Circuit.h(qr[0])\n",
    "realStep2Circuit.measure(qr[0], cr[0])\n",
    "\n",
    "job_exp2 = execute(realStep2Circuit, backend=backend, shots=shots)\n",
    "job_monitor(job_exp1)"
   ]
  },
  {
   "cell_type": "code",
   "execution_count": 7,
   "metadata": {
    "ExecuteTime": {
     "end_time": "2018-09-26T14:47:15.561184Z",
     "start_time": "2018-09-26T14:46:51.503838Z"
    }
   },
   "outputs": [
    {
     "data": {
      "image/png": "[encoded data removed]",
      "text/plain": [
       "<matplotlib.figure.Figure at 0xa20b9dc18>"
      ]
     },
     "execution_count": 7,
     "metadata": {},
     "output_type": "execute_result"
    }
   ],
   "source": [
    "results2 = job_exp2.result()\n",
    "plot_histogram(results2.get_counts())"
   ]
  },
  {
   "cell_type": "markdown",
   "metadata": {},
   "source": [
    "In the second step of IPEA as above, we obtain the bit \"1\" with probability close to one. We then proceed to the third step of IPEA, assuming that we have identified the result of the first and second steps correctly, as below."
   ]
  },
  {
   "cell_type": "code",
   "execution_count": 8,
   "metadata": {
    "ExecuteTime": {
     "end_time": "2018-09-26T14:47:15.760111Z",
     "start_time": "2018-09-26T14:47:15.563852Z"
    }
   },
   "outputs": [
    {
     "data": {
      "application/vnd.jupyter.widget-view+json": {
       "model_id": "5baf27dc9bca430ebfffb0584c9357a0",
       "version_major": 2,
       "version_minor": 0
      },
      "text/plain": [
       "HTML(value=\"<p style='font-size:16px;'>Job Status: job is being initialized </p>\")"
      ]
     },
     "metadata": {},
     "output_type": "display_data"
    }
   ],
   "source": [
    "realStep3Circuit = QuantumCircuit(qr, cr)\n",
    "\n",
    "# Apply IPEA\n",
    "realStep3Circuit.h(qr[0])\n",
    "for i in range(2):\n",
    "    cu5pi8(realStep3Circuit, qr[0], qr[1])\n",
    "realStep3Circuit.u1(-3*pi/4, qr[0]) # Assuming the value of the measurement on Step 1 and Step 2\n",
    "realStep3Circuit.h(qr[0])\n",
    "realStep3Circuit.measure(qr[0], cr[0])\n",
    "\n",
    "job_exp3 = execute(realStep3Circuit, backend=backend, shots=shots)\n",
    "job_monitor(job_exp3)"
   ]
  },
  {
   "cell_type": "code",
   "execution_count": 9,
   "metadata": {
    "ExecuteTime": {
     "end_time": "2018-09-26T14:47:40.065810Z",
     "start_time": "2018-09-26T14:47:15.761971Z"
    }
   },
   "outputs": [
    {
     "data": {
      "image/png": "[encoded data removed]",
      "text/plain": [
       "<matplotlib.figure.Figure at 0xa20cb2358>"
      ]
     },
     "execution_count": 9,
     "metadata": {},
     "output_type": "execute_result"
    }
   ],
   "source": [
    "results3 = job_exp3.result()\n",
    "plot_histogram(results3.get_counts())"
   ]
  },
  {
   "cell_type": "markdown",
   "metadata": {},
   "source": [
    "In the third step of IPEA as above, we obtain the bit \"0\" with probability close to one. We then proceed to the fourth step of IPEA, assuming that we have identified the result of the first, second, and third steps correctly, as below."
   ]
  },
  {
   "cell_type": "code",
   "execution_count": 10,
   "metadata": {
    "ExecuteTime": {
     "end_time": "2018-09-26T14:47:40.199847Z",
     "start_time": "2018-09-26T14:47:40.069259Z"
    }
   },
   "outputs": [
    {
     "data": {
      "application/vnd.jupyter.widget-view+json": {
       "model_id": "54019d73c383491eb2e6e598fcba7490",
       "version_major": 2,
       "version_minor": 0
      },
      "text/plain": [
       "HTML(value=\"<p style='font-size:16px;'>Job Status: job is being initialized </p>\")"
      ]
     },
     "metadata": {},
     "output_type": "display_data"
    }
   ],
   "source": [
    "realStep4Circuit = QuantumCircuit(qr, cr)\n",
    "\n",
    "# Apply IPEA\n",
    "realStep4Circuit.h(qr[0])\n",
    "cu5pi8(realStep4Circuit, qr[0], qr[1])\n",
    "realStep4Circuit.u1(-3*pi/8, qr[0]) # Assuming the value of the measurement on Step 1, 2, and 3\n",
    "realStep4Circuit.h(qr[0])\n",
    "realStep4Circuit.measure(qr[0], cr[0])\n",
    " \n",
    "job_exp4 = execute(realStep4Circuit, backend=backend, shots=shots)\n",
    "job_monitor(job_exp4)"
   ]
  },
  {
   "cell_type": "code",
   "execution_count": 11,
   "metadata": {
    "ExecuteTime": {
     "end_time": "2018-09-26T14:48:04.209177Z",
     "start_time": "2018-09-26T14:47:40.202791Z"
    }
   },
   "outputs": [
    {
     "data": {
      "image/png": "[encoded data removed]",
      "text/plain": [
       "<matplotlib.figure.Figure at 0xa1eaacf28>"
      ]
     },
     "execution_count": 11,
     "metadata": {},
     "output_type": "execute_result"
    }
   ],
   "source": [
    "results4 = job_exp4.result()\n",
    "plot_histogram(results4.get_counts())"
   ]
  },
  {
   "cell_type": "markdown",
   "metadata": {},
   "source": [
    "In the fourth step of the IPEA, we identify the bit \"1\" with high probability. In summary, we can conclude with high probability that the binary string of the phase is \"1011\"; that is, eleven in the decimal.  \n",
    "\n",
    "We have left aside the case when $\\varphi$ does not accept a decomposition of the form $\\varphi = \\varphi_1/2 + \\varphi_2/4 + ... + \\varphi_m/2^m$. In that case, it can be shown that we can still use the IPEA to obtain $\\varphi$ to an accuracy of $2^{-m}$ with greater than a constant probability independent of $m$ (around $81\\%$ [1])."
   ]
  },
  {
   "cell_type": "markdown",
   "metadata": {},
   "source": [
    "### References\n",
    "\n",
    "[1] M. Dobsicek *et al. Phys. Rev. A* **76**, 030306 (2007)"
   ]
  }
 ],
 "metadata": {
  "anaconda-cloud": {},
  "kernelspec": {
   "display_name": "Python [default]",
   "language": "python",
   "name": "python3"
  },
  "language_info": {
   "codemirror_mode": {
    "name": "ipython",
    "version": 3
   },
   "file_extension": ".py",
   "mimetype": "text/x-python",
   "name": "python",
   "nbconvert_exporter": "python",
   "pygments_lexer": "ipython3",
   "version": "3.6.4"
  },
  "latex_envs": {
   "bibliofile": "biblio.bib",
   "cite_by": "apalike",
   "current_citInitial": 1,
   "eqLabelWithNumbers": true,
   "eqNumInitial": 0
  },
  "nav_menu": {},
  "toc": {
   "navigate_menu": true,
   "number_sections": true,
   "sideBar": true,
   "threshold": 6,
   "toc_cell": false,
   "toc_section_display": "block",
   "toc_window_display": false
  }
 },
 "nbformat": 4,
 "nbformat_minor": 1
}
