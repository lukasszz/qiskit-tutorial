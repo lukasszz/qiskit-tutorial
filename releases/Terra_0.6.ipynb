{
 "cells": [
  {
   "cell_type": "markdown",
   "metadata": {},
   "source": [
    "# Qiskit Terra 0.6 Release Overview\n",
    "Ali Javadi-Abhari, 19-Sep-18"
   ]
  },
  {
   "cell_type": "markdown",
   "metadata": {},
   "source": [
    "## 1. Upgrading to 0.6"
   ]
  },
  {
   "cell_type": "markdown",
   "metadata": {},
   "source": [
    "This notebook contains information to ease your transition to Qiskit Terra 0.6. This is done through code examples.\n",
    "\n",
    "From a high-level point of view, the key updates of this release are in the low-level datastructures that are used by Qiskit to send jobs to backends. This format is called ``Qobj``. It allows us to better validate the different parts of the stack, localize errors, and emit more meaningful error messages. It also standardizes the development interfaces going forward.\n",
    "\n",
    "The other key update is in how the backend providers work, which has been greatly simplified. Now the default providers available from Qiskit are `Aer` (for local) and `IBMQ` (for remote).\n",
    "\n",
    "There are a set of breaking changes and a set of nice convenience features which we highlight below."
   ]
  },
  {
   "cell_type": "markdown",
   "metadata": {},
   "source": [
    "## 2. Working with local simulators (Aer)"
   ]
  },
  {
   "cell_type": "markdown",
   "metadata": {},
   "source": [
    "The Qiskit element of Aer is responsible for providing a suite of simulators. The backends that you get by loading Aer are returned via `Aer.backends()`. \n",
    "\n",
    "Now that the provider of backends are explicit, the simulator names have been shortened.\n",
    "`local_qasm_simulator` is now `qasm_simulator`, and so on."
   ]
  },
  {
   "cell_type": "code",
   "execution_count": 1,
   "metadata": {},
   "outputs": [
    {
     "data": {
      "text/plain": [
       "[<QasmSimulator('qasm_simulator') from Aer()>,\n",
       " <QasmSimulatorPy('qasm_simulator_py') from Aer()>,\n",
       " <StatevectorSimulator('statevector_simulator') from Aer()>,\n",
       " <StatevectorSimulatorPy('statevector_simulator_py') from Aer()>,\n",
       " <UnitarySimulator('unitary_simulator') from Aer()>,\n",
       " <CliffordSimulator('clifford_simulator') from Aer()>]"
      ]
     },
     "execution_count": 1,
     "metadata": {},
     "output_type": "execute_result"
    }
   ],
   "source": [
    "from qiskit import *\n",
    "Aer.backends()"
   ]
  },
  {
   "cell_type": "markdown",
   "metadata": {},
   "source": [
    "## 3. Working with remote backends (IBMQ)"
   ]
  },
  {
   "cell_type": "markdown",
   "metadata": {},
   "source": [
    "Authenticating your credentials on IBMQ is now easier. You can store your credentials once, and then simply type `IBMQ.load_accounts()` anytime you want access to remote IBM Q backends. This will load all the backends you have access to. No more `import Qconfig` in all of your scripts (the old way still works, for the time being).\n",
    "\n",
    "For this to work, you have to have called `IBMQ.save_account('YOUR_TOKEN')` at some point in the past, which saves those credentials on your local machine.\n",
    "\n",
    "Also, if you have access to the IBM Q Network backends, please note that we are deprecating the passing of ``hub``, ``group`` and ``project`` as separate arguments. Instead, they are absorbed as part of the url. So you will do something like: \n",
    "\n",
    "`IBMQ.save_account('YOUR_TOKEN', 'https://q-console-api.mybluemix.net/api/Hubs/YOUR_HUB/Groups/YOUR_GROU/Projects/YOUR_PROJECT')`"
   ]
  },
  {
   "cell_type": "code",
   "execution_count": 2,
   "metadata": {},
   "outputs": [
    {
     "data": {
      "text/plain": [
       "[<IBMQBackend('ibmqx4') from IBMQ()>,\n",
       " <IBMQBackend('ibmqx5') from IBMQ()>,\n",
       " <IBMQBackend('ibmqx2') from IBMQ()>,\n",
       " <IBMQBackend('ibmq_16_melbourne') from IBMQ()>,\n",
       " <IBMQBackend('ibmq_qasm_simulator') from IBMQ()>,\n",
       " <IBMQBackend('ibmq_20_tokyo') from IBMQ(ibm-q-internal, development, qiskit-core)>,\n",
       " <IBMQBackend('ibmq_qasm_simulator') from IBMQ(ibm-q-internal, development, qiskit-core)>]"
      ]
     },
     "execution_count": 2,
     "metadata": {},
     "output_type": "execute_result"
    }
   ],
   "source": [
    "IBMQ.load_accounts()\n",
    "IBMQ.backends()"
   ]
  },
  {
   "cell_type": "markdown",
   "metadata": {},
   "source": [
    "Getting the status and configuration of a backend is now done via methods on the backend object, rather than through the object's properties. This simply means insert parenthesis at the end of the call."
   ]
  },
  {
   "cell_type": "code",
   "execution_count": 3,
   "metadata": {},
   "outputs": [
    {
     "data": {
      "text/plain": [
       "{'pending_jobs': 22, 'name': 'ibmqx4', 'operational': True}"
      ]
     },
     "execution_count": 3,
     "metadata": {},
     "output_type": "execute_result"
    }
   ],
   "source": [
    "from pprint import pprint\n",
    "backend_name = 'ibmqx4'\n",
    "backend = IBMQ.get_backend(backend_name)\n",
    "backend.status()"
   ]
  },
  {
   "cell_type": "code",
   "execution_count": 4,
   "metadata": {},
   "outputs": [
    {
     "data": {
      "text/plain": [
       "{'allow_q_object': False,\n",
       " 'basis_gates': 'u1,u2,u3,cx,id',\n",
       " 'chip_name': 'Raven',\n",
       " 'coupling_map': [[1, 0], [2, 0], [2, 1], [3, 2], [3, 4], [4, 2]],\n",
       " 'deleted': False,\n",
       " 'description': '5 qubit transmon bowtie chip 3',\n",
       " 'gate_set': 'SU2+CNOT',\n",
       " 'internal_id': '5ae875670f020500393162b3',\n",
       " 'local': False,\n",
       " 'n_qubits': 5,\n",
       " 'name': 'ibmqx4',\n",
       " 'online_date': '2017-09-18T00:00:00.000Z',\n",
       " 'simulator': False,\n",
       " 'url': 'https://ibm.biz/qiskit-ibmqx4',\n",
       " 'version': '1.2.0'}"
      ]
     },
     "execution_count": 4,
     "metadata": {},
     "output_type": "execute_result"
    }
   ],
   "source": [
    "backend.configuration()"
   ]
  },
  {
   "cell_type": "markdown",
   "metadata": {},
   "source": [
    "The methods `backend.calibration()` and `backend.parameters()` have been deprecated. We now just have `backend.properties()`, which will contain a merge of the previous dictionaries."
   ]
  },
  {
   "cell_type": "code",
   "execution_count": 5,
   "metadata": {},
   "outputs": [
    {
     "data": {
      "text/plain": [
       "{'backend': 'ibmqx4',\n",
       " 'fridge_parameters': {'Temperature': {'date': '-', 'unit': '-', 'value': []},\n",
       "  'cooldownDate': '2017-09-07'},\n",
       " 'last_update_date': '2018-10-08T10:01:48.000Z',\n",
       " 'multi_qubit_gates': [{'gateError': {'date': '2018-10-08T10:01:48Z',\n",
       "    'value': 0.03658313664371693},\n",
       "   'name': 'CX1_0',\n",
       "   'qubits': [1, 0],\n",
       "   'type': 'CX'},\n",
       "  {'gateError': {'date': '2018-10-08T10:01:48Z',\n",
       "    'value': 0.026637945836152227},\n",
       "   'name': 'CX2_0',\n",
       "   'qubits': [2, 0],\n",
       "   'type': 'CX'},\n",
       "  {'gateError': {'date': '2018-10-08T10:01:48Z', 'value': 0.03863525077896582},\n",
       "   'name': 'CX2_1',\n",
       "   'qubits': [2, 1],\n",
       "   'type': 'CX'},\n",
       "  {'gateError': {'date': '2018-10-08T10:01:48Z', 'value': 0.05946126929500478},\n",
       "   'name': 'CX3_2',\n",
       "   'qubits': [3, 2],\n",
       "   'type': 'CX'},\n",
       "  {'gateError': {'date': '2018-10-08T10:01:48Z', 'value': 0.03925146226082343},\n",
       "   'name': 'CX3_4',\n",
       "   'qubits': [3, 4],\n",
       "   'type': 'CX'},\n",
       "  {'gateError': {'date': '2018-10-08T10:01:48Z', 'value': 0.05080363825395476},\n",
       "   'name': 'CX4_2',\n",
       "   'qubits': [4, 2],\n",
       "   'type': 'CX'}],\n",
       " 'qubits': [{'T1': {'date': '2018-10-08T10:01:48Z',\n",
       "    'unit': 'µs',\n",
       "    'value': 46.2},\n",
       "   'T2': {'date': '2018-10-08T10:01:48Z', 'unit': 'µs', 'value': 36.4},\n",
       "   'buffer': {'date': '2018-10-08T10:01:48Z', 'unit': 'ns', 'value': 10},\n",
       "   'frequency': {'date': '2018-10-08T10:01:48Z',\n",
       "    'unit': 'GHz',\n",
       "    'value': 5.24983},\n",
       "   'gateError': {'date': '2018-10-08T10:01:48Z',\n",
       "    'value': 0.000858490762927322},\n",
       "   'gateTime': {'date': '2018-10-08T10:01:48Z', 'unit': 'ns', 'value': 60},\n",
       "   'name': 'Q0',\n",
       "   'readoutError': {'date': '2018-10-08T10:01:48Z', 'value': 0.072}},\n",
       "  {'T1': {'date': '2018-10-08T10:01:48Z', 'unit': 'µs', 'value': 49.5},\n",
       "   'T2': {'date': '2018-10-08T10:01:48Z', 'unit': 'µs', 'value': 13.5},\n",
       "   'buffer': {'date': '2018-10-08T10:01:48Z', 'unit': 'ns', 'value': 10},\n",
       "   'frequency': {'date': '2018-10-08T10:01:48Z',\n",
       "    'unit': 'GHz',\n",
       "    'value': 5.29577},\n",
       "   'gateError': {'date': '2018-10-08T10:01:48Z',\n",
       "    'value': 0.008423780913364154},\n",
       "   'gateTime': {'date': '2018-10-08T10:01:48Z', 'unit': 'ns', 'value': 60},\n",
       "   'name': 'Q1',\n",
       "   'readoutError': {'date': '2018-10-08T10:01:48Z', 'value': 0.082}},\n",
       "  {'T1': {'date': '2018-10-08T10:01:48Z', 'unit': 'µs', 'value': 41.2},\n",
       "   'T2': {'date': '2018-10-08T10:01:48Z', 'unit': 'µs', 'value': 25.7},\n",
       "   'buffer': {'date': '2018-10-08T10:01:48Z', 'unit': 'ns', 'value': 10},\n",
       "   'frequency': {'date': '2018-10-08T10:01:48Z',\n",
       "    'unit': 'GHz',\n",
       "    'value': 5.3532},\n",
       "   'gateError': {'date': '2018-10-08T10:01:48Z', 'value': 0.00128782749692391},\n",
       "   'gateTime': {'date': '2018-10-08T10:01:48Z', 'unit': 'ns', 'value': 60},\n",
       "   'name': 'Q2',\n",
       "   'readoutError': {'date': '2018-10-08T10:01:48Z', 'value': 0.036}},\n",
       "  {'T1': {'date': '2018-10-08T10:01:48Z', 'unit': 'µs', 'value': 52.3},\n",
       "   'T2': {'date': '2018-10-08T10:01:48Z', 'unit': 'µs', 'value': 13.8},\n",
       "   'buffer': {'date': '2018-10-08T10:01:48Z', 'unit': 'ns', 'value': 10},\n",
       "   'frequency': {'date': '2018-10-08T10:01:48Z',\n",
       "    'unit': 'GHz',\n",
       "    'value': 5.43497},\n",
       "   'gateError': {'date': '2018-10-08T10:01:48Z',\n",
       "    'value': 0.001803112096824766},\n",
       "   'gateTime': {'date': '2018-10-08T10:01:48Z', 'unit': 'ns', 'value': 60},\n",
       "   'name': 'Q3',\n",
       "   'readoutError': {'date': '2018-10-08T10:01:48Z', 'value': 0.032}},\n",
       "  {'T1': {'date': '2018-10-08T10:01:48Z', 'unit': 'µs', 'value': 53},\n",
       "   'T2': {'date': '2018-10-08T10:01:48Z', 'unit': 'µs', 'value': 11.2},\n",
       "   'buffer': {'date': '2018-10-08T10:01:48Z', 'unit': 'ns', 'value': 10},\n",
       "   'frequency': {'date': '2018-10-08T10:01:48Z',\n",
       "    'unit': 'GHz',\n",
       "    'value': 5.17582},\n",
       "   'gateError': {'date': '2018-10-08T10:01:48Z',\n",
       "    'value': 0.0012019552727863259},\n",
       "   'gateTime': {'date': '2018-10-08T10:01:48Z', 'unit': 'ns', 'value': 60},\n",
       "   'name': 'Q4',\n",
       "   'readoutError': {'date': '2018-10-08T10:01:48Z', 'value': 0.055}}]}"
      ]
     },
     "execution_count": 5,
     "metadata": {},
     "output_type": "execute_result"
    }
   ],
   "source": [
    "backend.properties()"
   ]
  },
  {
   "cell_type": "markdown",
   "metadata": {},
   "source": [
    "You can also filter the backends by least busy queue to speed up your work:"
   ]
  },
  {
   "cell_type": "code",
   "execution_count": 6,
   "metadata": {},
   "outputs": [
    {
     "data": {
      "text/plain": [
       "{'pending_jobs': -1, 'name': 'ibmq_20_tokyo', 'operational': True}"
      ]
     },
     "execution_count": 6,
     "metadata": {},
     "output_type": "execute_result"
    }
   ],
   "source": [
    "from qiskit.backends.ibmq import least_busy\n",
    "devices = IBMQ.backends(simulator=False)\n",
    "least_busy_device = least_busy(devices)\n",
    "least_busy_device.status()"
   ]
  },
  {
   "cell_type": "markdown",
   "metadata": {},
   "source": [
    "Finally, using the ``backend.jobs()`` and ``backend.retrieve_job(job_id)`` methods, you may now retrieve previous jobs executed on a particular backend (a batch of recent jobs, or a particular job). This allows you to resume your work even when a session is terminated."
   ]
  },
  {
   "cell_type": "code",
   "execution_count": 7,
   "metadata": {},
   "outputs": [
    {
     "name": "stdout",
     "output_type": "stream",
     "text": [
      "5bbab4081e05e30056b929e3\n",
      "5b98c1bb407d8700388c07d2\n",
      "5b98685149bc8a003ac0c676\n",
      "5b986818407d8700388c07a6\n",
      "5b98679a0fb2bf003b41eb74\n",
      "5b98676e14c0ea003b36579b\n",
      "5b9866f3be0bed00448ea229\n",
      "5b934172e5b8fb0039341344\n",
      "5b9340141ac3ce0038641f4c\n",
      "5b933ffb307f03003894b0bc\n"
     ]
    }
   ],
   "source": [
    "last_10_jobs = least_busy_device.jobs(limit=10)\n",
    "for j in last_10_jobs:\n",
    "    print(j.job_id())"
   ]
  },
  {
   "cell_type": "markdown",
   "metadata": {},
   "source": [
    "## 4. Building and Executing Circuits"
   ]
  },
  {
   "cell_type": "markdown",
   "metadata": {},
   "source": [
    "Creating a circuit works the same as v0.5. Note that you cannot use the ``QuantumProgram`` module anymore. Instead of emitting deprecation warnings, the ``QuantumProgram`` module is now fully removed."
   ]
  },
  {
   "cell_type": "code",
   "execution_count": 8,
   "metadata": {},
   "outputs": [
    {
     "data": {
      "image/png": "[encoded data removed]",
      "text/plain": [
       "<PIL.Image.Image image mode=RGB size=597x289 at 0x118FBDF60>"
      ]
     },
     "execution_count": 8,
     "metadata": {},
     "output_type": "execute_result"
    }
   ],
   "source": [
    "from qiskit.tools.visualization import circuit_drawer\n",
    "qr = QuantumRegister(4)\n",
    "cr = ClassicalRegister(4)\n",
    "circ = QuantumCircuit(qr, cr)\n",
    "circ.h(qr[0])\n",
    "circ.cx(qr[0], qr[1])\n",
    "circ.tdg(qr[2])\n",
    "circ.cx(qr[2], qr[1])\n",
    "circ.x(qr[2])\n",
    "circ.cx(qr[0], qr[2])\n",
    "circ.cx(qr[1], qr[3])\n",
    "circ.measure(qr, cr)\n",
    "circuit_drawer(circ, scale=0.5)"
   ]
  },
  {
   "cell_type": "markdown",
   "metadata": {},
   "source": [
    "A new matplotlib-based circuit drawer provides an alternative to the latex circuit drawer above, for users who had difficulty installing the latex drawer's pre-requisites. The drawer falls back to this if the latex fails."
   ]
  },
  {
   "cell_type": "code",
   "execution_count": 9,
   "metadata": {},
   "outputs": [
    {
     "data": {
      "image/png": "[encoded data removed]",
      "text/plain": [
       "<matplotlib.figure.Figure at 0x118a2fa90>"
      ]
     },
     "metadata": {},
     "output_type": "display_data"
    }
   ],
   "source": [
    "%matplotlib inline\n",
    "qiskit.tools.visualization.matplotlib_circuit_drawer(circ)"
   ]
  },
  {
   "cell_type": "markdown",
   "metadata": {},
   "source": [
    "Executing a circuit on a backend works as before. However, the Job interface has been simplified. If you want to explicitly check the status of a job, you can do so with the status method (note that this used to be a property, so again don't forget the parenthesis).\n",
    "You can query the status, which gives you an enum of qiskit.backends.JobStatus (`queued`, `running`,\n",
    "`validating`, `done` or `cancelled`)."
   ]
  },
  {
   "cell_type": "code",
   "execution_count": 10,
   "metadata": {},
   "outputs": [
    {
     "name": "stdout",
     "output_type": "stream",
     "text": [
      "JobStatus.INITIALIZING\n",
      "JobStatus.INITIALIZING\n",
      "JobStatus.RUNNING\n",
      "JobStatus.DONE\n"
     ]
    }
   ],
   "source": [
    "simulator_backend = IBMQ.get_backend(simulator=True, hub=None)\n",
    "job = execute(circ, simulator_backend)\n",
    "\n",
    "import time\n",
    "from qiskit.backends import JobStatus\n",
    "print(job.status())\n",
    "while job.status() != JobStatus.DONE:\n",
    "    time.sleep(1)\n",
    "    print(job.status())"
   ]
  },
  {
   "cell_type": "markdown",
   "metadata": {},
   "source": [
    "## 5. Compile() improvements, and new Qobj format"
   ]
  },
  {
   "cell_type": "markdown",
   "metadata": {},
   "source": [
    "The compiler code has been optimized for better performance by removing some bottlenecks. Also, if you have many circuits, they will compile in parallel, giving you noticeable improvements (proportional to the number of physical cores on your machine).\n",
    "\n",
    "In Qiskit, the output of the ``compile()`` command is called ``Qobj``. It is a container for the job to be executed on the backend, and can include multiple circuits within it. It specifies the details of the experiment that a backend needs to know in order to run the job, such as number of shots, the device registers that should be used for measurement, etc. A major feature of this release is the definition of a set of specifications to allow us to validate these kinds of jobs for correctness, and to localize errors better.\n",
    "\n",
    "You can convert a qobj back to (a list of) QuantumCircuit in order to see how the circuit got transformed during the compilation process."
   ]
  },
  {
   "cell_type": "code",
   "execution_count": 11,
   "metadata": {},
   "outputs": [
    {
     "data": {
      "image/png": "[encoded data removed]",
      "text/plain": [
       "<PIL.Image.Image image mode=RGB size=806x319 at 0x11C2FCBA8>"
      ]
     },
     "execution_count": 11,
     "metadata": {},
     "output_type": "execute_result"
    }
   ],
   "source": [
    "qobj = compile(circ, simulator_backend)\n",
    "compiled_circ = qobj_to_circuits(qobj)[0]\n",
    "circuit_drawer(compiled_circ, scale=0.5)"
   ]
  },
  {
   "cell_type": "markdown",
   "metadata": {},
   "source": [
    "To inspect qobj further, you can print it as a JSON dictionary. This is the dictionary sent over the network to remote backends."
   ]
  },
  {
   "cell_type": "code",
   "execution_count": 12,
   "metadata": {},
   "outputs": [
    {
     "data": {
      "text/plain": [
       "{'config': {'max_credits': 10,\n",
       "  'memory_slots': 4,\n",
       "  'n_qubits': 4,\n",
       "  'shots': 1024},\n",
       " 'experiments': [{'config': {'basis_gates': 'u1,u2,u3,cx,id',\n",
       "    'coupling_map': 'all-to-all',\n",
       "    'layout': None,\n",
       "    'memory_slots': 4,\n",
       "    'n_qubits': 4},\n",
       "   'header': {'clbit_labels': [['c0', 4]],\n",
       "    'compiled_circuit_qasm': 'OPENQASM 2.0;\\ninclude \"qelib1.inc\";\\nqreg q0[4];\\ncreg c0[4];\\nu1(-0.785398163397448) q0[2];\\nu2(0,3.14159265358979) q0[0];\\ncx q0[0],q0[1];\\ncx q0[2],q0[1];\\ncx q0[1],q0[3];\\nmeasure q0[1] -> c0[1];\\nmeasure q0[3] -> c0[3];\\nu3(3.14159265358979,0,3.14159265358979) q0[2];\\ncx q0[0],q0[2];\\nmeasure q0[0] -> c0[0];\\nmeasure q0[2] -> c0[2];\\n',\n",
       "    'name': 'circuit1',\n",
       "    'number_of_clbits': 4,\n",
       "    'number_of_qubits': 4,\n",
       "    'qubit_labels': [['q0', 0], ['q0', 1], ['q0', 2], ['q0', 3]]},\n",
       "   'instructions': [{'name': 'u1',\n",
       "     'params': [-0.7853981633974483],\n",
       "     'qubits': [2],\n",
       "     'texparams': ['- \\\\frac{\\\\pi}{4}']},\n",
       "    {'name': 'u2',\n",
       "     'params': [0.0, 3.141592653589793],\n",
       "     'qubits': [0],\n",
       "     'texparams': ['0', '\\\\pi']},\n",
       "    {'name': 'cx', 'params': [], 'qubits': [0, 1], 'texparams': []},\n",
       "    {'name': 'cx', 'params': [], 'qubits': [2, 1], 'texparams': []},\n",
       "    {'name': 'u3',\n",
       "     'params': [3.141592653589793, 0.0, 3.141592653589793],\n",
       "     'qubits': [2],\n",
       "     'texparams': ['\\\\pi', '0', '\\\\pi']},\n",
       "    {'name': 'cx', 'params': [], 'qubits': [0, 2], 'texparams': []},\n",
       "    {'clbits': [2], 'memory': [2], 'name': 'measure', 'qubits': [2]},\n",
       "    {'clbits': [0], 'memory': [0], 'name': 'measure', 'qubits': [0]},\n",
       "    {'name': 'cx', 'params': [], 'qubits': [1, 3], 'texparams': []},\n",
       "    {'clbits': [3], 'memory': [3], 'name': 'measure', 'qubits': [3]},\n",
       "    {'clbits': [1], 'memory': [1], 'name': 'measure', 'qubits': [1]}]}],\n",
       " 'header': {'backend_name': 'ibmq_qasm_simulator'},\n",
       " 'qobj_id': 'a947ccfb-4d44-4cd7-8d46-04fd832c1f79',\n",
       " 'schema_version': '1.0.0',\n",
       " 'type': 'QASM'}"
      ]
     },
     "execution_count": 12,
     "metadata": {},
     "output_type": "execute_result"
    }
   ],
   "source": [
    "qobj.as_dict()"
   ]
  },
  {
   "cell_type": "markdown",
   "metadata": {},
   "source": [
    "The compiled Qobj can be directly run on a backend."
   ]
  },
  {
   "cell_type": "code",
   "execution_count": 13,
   "metadata": {
    "collapsed": true
   },
   "outputs": [],
   "source": [
    "job = simulator_backend.run(qobj)\n",
    "result = job.result()"
   ]
  },
  {
   "cell_type": "markdown",
   "metadata": {},
   "source": [
    "## 6. Better Jupyter tools"
   ]
  },
  {
   "cell_type": "markdown",
   "metadata": {},
   "source": [
    "The new release contains several improvements to the user experience while using Jupyter notebooks."
   ]
  },
  {
   "cell_type": "markdown",
   "metadata": {},
   "source": [
    "### a) Jupyter magics"
   ]
  },
  {
   "cell_type": "markdown",
   "metadata": {},
   "source": [
    "Cell magics are special Jupyter command that you insert at the beginning of a cell, which give you useful information when you compile and execute in Qiskit."
   ]
  },
  {
   "cell_type": "code",
   "execution_count": 14,
   "metadata": {
    "collapsed": true
   },
   "outputs": [],
   "source": [
    "import qiskit.wrapper.jupyter"
   ]
  },
  {
   "cell_type": "markdown",
   "metadata": {},
   "source": [
    "The ``%%qiskit_job_status`` magic prints and automatically updates the status of a submitted job until the job has finished running. This way you don't have to manually check for the job status."
   ]
  },
  {
   "cell_type": "code",
   "execution_count": 15,
   "metadata": {
    "scrolled": true
   },
   "outputs": [
    {
     "data": {
      "application/vnd.jupyter.widget-view+json": {
       "model_id": "f90a65aa3ad24644b3d29f61e6b9a2e2",
       "version_major": 2,
       "version_minor": 0
      },
      "text/plain": [
       "A Jupyter Widget"
      ]
     },
     "metadata": {},
     "output_type": "display_data"
    }
   ],
   "source": [
    "%%qiskit_job_status\n",
    "job = execute(circ, backend)"
   ]
  },
  {
   "cell_type": "code",
   "execution_count": 16,
   "metadata": {
    "collapsed": true
   },
   "outputs": [],
   "source": [
    "%%qiskit_progress_bar\n",
    "qobj = compile(circ, backend)"
   ]
  },
  {
   "cell_type": "markdown",
   "metadata": {
    "collapsed": true
   },
   "source": [
    "### b) New Interactive Visualizations"
   ]
  },
  {
   "cell_type": "markdown",
   "metadata": {},
   "source": [
    "The new release has improved, interactive visualizations of quantum states and measurement count histograms. These will be used by default when the environment is Jupyter and an internet connection exists. Otherwise, it falls back to the old static plots."
   ]
  },
  {
   "cell_type": "code",
   "execution_count": 20,
   "metadata": {
    "scrolled": true
   },
   "outputs": [
    {
     "data": {
      "text/plain": [
       "<qiskit.extensions.standard.cx.CnotGate at 0x11c7f2da0>"
      ]
     },
     "execution_count": 20,
     "metadata": {},
     "output_type": "execute_result"
    }
   ],
   "source": [
    "from qiskit import *\n",
    "from qiskit.tools.visualization.interactive import *\n",
    "q = QuantumRegister(5)\n",
    "circ1 = QuantumCircuit(q)\n",
    "circ1.h(q)\n",
    "circ1.ry(1.3, q[0])\n",
    "circ1.cx(q[0], q[1])"
   ]
  },
  {
   "cell_type": "code",
   "execution_count": null,
   "metadata": {},
   "outputs": [],
   "source": [
    "statevector_simulator = Aer.get_backend('statevector_simulator')\n",
    "result = execute(circ1, statevector_simulator).result()\n",
    "psi = result.get_statevector()\n",
    "iplot_state(psi, method='qsphere') # method could be city, paulivec, qsphere, bloch, wigner\n",
    "# Not displayable in github"
   ]
  },
  {
   "cell_type": "code",
   "execution_count": null,
   "metadata": {
    "scrolled": false
   },
   "outputs": [],
   "source": [
    "c = ClassicalRegister(5)\n",
    "circ2 = QuantumCircuit(q, c)\n",
    "circ2.h(q)\n",
    "circ2.measure(q, c)\n",
    "circ3 = QuantumCircuit(q, c)\n",
    "circ3.h(q[0])\n",
    "circ3.y(q[1])\n",
    "circ3.cx(q[1], q[0])\n",
    "circ3.measure(q, c)\n",
    "\n",
    "qasm_simulator = Aer.get_backend('qasm_simulator')\n",
    "result = execute([circ2, circ3], qasm_simulator).result()\n",
    "counts_list = [result.get_counts(circ) for circ in [circ2, circ3]]\n",
    "# Needs to be run in Jupyter, will not render on github\n",
    "iplot_histogram(counts_list, legend=['first circuit', 'second circuit'])\n",
    "# Not displayable in github"
   ]
  },
  {
   "cell_type": "code",
   "execution_count": null,
   "metadata": {
    "collapsed": true
   },
   "outputs": [],
   "source": []
  }
 ],
 "metadata": {
  "kernelspec": {
   "display_name": "Python 3",
   "language": "python",
   "name": "python3"
  },
  "language_info": {
   "codemirror_mode": {
    "name": "ipython",
    "version": 3
   },
   "file_extension": ".py",
   "mimetype": "text/x-python",
   "name": "python",
   "nbconvert_exporter": "python",
   "pygments_lexer": "ipython3",
   "version": "3.6.5"
  }
 },
 "nbformat": 4,
 "nbformat_minor": 2
}
