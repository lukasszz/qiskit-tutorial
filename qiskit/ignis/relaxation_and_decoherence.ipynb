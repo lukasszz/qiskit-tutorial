{
 "cells": [
  {
   "cell_type": "markdown",
   "metadata": {},
   "source": [
    "<img src=\"../../images/qiskit-heading.gif\" alt=\"Note: In order for images to show up in this jupyter notebook you need to select File => Trusted Notebook\" width=\"500 px\" align=\"left\">"
   ]
  },
  {
   "cell_type": "markdown",
   "metadata": {},
   "source": [
    "## _*Relaxation and Decoherence*_ \n",
    "\n",
    "The latest version of this notebook is available on https://github.com/qiskit/qiskit-tutorial.\n",
    "\n",
    "***\n",
    "### Contributors\n",
    "Martin Sandberg, Hanhee Paik, Antonio Córcoles, Doug McClure, and Jay Gambetta"
   ]
  },
  {
   "cell_type": "markdown",
   "metadata": {},
   "source": [
    "## Introduction\n",
    "\n",
    "In an ideal world, quantum systems would be well-isolated from their environment, which prevents unwanted dynamics of the quantum information we encode in them. For example, suppose we prepared a qubit in the $|1\\rangle$ state, but through interaction with the environment, the state is flipped to $|0\\rangle$. That flip could affect the outcome of a quantum algorithm that's being run using that qubit, meaning the answers we get out of the quantum device would change. For this reason, we seek to isolate quantum computers from the surrounding environment.\n",
    "\n",
    "However, perfect isolation is not possible: after all, we have to be able to control the quantum computer, which means coupling it to external systems to manipulate quantum information. This tradeoff is sometimes referred to as the \"Tao of quantum computing\". Because our controls introduce coupling between qubits and the environment, we expect some unwanted interactions can occur.\n",
    "\n",
    "These unwanted interactions introduce _noise_ into the qubits, which affects their behavior. The rate of these interactions sets characteristic timescales over which information encoded in qubits can be reliably stored and manipulated. (If the interaction has a rate $\\Gamma$, the characteristic timescale is $\\sim 1/\\Gamma$.) In this tutorial, we discuss two timescales that arise from energy relaxation and decoherence -- usually referred to as $T_{1}$ and $T_{2}$, respectively -- and show how they can be measured.\n",
    "\n",
    "**Contents**\n",
    "\n",
    "[Measuring $T_{1}$ time](#t1)\n",
    "\n",
    "<a href='#t2star'>Measuring $T_{2}^{\\star}$ time</a>"
   ]
  },
  {
   "cell_type": "markdown",
   "metadata": {},
   "source": [
    "Code imports\n",
    "=============="
   ]
  },
  {
   "cell_type": "code",
   "execution_count": 1,
   "metadata": {
    "ExecuteTime": {
     "end_time": "2018-12-18T15:13:54.475305Z",
     "start_time": "2018-12-18T15:13:53.026353Z"
    }
   },
   "outputs": [],
   "source": [
    "import qiskit as qk\n",
    "import numpy as np\n",
    "from scipy.optimize import curve_fit\n",
    "from qiskit.tools.qcvv.fitters import exp_fit_fun, osc_fit_fun, plot_coherence\n",
    "from qiskit.tools.monitor import job_monitor"
   ]
  },
  {
   "cell_type": "code",
   "execution_count": null,
   "metadata": {},
   "outputs": [],
   "source": [
    "# Load saved IBMQ accounts\n",
    "qk.IBMQ.load_accounts()"
   ]
  },
  {
   "cell_type": "code",
   "execution_count": 6,
   "metadata": {
    "ExecuteTime": {
     "end_time": "2018-12-18T15:14:17.723076Z",
     "start_time": "2018-12-18T15:14:17.718577Z"
    }
   },
   "outputs": [],
   "source": [
    "# backend and token settings\n",
    "backend = qk.IBMQ.get_backend('ibmq_16_melbourne') # the device to run on\n",
    "shots = 1024    # the number of shots in the experiment "
   ]
  },
  {
   "cell_type": "code",
   "execution_count": 7,
   "metadata": {
    "ExecuteTime": {
     "end_time": "2018-12-18T15:14:18.563871Z",
     "start_time": "2018-12-18T15:14:18.559513Z"
    }
   },
   "outputs": [],
   "source": [
    "# This function is called in code below.\n",
    "def pad_QId(circuit,N,qr):\n",
    "    r'''A function for padding a circuit with identity gates.\n",
    "    \n",
    "    Args:\n",
    "        circuit: The quantum circuit that the gates should be appended to\n",
    "        N: The number of identity gates to add\n",
    "        qr: The qubit register that the gates should be added to\n",
    "    \n",
    "    Returns:\n",
    "        circuit: The original circuit object, but with N identity\n",
    "                gates added to the qubit register qr\n",
    "    '''\n",
    "    for j in range(N):\n",
    "        circuit.barrier(qr)\n",
    "        circuit.iden(qr)\n",
    "    return circuit    "
   ]
  },
  {
   "cell_type": "markdown",
   "metadata": {},
   "source": [
    "<a id='t1'></a>"
   ]
  },
  {
   "cell_type": "markdown",
   "metadata": {},
   "source": [
    "# Measuring $T_1$ time\n",
    "\n",
    "**Theory**\n",
    "\n",
    "The $T_{1}$ time is the characteristic timescale over which the state of a qubit damps toward the $|0\\rangle$ state. Given an arbitrary initial single-qubit state $\\rho(0)$, represented by a $2\\times 2$ matrix as\n",
    "$$\\rho(0) = \\begin{pmatrix}\\rho_{00} & \\rho_{01} \\\\ \\rho_{01}^{\\star} & \\rho_{11}\\end{pmatrix},$$\n",
    "under amplitude damping noise, the state of the changes as\n",
    "$$\\rho(t) = \\begin{pmatrix}\\rho_{00} + (1-e^{-\\Gamma_{1}t})\\rho_{11} & e^{-\\Gamma_{1}t/2}\\rho_{01} \\\\ e^{-\\Gamma_{1}t/2}\\rho_{01}^{\\star} & e^{-\\Gamma_{1} t}\\rho_{11}\\end{pmatrix} \\underset{t\\rightarrow \\infty}{\\longrightarrow} |0\\rangle\\langle 0|.$$\n",
    "\n",
    "Notice that amplitude damping noise also removes any coherences between $|0\\rangle$ and $|1\\rangle$ of the state (the off-diagonal elements.) The rate at which this _decoherence_ occurs is half that of $\\Gamma_{1}$.\n",
    "\n",
    "The time evolution of the state under amplitude damping noise can be derived as the continuous-time limit of an amplitude damping channel\n",
    "$$\\mathcal{E}[\\rho] = M_{0} \\rho M_{0}^{\\dagger} + M_{1}\\rho M_{1}^{\\dagger},$$\n",
    "where\n",
    "$$M_{0} = \\begin{pmatrix} 1 & 0 \\\\0& \\sqrt{1-p}\\end{pmatrix}~,~M_{1} = \\begin{pmatrix} 0 & \\sqrt{p} \\\\ 0 & 0 \\end{pmatrix},$$\n",
    "and the probability of decay $p$ is $\\Gamma_{1}\\Delta t$.\n",
    "\n",
    "The decay rate $\\Gamma_{1}$ sets a natural time scale for the decay process; namely, $\\Gamma_{1}^{-1}$. This number is often called the $T_{1}$ time.\n",
    "\n",
    "Notice that the probability of the qubit remaining in the $|1\\rangle$ state is given by\n",
    "\n",
    "$$P_{1}(t) = \\mathrm{Tr}\\left[|1\\rangle\\langle 1| \\rho(t)\\right] = e^{-\\Gamma_{1} t}\\rho_{11}.$$\n",
    "\n",
    "If the qubit was prepared in the $|1\\rangle$ state, then $P_{1}(t) =e^{-\\Gamma_{1} t}$.\n",
    "\n",
    "A simple way of estimating the $T_{1}$ time is to collect statistics about the decay curve for $P_{1}(t)$ when the qubit is initialized to $|1\\rangle$. This can be done by choosing a variety of times $t_{1}, t_{2}, \\cdots t_{N}$, and then running the following experiment many times:\n",
    "* Prepare the qubit in $|1\\rangle$.\n",
    "* Wait a delay time $t_{j}$.\n",
    "* Measure the qubit in the $|0\\rangle, |1\\rangle$ basis.\n",
    "\n",
    "An estimate of $P_{1}(t_{j})$ is the number of times the qubit was observed to be in $|1\\rangle$, divided by the total number of times the experiment was repeated. Given several estimated values of $P_{1}$ for a variety of $(t_{j})$, we can fit the resulting decay curve is fit to an exponential and extract an estimate of $\\Gamma_{1}$, and hence, the $T_{1}$ time.\n",
    "\n",
    "The IBM Q Experience does not currently support delays of arbitrary length, so for now, we just append a series of identity operations after the initial excitation pulse. Each identity operation has the same duration of a single-qubit gate and is followed by a -shorter- buffer time. These parameters are backend-dependent.\n",
    "\n",
    "**Code**\n",
    "\n",
    "The code blocks below walk through constructing the requisite experiments to estimate the $T_{1}$ time of a qubit, sending those experiments to an IBMQ backend, and then fitting the data the backend sends back."
   ]
  },
  {
   "cell_type": "code",
   "execution_count": 27,
   "metadata": {
    "ExecuteTime": {
     "end_time": "2018-12-18T15:32:05.500425Z",
     "start_time": "2018-12-18T15:32:05.401773Z"
    }
   },
   "outputs": [],
   "source": [
    "# Select qubit whose T1 is to be measured\n",
    "qubit = 1\n",
    "\n",
    "# Creating registers\n",
    "qr = qk.QuantumRegister(5)\n",
    "cr = qk.ClassicalRegister(5)\n",
    "\n",
    "# the delay times are all set in terms of single-qubit gates\n",
    "# so we need to calculate the time from these parameters\n",
    "pulse_length=100 # single-qubit gate time \n",
    "buffer_length=10 # spacing between pulses\n",
    "unit = 'ns'\n",
    "\n",
    "steps = 10\n",
    "gates_per_step = 120\n",
    "max_gates = (steps-1)*gates_per_step+1\n",
    "tot_length = buffer_length+pulse_length\n",
    "time_per_step = gates_per_step*tot_length\n",
    "qc_dict = {}\n",
    "for ii in range(steps):\n",
    "    step_num = 'step_%s'%(str(ii))\n",
    "    qc_dict.update({step_num:qk.QuantumCircuit(qr, cr)})\n",
    "    qc_dict[step_num].x(qr[qubit])\n",
    "    qc_dict[step_num]=pad_QId(qc_dict[step_num],gates_per_step*ii,qr[qubit])\n",
    "    qc_dict[step_num].barrier(qr[qubit])\n",
    "    qc_dict[step_num].measure(qr[qubit], cr[qubit])\n",
    "\n",
    "circuits=list(qc_dict.values())    "
   ]
  },
  {
   "cell_type": "code",
   "execution_count": 28,
   "metadata": {
    "ExecuteTime": {
     "end_time": "2018-12-18T15:34:52.275440Z",
     "start_time": "2018-12-18T15:32:05.667514Z"
    }
   },
   "outputs": [
    {
     "data": {
      "application/vnd.jupyter.widget-view+json": {
       "model_id": "7a0c65e28ea24723b2fb2c44bad820de",
       "version_major": 2,
       "version_minor": 0
      },
      "text/plain": [
       "HTML(value=\"<p style='font-size:16px;'>Job Status: job is being initialized </p>\")"
      ]
     },
     "metadata": {},
     "output_type": "display_data"
    }
   ],
   "source": [
    "# run the program\n",
    "t1_job = qk.execute(circuits, backend, shots=shots)\n",
    "job_monitor(t1_job)"
   ]
  },
  {
   "cell_type": "code",
   "execution_count": 30,
   "metadata": {
    "ExecuteTime": {
     "end_time": "2018-12-18T15:34:54.609895Z",
     "start_time": "2018-12-18T15:34:53.795335Z"
    }
   },
   "outputs": [
    {
     "data": {
      "image/png": "[encoded data removed]",
      "text/plain": [
       "<Figure size 432x288 with 1 Axes>"
      ]
     },
     "metadata": {
      "needs_background": "light"
     },
     "output_type": "display_data"
    },
    {
     "name": "stdout",
     "output_type": "stream",
     "text": [
      "a: 0.84 ± 0.02\n",
      "T1: 45.85 µs ± 3.27 µs\n",
      "c: 0.07 ± 0.02\n"
     ]
    }
   ],
   "source": [
    "# arrange the data from the run\n",
    "\n",
    "result_t1 = t1_job.result()\n",
    "keys_0_1=list(result_t1.get_counts(qc_dict['step_0']).keys())# get the key of the excited state '00010' \n",
    "data=np.zeros(len(qc_dict.keys())) # numpy array for data\n",
    "sigma_data = np.zeros(len(qc_dict.keys()))\n",
    "\n",
    "# change unit from ns to microseconds\n",
    "plot_factor=1\n",
    "if unit.find('ns')>-1:\n",
    "    plot_factor=1000\n",
    "    punit='$\\\\mu$s'\n",
    "xvals=time_per_step*np.linspace(0,len(qc_dict.keys()),len(qc_dict.keys()))/plot_factor # calculate the time steps in microseconds \n",
    "\n",
    "for ii,key in enumerate(qc_dict.keys()):\n",
    "    # get the data in terms of counts for the excited state normalized to the total number of counts\n",
    "    data[ii]=float(result_t1.get_counts(qc_dict[key])[keys_0_1[0]])/shots\n",
    "    sigma_data[ii] = np.sqrt(data[ii]*(1-data[ii]))/np.sqrt(shots)\n",
    "\n",
    "# fit the data to an exponential    \n",
    "fitT1, fcov = curve_fit(exp_fit_fun, xvals, data, bounds=([-1,2,0], [1., 500, 1])) \n",
    "ferr = np.sqrt(np.diag(fcov))\n",
    "\n",
    "plot_coherence(xvals, data, sigma_data, fitT1, exp_fit_fun, punit, 'T$_1$ ', qubit)\n",
    "\n",
    "print(\"a: \" + str(round(fitT1[0],2)) + u\" \\u00B1 \" + str(round(ferr[0],2)))\n",
    "print(\"T1: \" + str(round(fitT1[1],2))+ \" µs\" + u\" \\u00B1 \" + str(round(ferr[1],2)) + ' µs')\n",
    "print(\"c: \" + str(round(fitT1[2],2)) + u\" \\u00B1 \" + str(round(ferr[2],2)))"
   ]
  },
  {
   "cell_type": "markdown",
   "metadata": {},
   "source": [
    "The last calibration of $T_1$ was measured to be"
   ]
  },
  {
   "cell_type": "code",
   "execution_count": 31,
   "metadata": {
    "ExecuteTime": {
     "end_time": "2018-12-18T15:34:56.189527Z",
     "start_time": "2018-12-18T15:34:54.612542Z"
    }
   },
   "outputs": [
    {
     "name": "stdout",
     "output_type": "stream",
     "text": [
      "72.38826037862532 µs\n"
     ]
    }
   ],
   "source": [
    "print(backend.properties().qubits[qubit][0].value, backend.properties().qubits[qubit][0].unit)"
   ]
  },
  {
   "cell_type": "markdown",
   "metadata": {},
   "source": [
    "<a id='t2star'></a>"
   ]
  },
  {
   "cell_type": "markdown",
   "metadata": {},
   "source": [
    "# Measuring $T_2^*$ time\n",
    "\n",
    "**Theory**\n",
    "\n",
    "Amplitude damping noise affects the off-diagonal elements of the density matrix in addition to the on-diagonal elements. However, there are other noise processes that only affect the off-diagonal elements, while keeping the on-diagonal elements the same. These kinds of noise processes cause _decoherence_.\n",
    "\n",
    "As a simple example of decoherence, consider the pure superposition state\n",
    "$$|\\psi(\\theta)\\rangle = \\frac{1}{\\sqrt{2}}\\left(|0\\rangle + e^{i\\theta}|1\\rangle\\right).$$\n",
    "Expressed as a density matrix, this state is\n",
    "$$\\rho(\\theta) = |\\psi(\\theta)\\rangle \\langle\\psi(\\theta)| = \\frac{1}{2}\\begin{pmatrix}1 & e^{-i\\theta} \\\\ e^{i\\theta} & 1\\end{pmatrix}.$$\n",
    "\n",
    "This state has _coherence_ between $|0\\rangle$ and $|1\\rangle$, which manifests itself in the non-zero off-diagonal terms. If the state had _decohered_, those off-diagonal terms would be zero:\n",
    "$$\\rho_{\\mathrm{decohered}} =  \\frac{1}{2}\\begin{pmatrix}1 & 0 \\\\ 0 & 1\\end{pmatrix}.$$\n",
    "When the state has decohered, it can be written as a classical _mixture_:\n",
    "$$\\rho_{\\mathrm{decohered}} = \\frac{1}{2}\\left(|0\\rangle \\langle 0| + |1\\rangle \\langle 1|\\right).$$\n",
    "\n",
    "One mechanism by which decoherence happens is _dephasing_. Under dephasing noise, the state of the qubit evolves as\n",
    "$$\\rho(t) = \\begin{pmatrix}\\rho_{00} & e^{-\\Gamma_{2}t}\\rho_{01} \\\\ e^{-\\Gamma_{2}t}\\rho_{01}^{\\star} & \\rho_{11}\\end{pmatrix} \\underset{t\\rightarrow \\infty}{\\longrightarrow} \\begin{pmatrix}\\rho_{00} & 0\\\\ 0& \\rho_{11}\\end{pmatrix}.$$\n",
    "\n",
    "The time evolution of $\\rho$ under dephasing noise can be derived as the continuous-time limit of the following noise channel:\n",
    "$$\\mathcal{E}[\\rho] = M_{0}\\rho M_{0}^{\\dagger} + M_{1} \\rho M_{1}^{\\dagger} + M_{2}\\rho M_{2}^{\\dagger},$$\n",
    "where\n",
    "$$M_{0} =\\sqrt{1-p}I~,~M_{1} = \\sqrt{p}\\begin{pmatrix}1 &0 \\\\ 0 & 0 \\end{pmatrix}~,~M_{2} = \\sqrt{p}\\begin{pmatrix}0 & 0 \\\\ 0 & 1\\end{pmatrix}.$$\n",
    "\n",
    "\n",
    "The rate of decay in the coherences can be measured by the following experiment:\n",
    "\n",
    "* Prepare the qubit in the $|+\\rangle$ state, which can be done by initializing the qubit to $|0\\rangle$ and applying a Hadamard gate, $H$.\n",
    "* Wait a delay time $t_{j}$.\n",
    "* Measure the qubit in the $|\\pm\\rangle$ basis, which can be done by applying a Hadamard and then measuring in the computational basis.\n",
    "\n",
    "If decoherence processes are present, then after a delay time $t_{j}$, the state of the qubit is\n",
    "\n",
    "$$\\rho(t_{j}) = \\frac{1}{2}\\begin{pmatrix}1 & e^{-\\Gamma_{2}t_{j}} \\\\ e^{-\\Gamma_{2}t_{j}} & 1\\end{pmatrix}.$$\n",
    "\n",
    "Measuring in the $|\\pm\\rangle$ basis, the probability of observing the outcome $|+\\rangle$ is given by\n",
    "\n",
    "$$P_{+}(t_{j}) = \\mathrm{Tr}\\left(|+\\rangle \\langle + | \\rho(t_{j})\\right) = \\frac{1}{2}\\left(1 + e^{-\\Gamma_{2}t_{j}}\\right).$$\n",
    "\n",
    "Again, by estimating $P_{+}(t_{j})$ for a variety of $t_{j}$, we can then fit a decay curve to extract an estimate of $\\Gamma_{2}$.\n",
    "\n",
    "In the actual experiment, we change the phase of the pulse before the measurement in order to create oscillations in the observed dynamics of $P_{+}(t_{j})$. If we just did two Hadamard gates separated by a delay, we would observe a decay of characteristic time $T^*_2$, but with a strong dependence on any deviation of the calibrated qubit frequency from the actual one. By implementing the qubit pulses with different phases, we shift the frequency dependence into the oscillating feature of the dynamics, and can fit the decaying envelope for a more faithful measure of the coherence time."
   ]
  },
  {
   "cell_type": "markdown",
   "metadata": {},
   "source": [
    "<div class=\"alert alert-block alert-danger\">\n",
    "\n",
    "There is one subtle point of note. In the discussion of $T_{1}$ time above, we saw that amplitude damping noise also causes the off-diagonal elements to decay (at a rate $\\Gamma_{1}/2$). Suppose a qubit was affected by only amplitude damping noise, and dephasing noise was absent. In this scenaro, _the rate of decay of coherences can be non-zero, even in the absense of dephasing noise_.\n",
    "\n",
    "For this reason, it's important to recognize there are many noise processes contributing to the rate at which coherences decay. In this tutorial, we assume that the total rate of decoherence, $\\Gamma$, can be decomposed into a sum of independent rates:\n",
    "\n",
    "$$\\Gamma = \\Gamma_{T_{1}} + \\Gamma_{2} + \\Gamma_{\\mathrm{other}}. $$\n",
    "\n",
    "Phenomenologically, the rate $\\Gamma_{\\mathrm{other}}$ quantifies the rate of decoherence due to other noise processes in addition to pure amplitude damping and pure dephasing about the $Z$-axis. Note that because general noise can cause dephasing about the $Z$-axis -- in addition to doing other things to the qubit -- echo sequences are typically used to help mitigate the effects of those kind(s) of noise on $T_{2}^{\\star}$. (Echo sequences are discussed below, in the sections $T_{2}$ echo  and CPMG measurement.)\n",
    "\n",
    "If decoherence at a rate $\\Gamma$ is taking place, then the state of the qubit changes as\n",
    "$$\\begin{equation}\n",
    "\\rho(t) = \\begin{pmatrix}\\rho_{00} & e^{-\\Gamma t}\\rho_{01} \\\\ e^{-\\Gamma t}\\rho_{01}^{\\star} & 1-\\rho_{00}\\end{pmatrix}.\n",
    "\\end{equation}$$\n",
    "\n",
    "The timescale associated with this decay rate is called $T_{2}$, and is given by $T_{2} = 1/\\Gamma$.\n",
    "\n",
    "\n",
    "$T_{2}$ relates to the other timescales introduced previously as\n",
    "$$T_{2} = \\left(\\frac{2}{T_{1}} + \\frac{1}{T_{2}} + \\frac{1}{T_{\\mathrm{other}}}\\right)^{-1} = T_{2}^{\\star}\\left( 1 + \\frac{2T_{2}^{\\star}}{T_{1}} + \\frac{T^{\\star}_{2}}{T_{\\mathrm{other}}}\\right)^{-1} \\leq T_{2}^{\\star},$$\n",
    "where we've defined $T_{\\mathrm{other}}  = 1 /\\Gamma_{\\mathrm{other}}$.\n",
    "\n",
    "</div> "
   ]
  },
  {
   "cell_type": "code",
   "execution_count": 32,
   "metadata": {
    "ExecuteTime": {
     "end_time": "2018-12-18T15:35:13.360868Z",
     "start_time": "2018-12-18T15:35:13.088842Z"
    }
   },
   "outputs": [],
   "source": [
    "# Select qubit on which to measure T2*\n",
    "qubit = 1\n",
    "\n",
    "# Creating registers\n",
    "qr = qk.QuantumRegister(5)\n",
    "cr = qk.ClassicalRegister(5)\n",
    "\n",
    "steps = 35\n",
    "gates_per_step = 20\n",
    "max_gates = (steps-1)*gates_per_step+2\n",
    "\n",
    "num_osc = 5\n",
    "tot_length = buffer_length+pulse_length\n",
    "time_per_step = gates_per_step*tot_length\n",
    "qc_dict = {}\n",
    "for ii in range(steps):\n",
    "    step_num = 'step_%s'%(str(ii))\n",
    "    qc_dict.update({step_num:qk.QuantumCircuit(qr, cr)})\n",
    "    qc_dict[step_num].h(qr[qubit])\n",
    "    qc_dict[step_num]=pad_QId(qc_dict[step_num],gates_per_step*ii,qr[qubit])\n",
    "    qc_dict[step_num].u1(2*np.pi*num_osc*ii/(steps-1),qr[qubit])\n",
    "    qc_dict[step_num].h(qr[qubit])\n",
    "    qc_dict[step_num].barrier(qr[qubit])\n",
    "    qc_dict[step_num].measure(qr[qubit], cr[qubit])\n",
    "circuits = list(qc_dict.values())    \n"
   ]
  },
  {
   "cell_type": "code",
   "execution_count": 33,
   "metadata": {
    "ExecuteTime": {
     "end_time": "2018-12-18T15:40:20.706463Z",
     "start_time": "2018-12-18T15:35:13.657405Z"
    }
   },
   "outputs": [
    {
     "data": {
      "application/vnd.jupyter.widget-view+json": {
       "model_id": "ba358c070a7e4a108ca8086cf7bfc4f6",
       "version_major": 2,
       "version_minor": 0
      },
      "text/plain": [
       "HTML(value=\"<p style='font-size:16px;'>Job Status: job is being initialized </p>\")"
      ]
     },
     "metadata": {},
     "output_type": "display_data"
    }
   ],
   "source": [
    "# run the program\n",
    "t2star_job = qk.execute(circuits, backend, shots=shots)\n",
    "job_monitor(t2star_job)"
   ]
  },
  {
   "cell_type": "code",
   "execution_count": 34,
   "metadata": {
    "ExecuteTime": {
     "end_time": "2018-12-18T15:40:21.986609Z",
     "start_time": "2018-12-18T15:40:20.709506Z"
    }
   },
   "outputs": [
    {
     "data": {
      "image/png": "[encoded data removed]",
      "text/plain": [
       "<Figure size 432x288 with 1 Axes>"
      ]
     },
     "metadata": {
      "needs_background": "light"
     },
     "output_type": "display_data"
    },
    {
     "name": "stdout",
     "output_type": "stream",
     "text": [
      "a: 0.48 ± 0.01\n",
      "T2*: 51.14 µs ± 2.18 µs\n",
      "f: 63.006kHz ± 140.469kHz\n",
      "phi: 3.15 ± 0.03\n",
      "c: 0.47 ± 0.0\n"
     ]
    }
   ],
   "source": [
    "# arrange the data from the run\n",
    "\n",
    "result_t2star = t2star_job.result()\n",
    "keys_0_1 = list(result_t2star.get_counts(qc_dict['step_0']).keys())# get the key of the excited state '00010' \n",
    "\n",
    "# change unit from ns to microseconds\n",
    "plot_factor = 1\n",
    "if unit.find('ns') > -1:\n",
    "    plot_factor = 1000\n",
    "    punit = '$\\\\mu$s'\n",
    "xvals = time_per_step*np.linspace(0,len(qc_dict.keys()),len(qc_dict.keys()))/plot_factor # calculate the time steps \n",
    "\n",
    "\n",
    "data = np.zeros(len(qc_dict.keys())) # numpy array for data\n",
    "sigma_data = np.zeros(len(qc_dict.keys()))\n",
    "\n",
    "for ii,key in enumerate(qc_dict.keys()):\n",
    "    # get the data in terms of counts for the excited state normalized to the total number of counts\n",
    "    data[ii] = float(result_t2star.get_counts(qc_dict[key])[keys_0_1[0]])/shots\n",
    "    sigma_data[ii] = np.sqrt(data[ii]*(1-data[ii]))/np.sqrt(shots)\n",
    "    \n",
    "fitT2s, fcov = curve_fit(osc_fit_fun, xvals, data, p0=[0.5, 100, 1/10, np.pi, 0],\n",
    "                         bounds=([0.3,0,0,0,0], [0.5, 200, 1/2,2*np.pi,1]))\n",
    "ferr = np.sqrt(np.diag(fcov))\n",
    "\n",
    "plot_coherence(xvals, data, sigma_data, fitT2s, osc_fit_fun, punit, '$T_2^*$ ', qubit)\n",
    "\n",
    "print(\"a: \" + str(round(fitT2s[0],2)) + u\" \\u00B1 \" + str(round(ferr[0],2)))\n",
    "print(\"T2*: \" + str(round(fitT2s[1],2))+ \" µs\"+ u\" \\u00B1 \" + str(round(ferr[1],2)) + ' µs')\n",
    "print(\"f: \" + str(round(10**3*fitT2s[2],3)) + 'kHz' + u\" \\u00B1 \" + str(round(10**6*ferr[2],3)) + 'kHz')\n",
    "print(\"phi: \" + str(round(fitT2s[3],2)) + u\" \\u00B1 \" + str(round(ferr[3],2)))\n",
    "print(\"c: \" + str(round(fitT2s[4],2)) + u\" \\u00B1 \" + str(round(ferr[4],2)))"
   ]
  },
  {
   "cell_type": "markdown",
   "metadata": {},
   "source": [
    "<a id='t2echo'></a>"
   ]
  },
  {
   "cell_type": "markdown",
   "metadata": {},
   "source": [
    "# Measurement of $T_2$ Echo\n",
    "\n",
    "We have referred to the previous experiment's characteristic time as $T^*_2$ and not $T_2$ by analogy to nuclear magnetic resonance (NMR). Indeed, one can isolate different frequency components to the decoherence process by devising increasingly elaborated pulse sequences. To illustrate the analogy with NMR, one can think about an ensemble of nuclear spins precessing in an external DC magnetic field. Due to field inhomogeneities, each spin might precess with a slightly different Larmor frequency. This certainly will affect the observed coherence time of the ensemble. However, it is possible to echo away this low-frequency decoherence process by applying a pi-pulse to the system halfway through the delay. The effect of this pi-pulse is to reverse the direction of the precession of each individual spin due to field inhomogeneities. Thus, the spins that had precessed more now start precessing in the opposite direction faster than the spins that had precessed less, and after an equal delay, all the spins in the system recover the initial coherence, except for other, higher-frequency, decoherence mechanisms.\n",
    "\n",
    "Here, we are measuring only a single qubit rather than an ensemble of spins. Consequently coherence measurements require averaging an ensemble of measurements in order to eliminate projection noise, and run-to-run fluctuations in the qubit's frequency which will similarly manifest themselves as decoherence if they are not canceled out. By running this $T_2$ echo sequence, we can therefore remove low-frequency components of the decoherence."
   ]
  },
  {
   "cell_type": "code",
   "execution_count": 36,
   "metadata": {
    "ExecuteTime": {
     "end_time": "2018-12-18T15:41:40.359053Z",
     "start_time": "2018-12-18T15:41:40.232218Z"
    }
   },
   "outputs": [],
   "source": [
    "# Select qubit to measure T2 echo on\n",
    "qubit = 1\n",
    "\n",
    "# Creating registers\n",
    "qr = qk.QuantumRegister(5)\n",
    "cr = qk.ClassicalRegister(5)\n",
    "\n",
    "steps = 18\n",
    "gates_per_step = 28\n",
    "tot_length = buffer_length+pulse_length\n",
    "max_gates = (steps-1)*2*gates_per_step+3\n",
    "time_per_step = (2*gates_per_step)*tot_length\n",
    "qc_dict = {}\n",
    "for ii in range(steps):\n",
    "    step_num = 'step_%s'%(str(ii))\n",
    "    qc_dict.update({step_num:qk.QuantumCircuit(qr, cr)})\n",
    "    qc_dict[step_num].h(qr[qubit])\n",
    "    qc_dict[step_num]=pad_QId(qc_dict[step_num],gates_per_step*ii,qr[qubit])\n",
    "    qc_dict[step_num].x(qr[qubit])\n",
    "    qc_dict[step_num]=pad_QId(qc_dict[step_num],gates_per_step*ii,qr[qubit])\n",
    "    qc_dict[step_num].h(qr[qubit])\n",
    "    qc_dict[step_num].barrier(qr[qubit])\n",
    "    qc_dict[step_num].measure(qr[qubit], cr[qubit])\n",
    "circuits = list(qc_dict.values())    \n"
   ]
  },
  {
   "cell_type": "code",
   "execution_count": 37,
   "metadata": {
    "ExecuteTime": {
     "end_time": "2018-12-18T15:45:23.869064Z",
     "start_time": "2018-12-18T15:42:08.529361Z"
    }
   },
   "outputs": [
    {
     "data": {
      "application/vnd.jupyter.widget-view+json": {
       "model_id": "12b52f1fe6254dbfa66a1b95cdc18099",
       "version_major": 2,
       "version_minor": 0
      },
      "text/plain": [
       "HTML(value=\"<p style='font-size:16px;'>Job Status: job is being initialized </p>\")"
      ]
     },
     "metadata": {},
     "output_type": "display_data"
    }
   ],
   "source": [
    "# run the program\n",
    "t2echo_job = qk.execute(circuits, backend, shots=shots)\n",
    "job_monitor(t2echo_job)"
   ]
  },
  {
   "cell_type": "code",
   "execution_count": 39,
   "metadata": {
    "ExecuteTime": {
     "end_time": "2018-12-18T15:46:24.309157Z",
     "start_time": "2018-12-18T15:46:22.609333Z"
    }
   },
   "outputs": [
    {
     "data": {
      "image/png": "[encoded data removed]",
      "text/plain": [
       "<Figure size 432x288 with 1 Axes>"
      ]
     },
     "metadata": {
      "needs_background": "light"
     },
     "output_type": "display_data"
    },
    {
     "name": "stdout",
     "output_type": "stream",
     "text": [
      "a: -0.4 ± 0.02\n",
      "T2: 66.96 µs ± 8.11 µs\n",
      "c: 0.4 ± 0.02\n"
     ]
    }
   ],
   "source": [
    "# arrange the data from the run\n",
    "\n",
    "result_t2echo = t2echo_job.result()\n",
    "keys_0_1 = list(result_t2echo.get_counts(qc_dict['step_0']).keys())# get the key of the excited state '00010' \n",
    "\n",
    "\n",
    "# change unit from ns to microseconds\n",
    "plot_factor=1\n",
    "if unit.find('ns')>-1:\n",
    "    plot_factor=1000\n",
    "    punit='$\\\\mu$s'\n",
    "xvals=time_per_step*np.linspace(0,len(qc_dict.keys()),len(qc_dict.keys()))/plot_factor # calculate the time steps \n",
    "\n",
    "\n",
    "data=np.zeros(len(qc_dict.keys())) # numpy array for data\n",
    "sigma_data = np.zeros(len(qc_dict.keys()))\n",
    "\n",
    "\n",
    "for ii,key in enumerate(qc_dict.keys()):\n",
    "    # get the data in terms of counts for the excited state normalized to the total number of counts\n",
    "    data[ii]=float(result_t2echo.get_counts(qc_dict[key])[keys_0_1[0]])/shots\n",
    "    sigma_data[ii] = np.sqrt(data[ii]*(1-data[ii]))/np.sqrt(shots)\n",
    "    \n",
    "fitT2e, fcov = curve_fit(exp_fit_fun, xvals, data, bounds=([-1,10,0], [1, 150, 1])) \n",
    "ferr = np.sqrt(np.diag(fcov))\n",
    "\n",
    "plot_coherence(xvals, data, sigma_data, fitT2e, exp_fit_fun, punit, '$T_{2echo}$ ', qubit)\n",
    "\n",
    "print(\"a: \" + str(round(fitT2e[0],2)) + u\" \\u00B1 \" + str(round(ferr[0],2)))\n",
    "print(\"T2: \" + str(round(fitT2e[1],2))+ ' µs' + u\" \\u00B1 \" + str(round(ferr[1],2)) + ' µs')\n",
    "print(\"c: \" + str(round(fitT2e[2],2)) + u\" \\u00B1 \" + str(round(ferr[2],2)))"
   ]
  },
  {
   "cell_type": "markdown",
   "metadata": {},
   "source": [
    "The last calibration of $T_2$ was measured to be"
   ]
  },
  {
   "cell_type": "code",
   "execution_count": 40,
   "metadata": {
    "ExecuteTime": {
     "end_time": "2018-12-18T15:49:37.997236Z",
     "start_time": "2018-12-18T15:49:36.234839Z"
    }
   },
   "outputs": [
    {
     "name": "stdout",
     "output_type": "stream",
     "text": [
      "111.62868245151734 µs\n"
     ]
    }
   ],
   "source": [
    "print(backend.properties().qubits[qubit][1].value, backend.properties().qubits[qubit][1].unit)"
   ]
  },
  {
   "cell_type": "markdown",
   "metadata": {},
   "source": [
    "<a id='cpmg'></a>"
   ]
  },
  {
   "cell_type": "markdown",
   "metadata": {},
   "source": [
    "## CPMG measurement\n",
    " \n",
    "As explained above, the echo sequence removes low-frequency decoherence mechanisms. This noise-filtering procedure can be extended with increased number of pi-pulses within the delay. In the following experiment, we implement an echo experiment with seven pi-pulses during the delay between the initial and final pulses. This kind of echo with several pi-pulses is referred to as a CPMG experiment, after Carr, Purcell, Meiboom, and Gill.  "
   ]
  },
  {
   "cell_type": "code",
   "execution_count": 41,
   "metadata": {
    "ExecuteTime": {
     "end_time": "2018-12-18T15:49:55.731027Z",
     "start_time": "2018-12-18T15:49:55.650439Z"
    }
   },
   "outputs": [],
   "source": [
    "# Select qubit for CPMG measurement of T2\n",
    "qubit = 1\n",
    "\n",
    "# Creating registers\n",
    "qr = qk.QuantumRegister(5)\n",
    "cr = qk.ClassicalRegister(5)\n",
    "\n",
    "steps = 10\n",
    "gates_per_step = 18\n",
    "num_echo = 5 # has to be odd number to end up in excited state at the end\n",
    "tot_length = buffer_length+pulse_length\n",
    "time_per_step = ((num_echo+1)*gates_per_step+num_echo)*tot_length\n",
    "max_gates = num_echo*(steps-1)*gates_per_step+num_echo+2\n",
    "qc_dict = {}\n",
    "for ii in range(steps):\n",
    "    step_num='step_%s'%(str(ii))\n",
    "    qc_dict.update({step_num:qk.QuantumCircuit(qr, cr)})\n",
    "    qc_dict[step_num].h(qr[qubit])\n",
    "    for iii in range(num_echo):\n",
    "        qc_dict[step_num]=pad_QId(qc_dict[step_num], gates_per_step*ii, qr[qubit])\n",
    "        qc_dict[step_num].x(qr[qubit])\n",
    "    qc_dict[step_num]=pad_QId(qc_dict[step_num], gates_per_step*ii, qr[qubit])\n",
    "    qc_dict[step_num].h(qr[qubit])\n",
    "    qc_dict[step_num].barrier(qr[qubit])\n",
    "    qc_dict[step_num].measure(qr[qubit], cr[qubit])\n",
    "circuits=list(qc_dict.values())\n"
   ]
  },
  {
   "cell_type": "code",
   "execution_count": 42,
   "metadata": {
    "ExecuteTime": {
     "end_time": "2018-12-18T15:51:08.767976Z",
     "start_time": "2018-12-18T15:49:58.102473Z"
    }
   },
   "outputs": [
    {
     "data": {
      "application/vnd.jupyter.widget-view+json": {
       "model_id": "4d55308b7b6e4231aba7f57241c01d31",
       "version_major": 2,
       "version_minor": 0
      },
      "text/plain": [
       "HTML(value=\"<p style='font-size:16px;'>Job Status: job is being initialized </p>\")"
      ]
     },
     "metadata": {},
     "output_type": "display_data"
    }
   ],
   "source": [
    "# run the program\n",
    "t2cpmg_job = qk.execute(circuits, backend, shots=shots)\n",
    "job_monitor(t2cpmg_job)"
   ]
  },
  {
   "cell_type": "code",
   "execution_count": 43,
   "metadata": {
    "ExecuteTime": {
     "end_time": "2018-12-18T15:52:32.659574Z",
     "start_time": "2018-12-18T15:52:31.531632Z"
    }
   },
   "outputs": [
    {
     "data": {
      "image/png": "[encoded data removed]",
      "text/plain": [
       "<Figure size 432x288 with 1 Axes>"
      ]
     },
     "metadata": {
      "needs_background": "light"
     },
     "output_type": "display_data"
    },
    {
     "name": "stdout",
     "output_type": "stream",
     "text": [
      "a: -0.42 ± 0.04\n",
      "T2: 87.67 µs ± 15.38 µs\n",
      "c: 0.44 ± 0.04\n"
     ]
    }
   ],
   "source": [
    "# arrange the data from the run\n",
    "\n",
    "result_t2cpmg = t2cpmg_job.result()\n",
    "keys_0_1 = list(result_t2cpmg.get_counts(qc_dict['step_0']).keys())# get the key of the excited state '00001' \n",
    "\n",
    "\n",
    "# change unit from ns to microseconds\n",
    "plot_factor = 1\n",
    "if unit.find('ns') > -1:\n",
    "    plot_factor = 1000\n",
    "    punit = '$\\\\mu$s'\n",
    "xvals = time_per_step*np.linspace(0,len(qc_dict.keys()),len(qc_dict.keys()))/plot_factor # calculate the time steps \n",
    "\n",
    "\n",
    "data = np.zeros(len(qc_dict.keys())) # numpy array for data\n",
    "sigma_data = np.zeros(len(qc_dict.keys()))\n",
    "\n",
    "for ii,key in enumerate(qc_dict.keys()):\n",
    "    # get the data in terms of counts for the excited state normalized to the total number of counts\n",
    "    data[ii] = float(result_t2cpmg.get_counts(qc_dict[key])[keys_0_1[0]])/shots\n",
    "    sigma_data[ii] = np.sqrt(data[ii]*(1-data[ii]))/np.sqrt(shots)\n",
    "    \n",
    "fitT2cpmg, fcov = curve_fit(exp_fit_fun, xvals, data, bounds=([-1,10,0], [1, 150, 1])) \n",
    "ferr = np.sqrt(np.diag(fcov))\n",
    "\n",
    "plot_coherence(xvals, data, sigma_data, fitT2cpmg, exp_fit_fun, punit, '$T_{2cpmg}$ ', qubit)\n",
    "\n",
    "print(\"a: \" + str(round(fitT2cpmg[0],2)) + u\" \\u00B1 \" + str(round(ferr[0],2)))\n",
    "print(\"T2: \" + str(round(fitT2cpmg[1],2))+ ' µs' + u\" \\u00B1 \" + str(round(ferr[1],2)) + ' µs')\n",
    "print(\"c: \" + str(round(fitT2cpmg[2],2)) + u\" \\u00B1 \" + str(round(ferr[2],2)))"
   ]
  },
  {
   "cell_type": "code",
   "execution_count": null,
   "metadata": {},
   "outputs": [],
   "source": []
  }
 ],
 "metadata": {
  "anaconda-cloud": {},
  "hide_input": false,
  "kernelspec": {
   "display_name": "Python 3",
   "language": "python",
   "name": "python3"
  },
  "language_info": {
   "codemirror_mode": {
    "name": "ipython",
    "version": 3
   },
   "file_extension": ".py",
   "mimetype": "text/x-python",
   "name": "python",
   "nbconvert_exporter": "python",
   "pygments_lexer": "ipython3",
   "version": "3.7.1"
  }
 },
 "nbformat": 4,
 "nbformat_minor": 2
}
