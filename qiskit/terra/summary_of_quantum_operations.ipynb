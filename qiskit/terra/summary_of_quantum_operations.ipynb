{
 "cells": [
  {
   "cell_type": "markdown",
   "metadata": {},
   "source": [
    "<img src=\"../../images/qiskit-heading.gif\" alt=\"Note: In order for images to show up in this jupyter notebook you need to select File => Trusted Notebook\" width=\"500 px\" align=\"left\">"
   ]
  },
  {
   "cell_type": "markdown",
   "metadata": {},
   "source": [
    "# Summary of Quantum Operations "
   ]
  },
  {
   "cell_type": "markdown",
   "metadata": {},
   "source": [
    " In this section we will go into the different operations that are available in Qiskit Terra. These are:\n",
    "- Single-qubit quantum gates\n",
    "- Multi-qubit quantum gates\n",
    "- Measurements\n",
    "- Reset\n",
    "- Conditionals\n",
    "- State initialization\n",
    "\n",
    "We will also show you how to use the three different simulators:\n",
    "- unitary_simulator\n",
    "- qasm_simulator\n",
    "- statevector_simulator"
   ]
  },
  {
   "cell_type": "code",
   "execution_count": 1,
   "metadata": {
    "ExecuteTime": {
     "end_time": "2018-09-29T00:15:22.356783Z",
     "start_time": "2018-09-29T00:15:22.017905Z"
    }
   },
   "outputs": [],
   "source": [
    "# Useful additional packages \n",
    "import matplotlib.pyplot as plt\n",
    "%matplotlib inline\n",
    "import numpy as np\n",
    "from math import pi"
   ]
  },
  {
   "cell_type": "code",
   "execution_count": 2,
   "metadata": {
    "ExecuteTime": {
     "end_time": "2018-09-29T00:15:24.371649Z",
     "start_time": "2018-09-29T00:15:22.358409Z"
    }
   },
   "outputs": [],
   "source": [
    "from qiskit import QuantumCircuit, ClassicalRegister, QuantumRegister, execute\n",
    "from qiskit.tools.visualization import circuit_drawer\n",
    "from qiskit.quantum_info import state_fidelity\n",
    "from qiskit import BasicAer\n",
    "\n",
    "backend = BasicAer.get_backend('unitary_simulator')"
   ]
  },
  {
   "cell_type": "markdown",
   "metadata": {},
   "source": [
    "## Single Qubit Quantum states\n",
    "\n",
    "A single qubit quantum state can be written as\n",
    "\n",
    "$$|\\psi\\rangle = \\alpha|0\\rangle + \\beta |1\\rangle$$\n",
    "\n",
    "\n",
    "where $\\alpha$ and $\\beta$ are complex numbers. In a measurement the probability of the bit being in $|0\\rangle$ is $|\\alpha|^2$ and $|1\\rangle$ is $|\\beta|^2$. As a vector this is\n",
    "\n",
    "$$\n",
    "|\\psi\\rangle =  \n",
    "\\begin{pmatrix}\n",
    "\\alpha \\\\\n",
    "\\beta\n",
    "\\end{pmatrix}.\n",
    "$$\n",
    "\n",
    "Note due to conservation probability $|\\alpha|^2+ |\\beta|^2 = 1$ and since global phase is undetectable $|\\psi\\rangle := e^{i\\delta} |\\psi\\rangle$ we only requires two real numbers to describe a single qubit quantum state.\n",
    "\n",
    "A convenient representation is\n",
    "\n",
    "$$|\\psi\\rangle = \\cos(\\theta/2)|0\\rangle + \\sin(\\theta/2)e^{i\\phi}|1\\rangle$$\n",
    "\n",
    "where $0\\leq \\phi < 2\\pi$, and $0\\leq \\theta \\leq \\pi$.  From this it is clear that there is a one-to-one correspondence between qubit states ($\\mathbb{C}^2$) and the points on the surface of a unit sphere ($\\mathbb{R}^3$). This is called the Bloch sphere representation of a qubit state.\n",
    "\n",
    "Quantum gates/operations are usually represented as matrices. A gate which acts on a qubit is represented by a $2\\times 2$ unitary matrix $U$. The action of the quantum gate is found by multiplying the matrix representing the gate with the vector which represents the quantum state.\n",
    "\n",
    "$$|\\psi'\\rangle = U|\\psi\\rangle$$\n",
    "\n",
    "A general unitary must be able to take the $|0\\rangle$ to the above state. That is \n",
    "\n",
    "$$\n",
    "U = \\begin{pmatrix}\n",
    "\\cos(\\theta/2) & a \\\\\n",
    "e^{i\\phi}\\sin(\\theta/2) & b \n",
    "\\end{pmatrix}\n",
    "$$ \n",
    "\n",
    "where $a$ and $b$ are complex numbers constrained such that $U^\\dagger U = I$ for all $0\\leq\\theta\\leq\\pi$ and $0\\leq \\phi<2\\pi$. This gives 3 constraints and as such $a\\rightarrow -e^{i\\lambda}\\sin(\\theta/2)$ and $b\\rightarrow e^{i\\lambda+i\\phi}\\cos(\\theta/2)$ where $0\\leq \\lambda<2\\pi$ giving \n",
    "\n",
    "$$\n",
    "U = \\begin{pmatrix}\n",
    "\\cos(\\theta/2) & -e^{i\\lambda}\\sin(\\theta/2) \\\\\n",
    "e^{i\\phi}\\sin(\\theta/2) & e^{i\\lambda+i\\phi}\\cos(\\theta/2) \n",
    "\\end{pmatrix}.\n",
    "$$\n",
    "\n",
    "This is the most general form of a single qubit unitary."
   ]
  },
  {
   "cell_type": "markdown",
   "metadata": {},
   "source": [
    "## Single-Qubit Gates\n",
    "\n",
    "The single-qubit gates available are:\n",
    "- u gates\n",
    "- Identity gate\n",
    "- Pauli gates\n",
    "- Clifford gates\n",
    "- $C3$ gates\n",
    "- Standard rotation gates \n",
    "\n",
    "We have provided a backend: `unitary_simulator` to allow you to calculate the unitary matrices. "
   ]
  },
  {
   "cell_type": "code",
   "execution_count": 3,
   "metadata": {
    "ExecuteTime": {
     "end_time": "2018-09-29T00:15:24.381507Z",
     "start_time": "2018-09-29T00:15:24.373378Z"
    }
   },
   "outputs": [],
   "source": [
    "q = QuantumRegister(1)"
   ]
  },
  {
   "cell_type": "markdown",
   "metadata": {},
   "source": [
    "### u gates\n",
    "\n",
    "In Qiskit we give you access to the general unitary using the $u3$ gate\n",
    "\n",
    "$$\n",
    "u3(\\theta, \\phi, \\lambda) = U(\\theta, \\phi, \\lambda) \n",
    "$$\n"
   ]
  },
  {
   "cell_type": "code",
   "execution_count": 4,
   "metadata": {
    "ExecuteTime": {
     "end_time": "2018-09-29T00:15:25.666961Z",
     "start_time": "2018-09-29T00:15:24.386736Z"
    }
   },
   "outputs": [
    {
     "data": {
      "text/html": [
       "<pre style=\"word-wrap: normal;white-space: pre;line-height: 15px;\">         ┌──────────────────────────┐\n",
       "q0_0: |0>┤ U3(1.5708,1.5708,1.5708) ├\n",
       "         └──────────────────────────┘</pre>"
      ],
      "text/plain": [
       "<qiskit.tools.visualization._text.TextDrawing at 0xa1eb06160>"
      ]
     },
     "execution_count": 4,
     "metadata": {},
     "output_type": "execute_result"
    }
   ],
   "source": [
    "qc = QuantumCircuit(q)\n",
    "qc.u3(pi/2,pi/2,pi/2,q)\n",
    "qc.draw()"
   ]
  },
  {
   "cell_type": "code",
   "execution_count": 5,
   "metadata": {
    "ExecuteTime": {
     "end_time": "2018-09-29T00:15:25.686483Z",
     "start_time": "2018-09-29T00:15:25.669083Z"
    }
   },
   "outputs": [
    {
     "data": {
      "text/plain": [
       "array([[ 0.707+0.j   ,  0.   -0.707j],\n",
       "       [ 0.   +0.707j, -0.707+0.j   ]])"
      ]
     },
     "execution_count": 5,
     "metadata": {},
     "output_type": "execute_result"
    }
   ],
   "source": [
    "job = execute(qc, backend)\n",
    "job.result().get_unitary(qc, decimals=3)"
   ]
  },
  {
   "cell_type": "markdown",
   "metadata": {},
   "source": [
    "The $u2(\\phi, \\lambda) =u3(\\pi/2, \\phi, \\lambda)$ has the matrix form\n",
    "\n",
    "$$\n",
    "u2(\\phi, \\lambda) = \n",
    "\\frac{1}{\\sqrt{2}} \\begin{pmatrix}\n",
    "1 & -e^{i\\lambda} \\\\\n",
    "e^{i\\phi} & e^{i(\\phi + \\lambda)}\n",
    "\\end{pmatrix}.\n",
    "$$\n",
    "\n",
    "This is a useful gate as it allows us to create superpositions"
   ]
  },
  {
   "cell_type": "code",
   "execution_count": 6,
   "metadata": {
    "ExecuteTime": {
     "end_time": "2018-09-29T00:15:26.803656Z",
     "start_time": "2018-09-29T00:15:25.688915Z"
    }
   },
   "outputs": [
    {
     "data": {
      "text/html": [
       "<pre style=\"word-wrap: normal;white-space: pre;line-height: 15px;\">         ┌───────────────────┐\n",
       "q0_0: |0>┤ U2(1.5708,1.5708) ├\n",
       "         └───────────────────┘</pre>"
      ],
      "text/plain": [
       "<qiskit.tools.visualization._text.TextDrawing at 0xa1eb49710>"
      ]
     },
     "execution_count": 6,
     "metadata": {},
     "output_type": "execute_result"
    }
   ],
   "source": [
    "qc = QuantumCircuit(q)\n",
    "qc.u2(pi/2,pi/2,q)\n",
    "qc.draw()"
   ]
  },
  {
   "cell_type": "code",
   "execution_count": 7,
   "metadata": {
    "ExecuteTime": {
     "end_time": "2018-09-29T00:15:26.820459Z",
     "start_time": "2018-09-29T00:15:26.805575Z"
    }
   },
   "outputs": [
    {
     "data": {
      "text/plain": [
       "array([[ 0.707+0.j   ,  0.   -0.707j],\n",
       "       [ 0.   +0.707j, -0.707+0.j   ]])"
      ]
     },
     "execution_count": 7,
     "metadata": {},
     "output_type": "execute_result"
    }
   ],
   "source": [
    "job = execute(qc, backend)\n",
    "job.result().get_unitary(qc, decimals=3)"
   ]
  },
  {
   "cell_type": "markdown",
   "metadata": {},
   "source": [
    "The $u1(\\lambda)= u3(0, 0, \\lambda)$ gate has the matrix form\n",
    "\n",
    "$$\n",
    "u1(\\lambda) = \n",
    "\\begin{pmatrix}\n",
    "1 & 0 \\\\\n",
    "0 & e^{i \\lambda}\n",
    "\\end{pmatrix},\n",
    "$$\n",
    "\n",
    "which is a useful as it allows us to apply a quantum phase."
   ]
  },
  {
   "cell_type": "code",
   "execution_count": 8,
   "metadata": {
    "ExecuteTime": {
     "end_time": "2018-09-29T00:15:27.935053Z",
     "start_time": "2018-09-29T00:15:26.822215Z"
    }
   },
   "outputs": [
    {
     "data": {
      "text/html": [
       "<pre style=\"word-wrap: normal;white-space: pre;line-height: 15px;\">         ┌────────────┐\n",
       "q0_0: |0>┤ U1(1.5708) ├\n",
       "         └────────────┘</pre>"
      ],
      "text/plain": [
       "<qiskit.tools.visualization._text.TextDrawing at 0xa1eb49a58>"
      ]
     },
     "execution_count": 8,
     "metadata": {},
     "output_type": "execute_result"
    }
   ],
   "source": [
    "qc = QuantumCircuit(q)\n",
    "qc.u1(pi/2,q)\n",
    "qc.draw()"
   ]
  },
  {
   "cell_type": "code",
   "execution_count": 9,
   "metadata": {
    "ExecuteTime": {
     "end_time": "2018-09-29T00:15:27.964213Z",
     "start_time": "2018-09-29T00:15:27.940835Z"
    }
   },
   "outputs": [
    {
     "data": {
      "text/plain": [
       "array([[1.+0.j, 0.+0.j],\n",
       "       [0.+0.j, 0.+1.j]])"
      ]
     },
     "execution_count": 9,
     "metadata": {},
     "output_type": "execute_result"
    }
   ],
   "source": [
    "job = execute(qc, backend)\n",
    "job.result().get_unitary(qc, decimals=3)"
   ]
  },
  {
   "cell_type": "markdown",
   "metadata": {},
   "source": [
    "The $u0(\\delta)= u3(0, 0, 0)$ gate is the identity matrix. It has the matrix form\n",
    "\n",
    "$$\n",
    "u0(\\delta) = \n",
    "\\begin{pmatrix}\n",
    "1 & 0 \\\\\n",
    "0 & 1\n",
    "\\end{pmatrix}.\n",
    "$$\n",
    "\n",
    "The identity gate does nothing (but can add noise in the real device for a period of time equal to fractions of the single qubit gate time)"
   ]
  },
  {
   "cell_type": "code",
   "execution_count": 10,
   "metadata": {
    "ExecuteTime": {
     "end_time": "2018-09-29T00:15:29.040953Z",
     "start_time": "2018-09-29T00:15:27.968687Z"
    }
   },
   "outputs": [
    {
     "data": {
      "text/html": [
       "<pre style=\"word-wrap: normal;white-space: pre;line-height: 15px;\">         ┌────────────┐\n",
       "q0_0: |0>┤ U0(1.5708) ├\n",
       "         └────────────┘</pre>"
      ],
      "text/plain": [
       "<qiskit.tools.visualization._text.TextDrawing at 0xa1eb5d0f0>"
      ]
     },
     "execution_count": 10,
     "metadata": {},
     "output_type": "execute_result"
    }
   ],
   "source": [
    "qc = QuantumCircuit(q)\n",
    "qc.u0(pi/2,q)\n",
    "qc.draw()"
   ]
  },
  {
   "cell_type": "code",
   "execution_count": 11,
   "metadata": {
    "ExecuteTime": {
     "end_time": "2018-09-29T00:15:29.059033Z",
     "start_time": "2018-09-29T00:15:29.043032Z"
    }
   },
   "outputs": [
    {
     "data": {
      "text/plain": [
       "array([[1.+0.j, 0.+0.j],\n",
       "       [0.+0.j, 1.+0.j]])"
      ]
     },
     "execution_count": 11,
     "metadata": {},
     "output_type": "execute_result"
    }
   ],
   "source": [
    "job = execute(qc, backend)\n",
    "job.result().get_unitary(qc, decimals=3)"
   ]
  },
  {
   "cell_type": "markdown",
   "metadata": {},
   "source": [
    "### Identity gate\n",
    "\n",
    "The identity gate is $Id = u0(1)$."
   ]
  },
  {
   "cell_type": "code",
   "execution_count": 12,
   "metadata": {
    "ExecuteTime": {
     "end_time": "2018-09-29T00:15:30.125226Z",
     "start_time": "2018-09-29T00:15:29.062116Z"
    }
   },
   "outputs": [
    {
     "data": {
      "text/html": [
       "<pre style=\"word-wrap: normal;white-space: pre;line-height: 15px;\">         ┌────┐\n",
       "q0_0: |0>┤ Id ├\n",
       "         └────┘</pre>"
      ],
      "text/plain": [
       "<qiskit.tools.visualization._text.TextDrawing at 0xa1eb572e8>"
      ]
     },
     "execution_count": 12,
     "metadata": {},
     "output_type": "execute_result"
    }
   ],
   "source": [
    "qc = QuantumCircuit(q)\n",
    "qc.iden(q)\n",
    "qc.draw()"
   ]
  },
  {
   "cell_type": "code",
   "execution_count": 13,
   "metadata": {
    "ExecuteTime": {
     "end_time": "2018-09-29T00:15:30.140784Z",
     "start_time": "2018-09-29T00:15:30.127428Z"
    }
   },
   "outputs": [
    {
     "data": {
      "text/plain": [
       "array([[1.+0.j, 0.+0.j],\n",
       "       [0.+0.j, 1.+0.j]])"
      ]
     },
     "execution_count": 13,
     "metadata": {},
     "output_type": "execute_result"
    }
   ],
   "source": [
    "job = execute(qc, backend)\n",
    "job.result().get_unitary(qc, decimals=3)"
   ]
  },
  {
   "cell_type": "markdown",
   "metadata": {},
   "source": [
    "### Pauli gates\n",
    "\n",
    "#### $X$: bit-flip gate\n",
    "\n",
    "The bit-flip gate $X$ is defined as:\n",
    "\n",
    "$$\n",
    "X   =  \n",
    "\\begin{pmatrix}\n",
    "0 & 1\\\\\n",
    "1 & 0\n",
    "\\end{pmatrix}= u3(\\pi,0,\\pi)\n",
    "$$"
   ]
  },
  {
   "cell_type": "code",
   "execution_count": 14,
   "metadata": {
    "ExecuteTime": {
     "end_time": "2018-09-29T00:15:31.251259Z",
     "start_time": "2018-09-29T00:15:30.142518Z"
    }
   },
   "outputs": [
    {
     "data": {
      "text/html": [
       "<pre style=\"word-wrap: normal;white-space: pre;line-height: 15px;\">         ┌───┐\n",
       "q0_0: |0>┤ X ├\n",
       "         └───┘</pre>"
      ],
      "text/plain": [
       "<qiskit.tools.visualization._text.TextDrawing at 0xa1eb49c18>"
      ]
     },
     "execution_count": 14,
     "metadata": {},
     "output_type": "execute_result"
    }
   ],
   "source": [
    "qc = QuantumCircuit(q)\n",
    "qc.x(q)\n",
    "qc.draw()"
   ]
  },
  {
   "cell_type": "code",
   "execution_count": 15,
   "metadata": {
    "ExecuteTime": {
     "end_time": "2018-09-29T00:15:31.268863Z",
     "start_time": "2018-09-29T00:15:31.253685Z"
    }
   },
   "outputs": [
    {
     "data": {
      "text/plain": [
       "array([[0.+0.j, 1.+0.j],\n",
       "       [1.+0.j, 0.+0.j]])"
      ]
     },
     "execution_count": 15,
     "metadata": {},
     "output_type": "execute_result"
    }
   ],
   "source": [
    "job = execute(qc, backend)\n",
    "job.result().get_unitary(qc, decimals=3)"
   ]
  },
  {
   "cell_type": "markdown",
   "metadata": {},
   "source": [
    "#### $Y$: bit- and phase-flip gate\n",
    "\n",
    "The $Y$ gate is defined as:\n",
    "\n",
    "$$\n",
    "Y  = \n",
    "\\begin{pmatrix}\n",
    "0 & -i\\\\\n",
    "i & 0\n",
    "\\end{pmatrix}=u3(\\pi,\\pi/2,\\pi/2)\n",
    "$$"
   ]
  },
  {
   "cell_type": "code",
   "execution_count": 16,
   "metadata": {
    "ExecuteTime": {
     "end_time": "2018-09-29T00:15:32.367457Z",
     "start_time": "2018-09-29T00:15:31.270412Z"
    }
   },
   "outputs": [
    {
     "data": {
      "text/html": [
       "<pre style=\"word-wrap: normal;white-space: pre;line-height: 15px;\">         ┌───┐\n",
       "q0_0: |0>┤ Y ├\n",
       "         └───┘</pre>"
      ],
      "text/plain": [
       "<qiskit.tools.visualization._text.TextDrawing at 0xa1eb57630>"
      ]
     },
     "execution_count": 16,
     "metadata": {},
     "output_type": "execute_result"
    }
   ],
   "source": [
    "qc = QuantumCircuit(q)\n",
    "qc.y(q)\n",
    "qc.draw()"
   ]
  },
  {
   "cell_type": "code",
   "execution_count": 17,
   "metadata": {
    "ExecuteTime": {
     "end_time": "2018-09-29T00:15:33.152683Z",
     "start_time": "2018-09-29T00:15:32.369796Z"
    }
   },
   "outputs": [
    {
     "data": {
      "text/plain": [
       "array([[0.+0.j, 0.-1.j],\n",
       "       [0.+1.j, 0.+0.j]])"
      ]
     },
     "execution_count": 17,
     "metadata": {},
     "output_type": "execute_result"
    }
   ],
   "source": [
    "job = execute(qc, backend)\n",
    "job.result().get_unitary(qc, decimals=3)"
   ]
  },
  {
   "cell_type": "markdown",
   "metadata": {},
   "source": [
    "#### $Z$: phase-flip gate\n",
    "\n",
    "The phase flip gate $Z$ is defined as:\n",
    "\n",
    "$$\n",
    "Z = \n",
    "\\begin{pmatrix}\n",
    "1 & 0\\\\\n",
    "0 & -1\n",
    "\\end{pmatrix}=u1(\\pi)\n",
    "$$"
   ]
  },
  {
   "cell_type": "code",
   "execution_count": 18,
   "metadata": {
    "ExecuteTime": {
     "end_time": "2018-09-29T00:15:34.348628Z",
     "start_time": "2018-09-29T00:15:33.158278Z"
    }
   },
   "outputs": [
    {
     "data": {
      "text/html": [
       "<pre style=\"word-wrap: normal;white-space: pre;line-height: 15px;\">         ┌───┐\n",
       "q0_0: |0>┤ Z ├\n",
       "         └───┘</pre>"
      ],
      "text/plain": [
       "<qiskit.tools.visualization._text.TextDrawing at 0xa1eb57710>"
      ]
     },
     "execution_count": 18,
     "metadata": {},
     "output_type": "execute_result"
    }
   ],
   "source": [
    "qc = QuantumCircuit(q)\n",
    "qc.z(q)\n",
    "qc.draw()"
   ]
  },
  {
   "cell_type": "code",
   "execution_count": 19,
   "metadata": {
    "ExecuteTime": {
     "end_time": "2018-09-29T00:15:34.367128Z",
     "start_time": "2018-09-29T00:15:34.350725Z"
    }
   },
   "outputs": [
    {
     "data": {
      "text/plain": [
       "array([[ 1.+0.j,  0.+0.j],\n",
       "       [ 0.+0.j, -1.+0.j]])"
      ]
     },
     "execution_count": 19,
     "metadata": {},
     "output_type": "execute_result"
    }
   ],
   "source": [
    "job = execute(qc, backend)\n",
    "job.result().get_unitary(qc, decimals=3)"
   ]
  },
  {
   "cell_type": "markdown",
   "metadata": {},
   "source": [
    "### Clifford gates\n",
    "\n",
    "#### Hadamard gate\n",
    "\n",
    "$$\n",
    "H = \n",
    "\\frac{1}{\\sqrt{2}}\n",
    "\\begin{pmatrix}\n",
    "1 & 1\\\\\n",
    "1 & -1\n",
    "\\end{pmatrix}= u2(0,\\pi)\n",
    "$$"
   ]
  },
  {
   "cell_type": "code",
   "execution_count": 20,
   "metadata": {
    "ExecuteTime": {
     "end_time": "2018-09-29T00:15:35.530446Z",
     "start_time": "2018-09-29T00:15:34.368793Z"
    }
   },
   "outputs": [
    {
     "data": {
      "text/html": [
       "<pre style=\"word-wrap: normal;white-space: pre;line-height: 15px;\">         ┌───┐\n",
       "q0_0: |0>┤ H ├\n",
       "         └───┘</pre>"
      ],
      "text/plain": [
       "<qiskit.tools.visualization._text.TextDrawing at 0xa1eb5d9e8>"
      ]
     },
     "execution_count": 20,
     "metadata": {},
     "output_type": "execute_result"
    }
   ],
   "source": [
    "qc = QuantumCircuit(q)\n",
    "qc.h(q)\n",
    "qc.draw()"
   ]
  },
  {
   "cell_type": "code",
   "execution_count": 21,
   "metadata": {
    "ExecuteTime": {
     "end_time": "2018-09-29T00:15:35.550723Z",
     "start_time": "2018-09-29T00:15:35.532971Z"
    }
   },
   "outputs": [
    {
     "data": {
      "text/plain": [
       "array([[ 0.707+0.j,  0.707+0.j],\n",
       "       [ 0.707+0.j, -0.707+0.j]])"
      ]
     },
     "execution_count": 21,
     "metadata": {},
     "output_type": "execute_result"
    }
   ],
   "source": [
    "job = execute(qc, backend)\n",
    "job.result().get_unitary(qc, decimals=3)"
   ]
  },
  {
   "cell_type": "markdown",
   "metadata": {},
   "source": [
    "#### $S$ (or, $\\sqrt{Z}$ phase) gate\n",
    "\n",
    "$$\n",
    "S = \n",
    "\\begin{pmatrix}\n",
    "1 & 0\\\\\n",
    "0 & i\n",
    "\\end{pmatrix}= u1(\\pi/2)\n",
    "$$"
   ]
  },
  {
   "cell_type": "code",
   "execution_count": 22,
   "metadata": {
    "ExecuteTime": {
     "end_time": "2018-09-29T00:15:36.627291Z",
     "start_time": "2018-09-29T00:15:35.552841Z"
    }
   },
   "outputs": [
    {
     "data": {
      "text/html": [
       "<pre style=\"word-wrap: normal;white-space: pre;line-height: 15px;\">         ┌───┐\n",
       "q0_0: |0>┤ S ├\n",
       "         └───┘</pre>"
      ],
      "text/plain": [
       "<qiskit.tools.visualization._text.TextDrawing at 0xa1eb5d908>"
      ]
     },
     "execution_count": 22,
     "metadata": {},
     "output_type": "execute_result"
    }
   ],
   "source": [
    "qc = QuantumCircuit(q)\n",
    "qc.s(q)\n",
    "qc.draw()"
   ]
  },
  {
   "cell_type": "code",
   "execution_count": 23,
   "metadata": {
    "ExecuteTime": {
     "end_time": "2018-09-29T00:15:36.661217Z",
     "start_time": "2018-09-29T00:15:36.631382Z"
    }
   },
   "outputs": [
    {
     "data": {
      "text/plain": [
       "array([[1.+0.j, 0.+0.j],\n",
       "       [0.+0.j, 0.+1.j]])"
      ]
     },
     "execution_count": 23,
     "metadata": {},
     "output_type": "execute_result"
    }
   ],
   "source": [
    "job = execute(qc, backend)\n",
    "job.result().get_unitary(qc, decimals=3)"
   ]
  },
  {
   "cell_type": "markdown",
   "metadata": {},
   "source": [
    "#### $S^{\\dagger}$ (or, conjugate of $\\sqrt{Z}$ phase) gate\n",
    "\n",
    "$$\n",
    "S^{\\dagger} = \n",
    "\\begin{pmatrix}\n",
    "1 & 0\\\\\n",
    "0 & -i\n",
    "\\end{pmatrix}= u1(-\\pi/2)\n",
    "$$\n"
   ]
  },
  {
   "cell_type": "code",
   "execution_count": 24,
   "metadata": {
    "ExecuteTime": {
     "end_time": "2018-09-29T00:15:37.965580Z",
     "start_time": "2018-09-29T00:15:36.668521Z"
    }
   },
   "outputs": [
    {
     "data": {
      "text/html": [
       "<pre style=\"word-wrap: normal;white-space: pre;line-height: 15px;\">         ┌─────┐\n",
       "q0_0: |0>┤ Sdg ├\n",
       "         └─────┘</pre>"
      ],
      "text/plain": [
       "<qiskit.tools.visualization._text.TextDrawing at 0xa1eb004a8>"
      ]
     },
     "execution_count": 24,
     "metadata": {},
     "output_type": "execute_result"
    }
   ],
   "source": [
    "qc = QuantumCircuit(q)\n",
    "qc.sdg(q)\n",
    "qc.draw()"
   ]
  },
  {
   "cell_type": "code",
   "execution_count": 25,
   "metadata": {
    "ExecuteTime": {
     "end_time": "2018-09-29T00:15:37.995581Z",
     "start_time": "2018-09-29T00:15:37.968281Z"
    }
   },
   "outputs": [
    {
     "data": {
      "text/plain": [
       "array([[1.+0.j, 0.+0.j],\n",
       "       [0.+0.j, 0.-1.j]])"
      ]
     },
     "execution_count": 25,
     "metadata": {},
     "output_type": "execute_result"
    }
   ],
   "source": [
    "job = execute(qc, backend)\n",
    "job.result().get_unitary(qc, decimals=3)"
   ]
  },
  {
   "cell_type": "markdown",
   "metadata": {},
   "source": [
    "### $C3$ gates\n",
    "#### $T$ (or, $\\sqrt{S}$ phase) gate\n",
    "\n",
    "$$\n",
    "T = \n",
    "\\begin{pmatrix}\n",
    "1 & 0\\\\\n",
    "0 & e^{i \\pi/4}\n",
    "\\end{pmatrix}= u1(\\pi/4) \n",
    "$$"
   ]
  },
  {
   "cell_type": "code",
   "execution_count": 26,
   "metadata": {
    "ExecuteTime": {
     "end_time": "2018-09-29T00:15:39.268078Z",
     "start_time": "2018-09-29T00:15:38.005726Z"
    }
   },
   "outputs": [
    {
     "data": {
      "text/html": [
       "<pre style=\"word-wrap: normal;white-space: pre;line-height: 15px;\">         ┌───┐\n",
       "q0_0: |0>┤ T ├\n",
       "         └───┘</pre>"
      ],
      "text/plain": [
       "<qiskit.tools.visualization._text.TextDrawing at 0xa1eb00eb8>"
      ]
     },
     "execution_count": 26,
     "metadata": {},
     "output_type": "execute_result"
    }
   ],
   "source": [
    "qc = QuantumCircuit(q)\n",
    "qc.t(q)\n",
    "qc.draw()"
   ]
  },
  {
   "cell_type": "code",
   "execution_count": 27,
   "metadata": {
    "ExecuteTime": {
     "end_time": "2018-09-29T00:15:39.285757Z",
     "start_time": "2018-09-29T00:15:39.270165Z"
    }
   },
   "outputs": [
    {
     "data": {
      "text/plain": [
       "array([[1.   +0.j   , 0.   +0.j   ],\n",
       "       [0.   +0.j   , 0.707+0.707j]])"
      ]
     },
     "execution_count": 27,
     "metadata": {},
     "output_type": "execute_result"
    }
   ],
   "source": [
    "job = execute(qc, backend)\n",
    "job.result().get_unitary(qc, decimals=3)"
   ]
  },
  {
   "cell_type": "markdown",
   "metadata": {},
   "source": [
    "#### $T^{\\dagger}$ (or, conjugate of $\\sqrt{S}$ phase) gate\n",
    "\n",
    "$$\n",
    "T^{\\dagger} =  \n",
    "\\begin{pmatrix}\n",
    "1 & 0\\\\\n",
    "0 & e^{-i \\pi/4}\n",
    "\\end{pmatrix}= u1(-pi/4)\n",
    "$$\n",
    "\n",
    "They can be added as below."
   ]
  },
  {
   "cell_type": "code",
   "execution_count": 28,
   "metadata": {
    "ExecuteTime": {
     "end_time": "2018-09-29T00:15:40.466163Z",
     "start_time": "2018-09-29T00:15:39.287535Z"
    }
   },
   "outputs": [
    {
     "data": {
      "text/html": [
       "<pre style=\"word-wrap: normal;white-space: pre;line-height: 15px;\">         ┌─────┐\n",
       "q0_0: |0>┤ Tdg ├\n",
       "         └─────┘</pre>"
      ],
      "text/plain": [
       "<qiskit.tools.visualization._text.TextDrawing at 0xa1ec4f780>"
      ]
     },
     "execution_count": 28,
     "metadata": {},
     "output_type": "execute_result"
    }
   ],
   "source": [
    "qc = QuantumCircuit(q)\n",
    "qc.tdg(q)\n",
    "qc.draw()"
   ]
  },
  {
   "cell_type": "code",
   "execution_count": 29,
   "metadata": {
    "ExecuteTime": {
     "end_time": "2018-09-29T00:15:40.500673Z",
     "start_time": "2018-09-29T00:15:40.468194Z"
    }
   },
   "outputs": [
    {
     "data": {
      "text/plain": [
       "array([[1.   +0.j   , 0.   +0.j   ],\n",
       "       [0.   +0.j   , 0.707-0.707j]])"
      ]
     },
     "execution_count": 29,
     "metadata": {},
     "output_type": "execute_result"
    }
   ],
   "source": [
    "job = execute(qc, backend)\n",
    "job.result().get_unitary(qc, decimals=3)"
   ]
  },
  {
   "cell_type": "markdown",
   "metadata": {},
   "source": [
    "### Standard Rotations\n",
    "\n",
    "The standard rotation gates are those that define rotations around the Paulis $P=\\{X,Y,Z\\}$. They are defined as \n",
    "\n",
    "$$ R_P(\\theta) = \\exp(-i \\theta P/2) = \\cos(\\theta/2)I -i \\sin(\\theta/2)P$$\n",
    "\n",
    "#### Rotation around X-axis\n",
    "\n",
    "$$\n",
    "R_x(\\theta) = \n",
    "\\begin{pmatrix}\n",
    "\\cos(\\theta/2) & -i\\sin(\\theta/2)\\\\\n",
    "-i\\sin(\\theta/2) & \\cos(\\theta/2)\n",
    "\\end{pmatrix} = u3(\\theta, -\\pi/2,\\pi/2)\n",
    "$$"
   ]
  },
  {
   "cell_type": "code",
   "execution_count": 30,
   "metadata": {
    "ExecuteTime": {
     "end_time": "2018-09-29T00:15:41.848889Z",
     "start_time": "2018-09-29T00:15:40.504414Z"
    }
   },
   "outputs": [
    {
     "data": {
      "text/html": [
       "<pre style=\"word-wrap: normal;white-space: pre;line-height: 15px;\">         ┌────────────┐\n",
       "q0_0: |0>┤ Rx(1.5708) ├\n",
       "         └────────────┘</pre>"
      ],
      "text/plain": [
       "<qiskit.tools.visualization._text.TextDrawing at 0xa1ecf7668>"
      ]
     },
     "execution_count": 30,
     "metadata": {},
     "output_type": "execute_result"
    }
   ],
   "source": [
    "qc = QuantumCircuit(q)\n",
    "qc.rx(pi/2,q)\n",
    "qc.draw()"
   ]
  },
  {
   "cell_type": "code",
   "execution_count": 31,
   "metadata": {
    "ExecuteTime": {
     "end_time": "2018-09-29T00:15:41.870040Z",
     "start_time": "2018-09-29T00:15:41.850897Z"
    }
   },
   "outputs": [
    {
     "data": {
      "text/plain": [
       "array([[0.707+0.j   , 0.   -0.707j],\n",
       "       [0.   -0.707j, 0.707+0.j   ]])"
      ]
     },
     "execution_count": 31,
     "metadata": {},
     "output_type": "execute_result"
    }
   ],
   "source": [
    "job = execute(qc, backend)\n",
    "job.result().get_unitary(qc, decimals=3)"
   ]
  },
  {
   "cell_type": "markdown",
   "metadata": {},
   "source": [
    "#### Rotation around Y-axis\n",
    "\n",
    "$$\n",
    "R_y(\\theta) =\n",
    "\\begin{pmatrix}\n",
    "\\cos(\\theta/2) & - \\sin(\\theta/2)\\\\\n",
    "\\sin(\\theta/2) & \\cos(\\theta/2).\n",
    "\\end{pmatrix} =u3(\\theta,0,0)\n",
    "$$"
   ]
  },
  {
   "cell_type": "code",
   "execution_count": 32,
   "metadata": {
    "ExecuteTime": {
     "end_time": "2018-09-29T00:15:42.977649Z",
     "start_time": "2018-09-29T00:15:41.873513Z"
    }
   },
   "outputs": [
    {
     "data": {
      "text/html": [
       "<pre style=\"word-wrap: normal;white-space: pre;line-height: 15px;\">         ┌────────────┐\n",
       "q0_0: |0>┤ Ry(1.5708) ├\n",
       "         └────────────┘</pre>"
      ],
      "text/plain": [
       "<qiskit.tools.visualization._text.TextDrawing at 0xa1ed048d0>"
      ]
     },
     "execution_count": 32,
     "metadata": {},
     "output_type": "execute_result"
    }
   ],
   "source": [
    "qc = QuantumCircuit(q)\n",
    "qc.ry(pi/2,q)\n",
    "qc.draw()"
   ]
  },
  {
   "cell_type": "code",
   "execution_count": 33,
   "metadata": {
    "ExecuteTime": {
     "end_time": "2018-09-29T00:15:42.996374Z",
     "start_time": "2018-09-29T00:15:42.980438Z"
    }
   },
   "outputs": [
    {
     "data": {
      "text/plain": [
       "array([[ 0.707+0.j, -0.707+0.j],\n",
       "       [ 0.707+0.j,  0.707+0.j]])"
      ]
     },
     "execution_count": 33,
     "metadata": {},
     "output_type": "execute_result"
    }
   ],
   "source": [
    "job = execute(qc, backend)\n",
    "job.result().get_unitary(qc, decimals=3)"
   ]
  },
  {
   "cell_type": "markdown",
   "metadata": {},
   "source": [
    "#### Rotation around Z-axis\n",
    "\n",
    "$$\n",
    "R_z(\\phi) = \n",
    "\\begin{pmatrix}\n",
    "e^{-i \\phi/2} & 0 \\\\\n",
    "0 & e^{i \\phi/2}\n",
    "\\end{pmatrix}\\equiv u1(\\phi)\n",
    "$$\n",
    "\n",
    "Note here we have used an equivalent as is different to u1 by global phase $e^{-i \\phi/2}$."
   ]
  },
  {
   "cell_type": "code",
   "execution_count": 34,
   "metadata": {
    "ExecuteTime": {
     "end_time": "2018-09-29T00:15:44.157100Z",
     "start_time": "2018-09-29T00:15:42.998031Z"
    }
   },
   "outputs": [
    {
     "data": {
      "text/html": [
       "<pre style=\"word-wrap: normal;white-space: pre;line-height: 15px;\">         ┌────────────┐\n",
       "q0_0: |0>┤ Rz(1.5708) ├\n",
       "         └────────────┘</pre>"
      ],
      "text/plain": [
       "<qiskit.tools.visualization._text.TextDrawing at 0xa1ed04fd0>"
      ]
     },
     "execution_count": 34,
     "metadata": {},
     "output_type": "execute_result"
    }
   ],
   "source": [
    "qc = QuantumCircuit(q)\n",
    "qc.rz(pi/2,q)\n",
    "qc.draw()"
   ]
  },
  {
   "cell_type": "code",
   "execution_count": 35,
   "metadata": {
    "ExecuteTime": {
     "end_time": "2018-09-29T00:15:44.179782Z",
     "start_time": "2018-09-29T00:15:44.159445Z"
    }
   },
   "outputs": [
    {
     "data": {
      "text/plain": [
       "array([[1.+0.j, 0.+0.j],\n",
       "       [0.+0.j, 0.+1.j]])"
      ]
     },
     "execution_count": 35,
     "metadata": {},
     "output_type": "execute_result"
    }
   ],
   "source": [
    "job = execute(qc, backend)\n",
    "job.result().get_unitary(qc, decimals=3)"
   ]
  },
  {
   "cell_type": "markdown",
   "metadata": {},
   "source": [
    "Note this is different due only to a global phase"
   ]
  },
  {
   "cell_type": "markdown",
   "metadata": {},
   "source": [
    "## Multi-Qubit Gates\n",
    "\n",
    "### Mathematical Preliminaries\n",
    "\n",
    "The space of quantum computer grows exponential with the number of qubits. For $n$ qubits the complex vector space has dimensions $d=2^n$. To describe states of a multi-qubit system, the tensor product is used to \"glue together\" operators and basis vectors.\n",
    "\n",
    "Let's start by considering a 2-qubit system. Given two operators $A$ and $B$ that each act on one qubit, the joint operator $A \\otimes B$ acting on two qubits is\n",
    "\n",
    "$$\\begin{equation}\n",
    "\tA\\otimes B = \n",
    "\t\\begin{pmatrix} \n",
    "\t\tA_{00} \\begin{pmatrix} \n",
    "\t\t\tB_{00} & B_{01} \\\\\n",
    "\t\t\tB_{10} & B_{11}\n",
    "\t\t\\end{pmatrix} & A_{01} \t\\begin{pmatrix} \n",
    "\t\t\t\tB_{00} & B_{01} \\\\\n",
    "\t\t\t\tB_{10} & B_{11}\n",
    "\t\t\t\\end{pmatrix} \\\\\n",
    "\t\tA_{10} \t\\begin{pmatrix} \n",
    "\t\t\t\t\tB_{00} & B_{01} \\\\\n",
    "\t\t\t\t\tB_{10} & B_{11}\n",
    "\t\t\t\t\\end{pmatrix} & A_{11} \t\\begin{pmatrix} \n",
    "\t\t\t\t\t\t\tB_{00} & B_{01} \\\\\n",
    "\t\t\t\t\t\t\tB_{10} & B_{11}\n",
    "\t\t\t\t\t\t\\end{pmatrix}\n",
    "\t\\end{pmatrix},\t\t\t\t\t\t\n",
    "\\end{equation}$$\n",
    "\n",
    "where $A_{jk}$ and $B_{lm}$ are the matrix elements of $A$ and $B$, respectively.\n",
    "\n",
    "Analogously, the basis vectors for the 2-qubit system are formed using the tensor product of basis vectors for a single qubit:\n",
    "$$\\begin{equation}\\begin{split}\n",
    "\t|{00}\\rangle &= \\begin{pmatrix} \n",
    "\t\t1 \\begin{pmatrix} \n",
    "\t\t\t1  \\\\\n",
    "\t\t\t0\n",
    "\t\t\\end{pmatrix} \\\\\n",
    "\t\t0 \\begin{pmatrix} \n",
    "\t\t\t1  \\\\\n",
    "\t\t\t0 \n",
    "\t\t\\end{pmatrix}\n",
    "\t\\end{pmatrix} = \\begin{pmatrix} 1 \\\\ 0 \\\\ 0 \\\\0 \\end{pmatrix}~~~|{01}\\rangle = \\begin{pmatrix} \n",
    "\t1 \\begin{pmatrix} \n",
    "\t0 \\\\\n",
    "\t1\n",
    "\t\\end{pmatrix} \\\\\n",
    "\t0 \\begin{pmatrix} \n",
    "\t0  \\\\\n",
    "\t1 \n",
    "\t\\end{pmatrix}\n",
    "\t\\end{pmatrix} = \\begin{pmatrix}0 \\\\ 1 \\\\ 0 \\\\ 0 \\end{pmatrix}\\end{split}\n",
    "\\end{equation}$$\n",
    "    \n",
    "$$\\begin{equation}\\begin{split}|{10}\\rangle = \\begin{pmatrix} \n",
    "\t0\\begin{pmatrix} \n",
    "\t1  \\\\\n",
    "\t0\n",
    "\t\\end{pmatrix} \\\\\n",
    "\t1\\begin{pmatrix} \n",
    "\t1 \\\\\n",
    "\t0 \n",
    "\t\\end{pmatrix}\n",
    "\t\\end{pmatrix} = \\begin{pmatrix} 0 \\\\ 0 \\\\ 1 \\\\ 0 \\end{pmatrix}~~~ \t|{11}\\rangle = \\begin{pmatrix} \n",
    "\t0 \\begin{pmatrix} \n",
    "\t0  \\\\\n",
    "\t1\n",
    "\t\\end{pmatrix} \\\\\n",
    "\t1\\begin{pmatrix} \n",
    "\t0  \\\\\n",
    "\t1 \n",
    "\t\\end{pmatrix}\n",
    "\t\\end{pmatrix} = \\begin{pmatrix} 0 \\\\ 0 \\\\ 0 \\\\1 \\end{pmatrix}\\end{split}\n",
    "\\end{equation}.$$\n",
    "\n",
    "Note we've introduced a shorthand for the tensor product of basis vectors, wherein $|0\\rangle \\otimes |0\\rangle$ is written as $|00\\rangle$. The state of an $n$-qubit system can described using the $n$-fold tensor product of single-qubit basis vectors. Notice that the basis vectors for a 2-qubit system are 4-dimensional; in general, the basis vectors of an $n$-qubit sytsem are $2^{n}$-dimensional, as noted earlier.\n",
    "\n",
    "### Basis vector ordering in Qiskit\n",
    "\n",
    "Within the physics community, the qubits of a multi-qubit systems are typically ordered with the first qubit on the left-most side of the tensor product and the last qubit on the right-most side. For instance, if the first qubit is in state $|0\\rangle$ and second is in state $|1\\rangle$, their joint state would be $|01\\rangle$. Qiskit uses a slightly different ordering of the qubits, in which the qubits are represented from the most significant bit (MSB) on the left to the least significant bit (LSB) on the right (big-endian). This is similar to bitstring representation on classical computers, and enables easy conversion from bitstrings to integers after measurements are performed. For the example just given, the joint state would be represented as $|10\\rangle$. Importantly, _this change in the representation of multi-qubit states affects the way multi-qubit gates are represented in Qiskit_, as discussed below.\n",
    "\n",
    "The representation used in Qiskit enumerates the basis vectors in increasing order of the integers they represent. For instance, the basis vectors for a 2-qubit system would be ordered as $|00\\rangle$, $|01\\rangle$, $|10\\rangle$, and $|11\\rangle$. Thinking of the basis vectors as bit strings, they encode the integers 0,1,2 and 3, respectively.\n",
    "\n",
    "\n",
    "### Controlled operations on qubits\n",
    "\n",
    "A common multi-qubit gate involves the application of a gate to one qubit, conditioned on the state of another qubit. For instance, we might want to flip the state of the second qubit when the first qubit is in $|0\\rangle$. Such gates are known as _controlled gates_. The standard multi-qubit gates consist of two-qubit gates and three-qubit gates. The two-qubit gates are:\n",
    "- controlled Pauli gates\n",
    "- controlled Hadamard gate\n",
    "- controlled rotation gates\n",
    "- controlled phase gate\n",
    "- controlled u3 gate\n",
    "- swap gate\n",
    "\n",
    "The three-qubit gates are: \n",
    "- Toffoli gate \n",
    "- Fredkin gate"
   ]
  },
  {
   "cell_type": "markdown",
   "metadata": {},
   "source": [
    "## Two-qubit gates\n",
    "\n",
    "Most of the two-gates are of the controlled type (the SWAP gate being the exception). In general, a controlled two-qubit gate $C_{U}$ acts to apply the single-qubit unitary $U$ to the second qubit when the state of the first qubit is in $|1\\rangle$. Suppose $U$ has a matrix representation\n",
    "\n",
    "$$U = \\begin{pmatrix} u_{00} & u_{01} \\\\ u_{10} & u_{11}\\end{pmatrix}.$$\n",
    "\n",
    "We can work out the action of $C_{U}$ as follows. Recall that the basis vectors for a two-qubit system are ordered as $|00\\rangle, |01\\rangle, |10\\rangle, |11\\rangle$. Suppose the **control qubit** is **qubit 0** (which, according to Qiskit's convention, is one the _right-hand_ side of the tensor product). If the control qubit is in $|1\\rangle$, $U$ should be applied to the **target** (qubit 1, on the _left-hand_ side of the tensor product). Therefore, under the action of $C_{U}$, the basis vectors are transformed according to\n",
    "\n",
    "$$\\begin{align*}\n",
    "C_{U}: \\underset{\\text{qubit}~1}{|0\\rangle}\\otimes \\underset{\\text{qubit}~0}{|0\\rangle} &\\rightarrow \\underset{\\text{qubit}~1}{|0\\rangle}\\otimes \\underset{\\text{qubit}~0}{|0\\rangle}\\\\\n",
    "C_{U}: \\underset{\\text{qubit}~1}{|0\\rangle}\\otimes \\underset{\\text{qubit}~0}{|1\\rangle} &\\rightarrow \\underset{\\text{qubit}~1}{U|0\\rangle}\\otimes \\underset{\\text{qubit}~0}{|1\\rangle}\\\\\n",
    "C_{U}: \\underset{\\text{qubit}~1}{|1\\rangle}\\otimes \\underset{\\text{qubit}~0}{|0\\rangle} &\\rightarrow \\underset{\\text{qubit}~1}{|1\\rangle}\\otimes \\underset{\\text{qubit}~0}{|0\\rangle}\\\\\n",
    "C_{U}: \\underset{\\text{qubit}~1}{|1\\rangle}\\otimes \\underset{\\text{qubit}~0}{|1\\rangle} &\\rightarrow \\underset{\\text{qubit}~1}{U|1\\rangle}\\otimes \\underset{\\text{qubit}~0}{|1\\rangle}\\\\\n",
    "\\end{align*}.$$\n",
    "\n",
    "In matrix form, the action of $C_{U}$ is\n",
    "\n",
    "$$\\begin{equation}\n",
    "\tC_U = \\begin{pmatrix}\n",
    "\t1 & 0 & 0 & 0 \\\\\n",
    "\t0 & u_{00} & 0 & u_{01} \\\\\n",
    "\t0 & 0 & 1 & 0 \\\\\n",
    "\t0 & u_{10} &0 & u_{11}\n",
    "\t\t\\end{pmatrix}.\n",
    "\\end{equation}$$\n",
    "\n",
    "To work out these matrix elements, let\n",
    "\n",
    "$$C_{(jk), (lm)} = \\left(\\underset{\\text{qubit}~1}{\\langle j |} \\otimes \\underset{\\text{qubit}~0}{\\langle k |}\\right) C_{U} \\left(\\underset{\\text{qubit}~1}{| l \\rangle} \\otimes \\underset{\\text{qubit}~0}{| k \\rangle}\\right),$$\n",
    "\n",
    "compute the action of $C_{U}$ (given above), and compute the inner products.\n",
    "\n",
    "As shown in the examples below, this operation is implemented in Qiskit as `cU(q[0],q[1])`.\n",
    "\n",
    "\n",
    "If **qubit 1 is the control and qubit 0 is the target**, then the basis vectors are transformed according to\n",
    "$$\\begin{align*}\n",
    "C_{U}: \\underset{\\text{qubit}~1}{|0\\rangle}\\otimes \\underset{\\text{qubit}~0}{|0\\rangle} &\\rightarrow \\underset{\\text{qubit}~1}{|0\\rangle}\\otimes \\underset{\\text{qubit}~0}{|0\\rangle}\\\\\n",
    "C_{U}: \\underset{\\text{qubit}~1}{|0\\rangle}\\otimes \\underset{\\text{qubit}~0}{|1\\rangle} &\\rightarrow \\underset{\\text{qubit}~1}{|0\\rangle}\\otimes \\underset{\\text{qubit}~0}{|1\\rangle}\\\\\n",
    "C_{U}: \\underset{\\text{qubit}~1}{|1\\rangle}\\otimes \\underset{\\text{qubit}~0}{|0\\rangle} &\\rightarrow \\underset{\\text{qubit}~1}{|1\\rangle}\\otimes \\underset{\\text{qubit}~0}{U|0\\rangle}\\\\\n",
    "C_{U}: \\underset{\\text{qubit}~1}{|1\\rangle}\\otimes \\underset{\\text{qubit}~0}{|1\\rangle} &\\rightarrow \\underset{\\text{qubit}~1}{|1\\rangle}\\otimes \\underset{\\text{qubit}~0}{U|1\\rangle}\\\\\n",
    "\\end{align*},$$\n",
    "\n",
    "\n",
    "which implies the matrix form of $C_{U}$ is\n",
    "$$\\begin{equation}\n",
    "\tC_U = \\begin{pmatrix}\n",
    "\t1 & 0 & 0  & 0 \\\\\n",
    "\t0 & 1 & 0 & 0 \\\\\n",
    "\t0 & 0 & u_{00} & u_{01} \\\\\n",
    "\t0 & 0 & u_{10} & u_{11}\n",
    "\t\t\\end{pmatrix}.\n",
    "\\end{equation}$$"
   ]
  },
  {
   "cell_type": "code",
   "execution_count": 36,
   "metadata": {
    "ExecuteTime": {
     "end_time": "2018-09-29T00:15:44.186355Z",
     "start_time": "2018-09-29T00:15:44.182554Z"
    }
   },
   "outputs": [],
   "source": [
    "q = QuantumRegister(2)"
   ]
  },
  {
   "cell_type": "markdown",
   "metadata": {},
   "source": [
    "### Controlled Pauli Gates\n",
    "\n",
    "#### Controlled-X (or, controlled-NOT) gate\n",
    "The controlled-not gate flips the `target` qubit when the control qubit is in the state $|1\\rangle$. If we take the MSB as the control qubit (e.g. `cx(q[1],q[0])`), then the matrix would look like\n",
    "\n",
    "$$\n",
    "C_X = \n",
    "\\begin{pmatrix}\n",
    "1 & 0 & 0 & 0\\\\\n",
    "0 & 1 & 0 & 0\\\\\n",
    "0 & 0 & 0 & 1\\\\\n",
    "0 & 0 & 1 & 0\n",
    "\\end{pmatrix}. \n",
    "$$\n",
    "\n",
    "However, when the LSB is the control qubit, (e.g. `cx(q[0],q[1])`), this gate is equivalent to the following matrix:\n",
    "\n",
    "$$\n",
    "C_X = \n",
    "\\begin{pmatrix}\n",
    "1 & 0 & 0 & 0\\\\\n",
    "0 & 0 & 0 & 1\\\\\n",
    "0 & 0 & 1 & 0\\\\\n",
    "0 & 1 & 0 & 0\n",
    "\\end{pmatrix}. \n",
    "$$\n",
    "\n"
   ]
  },
  {
   "cell_type": "code",
   "execution_count": 37,
   "metadata": {
    "ExecuteTime": {
     "end_time": "2018-09-29T00:15:45.529617Z",
     "start_time": "2018-09-29T00:15:44.189643Z"
    }
   },
   "outputs": [
    {
     "data": {
      "text/html": [
       "<pre style=\"word-wrap: normal;white-space: pre;line-height: 15px;\">              \n",
       "q1_0: |0>──■──\n",
       "         ┌─┴─┐\n",
       "q1_1: |0>┤ X ├\n",
       "         └───┘</pre>"
      ],
      "text/plain": [
       "<qiskit.tools.visualization._text.TextDrawing at 0xa1ed0ef28>"
      ]
     },
     "execution_count": 37,
     "metadata": {},
     "output_type": "execute_result"
    }
   ],
   "source": [
    "qc = QuantumCircuit(q)\n",
    "qc.cx(q[0],q[1])\n",
    "qc.draw()"
   ]
  },
  {
   "cell_type": "code",
   "execution_count": 38,
   "metadata": {
    "ExecuteTime": {
     "end_time": "2018-09-29T00:15:45.546415Z",
     "start_time": "2018-09-29T00:15:45.531833Z"
    }
   },
   "outputs": [
    {
     "data": {
      "text/plain": [
       "array([[1.+0.j, 0.+0.j, 0.+0.j, 0.+0.j],\n",
       "       [0.+0.j, 0.+0.j, 0.+0.j, 1.+0.j],\n",
       "       [0.+0.j, 0.+0.j, 1.+0.j, 0.+0.j],\n",
       "       [0.+0.j, 1.+0.j, 0.+0.j, 0.+0.j]])"
      ]
     },
     "execution_count": 38,
     "metadata": {},
     "output_type": "execute_result"
    }
   ],
   "source": [
    "job = execute(qc, backend)\n",
    "job.result().get_unitary(qc, decimals=3)"
   ]
  },
  {
   "cell_type": "markdown",
   "metadata": {},
   "source": [
    "#### Controlled $Y$ gate\n",
    "\n",
    "Apply the $Y$ gate to the target qubit if the control qubit is the MSB\n",
    "\n",
    "$$\n",
    "C_Y = \n",
    "\\begin{pmatrix}\n",
    "1 & 0 & 0 & 0\\\\\n",
    "0 & 1 & 0 & 0\\\\\n",
    "0 & 0 & 0 & -i\\\\\n",
    "0 & 0 & i & 0\n",
    "\\end{pmatrix},\n",
    "$$\n",
    "\n",
    "or when the LSB is the control\n",
    "\n",
    "$$\n",
    "C_Y = \n",
    "\\begin{pmatrix}\n",
    "1 & 0 & 0 & 0\\\\\n",
    "0 & 0 & 0 & -i\\\\\n",
    "0 & 0 & 1 & 0\\\\\n",
    "0 & i & 0 & 0\n",
    "\\end{pmatrix}.\n",
    "$$"
   ]
  },
  {
   "cell_type": "code",
   "execution_count": 39,
   "metadata": {
    "ExecuteTime": {
     "end_time": "2018-09-29T00:15:46.767098Z",
     "start_time": "2018-09-29T00:15:45.549354Z"
    }
   },
   "outputs": [
    {
     "data": {
      "text/html": [
       "<pre style=\"word-wrap: normal;white-space: pre;line-height: 15px;\">              \n",
       "q1_0: |0>──■──\n",
       "         ┌─┴─┐\n",
       "q1_1: |0>┤ Y ├\n",
       "         └───┘</pre>"
      ],
      "text/plain": [
       "<qiskit.tools.visualization._text.TextDrawing at 0xa1ed04e10>"
      ]
     },
     "execution_count": 39,
     "metadata": {},
     "output_type": "execute_result"
    }
   ],
   "source": [
    "qc = QuantumCircuit(q)\n",
    "qc.cy(q[0],q[1])\n",
    "qc.draw()"
   ]
  },
  {
   "cell_type": "code",
   "execution_count": 40,
   "metadata": {
    "ExecuteTime": {
     "end_time": "2018-09-29T00:15:46.788301Z",
     "start_time": "2018-09-29T00:15:46.769145Z"
    }
   },
   "outputs": [
    {
     "data": {
      "text/plain": [
       "array([[1.+0.j, 0.+0.j, 0.+0.j, 0.+0.j],\n",
       "       [0.+0.j, 0.+0.j, 0.+0.j, 0.-1.j],\n",
       "       [0.+0.j, 0.+0.j, 1.+0.j, 0.+0.j],\n",
       "       [0.+0.j, 0.+1.j, 0.+0.j, 0.+0.j]])"
      ]
     },
     "execution_count": 40,
     "metadata": {},
     "output_type": "execute_result"
    }
   ],
   "source": [
    "job = execute(qc, backend)\n",
    "job.result().get_unitary(qc, decimals=3)"
   ]
  },
  {
   "cell_type": "markdown",
   "metadata": {},
   "source": [
    "#### Controlled $Z$ (or, controlled Phase) gate\n",
    "\n",
    "Similarly, the controlled Z gate flips the phase of the target qubit if the control qubit is $1$. The matrix looks the same regardless of whether the MSB or LSB is the control qubit:\n",
    "\n",
    "$$\n",
    "C_Z = \n",
    "\\begin{pmatrix}\n",
    "1 & 0 & 0 & 0\\\\\n",
    "0 & 1 & 0 & 0\\\\\n",
    "0 & 0 & 1 & 0\\\\\n",
    "0 & 0 & 0 & -1\n",
    "\\end{pmatrix}\n",
    "$$\n"
   ]
  },
  {
   "cell_type": "code",
   "execution_count": 41,
   "metadata": {
    "ExecuteTime": {
     "end_time": "2018-09-29T00:15:47.989274Z",
     "start_time": "2018-09-29T00:15:46.791557Z"
    }
   },
   "outputs": [
    {
     "data": {
      "text/html": [
       "<pre style=\"word-wrap: normal;white-space: pre;line-height: 15px;\">            \n",
       "q1_0: |0>─■─\n",
       "          │ \n",
       "q1_1: |0>─■─\n",
       "            </pre>"
      ],
      "text/plain": [
       "<qiskit.tools.visualization._text.TextDrawing at 0xa1ed0e7b8>"
      ]
     },
     "execution_count": 41,
     "metadata": {},
     "output_type": "execute_result"
    }
   ],
   "source": [
    "qc = QuantumCircuit(q)\n",
    "qc.cz(q[0],q[1])\n",
    "qc.draw()"
   ]
  },
  {
   "cell_type": "code",
   "execution_count": 42,
   "metadata": {
    "ExecuteTime": {
     "end_time": "2018-09-29T00:15:48.017523Z",
     "start_time": "2018-09-29T00:15:47.991182Z"
    }
   },
   "outputs": [
    {
     "data": {
      "text/plain": [
       "array([[ 1.+0.j,  0.+0.j,  0.+0.j,  0.+0.j],\n",
       "       [ 0.+0.j,  1.+0.j,  0.+0.j,  0.+0.j],\n",
       "       [ 0.+0.j,  0.+0.j,  1.+0.j,  0.+0.j],\n",
       "       [ 0.+0.j,  0.+0.j,  0.+0.j, -1.+0.j]])"
      ]
     },
     "execution_count": 42,
     "metadata": {},
     "output_type": "execute_result"
    }
   ],
   "source": [
    "job = execute(qc, backend)\n",
    "job.result().get_unitary(qc, decimals=3)"
   ]
  },
  {
   "cell_type": "markdown",
   "metadata": {},
   "source": [
    "### Controlled Hadamard gate\n",
    "\n",
    "Apply $H$ gate to the target qubit if the control qubit is $|1\\rangle$. Below is the case where the control is the LSB qubit.\n",
    "\n",
    "$$\n",
    "C_H = \n",
    "\\begin{pmatrix}\n",
    "1 & 0 & 0 & 0\\\\\n",
    "0 & \\frac{1}{\\sqrt{2}} & 0 & \\frac{1}{\\sqrt{2}}\\\\\n",
    "0 & 0 & 1 & 0\\\\\n",
    "0 & \\frac{1}{\\sqrt{2}}  & 0& -\\frac{1}{\\sqrt{2}}\n",
    "\\end{pmatrix}\n",
    "$$"
   ]
  },
  {
   "cell_type": "code",
   "execution_count": 43,
   "metadata": {
    "ExecuteTime": {
     "end_time": "2018-09-29T00:15:49.150237Z",
     "start_time": "2018-09-29T00:15:48.019326Z"
    }
   },
   "outputs": [
    {
     "data": {
      "text/html": [
       "<pre style=\"word-wrap: normal;white-space: pre;line-height: 15px;\">              \n",
       "q1_0: |0>──■──\n",
       "         ┌─┴─┐\n",
       "q1_1: |0>┤ H ├\n",
       "         └───┘</pre>"
      ],
      "text/plain": [
       "<qiskit.tools.visualization._text.TextDrawing at 0xa1eb5dd30>"
      ]
     },
     "execution_count": 43,
     "metadata": {},
     "output_type": "execute_result"
    }
   ],
   "source": [
    "qc = QuantumCircuit(q)\n",
    "qc.ch(q[0],q[1])\n",
    "qc.draw()"
   ]
  },
  {
   "cell_type": "code",
   "execution_count": 44,
   "metadata": {
    "ExecuteTime": {
     "end_time": "2018-09-29T00:15:49.184874Z",
     "start_time": "2018-09-29T00:15:49.152802Z"
    }
   },
   "outputs": [
    {
     "data": {
      "text/plain": [
       "array([[ 0.707+0.707j,  0.   +0.j   ,  0.   +0.j   ,  0.   +0.j   ],\n",
       "       [ 0.   +0.j   ,  0.5  +0.5j  ,  0.   +0.j   ,  0.5  +0.5j  ],\n",
       "       [ 0.   +0.j   ,  0.   +0.j   ,  0.707+0.707j,  0.   +0.j   ],\n",
       "       [ 0.   +0.j   ,  0.5  +0.5j  ,  0.   +0.j   , -0.5  -0.5j  ]])"
      ]
     },
     "execution_count": 44,
     "metadata": {},
     "output_type": "execute_result"
    }
   ],
   "source": [
    "job = execute(qc, backend)\n",
    "job.result().get_unitary(qc, decimals=3)"
   ]
  },
  {
   "cell_type": "markdown",
   "metadata": {},
   "source": [
    "### Controlled rotation gates\n",
    "\n",
    "#### Controlled rotation around Z-axis\n",
    "\n",
    "Perform rotation around Z-axis on the target qubit if the control qubit (here LSB) is $|1\\rangle$.\n",
    "\n",
    "$$\n",
    "C_{Rz}(\\lambda) = \n",
    "\\begin{pmatrix}\n",
    "1 & 0 & 0 & 0\\\\\n",
    "0 & e^{-i\\lambda/2} & 0 & 0\\\\\n",
    "0 & 0 & 1 & 0\\\\\n",
    "0 & 0 & 0 & e^{i\\lambda/2}\n",
    "\\end{pmatrix}\n",
    "$$"
   ]
  },
  {
   "cell_type": "code",
   "execution_count": 45,
   "metadata": {
    "ExecuteTime": {
     "end_time": "2018-09-29T00:15:50.307303Z",
     "start_time": "2018-09-29T00:15:49.188784Z"
    }
   },
   "outputs": [
    {
     "data": {
      "text/html": [
       "<pre style=\"word-wrap: normal;white-space: pre;line-height: 15px;\">                       \n",
       "q1_0: |0>──────■───────\n",
       "         ┌─────┴──────┐\n",
       "q1_1: |0>┤ Rz(1.5708) ├\n",
       "         └────────────┘</pre>"
      ],
      "text/plain": [
       "<qiskit.tools.visualization._text.TextDrawing at 0xa1ed289e8>"
      ]
     },
     "execution_count": 45,
     "metadata": {},
     "output_type": "execute_result"
    }
   ],
   "source": [
    "qc = QuantumCircuit(q)\n",
    "qc.crz(pi/2,q[0],q[1])\n",
    "qc.draw()"
   ]
  },
  {
   "cell_type": "code",
   "execution_count": 46,
   "metadata": {
    "ExecuteTime": {
     "end_time": "2018-09-29T00:15:50.327982Z",
     "start_time": "2018-09-29T00:15:50.310167Z"
    }
   },
   "outputs": [
    {
     "data": {
      "text/plain": [
       "array([[1.   +0.j   , 0.   +0.j   , 0.   +0.j   , 0.   +0.j   ],\n",
       "       [0.   +0.j   , 0.707-0.707j, 0.   +0.j   , 0.   +0.j   ],\n",
       "       [0.   +0.j   , 0.   +0.j   , 1.   +0.j   , 0.   +0.j   ],\n",
       "       [0.   +0.j   , 0.   +0.j   , 0.   +0.j   , 0.707+0.707j]])"
      ]
     },
     "execution_count": 46,
     "metadata": {},
     "output_type": "execute_result"
    }
   ],
   "source": [
    "job = execute(qc, backend)\n",
    "job.result().get_unitary(qc, decimals=3)"
   ]
  },
  {
   "cell_type": "markdown",
   "metadata": {},
   "source": [
    "### Controlled phase rotation\n",
    "\n",
    "Perform a phase rotation if both qubits are in the $|11\\rangle$ state. The matrix looks the same regardless of whether the MSB or LSB is the control qubit.\n",
    "\n",
    "$$\n",
    "C_{u1}(\\lambda) = \n",
    "\\begin{pmatrix}\n",
    "1 & 0 & 0 & 0\\\\\n",
    "0 & 1 & 0 & 0\\\\\n",
    "0 & 0 & 1 & 0\\\\\n",
    "0 & 0 & 0 & e^{i\\lambda}\n",
    "\\end{pmatrix}\n",
    "$$"
   ]
  },
  {
   "cell_type": "code",
   "execution_count": 47,
   "metadata": {
    "ExecuteTime": {
     "end_time": "2018-09-29T00:15:51.580519Z",
     "start_time": "2018-09-29T00:15:50.329669Z"
    }
   },
   "outputs": [
    {
     "data": {
      "text/html": [
       "<pre style=\"word-wrap: normal;white-space: pre;line-height: 15px;\">                  \n",
       "q1_0: |0>─■───────\n",
       "          │1.5708 \n",
       "q1_1: |0>─■───────\n",
       "                  </pre>"
      ],
      "text/plain": [
       "<qiskit.tools.visualization._text.TextDrawing at 0xa1ed1ba20>"
      ]
     },
     "execution_count": 47,
     "metadata": {},
     "output_type": "execute_result"
    }
   ],
   "source": [
    "qc = QuantumCircuit(q)\n",
    "qc.cu1(pi/2,q[0], q[1])\n",
    "qc.draw()"
   ]
  },
  {
   "cell_type": "code",
   "execution_count": 48,
   "metadata": {
    "ExecuteTime": {
     "end_time": "2018-09-29T00:15:51.608625Z",
     "start_time": "2018-09-29T00:15:51.583186Z"
    }
   },
   "outputs": [
    {
     "data": {
      "text/plain": [
       "array([[1.+0.j, 0.+0.j, 0.+0.j, 0.+0.j],\n",
       "       [0.+0.j, 1.+0.j, 0.+0.j, 0.+0.j],\n",
       "       [0.+0.j, 0.+0.j, 1.+0.j, 0.+0.j],\n",
       "       [0.+0.j, 0.+0.j, 0.+0.j, 0.+1.j]])"
      ]
     },
     "execution_count": 48,
     "metadata": {},
     "output_type": "execute_result"
    }
   ],
   "source": [
    "job = execute(qc, backend)\n",
    "job.result().get_unitary(qc, decimals=3)"
   ]
  },
  {
   "cell_type": "markdown",
   "metadata": {},
   "source": [
    "### Controlled $u3$ rotation\n",
    "\n",
    "Perform controlled-$u3$ rotation on the target qubit if the control qubit (here LSB) is $|1\\rangle$. \n",
    "\n",
    "$$\n",
    "C_{u3}(\\theta, \\phi, \\lambda) \\equiv \n",
    "\\begin{pmatrix}\n",
    "1 & 0 & 0 & 0\\\\\n",
    "0 & e^{-i(\\phi+\\lambda)/2}\\cos(\\theta/2) & 0 & -e^{-i(\\phi-\\lambda)/2}\\sin(\\theta/2)\\\\\n",
    "0 & 0 & 1 & 0\\\\\n",
    "0 & e^{i(\\phi-\\lambda)/2}\\sin(\\theta/2) & 0 & e^{i(\\phi+\\lambda)/2}\\cos(\\theta/2)\n",
    "\\end{pmatrix}.\n",
    "$$"
   ]
  },
  {
   "cell_type": "code",
   "execution_count": 49,
   "metadata": {
    "ExecuteTime": {
     "end_time": "2018-09-29T00:15:52.853130Z",
     "start_time": "2018-09-29T00:15:51.610840Z"
    }
   },
   "outputs": [
    {
     "data": {
      "text/html": [
       "<pre style=\"word-wrap: normal;white-space: pre;line-height: 15px;\">                                     \n",
       "q1_0: |0>─────────────■──────────────\n",
       "         ┌────────────┴─────────────┐\n",
       "q1_1: |0>┤ U3(1.5708,1.5708,1.5708) ├\n",
       "         └──────────────────────────┘</pre>"
      ],
      "text/plain": [
       "<qiskit.tools.visualization._text.TextDrawing at 0xa1ed1bba8>"
      ]
     },
     "execution_count": 49,
     "metadata": {},
     "output_type": "execute_result"
    }
   ],
   "source": [
    "qc = QuantumCircuit(q)\n",
    "qc.cu3(pi/2, pi/2, pi/2, q[0], q[1])\n",
    "qc.draw()"
   ]
  },
  {
   "cell_type": "code",
   "execution_count": 50,
   "metadata": {
    "ExecuteTime": {
     "end_time": "2018-09-29T00:15:52.874428Z",
     "start_time": "2018-09-29T00:15:52.855187Z"
    }
   },
   "outputs": [
    {
     "data": {
      "text/plain": [
       "array([[ 1.   +0.j   ,  0.   +0.j   ,  0.   +0.j   ,  0.   +0.j   ],\n",
       "       [ 0.   +0.j   ,  0.   -0.707j,  0.   +0.j   , -0.707+0.j   ],\n",
       "       [ 0.   +0.j   ,  0.   +0.j   ,  1.   +0.j   ,  0.   +0.j   ],\n",
       "       [ 0.   +0.j   ,  0.707+0.j   ,  0.   +0.j   ,  0.   +0.707j]])"
      ]
     },
     "execution_count": 50,
     "metadata": {},
     "output_type": "execute_result"
    }
   ],
   "source": [
    "job = execute(qc, backend)\n",
    "job.result().get_unitary(qc, decimals=3)"
   ]
  },
  {
   "cell_type": "markdown",
   "metadata": {},
   "source": [
    "### SWAP gate\n",
    "\n",
    "The SWAP gate exchanges the two qubits. It transforms the basis vectors as\n",
    "\n",
    "$$|00\\rangle \\rightarrow |00\\rangle~,~|01\\rangle \\rightarrow |10\\rangle~,~|10\\rangle \\rightarrow |01\\rangle~,~|11\\rangle \\rightarrow |11\\rangle,$$\n",
    "\n",
    "which gives a matrix representation of the form\n",
    "\n",
    "$$\n",
    "\\mathrm{SWAP} = \n",
    "\\begin{pmatrix}\n",
    "1 & 0 & 0 & 0\\\\\n",
    "0 & 0 & 1 & 0\\\\\n",
    "0 & 1 & 0 & 0\\\\\n",
    "0 & 0 & 0 & 1\n",
    "\\end{pmatrix}.\n",
    "$$"
   ]
  },
  {
   "cell_type": "code",
   "execution_count": 51,
   "metadata": {
    "ExecuteTime": {
     "end_time": "2018-09-29T00:15:54.104384Z",
     "start_time": "2018-09-29T00:15:52.877953Z"
    }
   },
   "outputs": [
    {
     "data": {
      "text/html": [
       "<pre style=\"word-wrap: normal;white-space: pre;line-height: 15px;\">            \n",
       "q1_0: |0>─X─\n",
       "          │ \n",
       "q1_1: |0>─X─\n",
       "            </pre>"
      ],
      "text/plain": [
       "<qiskit.tools.visualization._text.TextDrawing at 0xa1ed28dd8>"
      ]
     },
     "execution_count": 51,
     "metadata": {},
     "output_type": "execute_result"
    }
   ],
   "source": [
    "qc = QuantumCircuit(q)\n",
    "qc.swap(q[0], q[1])\n",
    "qc.draw()"
   ]
  },
  {
   "cell_type": "code",
   "execution_count": 52,
   "metadata": {
    "ExecuteTime": {
     "end_time": "2018-09-29T00:15:54.123272Z",
     "start_time": "2018-09-29T00:15:54.106315Z"
    }
   },
   "outputs": [
    {
     "data": {
      "text/plain": [
       "array([[1.+0.j, 0.+0.j, 0.+0.j, 0.+0.j],\n",
       "       [0.+0.j, 0.+0.j, 1.+0.j, 0.+0.j],\n",
       "       [0.+0.j, 1.+0.j, 0.+0.j, 0.+0.j],\n",
       "       [0.+0.j, 0.+0.j, 0.+0.j, 1.+0.j]])"
      ]
     },
     "execution_count": 52,
     "metadata": {},
     "output_type": "execute_result"
    }
   ],
   "source": [
    "job = execute(qc, backend)\n",
    "job.result().get_unitary(qc, decimals=3)"
   ]
  },
  {
   "cell_type": "markdown",
   "metadata": {},
   "source": [
    "## Three-qubit gates\n",
    "\n",
    "\n",
    "There are two commonly-used three-qubit gates. For three qubits, the basis vectors are ordered as\n",
    "\n",
    "$$|000\\rangle, |001\\rangle, |010\\rangle, |011\\rangle, |100\\rangle, |101\\rangle, |110\\rangle, |111\\rangle,$$\n",
    "\n",
    "which, as bitstrings, represent the integers $0,1,2,\\cdots, 7$. Again, Qiskit uses a representation in which the first qubit is on the right-most side of the tensor product and the third qubit is on the left-most side:\n",
    "\n",
    "$$|abc\\rangle : \\underset{\\text{qubit 2}}{|a\\rangle}\\otimes \\underset{\\text{qubit 1}}{|b\\rangle}\\otimes \\underset{\\text{qubit 0}}{|c\\rangle}.$$"
   ]
  },
  {
   "cell_type": "markdown",
   "metadata": {},
   "source": [
    "### Toffoli gate ($ccx$ gate)\n",
    "\n",
    "The [Toffoli gate](https://en.wikipedia.org/wiki/Quantum_logic_gate#Toffoli_(CCNOT)_gate) flips the third qubit if the first two qubits (LSB) are both $|1\\rangle$:\n",
    "\n",
    "$$|abc\\rangle \\rightarrow |bc\\oplus a\\rangle \\otimes |b\\rangle \\otimes c \\rangle.$$\n",
    "\n",
    "In matrix form, the Toffoli gate is\n",
    "$$\n",
    "C_{CX} = \n",
    "\\begin{pmatrix}\n",
    "1 & 0 & 0 & 0 & 0 & 0 & 0 & 0\\\\\n",
    "0 & 1 & 0 & 0 & 0 & 0 & 0 & 0\\\\\n",
    "0 & 0 & 1 & 0 & 0 & 0 & 0 & 0\\\\\n",
    "0 & 0 & 0 & 0 & 0 & 0 & 0 & 1\\\\\n",
    "0 & 0 & 0 & 0 & 1 & 0 & 0 & 0\\\\\n",
    "0 & 0 & 0 & 0 & 0 & 1 & 0 & 0\\\\\n",
    "0 & 0 & 0 & 0 & 0 & 0 & 1 & 0\\\\\n",
    "0 & 0 & 0 & 1 & 0 & 0 & 0 & 0\n",
    "\\end{pmatrix}.\n",
    "$$"
   ]
  },
  {
   "cell_type": "code",
   "execution_count": 53,
   "metadata": {
    "ExecuteTime": {
     "end_time": "2018-09-29T00:15:54.132975Z",
     "start_time": "2018-09-29T00:15:54.127056Z"
    }
   },
   "outputs": [],
   "source": [
    "q = QuantumRegister(3)"
   ]
  },
  {
   "cell_type": "code",
   "execution_count": 54,
   "metadata": {
    "ExecuteTime": {
     "end_time": "2018-09-29T00:15:55.291905Z",
     "start_time": "2018-09-29T00:15:54.136934Z"
    }
   },
   "outputs": [
    {
     "data": {
      "text/html": [
       "<pre style=\"word-wrap: normal;white-space: pre;line-height: 15px;\">              \n",
       "q2_0: |0>──■──\n",
       "           │  \n",
       "q2_1: |0>──■──\n",
       "         ┌─┴─┐\n",
       "q2_2: |0>┤ X ├\n",
       "         └───┘</pre>"
      ],
      "text/plain": [
       "<qiskit.tools.visualization._text.TextDrawing at 0xa1ed28668>"
      ]
     },
     "execution_count": 54,
     "metadata": {},
     "output_type": "execute_result"
    }
   ],
   "source": [
    "qc = QuantumCircuit(q)\n",
    "qc.ccx(q[0], q[1], q[2])\n",
    "qc.draw()"
   ]
  },
  {
   "cell_type": "code",
   "execution_count": 55,
   "metadata": {
    "ExecuteTime": {
     "end_time": "2018-09-29T00:15:55.321561Z",
     "start_time": "2018-09-29T00:15:55.294193Z"
    }
   },
   "outputs": [
    {
     "data": {
      "text/plain": [
       "array([[1.+0.j, 0.+0.j, 0.+0.j, 0.+0.j, 0.+0.j, 0.+0.j, 0.+0.j, 0.+0.j],\n",
       "       [0.+0.j, 1.+0.j, 0.+0.j, 0.+0.j, 0.+0.j, 0.+0.j, 0.+0.j, 0.+0.j],\n",
       "       [0.+0.j, 0.+0.j, 1.+0.j, 0.+0.j, 0.+0.j, 0.+0.j, 0.+0.j, 0.+0.j],\n",
       "       [0.+0.j, 0.+0.j, 0.+0.j, 0.+0.j, 0.+0.j, 0.+0.j, 0.+0.j, 1.+0.j],\n",
       "       [0.+0.j, 0.+0.j, 0.+0.j, 0.+0.j, 1.+0.j, 0.+0.j, 0.+0.j, 0.+0.j],\n",
       "       [0.+0.j, 0.+0.j, 0.+0.j, 0.+0.j, 0.+0.j, 1.+0.j, 0.+0.j, 0.+0.j],\n",
       "       [0.+0.j, 0.+0.j, 0.+0.j, 0.+0.j, 0.+0.j, 0.+0.j, 1.+0.j, 0.+0.j],\n",
       "       [0.+0.j, 0.+0.j, 0.+0.j, 1.+0.j, 0.+0.j, 0.+0.j, 0.+0.j, 0.+0.j]])"
      ]
     },
     "execution_count": 55,
     "metadata": {},
     "output_type": "execute_result"
    }
   ],
   "source": [
    "job = execute(qc, backend)\n",
    "job.result().get_unitary(qc, decimals=3)"
   ]
  },
  {
   "cell_type": "markdown",
   "metadata": {},
   "source": [
    "### Controlled swap gate (Fredkin Gate)\n",
    "\n",
    "The [Fredkin gate](https://en.wikipedia.org/wiki/Quantum_logic_gate#Fredkin_(CSWAP)_gate), or the _controlled swap gate_, exchanges the second and third qubits if the first qubit (LSB) is $|1\\rangle$:\n",
    "\n",
    "$$ |abc\\rangle \\rightarrow \\begin{cases} |bac\\rangle~~\\text{if}~c=1 \\cr |abc\\rangle~~\\text{if}~c=0 \\end{cases}.$$\n",
    "\n",
    "In matrix form, the Fredkin gate is\n",
    "\n",
    "$$\n",
    "C_{\\mathrm{SWAP}} = \n",
    "\\begin{pmatrix}\n",
    "1 & 0 & 0 & 0 & 0 & 0 & 0 & 0\\\\\n",
    "0 & 1 & 0 & 0 & 0 & 0 & 0 & 0\\\\\n",
    "0 & 0 & 1 & 0 & 0 & 0 & 0 & 0\\\\\n",
    "0 & 0 & 0 & 0 & 0 & 1 & 0 & 0\\\\\n",
    "0 & 0 & 0 & 0 & 1 & 0 & 0 & 0\\\\\n",
    "0 & 0 & 0 & 1 & 0 & 0 & 0 & 0\\\\\n",
    "0 & 0 & 0 & 0 & 0 & 0 & 1 & 0\\\\\n",
    "0 & 0 & 0 & 0 & 0 & 0 & 0 & 1\n",
    "\\end{pmatrix}.\n",
    "$$"
   ]
  },
  {
   "cell_type": "code",
   "execution_count": 56,
   "metadata": {
    "ExecuteTime": {
     "end_time": "2018-09-29T00:15:56.767060Z",
     "start_time": "2018-09-29T00:15:55.324346Z"
    }
   },
   "outputs": [
    {
     "data": {
      "text/html": [
       "<pre style=\"word-wrap: normal;white-space: pre;line-height: 15px;\">            \n",
       "q2_0: |0>─■─\n",
       "          │ \n",
       "q2_1: |0>─X─\n",
       "          │ \n",
       "q2_2: |0>─X─\n",
       "            </pre>"
      ],
      "text/plain": [
       "<qiskit.tools.visualization._text.TextDrawing at 0xa1ed427b8>"
      ]
     },
     "execution_count": 56,
     "metadata": {},
     "output_type": "execute_result"
    }
   ],
   "source": [
    "qc = QuantumCircuit(q)\n",
    "qc.cswap(q[0], q[1], q[2])\n",
    "qc.draw()"
   ]
  },
  {
   "cell_type": "code",
   "execution_count": 57,
   "metadata": {
    "ExecuteTime": {
     "end_time": "2018-09-29T00:15:56.852089Z",
     "start_time": "2018-09-29T00:15:56.774963Z"
    }
   },
   "outputs": [
    {
     "data": {
      "text/plain": [
       "array([[1.+0.j, 0.+0.j, 0.+0.j, 0.+0.j, 0.+0.j, 0.+0.j, 0.+0.j, 0.+0.j],\n",
       "       [0.+0.j, 1.+0.j, 0.+0.j, 0.+0.j, 0.+0.j, 0.+0.j, 0.+0.j, 0.+0.j],\n",
       "       [0.+0.j, 0.+0.j, 1.+0.j, 0.+0.j, 0.+0.j, 0.+0.j, 0.+0.j, 0.+0.j],\n",
       "       [0.+0.j, 0.+0.j, 0.+0.j, 0.+0.j, 0.+0.j, 1.+0.j, 0.+0.j, 0.+0.j],\n",
       "       [0.+0.j, 0.+0.j, 0.+0.j, 0.+0.j, 1.+0.j, 0.+0.j, 0.+0.j, 0.+0.j],\n",
       "       [0.+0.j, 0.+0.j, 0.+0.j, 1.+0.j, 0.+0.j, 0.+0.j, 0.+0.j, 0.+0.j],\n",
       "       [0.+0.j, 0.+0.j, 0.+0.j, 0.+0.j, 0.+0.j, 0.+0.j, 1.+0.j, 0.+0.j],\n",
       "       [0.+0.j, 0.+0.j, 0.+0.j, 0.+0.j, 0.+0.j, 0.+0.j, 0.+0.j, 1.+0.j]])"
      ]
     },
     "execution_count": 57,
     "metadata": {},
     "output_type": "execute_result"
    }
   ],
   "source": [
    "job = execute(qc, backend)\n",
    "job.result().get_unitary(qc, decimals=3)"
   ]
  },
  {
   "cell_type": "markdown",
   "metadata": {},
   "source": [
    "## Non unitary operations\n",
    "\n",
    "Now we have gone through all the unitary operations in quantum circuits we also have access to non-unitary operations. These include measurements, reset of qubits, and classical conditional operations."
   ]
  },
  {
   "cell_type": "code",
   "execution_count": 58,
   "metadata": {
    "ExecuteTime": {
     "end_time": "2018-09-29T00:15:56.861132Z",
     "start_time": "2018-09-29T00:15:56.856547Z"
    }
   },
   "outputs": [],
   "source": [
    "q = QuantumRegister(1)\n",
    "c = ClassicalRegister(1)"
   ]
  },
  {
   "cell_type": "markdown",
   "metadata": {},
   "source": [
    "### Measurements\n",
    "\n",
    "We don't have access to all the information when we make a measurement in a quantum computer. The quantum state is projected onto the standard basis. Below are two examples showing a circuit that is prepared in a basis state and the quantum computer prepared in a superposition state."
   ]
  },
  {
   "cell_type": "code",
   "execution_count": 59,
   "metadata": {
    "ExecuteTime": {
     "end_time": "2018-09-29T00:15:58.079872Z",
     "start_time": "2018-09-29T00:15:56.865487Z"
    }
   },
   "outputs": [
    {
     "data": {
      "text/html": [
       "<pre style=\"word-wrap: normal;white-space: pre;line-height: 15px;\">         ┌─┐\n",
       "q3_0: |0>┤M├\n",
       "         └╥┘\n",
       " c0_0: 0 ═╩═\n",
       "            </pre>"
      ],
      "text/plain": [
       "<qiskit.tools.visualization._text.TextDrawing at 0xa1ed50b38>"
      ]
     },
     "execution_count": 59,
     "metadata": {},
     "output_type": "execute_result"
    }
   ],
   "source": [
    "qc = QuantumCircuit(q, c)\n",
    "qc.measure(q, c)\n",
    "qc.draw()"
   ]
  },
  {
   "cell_type": "code",
   "execution_count": 60,
   "metadata": {
    "ExecuteTime": {
     "end_time": "2018-09-29T00:15:58.124389Z",
     "start_time": "2018-09-29T00:15:58.081861Z"
    }
   },
   "outputs": [
    {
     "data": {
      "text/plain": [
       "{'0': 1024}"
      ]
     },
     "execution_count": 60,
     "metadata": {},
     "output_type": "execute_result"
    }
   ],
   "source": [
    "backend = BasicAer.get_backend('qasm_simulator')\n",
    "job = execute(qc, backend, shots=1024)\n",
    "job.result().get_counts(qc)"
   ]
  },
  {
   "cell_type": "markdown",
   "metadata": {},
   "source": [
    " The simulator predicts that 100 percent of the time the classical register returns 0. "
   ]
  },
  {
   "cell_type": "code",
   "execution_count": 61,
   "metadata": {
    "ExecuteTime": {
     "end_time": "2018-09-29T00:15:59.283582Z",
     "start_time": "2018-09-29T00:15:58.128814Z"
    }
   },
   "outputs": [
    {
     "data": {
      "text/html": [
       "<pre style=\"word-wrap: normal;white-space: pre;line-height: 15px;\">         ┌───┐┌─┐\n",
       "q3_0: |0>┤ H ├┤M├\n",
       "         └───┘└╥┘\n",
       " c0_0: 0 ══════╩═\n",
       "                 </pre>"
      ],
      "text/plain": [
       "<qiskit.tools.visualization._text.TextDrawing at 0xa1ed502e8>"
      ]
     },
     "execution_count": 61,
     "metadata": {},
     "output_type": "execute_result"
    }
   ],
   "source": [
    "qc = QuantumCircuit(q, c)\n",
    "qc.h(q)\n",
    "qc.measure(q, c)\n",
    "qc.draw()"
   ]
  },
  {
   "cell_type": "code",
   "execution_count": 62,
   "metadata": {
    "ExecuteTime": {
     "end_time": "2018-09-29T00:15:59.318065Z",
     "start_time": "2018-09-29T00:15:59.286200Z"
    }
   },
   "outputs": [
    {
     "data": {
      "text/plain": [
       "{'0': 502, '1': 522}"
      ]
     },
     "execution_count": 62,
     "metadata": {},
     "output_type": "execute_result"
    }
   ],
   "source": [
    "job = execute(qc, backend, shots=1024)\n",
    "job.result().get_counts(qc)"
   ]
  },
  {
   "cell_type": "markdown",
   "metadata": {},
   "source": [
    " The simulator predicts that 50 percent of the time the classical register returns 0 or 1. "
   ]
  },
  {
   "cell_type": "markdown",
   "metadata": {},
   "source": [
    "### Reset\n",
    "It is also possible to `reset` qubits to the $|0\\rangle$ state in the middle of computation. Note that `reset` is not a Gate operation, since it is irreversible."
   ]
  },
  {
   "cell_type": "code",
   "execution_count": 63,
   "metadata": {
    "ExecuteTime": {
     "end_time": "2018-09-29T00:16:00.676218Z",
     "start_time": "2018-09-29T00:15:59.322345Z"
    }
   },
   "outputs": [
    {
     "data": {
      "text/html": [
       "<pre style=\"word-wrap: normal;white-space: pre;line-height: 15px;\">              ┌─┐\n",
       "q3_0: |0>─|0>─┤M├\n",
       "              └╥┘\n",
       " c0_0: 0 ══════╩═\n",
       "                 </pre>"
      ],
      "text/plain": [
       "<qiskit.tools.visualization._text.TextDrawing at 0xa1ece47f0>"
      ]
     },
     "execution_count": 63,
     "metadata": {},
     "output_type": "execute_result"
    }
   ],
   "source": [
    "qc = QuantumCircuit(q, c)\n",
    "qc.reset(q[0])\n",
    "qc.measure(q, c)\n",
    "qc.draw()"
   ]
  },
  {
   "cell_type": "code",
   "execution_count": 64,
   "metadata": {
    "ExecuteTime": {
     "end_time": "2018-09-29T00:16:00.760611Z",
     "start_time": "2018-09-29T00:16:00.681669Z"
    }
   },
   "outputs": [
    {
     "data": {
      "text/plain": [
       "{'0': 1024}"
      ]
     },
     "execution_count": 64,
     "metadata": {},
     "output_type": "execute_result"
    }
   ],
   "source": [
    "job = execute(qc, backend, shots=1024)\n",
    "job.result().get_counts(qc)"
   ]
  },
  {
   "cell_type": "code",
   "execution_count": 65,
   "metadata": {
    "ExecuteTime": {
     "end_time": "2018-09-29T00:16:02.094104Z",
     "start_time": "2018-09-29T00:16:00.775977Z"
    }
   },
   "outputs": [
    {
     "data": {
      "text/html": [
       "<pre style=\"word-wrap: normal;white-space: pre;line-height: 15px;\">         ┌───┐     ┌─┐\n",
       "q3_0: |0>┤ H ├─|0>─┤M├\n",
       "         └───┘     └╥┘\n",
       " c0_0: 0 ═══════════╩═\n",
       "                      </pre>"
      ],
      "text/plain": [
       "<qiskit.tools.visualization._text.TextDrawing at 0xa1ed632b0>"
      ]
     },
     "execution_count": 65,
     "metadata": {},
     "output_type": "execute_result"
    }
   ],
   "source": [
    "qc = QuantumCircuit(q, c)\n",
    "qc.h(q)\n",
    "qc.reset(q[0])\n",
    "qc.measure(q, c)\n",
    "qc.draw()"
   ]
  },
  {
   "cell_type": "code",
   "execution_count": 66,
   "metadata": {
    "ExecuteTime": {
     "end_time": "2018-09-29T00:16:02.129340Z",
     "start_time": "2018-09-29T00:16:02.096088Z"
    }
   },
   "outputs": [
    {
     "data": {
      "text/plain": [
       "{'0': 1024}"
      ]
     },
     "execution_count": 66,
     "metadata": {},
     "output_type": "execute_result"
    }
   ],
   "source": [
    "job = execute(qc, backend, shots=1024)\n",
    "job.result().get_counts(qc)"
   ]
  },
  {
   "cell_type": "markdown",
   "metadata": {},
   "source": [
    "Here we see that for both of these circuits the simulator always predicts that the output is 100 percent in the 0 state."
   ]
  },
  {
   "cell_type": "markdown",
   "metadata": {},
   "source": [
    "### Conditional operations\n",
    "It is also possible to do operations conditioned on the state of the classical register"
   ]
  },
  {
   "cell_type": "code",
   "execution_count": 67,
   "metadata": {
    "ExecuteTime": {
     "end_time": "2018-09-29T00:16:03.290081Z",
     "start_time": "2018-09-29T00:16:02.133254Z"
    }
   },
   "outputs": [
    {
     "data": {
      "text/html": [
       "<pre style=\"word-wrap: normal;white-space: pre;line-height: 15px;\">         ┌─────┐┌─┐\n",
       "q3_0: |0>┤  X  ├┤M├\n",
       "         ├──┴──┤└╥┘\n",
       " c0_0: 0 ╡ = 0 ╞═╩═\n",
       "         └─────┘   </pre>"
      ],
      "text/plain": [
       "<qiskit.tools.visualization._text.TextDrawing at 0xa1ed6fe48>"
      ]
     },
     "execution_count": 67,
     "metadata": {},
     "output_type": "execute_result"
    }
   ],
   "source": [
    "qc = QuantumCircuit(q, c)\n",
    "qc.x(q[0]).c_if(c, 0)\n",
    "qc.measure(q,c)\n",
    "qc.draw()"
   ]
  },
  {
   "cell_type": "markdown",
   "metadata": {},
   "source": [
    "Here the classical bit always takes the value 0 so the qubit state is always flipped. "
   ]
  },
  {
   "cell_type": "code",
   "execution_count": 68,
   "metadata": {},
   "outputs": [
    {
     "data": {
      "text/plain": [
       "{'1': 1024}"
      ]
     },
     "execution_count": 68,
     "metadata": {},
     "output_type": "execute_result"
    }
   ],
   "source": [
    "job = execute(qc, backend, shots=1024)\n",
    "job.result().get_counts(qc)"
   ]
  },
  {
   "cell_type": "code",
   "execution_count": 69,
   "metadata": {
    "ExecuteTime": {
     "end_time": "2018-09-29T00:16:04.406486Z",
     "start_time": "2018-09-29T00:16:03.323686Z"
    }
   },
   "outputs": [
    {
     "data": {
      "text/html": [
       "<pre style=\"word-wrap: normal;white-space: pre;line-height: 15px;\">         ┌───┐┌─┐┌─────┐┌─┐\n",
       "q3_0: |0>┤ H ├┤M├┤  X  ├┤M├\n",
       "         └───┘└╥┘├──┴──┤└╥┘\n",
       " c0_0: 0 ══════╩═╡ = 0 ╞═╩═\n",
       "                 └─────┘   </pre>"
      ],
      "text/plain": [
       "<qiskit.tools.visualization._text.TextDrawing at 0xa1ed6f0f0>"
      ]
     },
     "execution_count": 69,
     "metadata": {},
     "output_type": "execute_result"
    }
   ],
   "source": [
    "qc = QuantumCircuit(q, c)\n",
    "qc.h(q)\n",
    "qc.measure(q,c)\n",
    "qc.x(q[0]).c_if(c, 0)\n",
    "qc.measure(q,c)\n",
    "qc.draw()"
   ]
  },
  {
   "cell_type": "code",
   "execution_count": 70,
   "metadata": {
    "ExecuteTime": {
     "end_time": "2018-09-29T00:16:04.433578Z",
     "start_time": "2018-09-29T00:16:04.408345Z"
    }
   },
   "outputs": [
    {
     "data": {
      "text/plain": [
       "{'1': 1024}"
      ]
     },
     "execution_count": 70,
     "metadata": {},
     "output_type": "execute_result"
    }
   ],
   "source": [
    "job = execute(qc, backend, shots=1024)\n",
    "job.result().get_counts(qc)"
   ]
  },
  {
   "cell_type": "markdown",
   "metadata": {},
   "source": [
    "Here the classical bit by the first measurement is random but the conditional operation results in the qubit being deterministically put into $|1\\rangle$."
   ]
  },
  {
   "cell_type": "markdown",
   "metadata": {},
   "source": [
    "### Arbitrary initialization\n",
    "What if we want to initialize a qubit register to an arbitrary state? An arbitrary state for $n$ qubits may be specified by a vector of $2^n$ amplitudes, where the sum of amplitude-norms-squared equals 1. For example, the following three-qubit state can be prepared:\n",
    "\n",
    "$$|\\psi\\rangle = \\frac{i}{4}|000\\rangle + \\frac{1}{\\sqrt{8}}|001\\rangle + \\frac{1+i}{4}|010\\rangle + \\frac{1+2i}{\\sqrt{8}}|101\\rangle + \\frac{1}{4}|110\\rangle$$"
   ]
  },
  {
   "cell_type": "code",
   "execution_count": 71,
   "metadata": {
    "ExecuteTime": {
     "end_time": "2018-09-29T00:16:04.467773Z",
     "start_time": "2018-09-29T00:16:04.437893Z"
    }
   },
   "outputs": [
    {
     "data": {
      "text/plain": [
       "<qiskit.extensions.quantum_initializer._initializer.InitializeGate at 0xa1ed7fd30>"
      ]
     },
     "execution_count": 71,
     "metadata": {},
     "output_type": "execute_result"
    }
   ],
   "source": [
    "# Initializing a three-qubit quantum state\n",
    "import math\n",
    "desired_vector = [\n",
    "    1 / math.sqrt(16) * complex(0, 1),\n",
    "    1 / math.sqrt(8) * complex(1, 0),\n",
    "    1 / math.sqrt(16) * complex(1, 1),\n",
    "    0,\n",
    "    0,\n",
    "    1 / math.sqrt(8) * complex(1, 2),\n",
    "    1 / math.sqrt(16) * complex(1, 0),\n",
    "    0]\n",
    "\n",
    "\n",
    "q = QuantumRegister(3)\n",
    "\n",
    "qc = QuantumCircuit(q)\n",
    "\n",
    "qc.initialize(desired_vector, [q[0],q[1],q[2]])"
   ]
  },
  {
   "cell_type": "code",
   "execution_count": 72,
   "metadata": {
    "ExecuteTime": {
     "end_time": "2018-09-29T00:16:04.575688Z",
     "start_time": "2018-09-29T00:16:04.476846Z"
    }
   },
   "outputs": [
    {
     "data": {
      "text/plain": [
       "array([0.25      +0.j        , 0.        -0.35355339j,\n",
       "       0.25      -0.25j      , 0.        +0.j        ,\n",
       "       0.        +0.j        , 0.70710678-0.35355339j,\n",
       "       0.        -0.25j      , 0.        +0.j        ])"
      ]
     },
     "execution_count": 72,
     "metadata": {},
     "output_type": "execute_result"
    }
   ],
   "source": [
    "backend = BasicAer.get_backend('statevector_simulator')\n",
    "job = execute(qc, backend)\n",
    "qc_state = job.result().get_statevector(qc)\n",
    "qc_state "
   ]
  },
  {
   "cell_type": "markdown",
   "metadata": {},
   "source": [
    "[Fidelity](https://en.wikipedia.org/wiki/Fidelity_of_quantum_states) is useful to check whether two states are same or not.\n",
    "For quantum (pure) states $\\left|\\psi_1\\right\\rangle$ and $\\left|\\psi_2\\right\\rangle$, the fidelity is\n",
    "\n",
    "$$\n",
    "F\\left(\\left|\\psi_1\\right\\rangle,\\left|\\psi_2\\right\\rangle\\right) = \\left|\\left\\langle\\psi_1\\middle|\\psi_2\\right\\rangle\\right|^2.\n",
    "$$\n",
    "\n",
    "The fidelity is equal to $1$ if and only if two states are same."
   ]
  },
  {
   "cell_type": "code",
   "execution_count": 73,
   "metadata": {
    "ExecuteTime": {
     "end_time": "2018-09-29T00:16:04.607616Z",
     "start_time": "2018-09-29T00:16:04.580046Z"
    }
   },
   "outputs": [
    {
     "data": {
      "text/plain": [
       "1.0"
      ]
     },
     "execution_count": 73,
     "metadata": {},
     "output_type": "execute_result"
    }
   ],
   "source": [
    "state_fidelity(desired_vector,qc_state)"
   ]
  },
  {
   "cell_type": "markdown",
   "metadata": {},
   "source": [
    "#### Further details:\n",
    "\n",
    "How does the desired state get generated behind the scenes? There are multiple methods for doing this. Qiskit uses a [method proposed by Shende et al](https://arxiv.org/abs/quant-ph/0406176). Here, the idea is to assume the quantum register to have started from our desired state, and construct a circuit that takes it to the $|00..0\\rangle$ state. The initialization circuit is then the reverse of such circuit.\n",
    "\n",
    "To take an arbitrary quantum state to the zero state in the computational basis, we perform an iterative procedure that disentangles qubits from the register one-by-one. We know that any arbitrary single-qubit state $|\\rho\\rangle$ can be taken to the $|0\\rangle$ state using a $\\phi$-degree rotation about the Z axis followed by a $\\theta$-degree rotation about the Y axis:\n",
    "\n",
    "$$R_y(-\\theta)R_z(-\\phi)|\\rho\\rangle = re^{it}|0\\rangle$$\n",
    "\n",
    "Since now we are dealing with $n$ qubits instead of just 1, we must factorize the state vector to separate the Least Significant Bit (LSB):\n",
    "\n",
    "$$\\begin{align*}\n",
    " |\\psi\\rangle =& \\alpha_{0_0}|00..00\\rangle + \\alpha_{0_1}|00..01\\rangle + \\alpha_{1_0}|00..10\\rangle + \\alpha_{1_1}|00..11\\rangle + ... \\\\&+ \\alpha_{(2^{n-1}-1)_0}|11..10\\rangle + \\alpha_{(2^{n-1}-1)_1}|11..11\\rangle \\\\\n",
    "=& |00..0\\rangle (\\alpha_{0_0}|0\\rangle + \\alpha_{0_1}|1\\rangle) + |00..1\\rangle (\\alpha_{1_0}|0\\rangle + \\alpha_{1_1}|1\\rangle) + ... \\\\&+ |11..1\\rangle (\\alpha_{(2^{n-1}-1)_0}(|0\\rangle + \\alpha_{(2^{n-1}-1)_1}|1\\rangle) \\\\\n",
    "=& |00..0\\rangle|\\rho_0\\rangle + |00..1\\rangle|\\rho_1\\rangle + ... + |11..1\\rangle|\\rho_{2^{n-1}-1}\\rangle\n",
    "\\end{align*}$$\n",
    "\n",
    "Now each of the single-qubit states $|\\rho_0\\rangle, ..., |\\rho_{2^{n-1}-1}\\rangle$ can be taken to $|0\\rangle$ by finding appropriate $\\phi$ and $\\theta$ angles per the equation above. Doing this simultaneously on all states amounts to the following unitary, which disentangles the LSB:\n",
    "\n",
    "$$U = \\begin{pmatrix} \n",
    "R_{y}(-\\theta_0)R_{z}(-\\phi_0) & & & &\\\\  \n",
    "& R_{y}(-\\theta_1)R_{z}(-\\phi_1) & & &\\\\\n",
    "& . & & &\\\\\n",
    "& & . & &\\\\\n",
    "& & & & R_y(-\\theta_{2^{n-1}-1})R_z(-\\phi_{2^{n-1}-1})\n",
    "\\end{pmatrix} $$\n",
    "\n",
    "Hence,\n",
    "\n",
    "$$U|\\psi\\rangle = \\begin{pmatrix} r_0e^{it_0}\\\\ r_1e^{it_1}\\\\ . \\\\ . \\\\ r_{2^{n-1}-1}e^{it_{2^{n-1}-1}} \\end{pmatrix}\\otimes|0\\rangle$$\n",
    "\n",
    "\n",
    "U can be implemented as a \"quantum multiplexor\" gate, since it is a block diagonal matrix. In the quantum multiplexor formalism, a block diagonal matrix of size $2^n \\times 2^n$, and consisting of $2^s$ blocks, is equivalent to a multiplexor with $s$ select qubits and $n-s$ data qubits. Depending on the state of the select qubits, the corresponding blocks are applied to the data qubits. A multiplexor of this kind can be implemented after recursive decomposition to primitive gates of cx, rz and ry."
   ]
  },
  {
   "cell_type": "code",
   "execution_count": null,
   "metadata": {},
   "outputs": [],
   "source": []
  }
 ],
 "metadata": {
  "anaconda-cloud": {},
  "kernelspec": {
   "display_name": "Python [default]",
   "language": "python",
   "name": "python3"
  },
  "language_info": {
   "codemirror_mode": {
    "name": "ipython",
    "version": 3
   },
   "file_extension": ".py",
   "mimetype": "text/x-python",
   "name": "python",
   "nbconvert_exporter": "python",
   "pygments_lexer": "ipython3",
   "version": "3.6.4"
  }
 },
 "nbformat": 4,
 "nbformat_minor": 1
}
